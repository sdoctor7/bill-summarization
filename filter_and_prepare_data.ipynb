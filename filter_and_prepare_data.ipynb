{
 "cells": [
  {
   "cell_type": "code",
   "execution_count": 1,
   "metadata": {},
   "outputs": [],
   "source": [
    "from utils import *"
   ]
  },
  {
   "cell_type": "markdown",
   "metadata": {},
   "source": [
    "# Load, Deduplicate, Filter and Split data"
   ]
  },
  {
   "cell_type": "markdown",
   "metadata": {},
   "source": [
    "### 115"
   ]
  },
  {
   "cell_type": "code",
   "execution_count": 2,
   "metadata": {},
   "outputs": [
    {
     "name": "stdout",
     "output_type": "stream",
     "text": [
      "-- 115th Congress\n",
      "Only Load HR and S\n",
      "Processing ./data/115/bills/hr\n",
      "Processing ./data/115/bills/s\n",
      "Number of rows: 7867\n",
      "Number of unique bills: 6401\n",
      "Remove bills with no bill text: 78\n",
      "Remove bills with no summary: 2357\n",
      "Getting most recent version for duplicated bills\n"
     ]
    },
    {
     "name": "stderr",
     "output_type": "stream",
     "text": [
      "/home/lucy/Workspace/bill-summarization/utils.py:173: UserWarning: Boolean Series key will be reindexed to match DataFrame index.\n",
      "  df = with_summary[with_summary.Number == bill_no][with_summary.Version != 'EAS']\n",
      "/home/lucy/Workspace/bill-summarization/utils.py:218: UserWarning: Boolean Series key will be reindexed to match DataFrame index.\n",
      "  idx = with_summary[with_summary.Number == bill_no][with_summary.Version == to_use].index\n",
      "/home/lucy/Workspace/bill-summarization/utils.py:177: UserWarning: Boolean Series key will be reindexed to match DataFrame index.\n",
      "  idx = with_summary[with_summary.Number == bill_no][with_summary.Version == 'ENR'].index\n"
     ]
    },
    {
     "name": "stdout",
     "output_type": "stream",
     "text": [
      "Number of unique bills: 4114\n"
     ]
    }
   ],
   "source": [
    "print('-- 115th Congress')\n",
    "df_115 = load_data('115', hrsonly=1) # load_data('115') will load all the bills\n",
    "unique_115 = dedup_filter_bills(df_115)"
   ]
  },
  {
   "cell_type": "code",
   "execution_count": 3,
   "metadata": {
    "scrolled": true
   },
   "outputs": [
    {
     "name": "stdout",
     "output_type": "stream",
     "text": [
      "Spliting file: 100/4114 bills\n",
      "Spliting file: 200/4114 bills\n",
      "Spliting file: 300/4114 bills\n",
      "Spliting file: 400/4114 bills\n",
      "Spliting file: 500/4114 bills\n",
      "Spliting file: 600/4114 bills\n",
      "Spliting file: 700/4114 bills\n",
      "Spliting file: 800/4114 bills\n",
      "Spliting file: 900/4114 bills\n",
      "Spliting file: 1000/4114 bills\n",
      "Spliting file: 1100/4114 bills\n",
      "Spliting file: 1200/4114 bills\n",
      "Spliting file: 1300/4114 bills\n",
      "Spliting file: 1400/4114 bills\n",
      "Spliting file: 1500/4114 bills\n",
      "Spliting file: 1600/4114 bills\n",
      "Spliting file: 1700/4114 bills\n",
      "Spliting file: 1800/4114 bills\n",
      "Spliting file: 1900/4114 bills\n",
      "Spliting file: 2000/4114 bills\n",
      "Spliting file: 2100/4114 bills\n",
      "Spliting file: 2200/4114 bills\n",
      "Spliting file: 2300/4114 bills\n",
      "Spliting file: 2400/4114 bills\n",
      "Spliting file: 2500/4114 bills\n",
      "Spliting file: 2600/4114 bills\n",
      "Spliting file: 2700/4114 bills\n",
      "Spliting file: 2800/4114 bills\n",
      "Spliting file: 2900/4114 bills\n",
      "Spliting file: 3000/4114 bills\n",
      "Spliting file: 3100/4114 bills\n",
      "Spliting file: 3200/4114 bills\n",
      "Spliting file: 3300/4114 bills\n",
      "Spliting file: 3400/4114 bills\n",
      "Spliting file: 3500/4114 bills\n",
      "Spliting file: 3600/4114 bills\n",
      "Spliting file: 3700/4114 bills\n",
      "Spliting file: 3800/4114 bills\n",
      "Spliting file: 3900/4114 bills\n",
      "Spliting file: 4000/4114 bills\n",
      "Spliting file: 4100/4114 bills\n",
      "CPU times: user 2.41 s, sys: 144 ms, total: 2.56 s\n",
      "Wall time: 4min 14s\n"
     ]
    }
   ],
   "source": [
    "%%time\n",
    "concurrent_split(unique_115)"
   ]
  },
  {
   "cell_type": "markdown",
   "metadata": {},
   "source": [
    "### 114"
   ]
  },
  {
   "cell_type": "code",
   "execution_count": 2,
   "metadata": {
    "scrolled": true
   },
   "outputs": [
    {
     "name": "stdout",
     "output_type": "stream",
     "text": [
      "-- 114th Congress\n",
      "Only Load HR and S\n",
      "Processing ./data/114/bills/hr\n",
      "No data.json file: ./data/114/bills/hr/hr174/data.json\n",
      "No data.json file: ./data/114/bills/hr/hr91/data.json\n",
      "No data.json file: ./data/114/bills/hr/hr91/data.json\n",
      "No data.json file: ./data/114/bills/hr/hr91/data.json\n",
      "No data.json file: ./data/114/bills/hr/hr91/data.json\n",
      "No data.json file: ./data/114/bills/hr/hr91/data.json\n",
      "No data.json file: ./data/114/bills/hr/hr30/data.json\n",
      "No data.json file: ./data/114/bills/hr/hr30/data.json\n",
      "No data.json file: ./data/114/bills/hr/hr30/data.json\n",
      "No data.json file: ./data/114/bills/hr/hr30/data.json\n",
      "No data.json file: ./data/114/bills/hr/hr154/data.json\n",
      "No data.json file: ./data/114/bills/hr/hr24/data.json\n",
      "No data.json file: ./data/114/bills/hr/hr24/data.json\n",
      "No data.json file: ./data/114/bills/hr/hr158/data.json\n",
      "No data.json file: ./data/114/bills/hr/hr158/data.json\n",
      "No data.json file: ./data/114/bills/hr/hr158/data.json\n",
      "No data.json file: ./data/114/bills/hr/hr169/data.json\n",
      "No data.json file: ./data/114/bills/hr/hr36/data.json\n",
      "No data.json file: ./data/114/bills/hr/hr36/data.json\n",
      "No data.json file: ./data/114/bills/hr/hr36/data.json\n",
      "No data.json file: ./data/114/bills/hr/hr36/data.json\n",
      "No data.json file: ./data/114/bills/hr/hr160/data.json\n",
      "No data.json file: ./data/114/bills/hr/hr160/data.json\n",
      "No data.json file: ./data/114/bills/hr/hr160/data.json\n",
      "No data.json file: ./data/114/bills/hr/hr160/data.json\n",
      "Processing ./data/114/bills/s\n",
      "Number of rows: 13555\n",
      "Number of unique bills: 10074\n",
      "Remove bills with no bill text: 0\n",
      "Remove bills with no summary: 49\n",
      "Getting most recent version for duplicated bills\n"
     ]
    },
    {
     "name": "stderr",
     "output_type": "stream",
     "text": [
      "/home/lucy/Workspace/bill-summarization/utils.py:173: UserWarning: Boolean Series key will be reindexed to match DataFrame index.\n",
      "  df = with_summary[with_summary.Number == bill_no][with_summary.Version != 'EAS']\n",
      "/home/lucy/Workspace/bill-summarization/utils.py:218: UserWarning: Boolean Series key will be reindexed to match DataFrame index.\n",
      "  idx = with_summary[with_summary.Number == bill_no][with_summary.Version == to_use].index\n",
      "/home/lucy/Workspace/bill-summarization/utils.py:177: UserWarning: Boolean Series key will be reindexed to match DataFrame index.\n",
      "  idx = with_summary[with_summary.Number == bill_no][with_summary.Version == 'ENR'].index\n"
     ]
    },
    {
     "name": "stdout",
     "output_type": "stream",
     "text": [
      "Number of unique bills: 10045\n"
     ]
    }
   ],
   "source": [
    "print('-- 114th Congress')\n",
    "df_114 = load_data('114', hrsonly=1) # load_data('114') will load all the bills\n",
    "unique_114 = dedup_filter_bills(df_114)"
   ]
  },
  {
   "cell_type": "code",
   "execution_count": 3,
   "metadata": {
    "scrolled": true
   },
   "outputs": [
    {
     "name": "stdout",
     "output_type": "stream",
     "text": [
      "Spliting file: 100/10045 bills\n",
      "Spliting file: 200/10045 bills\n",
      "Spliting file: 300/10045 bills\n",
      "Spliting file: 400/10045 bills\n",
      "Spliting file: 500/10045 bills\n",
      "Spliting file: 600/10045 bills\n",
      "Spliting file: 700/10045 bills\n",
      "Spliting file: 800/10045 bills\n",
      "Spliting file: 900/10045 bills\n",
      "Spliting file: 1000/10045 bills\n",
      "Spliting file: 1100/10045 bills\n",
      "Spliting file: 1200/10045 bills\n",
      "Spliting file: 1300/10045 bills\n",
      "Spliting file: 1400/10045 bills\n",
      "Spliting file: 1500/10045 bills\n",
      "Spliting file: 1600/10045 bills\n",
      "Spliting file: 1700/10045 bills\n",
      "Spliting file: 1800/10045 bills\n",
      "Spliting file: 1900/10045 bills\n",
      "Spliting file: 2000/10045 bills\n",
      "Spliting file: 2100/10045 bills\n",
      "Spliting file: 2200/10045 bills\n",
      "Spliting file: 2300/10045 bills\n",
      "Spliting file: 2400/10045 bills\n",
      "Spliting file: 2500/10045 bills\n",
      "Spliting file: 2600/10045 bills\n",
      "Spliting file: 2700/10045 bills\n",
      "Spliting file: 2800/10045 bills\n",
      "Spliting file: 2900/10045 bills\n",
      "Spliting file: 3000/10045 bills\n",
      "Spliting file: 3100/10045 bills\n",
      "Spliting file: 3200/10045 bills\n",
      "Spliting file: 3300/10045 bills\n",
      "Spliting file: 3400/10045 bills\n",
      "Spliting file: 3500/10045 bills\n",
      "Spliting file: 3600/10045 bills\n",
      "Spliting file: 3700/10045 bills\n",
      "Spliting file: 3800/10045 bills\n",
      "Spliting file: 3900/10045 bills\n",
      "Spliting file: 4000/10045 bills\n",
      "Spliting file: 4100/10045 bills\n",
      "Spliting file: 4200/10045 bills\n",
      "Spliting file: 4300/10045 bills\n",
      "Spliting file: 4400/10045 bills\n",
      "Spliting file: 4500/10045 bills\n",
      "Spliting file: 4600/10045 bills\n",
      "Spliting file: 4700/10045 bills\n",
      "Spliting file: 4800/10045 bills\n",
      "Spliting file: 4900/10045 bills\n",
      "Spliting file: 5000/10045 bills\n",
      "Spliting file: 5100/10045 bills\n",
      "Spliting file: 5200/10045 bills\n",
      "Spliting file: 5300/10045 bills\n",
      "Spliting file: 5400/10045 bills\n",
      "Spliting file: 5500/10045 bills\n",
      "Spliting file: 5600/10045 bills\n",
      "Spliting file: 5700/10045 bills\n",
      "Spliting file: 5800/10045 bills\n",
      "Spliting file: 5900/10045 bills\n",
      "Spliting file: 6000/10045 bills\n",
      "Spliting file: 6100/10045 bills\n",
      "Spliting file: 6200/10045 bills\n",
      "Spliting file: 6300/10045 bills\n",
      "Spliting file: 6400/10045 bills\n",
      "Spliting file: 6500/10045 bills\n",
      "Spliting file: 6600/10045 bills\n",
      "Spliting file: 6700/10045 bills\n",
      "Spliting file: 6800/10045 bills\n",
      "Spliting file: 6900/10045 bills\n",
      "Spliting file: 7000/10045 bills\n",
      "Spliting file: 7100/10045 bills\n",
      "Spliting file: 7200/10045 bills\n",
      "Spliting file: 7300/10045 bills\n",
      "Spliting file: 7400/10045 bills\n",
      "Spliting file: 7500/10045 bills\n",
      "Spliting file: 7600/10045 bills\n",
      "Spliting file: 7700/10045 bills\n",
      "Spliting file: 7800/10045 bills\n",
      "Spliting file: 7900/10045 bills\n",
      "Spliting file: 8000/10045 bills\n",
      "Spliting file: 8100/10045 bills\n",
      "Spliting file: 8200/10045 bills\n",
      "Spliting file: 8300/10045 bills\n",
      "Spliting file: 8400/10045 bills\n",
      "Spliting file: 8500/10045 bills\n",
      "Spliting file: 8600/10045 bills\n",
      "Spliting file: 8700/10045 bills\n",
      "Spliting file: 8800/10045 bills\n",
      "Spliting file: 8900/10045 bills\n",
      "Spliting file: 9000/10045 bills\n",
      "Spliting file: 9100/10045 bills\n",
      "Spliting file: 9200/10045 bills\n",
      "Spliting file: 9300/10045 bills\n",
      "Spliting file: 9400/10045 bills\n",
      "Spliting file: 9500/10045 bills\n",
      "Spliting file: 9600/10045 bills\n",
      "Spliting file: 9700/10045 bills\n",
      "Spliting file: 9800/10045 bills\n",
      "Spliting file: 9900/10045 bills\n",
      "Spliting file: 10000/10045 bills\n",
      "CPU times: user 5.86 s, sys: 420 ms, total: 6.28 s\n",
      "Wall time: 7min 46s\n"
     ]
    }
   ],
   "source": [
    "%%time\n",
    "concurrent_split(unique_114)"
   ]
  },
  {
   "cell_type": "markdown",
   "metadata": {},
   "source": [
    "### 113"
   ]
  },
  {
   "cell_type": "code",
   "execution_count": 2,
   "metadata": {},
   "outputs": [
    {
     "name": "stdout",
     "output_type": "stream",
     "text": [
      "-- 113th Congress\n",
      "Only Load HR and S\n",
      "Processing ./data/113/bills/hr\n",
      "Processing ./data/113/bills/s\n",
      "No data.json file: ./data/113/bills/s/s1696/data.json\n",
      "Number of rows: 11496\n",
      "Number of unique bills: 8905\n",
      "Remove bills with no bill text: 1\n",
      "Remove bills with no summary: 1\n",
      "Getting most recent version for duplicated bills\n"
     ]
    },
    {
     "name": "stderr",
     "output_type": "stream",
     "text": [
      "/home/lucy/Workspace/bill-summarization/utils.py:173: UserWarning: Boolean Series key will be reindexed to match DataFrame index.\n",
      "  df = with_summary[with_summary.Number == bill_no][with_summary.Version != 'EAS']\n",
      "/home/lucy/Workspace/bill-summarization/utils.py:177: UserWarning: Boolean Series key will be reindexed to match DataFrame index.\n",
      "  idx = with_summary[with_summary.Number == bill_no][with_summary.Version == 'ENR'].index\n",
      "/home/lucy/Workspace/bill-summarization/utils.py:218: UserWarning: Boolean Series key will be reindexed to match DataFrame index.\n",
      "  idx = with_summary[with_summary.Number == bill_no][with_summary.Version == to_use].index\n"
     ]
    },
    {
     "name": "stdout",
     "output_type": "stream",
     "text": [
      "Number of unique bills: 8903\n"
     ]
    }
   ],
   "source": [
    "print('-- 113th Congress')\n",
    "df_113 = load_data('113', hrsonly=1) # load_data('113') will load all the bills\n",
    "unique_113 = dedup_filter_bills(df_113)"
   ]
  },
  {
   "cell_type": "code",
   "execution_count": 3,
   "metadata": {
    "scrolled": true
   },
   "outputs": [
    {
     "name": "stdout",
     "output_type": "stream",
     "text": [
      "Spliting file: 100/8903 bills\n",
      "Spliting file: 200/8903 bills\n",
      "Spliting file: 300/8903 bills\n",
      "Spliting file: 400/8903 bills\n",
      "Spliting file: 500/8903 bills\n",
      "Spliting file: 600/8903 bills\n",
      "Spliting file: 700/8903 bills\n",
      "Spliting file: 800/8903 bills\n",
      "Spliting file: 900/8903 bills\n",
      "Spliting file: 1000/8903 bills\n",
      "Spliting file: 1100/8903 bills\n",
      "Spliting file: 1200/8903 bills\n",
      "Spliting file: 1300/8903 bills\n",
      "Spliting file: 1400/8903 bills\n",
      "Spliting file: 1500/8903 bills\n",
      "Spliting file: 1600/8903 bills\n",
      "Spliting file: 1700/8903 bills\n",
      "Spliting file: 1800/8903 bills\n",
      "Spliting file: 1900/8903 bills\n",
      "Spliting file: 2000/8903 bills\n",
      "Spliting file: 2100/8903 bills\n",
      "Spliting file: 2200/8903 bills\n",
      "Spliting file: 2300/8903 bills\n",
      "Spliting file: 2400/8903 bills\n",
      "Spliting file: 2500/8903 bills\n",
      "Spliting file: 2600/8903 bills\n",
      "Spliting file: 2700/8903 bills\n",
      "Spliting file: 2800/8903 bills\n",
      "Spliting file: 2900/8903 bills\n",
      "Spliting file: 3000/8903 bills\n",
      "Spliting file: 3100/8903 bills\n",
      "Spliting file: 3200/8903 bills\n",
      "Spliting file: 3300/8903 bills\n",
      "Spliting file: 3400/8903 bills\n",
      "Spliting file: 3500/8903 bills\n",
      "Spliting file: 3600/8903 bills\n",
      "Spliting file: 3700/8903 bills\n",
      "Spliting file: 3800/8903 bills\n",
      "Spliting file: 3900/8903 bills\n",
      "Spliting file: 4000/8903 bills\n",
      "Spliting file: 4100/8903 bills\n",
      "Spliting file: 4200/8903 bills\n",
      "Spliting file: 4300/8903 bills\n",
      "Spliting file: 4400/8903 bills\n",
      "Spliting file: 4500/8903 bills\n",
      "Spliting file: 4600/8903 bills\n",
      "Spliting file: 4700/8903 bills\n",
      "Spliting file: 4800/8903 bills\n",
      "Spliting file: 4900/8903 bills\n",
      "Spliting file: 5000/8903 bills\n",
      "Spliting file: 5100/8903 bills\n",
      "Spliting file: 5200/8903 bills\n",
      "Spliting file: 5300/8903 bills\n",
      "Spliting file: 5400/8903 bills\n",
      "Spliting file: 5500/8903 bills\n",
      "Spliting file: 5600/8903 bills\n",
      "Spliting file: 5700/8903 bills\n",
      "Spliting file: 5800/8903 bills\n",
      "Spliting file: 5900/8903 bills\n",
      "Spliting file: 6000/8903 bills\n",
      "Spliting file: 6100/8903 bills\n",
      "Spliting file: 6200/8903 bills\n",
      "Spliting file: 6300/8903 bills\n",
      "Spliting file: 6400/8903 bills\n",
      "Spliting file: 6500/8903 bills\n",
      "Spliting file: 6600/8903 bills\n",
      "Spliting file: 6700/8903 bills\n",
      "Spliting file: 6800/8903 bills\n",
      "Spliting file: 6900/8903 bills\n",
      "Spliting file: 7000/8903 bills\n",
      "Spliting file: 7100/8903 bills\n",
      "Spliting file: 7200/8903 bills\n",
      "Spliting file: 7300/8903 bills\n",
      "Spliting file: 7400/8903 bills\n",
      "Spliting file: 7500/8903 bills\n",
      "Spliting file: 7600/8903 bills\n",
      "Spliting file: 7700/8903 bills\n",
      "Spliting file: 7800/8903 bills\n",
      "Spliting file: 7900/8903 bills\n",
      "Spliting file: 8000/8903 bills\n",
      "Spliting file: 8100/8903 bills\n",
      "Spliting file: 8200/8903 bills\n",
      "Spliting file: 8300/8903 bills\n",
      "Spliting file: 8400/8903 bills\n",
      "Spliting file: 8500/8903 bills\n",
      "Spliting file: 8600/8903 bills\n",
      "Spliting file: 8700/8903 bills\n",
      "Spliting file: 8800/8903 bills\n",
      "Spliting file: 8900/8903 bills\n",
      "CPU times: user 5.12 s, sys: 380 ms, total: 5.5 s\n",
      "Wall time: 6min 52s\n"
     ]
    }
   ],
   "source": [
    "%%time\n",
    "concurrent_split(unique_113)"
   ]
  },
  {
   "cell_type": "code",
   "execution_count": null,
   "metadata": {
    "collapsed": true
   },
   "outputs": [],
   "source": []
  },
  {
   "cell_type": "code",
   "execution_count": null,
   "metadata": {
    "collapsed": true
   },
   "outputs": [],
   "source": []
  },
  {
   "cell_type": "code",
   "execution_count": null,
   "metadata": {
    "collapsed": true
   },
   "outputs": [],
   "source": []
  },
  {
   "cell_type": "code",
   "execution_count": null,
   "metadata": {
    "collapsed": true
   },
   "outputs": [],
   "source": []
  }
 ],
 "metadata": {
  "kernelspec": {
   "display_name": "Python 3",
   "language": "python",
   "name": "python3"
  },
  "language_info": {
   "codemirror_mode": {
    "name": "ipython",
    "version": 3
   },
   "file_extension": ".py",
   "mimetype": "text/x-python",
   "name": "python",
   "nbconvert_exporter": "python",
   "pygments_lexer": "ipython3",
   "version": "3.6.2"
  }
 },
 "nbformat": 4,
 "nbformat_minor": 2
}
