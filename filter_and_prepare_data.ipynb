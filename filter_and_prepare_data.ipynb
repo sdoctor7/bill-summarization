{
 "cells": [
  {
   "cell_type": "code",
   "execution_count": 1,
   "metadata": {
    "collapsed": true
   },
   "outputs": [],
   "source": [
    "from utils import *"
   ]
  },
  {
   "cell_type": "markdown",
   "metadata": {},
   "source": [
    "# Load, Deduplicate, Filter and Split data"
   ]
  },
  {
   "cell_type": "code",
   "execution_count": 2,
   "metadata": {},
   "outputs": [
    {
     "name": "stdout",
     "output_type": "stream",
     "text": [
      "-- 115th Congress\n",
      "Only Load HR and S\n",
      "Processing ./data/115/bills/hr\n",
      "Processing ./data/115/bills/s\n",
      "Number of rows: 7867\n",
      "Number of unique bills: 6401\n",
      "Remove bills with no bill text: 78\n",
      "Remove bills with no summary: 2357\n",
      "Getting most recent version for duplicated bills\n"
     ]
    },
    {
     "name": "stderr",
     "output_type": "stream",
     "text": [
      "/home/lucy/Workspace/bill-summarization/utils.py:136: UserWarning: Boolean Series key will be reindexed to match DataFrame index.\n",
      "  df = with_summary[with_summary.Number == bill_no][with_summary.Version != 'EAS']\n",
      "/home/lucy/Workspace/bill-summarization/utils.py:180: UserWarning: Boolean Series key will be reindexed to match DataFrame index.\n",
      "  idx = with_summary[with_summary.Number == bill_no][with_summary.Version == to_use].index\n",
      "/home/lucy/Workspace/bill-summarization/utils.py:139: UserWarning: Boolean Series key will be reindexed to match DataFrame index.\n",
      "  idx = with_summary[with_summary.Number == bill_no][with_summary.Version == 'ENR'].index\n"
     ]
    },
    {
     "name": "stdout",
     "output_type": "stream",
     "text": [
      "Number of unique bills: 4114\n"
     ]
    }
   ],
   "source": [
    "print('-- 115th Congress')\n",
    "df_115 = load_data('115', hrsonly=1) # load_data('115') will load all the bills\n",
    "unique_115 = dedup_filter_bills(df_115)"
   ]
  },
  {
   "cell_type": "code",
   "execution_count": 3,
   "metadata": {},
   "outputs": [
    {
     "name": "stdout",
     "output_type": "stream",
     "text": [
      "Spliting file: 100/4114 bills\n",
      "Spliting file: 200/4114 bills\n",
      "Spliting file: 300/4114 bills\n",
      "Spliting file: 400/4114 bills\n",
      "Spliting file: 500/4114 bills\n",
      "Spliting file: 600/4114 bills\n",
      "Spliting file: 700/4114 bills\n",
      "Spliting file: 800/4114 bills\n",
      "Spliting file: 900/4114 bills\n",
      "Spliting file: 1000/4114 bills\n",
      "Spliting file: 1100/4114 bills\n",
      "Spliting file: 1200/4114 bills\n",
      "Spliting file: 1300/4114 bills\n",
      "Spliting file: 1400/4114 bills\n",
      "Spliting file: 1500/4114 bills\n",
      "Spliting file: 1600/4114 bills\n",
      "Spliting file: 1700/4114 bills\n",
      "Spliting file: 1800/4114 bills\n",
      "Spliting file: 1900/4114 bills\n",
      "Spliting file: 2000/4114 bills\n",
      "Spliting file: 2100/4114 bills\n",
      "Spliting file: 2200/4114 bills\n",
      "Spliting file: 2300/4114 bills\n",
      "Spliting file: 2400/4114 bills\n",
      "Spliting file: 2500/4114 bills\n",
      "Spliting file: 2600/4114 bills\n",
      "Spliting file: 2700/4114 bills\n",
      "Spliting file: 2800/4114 bills\n",
      "Spliting file: 2900/4114 bills\n",
      "Spliting file: 3000/4114 bills\n",
      "Spliting file: 3100/4114 bills\n",
      "Spliting file: 3200/4114 bills\n",
      "Spliting file: 3300/4114 bills\n",
      "Spliting file: 3400/4114 bills\n",
      "Spliting file: 3500/4114 bills\n",
      "Spliting file: 3600/4114 bills\n",
      "Spliting file: 3700/4114 bills\n",
      "Spliting file: 3800/4114 bills\n",
      "Spliting file: 3900/4114 bills\n",
      "Spliting file: 4000/4114 bills\n",
      "Spliting file: 4100/4114 bills\n",
      "CPU times: user 2.41 s, sys: 144 ms, total: 2.56 s\n",
      "Wall time: 4min 14s\n"
     ]
    }
   ],
   "source": [
    "%%time\n",
    "concurrent_split(unique_115)"
   ]
  },
  {
   "cell_type": "code",
   "execution_count": 4,
   "metadata": {
    "collapsed": true
   },
   "outputs": [],
   "source": [
    "counts = range(1, len(unique_115)+1)"
   ]
  },
  {
   "cell_type": "code",
   "execution_count": null,
   "metadata": {
    "collapsed": true
   },
   "outputs": [],
   "source": []
  },
  {
   "cell_type": "code",
   "execution_count": 6,
   "metadata": {},
   "outputs": [
    {
     "name": "stdout",
     "output_type": "stream",
     "text": [
      "-- 114th Congress\n",
      "Only Load HR and S\n",
      "Processing ./data/114/bills/hr\n",
      "No data.json file: ./data/114/bills/hr/hr174/data.json\n",
      "No data.json file: ./data/114/bills/hr/hr91/data.json\n",
      "No data.json file: ./data/114/bills/hr/hr91/data.json\n",
      "No data.json file: ./data/114/bills/hr/hr91/data.json\n",
      "No data.json file: ./data/114/bills/hr/hr91/data.json\n",
      "No data.json file: ./data/114/bills/hr/hr91/data.json\n",
      "No data.json file: ./data/114/bills/hr/hr30/data.json\n",
      "No data.json file: ./data/114/bills/hr/hr30/data.json\n",
      "No data.json file: ./data/114/bills/hr/hr30/data.json\n",
      "No data.json file: ./data/114/bills/hr/hr30/data.json\n",
      "No data.json file: ./data/114/bills/hr/hr154/data.json\n",
      "No data.json file: ./data/114/bills/hr/hr24/data.json\n",
      "No data.json file: ./data/114/bills/hr/hr24/data.json\n",
      "No data.json file: ./data/114/bills/hr/hr158/data.json\n",
      "No data.json file: ./data/114/bills/hr/hr158/data.json\n",
      "No data.json file: ./data/114/bills/hr/hr158/data.json\n",
      "No data.json file: ./data/114/bills/hr/hr169/data.json\n",
      "No data.json file: ./data/114/bills/hr/hr36/data.json\n",
      "No data.json file: ./data/114/bills/hr/hr36/data.json\n",
      "No data.json file: ./data/114/bills/hr/hr36/data.json\n",
      "No data.json file: ./data/114/bills/hr/hr36/data.json\n",
      "No data.json file: ./data/114/bills/hr/hr160/data.json\n",
      "No data.json file: ./data/114/bills/hr/hr160/data.json\n",
      "No data.json file: ./data/114/bills/hr/hr160/data.json\n",
      "No data.json file: ./data/114/bills/hr/hr160/data.json\n",
      "Processing ./data/114/bills/s\n",
      "Number of rows: 13555\n",
      "Number of unique bills: 10074\n",
      "Remove bills with no bill text: 0\n",
      "Remove bills with no summary: 49\n",
      "Getting most recent version for duplicated bills\n"
     ]
    },
    {
     "name": "stderr",
     "output_type": "stream",
     "text": [
      "/home/lucy/Workspace/bill-summarization/utils.py:136: UserWarning: Boolean Series key will be reindexed to match DataFrame index.\n",
      "  df = with_summary[with_summary.Number == bill_no][with_summary.Version != 'EAS']\n",
      "/home/lucy/Workspace/bill-summarization/utils.py:180: UserWarning: Boolean Series key will be reindexed to match DataFrame index.\n",
      "  idx = with_summary[with_summary.Number == bill_no][with_summary.Version == to_use].index\n",
      "/home/lucy/Workspace/bill-summarization/utils.py:139: UserWarning: Boolean Series key will be reindexed to match DataFrame index.\n",
      "  idx = with_summary[with_summary.Number == bill_no][with_summary.Version == 'ENR'].index\n"
     ]
    },
    {
     "ename": "FileNotFoundError",
     "evalue": "[Errno 2] No such file or directory: './data/114/bills/hr/hr2831/text-versions/ih/document.xml'",
     "output_type": "error",
     "traceback": [
      "\u001b[0;31m---------------------------------------------------------------------------\u001b[0m",
      "\u001b[0;31mFileNotFoundError\u001b[0m                         Traceback (most recent call last)",
      "\u001b[0;32m<ipython-input-6-72913fdd3fbb>\u001b[0m in \u001b[0;36m<module>\u001b[0;34m()\u001b[0m\n\u001b[1;32m      1\u001b[0m \u001b[0mprint\u001b[0m\u001b[0;34m(\u001b[0m\u001b[0;34m'-- 114th Congress'\u001b[0m\u001b[0;34m)\u001b[0m\u001b[0;34m\u001b[0m\u001b[0m\n\u001b[1;32m      2\u001b[0m \u001b[0mdf_114\u001b[0m \u001b[0;34m=\u001b[0m \u001b[0mload_data\u001b[0m\u001b[0;34m(\u001b[0m\u001b[0;34m'114'\u001b[0m\u001b[0;34m,\u001b[0m \u001b[0mhrsonly\u001b[0m\u001b[0;34m=\u001b[0m\u001b[0;36m1\u001b[0m\u001b[0;34m)\u001b[0m \u001b[0;31m# load_data('114') will load all the bills\u001b[0m\u001b[0;34m\u001b[0m\u001b[0m\n\u001b[0;32m----> 3\u001b[0;31m \u001b[0munique_114\u001b[0m \u001b[0;34m=\u001b[0m \u001b[0mdedup_filter_bills\u001b[0m\u001b[0;34m(\u001b[0m\u001b[0mdf_114\u001b[0m\u001b[0;34m)\u001b[0m\u001b[0;34m\u001b[0m\u001b[0m\n\u001b[0m",
      "\u001b[0;32m~/Workspace/bill-summarization/utils.py\u001b[0m in \u001b[0;36mdedup_filter_bills\u001b[0;34m(df)\u001b[0m\n\u001b[1;32m    196\u001b[0m     \u001b[0mprint\u001b[0m\u001b[0;34m(\u001b[0m\u001b[0;34m'Getting most recent version for duplicated bills'\u001b[0m\u001b[0;34m)\u001b[0m\u001b[0;34m\u001b[0m\u001b[0m\n\u001b[1;32m    197\u001b[0m     \u001b[0mwith_summary\u001b[0m\u001b[0;34m[\u001b[0m\u001b[0;34m'to_use'\u001b[0m\u001b[0;34m]\u001b[0m \u001b[0;34m=\u001b[0m \u001b[0;36m0\u001b[0m\u001b[0;34m\u001b[0m\u001b[0m\n\u001b[0;32m--> 198\u001b[0;31m     \u001b[0mrecents_marked\u001b[0m \u001b[0;34m=\u001b[0m \u001b[0mget_recent_bills\u001b[0m\u001b[0;34m(\u001b[0m\u001b[0mwith_summary\u001b[0m\u001b[0;34m)\u001b[0m\u001b[0;34m\u001b[0m\u001b[0m\n\u001b[0m\u001b[1;32m    199\u001b[0m     \u001b[0munique_bills\u001b[0m \u001b[0;34m=\u001b[0m \u001b[0mrecents_marked\u001b[0m\u001b[0;34m[\u001b[0m\u001b[0mrecents_marked\u001b[0m\u001b[0;34m.\u001b[0m\u001b[0mto_use\u001b[0m \u001b[0;34m==\u001b[0m \u001b[0;36m1\u001b[0m\u001b[0;34m]\u001b[0m\u001b[0;34m\u001b[0m\u001b[0m\n\u001b[1;32m    200\u001b[0m     \u001b[0mprint\u001b[0m\u001b[0;34m(\u001b[0m\u001b[0;34m'Number of unique bills: {}'\u001b[0m\u001b[0;34m.\u001b[0m\u001b[0mformat\u001b[0m\u001b[0;34m(\u001b[0m\u001b[0mlen\u001b[0m\u001b[0;34m(\u001b[0m\u001b[0munique_bills\u001b[0m\u001b[0;34m)\u001b[0m\u001b[0;34m)\u001b[0m\u001b[0;34m)\u001b[0m\u001b[0;34m\u001b[0m\u001b[0m\n",
      "\u001b[0;32m~/Workspace/bill-summarization/utils.py\u001b[0m in \u001b[0;36mget_recent_bills\u001b[0;34m(with_summary)\u001b[0m\n\u001b[1;32m    142\u001b[0m                 \u001b[0;32mfor\u001b[0m \u001b[0mfolder_path\u001b[0m \u001b[0;32min\u001b[0m \u001b[0mdf\u001b[0m\u001b[0;34m.\u001b[0m\u001b[0mDirectory\u001b[0m\u001b[0;34m:\u001b[0m\u001b[0;34m\u001b[0m\u001b[0m\n\u001b[1;32m    143\u001b[0m                     \u001b[0mdate_info\u001b[0m \u001b[0;34m=\u001b[0m \u001b[0;34m{\u001b[0m\u001b[0;34m}\u001b[0m\u001b[0;34m\u001b[0m\u001b[0m\n\u001b[0;32m--> 144\u001b[0;31m                     \u001b[0;32mwith\u001b[0m \u001b[0mopen\u001b[0m\u001b[0;34m(\u001b[0m\u001b[0mfolder_path\u001b[0m\u001b[0;34m+\u001b[0m\u001b[0;34m'/document.xml'\u001b[0m\u001b[0;34m)\u001b[0m \u001b[0;32mas\u001b[0m \u001b[0mf\u001b[0m\u001b[0;34m:\u001b[0m\u001b[0;34m\u001b[0m\u001b[0m\n\u001b[0m\u001b[1;32m    145\u001b[0m                         \u001b[0mdict1\u001b[0m \u001b[0;34m=\u001b[0m \u001b[0mxmltodict\u001b[0m\u001b[0;34m.\u001b[0m\u001b[0mparse\u001b[0m\u001b[0;34m(\u001b[0m\u001b[0mf\u001b[0m\u001b[0;34m.\u001b[0m\u001b[0mread\u001b[0m\u001b[0;34m(\u001b[0m\u001b[0;34m)\u001b[0m\u001b[0;34m)\u001b[0m\u001b[0;34m\u001b[0m\u001b[0m\n\u001b[1;32m    146\u001b[0m                     \u001b[0mversion\u001b[0m \u001b[0;34m=\u001b[0m \u001b[0mfolder_path\u001b[0m\u001b[0;34m.\u001b[0m\u001b[0msplit\u001b[0m\u001b[0;34m(\u001b[0m\u001b[0;34m'/'\u001b[0m\u001b[0;34m)\u001b[0m\u001b[0;34m[\u001b[0m\u001b[0;34m-\u001b[0m\u001b[0;36m1\u001b[0m\u001b[0;34m]\u001b[0m\u001b[0;34m\u001b[0m\u001b[0m\n",
      "\u001b[0;31mFileNotFoundError\u001b[0m: [Errno 2] No such file or directory: './data/114/bills/hr/hr2831/text-versions/ih/document.xml'"
     ]
    }
   ],
   "source": [
    "print('-- 114th Congress')\n",
    "df_114 = load_data('114', hrsonly=1) # load_data('114') will load all the bills\n",
    "unique_114 = dedup_filter_bills(df_114)"
   ]
  },
  {
   "cell_type": "code",
   "execution_count": null,
   "metadata": {
    "collapsed": true
   },
   "outputs": [],
   "source": [
    "%%time\n",
    "concurrent_split(unique_114)"
   ]
  },
  {
   "cell_type": "code",
   "execution_count": 5,
   "metadata": {},
   "outputs": [
    {
     "name": "stdout",
     "output_type": "stream",
     "text": [
      "-- 113th Congress\n",
      "Only Load HR and S\n",
      "Processing ./data/113/bills/hr\n",
      "Processing ./data/113/bills/s\n",
      "No data.json file: ./data/113/bills/s/s1696/data.json\n",
      "Number of rows: 11496\n",
      "Number of unique bills: 8905\n",
      "Remove bills with no bill text: 1\n",
      "Remove bills with no summary: 1\n",
      "Getting most recent version for duplicated bills\n"
     ]
    },
    {
     "name": "stderr",
     "output_type": "stream",
     "text": [
      "/home/lucy/Workspace/bill-summarization/utils.py:136: UserWarning: Boolean Series key will be reindexed to match DataFrame index.\n",
      "  df = with_summary[with_summary.Number == bill_no][with_summary.Version != 'EAS']\n",
      "/home/lucy/Workspace/bill-summarization/utils.py:139: UserWarning: Boolean Series key will be reindexed to match DataFrame index.\n",
      "  idx = with_summary[with_summary.Number == bill_no][with_summary.Version == 'ENR'].index\n",
      "/home/lucy/Workspace/bill-summarization/utils.py:180: UserWarning: Boolean Series key will be reindexed to match DataFrame index.\n",
      "  idx = with_summary[with_summary.Number == bill_no][with_summary.Version == to_use].index\n"
     ]
    },
    {
     "ename": "AttributeError",
     "evalue": "'NoneType' object has no attribute 'keys'",
     "output_type": "error",
     "traceback": [
      "\u001b[0;31m---------------------------------------------------------------------------\u001b[0m",
      "\u001b[0;31mAttributeError\u001b[0m                            Traceback (most recent call last)",
      "\u001b[0;32m<ipython-input-5-4806cc1abf55>\u001b[0m in \u001b[0;36m<module>\u001b[0;34m()\u001b[0m\n\u001b[1;32m      1\u001b[0m \u001b[0mprint\u001b[0m\u001b[0;34m(\u001b[0m\u001b[0;34m'-- 113th Congress'\u001b[0m\u001b[0;34m)\u001b[0m\u001b[0;34m\u001b[0m\u001b[0m\n\u001b[1;32m      2\u001b[0m \u001b[0mdf_113\u001b[0m \u001b[0;34m=\u001b[0m \u001b[0mload_data\u001b[0m\u001b[0;34m(\u001b[0m\u001b[0;34m'113'\u001b[0m\u001b[0;34m,\u001b[0m \u001b[0mhrsonly\u001b[0m\u001b[0;34m=\u001b[0m\u001b[0;36m1\u001b[0m\u001b[0;34m)\u001b[0m \u001b[0;31m# load_data('113') will load all the bills\u001b[0m\u001b[0;34m\u001b[0m\u001b[0m\n\u001b[0;32m----> 3\u001b[0;31m \u001b[0munique_113\u001b[0m \u001b[0;34m=\u001b[0m \u001b[0mdedup_filter_bills\u001b[0m\u001b[0;34m(\u001b[0m\u001b[0mdf_113\u001b[0m\u001b[0;34m)\u001b[0m\u001b[0;34m\u001b[0m\u001b[0m\n\u001b[0m",
      "\u001b[0;32m~/Workspace/bill-summarization/utils.py\u001b[0m in \u001b[0;36mdedup_filter_bills\u001b[0;34m(df)\u001b[0m\n\u001b[1;32m    196\u001b[0m         \u001b[0mtext3\u001b[0m \u001b[0;34m=\u001b[0m \u001b[0mre\u001b[0m\u001b[0;34m.\u001b[0m\u001b[0msub\u001b[0m\u001b[0;34m(\u001b[0m\u001b[0;34mr'[ ][\\n][ ]+'\u001b[0m\u001b[0;34m,\u001b[0m \u001b[0;34mr' '\u001b[0m\u001b[0;34m,\u001b[0m \u001b[0mtext24\u001b[0m\u001b[0;34m)\u001b[0m \u001b[0;31m# somtimes one sentence may be break into multiple lines\u001b[0m\u001b[0;34m\u001b[0m\u001b[0m\n\u001b[1;32m    197\u001b[0m         \u001b[0mtext4\u001b[0m \u001b[0;34m=\u001b[0m \u001b[0mre\u001b[0m\u001b[0;34m.\u001b[0m\u001b[0msub\u001b[0m\u001b[0;34m(\u001b[0m\u001b[0;34mr'\\<all\\>\\s*$'\u001b[0m\u001b[0;34m,\u001b[0m \u001b[0;34mr''\u001b[0m\u001b[0;34m,\u001b[0m \u001b[0mtext3\u001b[0m\u001b[0;34m)\u001b[0m \u001b[0;31m# remove <all> in the end\u001b[0m\u001b[0;34m\u001b[0m\u001b[0m\n\u001b[0;32m--> 198\u001b[0;31m         \u001b[0mtext5\u001b[0m \u001b[0;34m=\u001b[0m \u001b[0mre\u001b[0m\u001b[0;34m.\u001b[0m\u001b[0msub\u001b[0m\u001b[0;34m(\u001b[0m\u001b[0;34mr'\\s'\u001b[0m\u001b[0;34m,\u001b[0m \u001b[0;34mr' '\u001b[0m\u001b[0;34m,\u001b[0m \u001b[0mtext4\u001b[0m\u001b[0;34m)\u001b[0m \u001b[0;31m# replace all kinds of white space (\\n\\t ) with ' '\u001b[0m\u001b[0;34m\u001b[0m\u001b[0m\n\u001b[0m\u001b[1;32m    199\u001b[0m         \u001b[0mtext6\u001b[0m \u001b[0;34m=\u001b[0m \u001b[0mtext5\u001b[0m\u001b[0;34m.\u001b[0m\u001b[0mreplace\u001b[0m\u001b[0;34m(\u001b[0m\u001b[0;34m'--'\u001b[0m\u001b[0;34m,\u001b[0m \u001b[0;34m' -- '\u001b[0m\u001b[0;34m)\u001b[0m \u001b[0;31m# add axtra space around --\u001b[0m\u001b[0;34m\u001b[0m\u001b[0m\n\u001b[1;32m    200\u001b[0m         \u001b[0mtext7\u001b[0m \u001b[0;34m=\u001b[0m \u001b[0mre\u001b[0m\u001b[0;34m.\u001b[0m\u001b[0msub\u001b[0m\u001b[0;34m(\u001b[0m\u001b[0;34mr',\\s+SECTION 1.'\u001b[0m\u001b[0;34m,\u001b[0m \u001b[0;34mr'. SECTION 1'\u001b[0m\u001b[0;34m,\u001b[0m \u001b[0mtext6\u001b[0m\u001b[0;34m)\u001b[0m \u001b[0;31m# replace ',' before section 1 with '.'\u001b[0m\u001b[0;34m\u001b[0m\u001b[0m\n",
      "\u001b[0;32m~/Workspace/bill-summarization/utils.py\u001b[0m in \u001b[0;36mget_recent_bills\u001b[0;34m(with_summary)\u001b[0m\n\u001b[1;32m    157\u001b[0m                 \u001b[0mdf2\u001b[0m \u001b[0;34m=\u001b[0m \u001b[0mpd\u001b[0m\u001b[0;34m.\u001b[0m\u001b[0mDataFrame\u001b[0m\u001b[0;34m(\u001b[0m\u001b[0mall_date_info\u001b[0m\u001b[0;34m,\u001b[0m \u001b[0mindex\u001b[0m\u001b[0;34m=\u001b[0m\u001b[0mrange\u001b[0m\u001b[0;34m(\u001b[0m\u001b[0mlen\u001b[0m\u001b[0;34m(\u001b[0m\u001b[0mall_date_info\u001b[0m\u001b[0;34m)\u001b[0m\u001b[0;34m)\u001b[0m\u001b[0;34m)\u001b[0m\u001b[0;34m\u001b[0m\u001b[0m\n\u001b[1;32m    158\u001b[0m                 \u001b[0mto_use\u001b[0m \u001b[0;34m=\u001b[0m \u001b[0mdf2\u001b[0m\u001b[0;34m.\u001b[0m\u001b[0msort_values\u001b[0m\u001b[0;34m(\u001b[0m\u001b[0;34m'date'\u001b[0m\u001b[0;34m,\u001b[0m \u001b[0mascending\u001b[0m\u001b[0;34m=\u001b[0m\u001b[0;32mFalse\u001b[0m\u001b[0;34m)\u001b[0m\u001b[0;34m[\u001b[0m\u001b[0;34m'version'\u001b[0m\u001b[0;34m]\u001b[0m\u001b[0;34m[\u001b[0m\u001b[0;36m0\u001b[0m\u001b[0;34m]\u001b[0m\u001b[0;34m.\u001b[0m\u001b[0mupper\u001b[0m\u001b[0;34m(\u001b[0m\u001b[0;34m)\u001b[0m\u001b[0;34m\u001b[0m\u001b[0m\n\u001b[0;32m--> 159\u001b[0;31m                 \u001b[0midx\u001b[0m \u001b[0;34m=\u001b[0m \u001b[0mwith_summary\u001b[0m\u001b[0;34m[\u001b[0m\u001b[0mwith_summary\u001b[0m\u001b[0;34m.\u001b[0m\u001b[0mNumber\u001b[0m \u001b[0;34m==\u001b[0m \u001b[0mbill_no\u001b[0m\u001b[0;34m]\u001b[0m\u001b[0;34m[\u001b[0m\u001b[0mwith_summary\u001b[0m\u001b[0;34m.\u001b[0m\u001b[0mVersion\u001b[0m \u001b[0;34m==\u001b[0m \u001b[0mto_use\u001b[0m\u001b[0;34m]\u001b[0m\u001b[0;34m.\u001b[0m\u001b[0mindex\u001b[0m\u001b[0;34m\u001b[0m\u001b[0m\n\u001b[0m\u001b[1;32m    160\u001b[0m         \u001b[0;32melse\u001b[0m\u001b[0;34m:\u001b[0m\u001b[0;34m\u001b[0m\u001b[0m\n\u001b[1;32m    161\u001b[0m             \u001b[0midx\u001b[0m \u001b[0;34m=\u001b[0m \u001b[0mwith_summary\u001b[0m\u001b[0;34m[\u001b[0m\u001b[0mwith_summary\u001b[0m\u001b[0;34m.\u001b[0m\u001b[0mNumber\u001b[0m \u001b[0;34m==\u001b[0m \u001b[0mbill_no\u001b[0m\u001b[0;34m]\u001b[0m\u001b[0;34m.\u001b[0m\u001b[0mindex\u001b[0m\u001b[0;34m\u001b[0m\u001b[0m\n",
      "\u001b[0;31mAttributeError\u001b[0m: 'NoneType' object has no attribute 'keys'"
     ]
    }
   ],
   "source": [
    "print('-- 113th Congress')\n",
    "df_113 = load_data('113', hrsonly=1) # load_data('113') will load all the bills\n",
    "unique_113 = dedup_filter_bills(df_113)"
   ]
  },
  {
   "cell_type": "code",
   "execution_count": null,
   "metadata": {
    "collapsed": true
   },
   "outputs": [],
   "source": [
    "%%time\n",
    "concurrent_split(unique_113)"
   ]
  },
  {
   "cell_type": "code",
   "execution_count": null,
   "metadata": {
    "collapsed": true
   },
   "outputs": [],
   "source": []
  },
  {
   "cell_type": "code",
   "execution_count": null,
   "metadata": {
    "collapsed": true
   },
   "outputs": [],
   "source": []
  },
  {
   "cell_type": "code",
   "execution_count": null,
   "metadata": {
    "collapsed": true
   },
   "outputs": [],
   "source": []
  }
 ],
 "metadata": {
  "kernelspec": {
   "display_name": "Python 3",
   "language": "python",
   "name": "python3"
  },
  "language_info": {
   "codemirror_mode": {
    "name": "ipython",
    "version": 3
   },
   "file_extension": ".py",
   "mimetype": "text/x-python",
   "name": "python",
   "nbconvert_exporter": "python",
   "pygments_lexer": "ipython3",
   "version": "3.6.2"
  }
 },
 "nbformat": 4,
 "nbformat_minor": 2
}
