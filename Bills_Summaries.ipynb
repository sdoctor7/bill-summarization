{
 "cells": [
  {
   "cell_type": "markdown",
   "metadata": {},
   "source": [
    "## Import Packages"
   ]
  },
  {
   "cell_type": "code",
   "execution_count": 598,
   "metadata": {},
   "outputs": [],
   "source": [
    "import xmltodict\n",
    "import pandas as pd\n",
    "import numpy as np\n",
    "import os\n",
    "import re\n",
    "from bs4 import BeautifulSoup\n",
    "import warnings\n",
    "import matplotlib.pyplot as plt"
   ]
  },
  {
   "cell_type": "markdown",
   "metadata": {},
   "source": [
    "## Parsing Bills"
   ]
  },
  {
   "cell_type": "code",
   "execution_count": 8,
   "metadata": {},
   "outputs": [],
   "source": [
    "def remove_tags(read_file):\n",
    "    read_file = re.sub(b'</?external-xref[^<>]*>',b'', read_file)\n",
    "    read_file = re.sub(b'<quote>',b'\"', read_file)\n",
    "    read_file = re.sub(b'</quote>',b'\"', read_file)\n",
    "    read_file = re.sub(b'</?term[^<>]*>',b' ', read_file)\n",
    "    read_file = re.sub(b'</?pagebreak[^<>]*>',b'', read_file)\n",
    "    return read_file"
   ]
  },
  {
   "cell_type": "code",
   "execution_count": 75,
   "metadata": {
    "collapsed": true
   },
   "outputs": [],
   "source": [
    "def flatten(d):\n",
    "    output = ''\n",
    "    for k, v in d.items():\n",
    "        if not k.startswith(\"@\"):\n",
    "            if isinstance(v, dict):\n",
    "                output += flatten(v)\n",
    "            elif isinstance(v, list):\n",
    "                for l in v:\n",
    "                    if isinstance(l, dict):\n",
    "                        output += flatten(l)\n",
    "                    else:\n",
    "                        if l:\n",
    "                            output += l + ' '\n",
    "            else:\n",
    "                if v:\n",
    "                    output += v + ' '\n",
    "    return output"
   ]
  },
  {
   "cell_type": "code",
   "execution_count": 405,
   "metadata": {},
   "outputs": [],
   "source": [
    "def section_bill(d):\n",
    "    global section\n",
    "    if isinstance(d, dict):\n",
    "        if 'section' in d.keys():\n",
    "            section += 1\n",
    "        if 'subsection' in d.keys():\n",
    "            section += 1\n",
    "        if 'paragraph' in d.keys():\n",
    "            section += len(d['paragraph'])\n",
    "        for k, v in d.items():\n",
    "            if not k.startswith(\"@\"):\n",
    "                section_bill(v)\n",
    "    elif isinstance(d, list):\n",
    "        for l in d:\n",
    "            section_bill(l)\n",
    "    else:\n",
    "        if d:\n",
    "            section = section\n",
    "    return section"
   ]
  },
  {
   "cell_type": "code",
   "execution_count": 407,
   "metadata": {},
   "outputs": [],
   "source": [
    "def length_bill(text):\n",
    "    word = len(text.split())\n",
    "    # Use period to detect sentence or semicolon?\n",
    "    sentence = text.count('.')\n",
    "    return sentence, word"
   ]
  },
  {
   "cell_type": "code",
   "execution_count": 453,
   "metadata": {},
   "outputs": [],
   "source": [
    "def bill_to_dict(filename, doc):\n",
    "    def _clean_body(bodydict):\n",
    "        clean_bodydict = {}\n",
    "        for k, v in bodydict.items():\n",
    "            if not k.startswith(\"@\"):\n",
    "                if isinstance(v, list):\n",
    "                    sec_str = ''\n",
    "                    for sub_dict in v:\n",
    "                        if sub_dict:\n",
    "                            sec_str += flatten(sub_dict)\n",
    "                    clean_bodydict[k] = sec_str\n",
    "#                 elif isinstance(v, dict):\n",
    "                else:\n",
    "                    clean_bodydict[k] = flatten(v)\n",
    "#                 else:\n",
    "#                     print('xxxxxxxxx')\n",
    "        return clean_bodydict\n",
    "    \n",
    "    bill_type = list(doc)[0]\n",
    "    data_dict = {}\n",
    "    \n",
    "    data_dict[\"file-name\"] = filename\n",
    "    data_dict[\"bill-type\"] = bill_type\n",
    "    data_dict['official-title'] = None\n",
    "    data_dict['legis-type'] = None\n",
    "    data_dict['dc:title'] = None\n",
    "    \n",
    "    metadata = {}\n",
    "    for n in list(doc[bill_type]):\n",
    "        # group meta data\n",
    "        if n.startswith(\"@\"): \n",
    "            metadata[n] = doc[bill_type][n]\n",
    "        # unify name for different types\n",
    "        elif n in ['legis-body', 'resolution-body', 'engrossed-amendment-body']:\n",
    "            if isinstance(doc[bill_type][n], dict):\n",
    "                data_dict['body'] = _clean_body(doc[bill_type][n])    \n",
    "            elif isinstance(doc[bill_type][n], list):\n",
    "                # just take last one\n",
    "                data_dict['body'] = _clean_body(doc[bill_type][n][-1])\n",
    "            else:\n",
    "                print('NOT dict nor list')\n",
    "                data_dict['body'] = doc[bill_type][n]\n",
    "            ## calculate the length of bills in paragraphs, sentences and words\n",
    "            global section\n",
    "            section = 0\n",
    "            if isinstance(doc[bill_type][n], dict):\n",
    "                section = section_bill(doc[bill_type][n])\n",
    "            elif isinstance(doc[bill_type][n], list):\n",
    "                section = section_bill(doc[bill_type][n][-1])\n",
    "            else:\n",
    "                section = 0\n",
    "            data_dict['section'] = section\n",
    "            try:\n",
    "                sentence, word = length_bill(data_dict['body']['section'])\n",
    "            except:\n",
    "                sentence, word = length_bill(data_dict['body']['title'])\n",
    "            finally:\n",
    "                data_dict['sentence'] = sentence\n",
    "                data_dict['word'] = word\n",
    "                \n",
    "        elif n == 'engrossed-amendment-form':\n",
    "            data_dict['form'] = doc[bill_type][n]\n",
    "            \n",
    "        ## add fields legis-type, official-title from 'form'\n",
    "        elif n == 'form':\n",
    "            try:\n",
    "                data_dict['legis-type'] = doc[bill_type][n]['legis-type']\n",
    "                data_dict['official-title'] = doc[bill_type][n]['official-title']\n",
    "                if isinstance(data_dict['official-title'], dict):\n",
    "                    data_dict['official-title'] = data_dict['official-title']['#text']\n",
    "                data_dict['official-title'] = re.compile(r'[\\n\\r\\t]').sub(\"\", data_dict['official-title'])\n",
    "                if isinstance(data_dict['legis-type'], dict):\n",
    "                    data_dict['legis-type'] = data_dict['legis-type']['#text']\n",
    "            except Exception as e:\n",
    "                print(\"Do not exist %s\"%e)\n",
    "                if e == '#text':\n",
    "                    data_dict['official-title'] = None\n",
    "                 #else:\n",
    "                 #   data_dict['legis-type'] = None\n",
    "                    \n",
    "         ## add field dc:title from 'metadata'\n",
    "        elif n == 'metadata':\n",
    "            try:\n",
    "                data_dict['dc:title'] = doc[bill_type][n]['dublinCore']['dc:title']\n",
    "            except Exception as e:\n",
    "                print(\"Do not exist %s\"%e)\n",
    "                data_dict['dc:title'] = None\n",
    "        else:\n",
    "            data_dict[n] = doc[bill_type][n]\n",
    "\n",
    "    data_dict[\"metadata\"] = metadata\n",
    "    return data_dict"
   ]
  },
  {
   "cell_type": "markdown",
   "metadata": {},
   "source": [
    "## Select Required Columns"
   ]
  },
  {
   "cell_type": "code",
   "execution_count": 454,
   "metadata": {},
   "outputs": [
    {
     "name": "stdout",
     "output_type": "stream",
     "text": [
      "Do not exist '#text'\n",
      "Do not exist '#text'\n",
      "Do not exist '#text'\n"
     ]
    }
   ],
   "source": [
    "# I put all the files in one folder for simplicity\n",
    "indir = 'C:/Users/Kunyi Liu/Desktop/H/study/Automatic Summarization of Congressional Bils/bill_text_115' \n",
    "\n",
    "data = [] # a list of dict, each element is a xml file\n",
    "\n",
    "for root, dirs, filenames in os.walk(indir):\n",
    "    for filename in filenames:\n",
    "        with open(os.path.join(indir, filename), 'rb') as f:\n",
    "            doc = xmltodict.parse(remove_tags(f.read()))\n",
    "            data.append(bill_to_dict(filename, doc))"
   ]
  },
  {
   "cell_type": "code",
   "execution_count": 468,
   "metadata": {
    "collapsed": true
   },
   "outputs": [],
   "source": [
    "select_keys = ['metadata', 'bill-type', 'body', 'file-name','dc:title', 'official-title', 'legis-type', \n",
    "               'section', 'sentence', 'word']\n",
    "select_data = []\n",
    "for d in data:\n",
    "    select_data.append({ select_key: d[select_key] for select_key in select_keys })\n",
    "df = pd.io.json.json_normalize(select_data)\n",
    "## Reorder the columns\n",
    "#df = pd.DataFrame(df, columns = np.concatenate([df.columns[[0,3,2,-1,1,4]],df.columns[5:11]], axis = 0))"
   ]
  },
  {
   "cell_type": "markdown",
   "metadata": {},
   "source": [
    "## Some EDA"
   ]
  },
  {
   "cell_type": "code",
   "execution_count": 469,
   "metadata": {},
   "outputs": [
    {
     "data": {
      "text/html": [
       "<div>\n",
       "<style>\n",
       "    .dataframe thead tr:only-child th {\n",
       "        text-align: right;\n",
       "    }\n",
       "\n",
       "    .dataframe thead th {\n",
       "        text-align: left;\n",
       "    }\n",
       "\n",
       "    .dataframe tbody tr th {\n",
       "        vertical-align: top;\n",
       "    }\n",
       "</style>\n",
       "<table border=\"1\" class=\"dataframe\">\n",
       "  <thead>\n",
       "    <tr style=\"text-align: right;\">\n",
       "      <th></th>\n",
       "      <th>bill-type</th>\n",
       "      <th>body.amendment</th>\n",
       "      <th>body.division</th>\n",
       "      <th>body.section</th>\n",
       "      <th>body.title</th>\n",
       "      <th>dc:title</th>\n",
       "      <th>file-name</th>\n",
       "      <th>legis-type</th>\n",
       "      <th>legis-type.#text</th>\n",
       "      <th>legis-type.@display</th>\n",
       "      <th>...</th>\n",
       "      <th>metadata.@public-private</th>\n",
       "      <th>metadata.@resolution-stage</th>\n",
       "      <th>metadata.@resolution-type</th>\n",
       "      <th>metadata.@stage-count</th>\n",
       "      <th>metadata.@star-print</th>\n",
       "      <th>official-title</th>\n",
       "      <th>official-title.@display</th>\n",
       "      <th>section</th>\n",
       "      <th>sentence</th>\n",
       "      <th>word</th>\n",
       "    </tr>\n",
       "  </thead>\n",
       "  <tbody>\n",
       "    <tr>\n",
       "      <th>0</th>\n",
       "      <td>bill</td>\n",
       "      <td>NaN</td>\n",
       "      <td>NaN</td>\n",
       "      <td>1. Permanent resident status for Joseph\\n\\t\\t\\...</td>\n",
       "      <td>NaN</td>\n",
       "      <td>115 S556 IS: For the relief of Joseph Gabra an...</td>\n",
       "      <td>92510.140382952224512.47152.xml</td>\n",
       "      <td>A BILL</td>\n",
       "      <td>NaN</td>\n",
       "      <td>NaN</td>\n",
       "      <td>...</td>\n",
       "      <td>private</td>\n",
       "      <td>NaN</td>\n",
       "      <td>NaN</td>\n",
       "      <td>NaN</td>\n",
       "      <td>NaN</td>\n",
       "      <td>For the relief of Joseph Gabra and Sharon Kamel.</td>\n",
       "      <td>NaN</td>\n",
       "      <td>4</td>\n",
       "      <td>21</td>\n",
       "      <td>386</td>\n",
       "    </tr>\n",
       "    <tr>\n",
       "      <th>1</th>\n",
       "      <td>resolution</td>\n",
       "      <td>NaN</td>\n",
       "      <td>NaN</td>\n",
       "      <td>That it is the sense of Congress that— (1) the...</td>\n",
       "      <td>NaN</td>\n",
       "      <td>115 HCON 10 IH: Expressing the sense of the Co...</td>\n",
       "      <td>US_Bill_Text_115_HCONRES10_IH.xml</td>\n",
       "      <td>CONCURRENT RESOLUTION</td>\n",
       "      <td>NaN</td>\n",
       "      <td>NaN</td>\n",
       "      <td>...</td>\n",
       "      <td>public</td>\n",
       "      <td>Introduced-in-House</td>\n",
       "      <td>house-concurrent</td>\n",
       "      <td>NaN</td>\n",
       "      <td>no-star-print</td>\n",
       "      <td>Expressing the sense of the Congress that tax-...</td>\n",
       "      <td>NaN</td>\n",
       "      <td>5</td>\n",
       "      <td>1</td>\n",
       "      <td>122</td>\n",
       "    </tr>\n",
       "    <tr>\n",
       "      <th>2</th>\n",
       "      <td>resolution</td>\n",
       "      <td>NaN</td>\n",
       "      <td>NaN</td>\n",
       "      <td>That it is the sense of Congress that— (1) the...</td>\n",
       "      <td>NaN</td>\n",
       "      <td>115 HCON 11 IH: Expressing the sense of Congre...</td>\n",
       "      <td>US_Bill_Text_115_HCONRES11_IH.xml</td>\n",
       "      <td>CONCURRENT RESOLUTION</td>\n",
       "      <td>NaN</td>\n",
       "      <td>NaN</td>\n",
       "      <td>...</td>\n",
       "      <td>public</td>\n",
       "      <td>Introduced-in-House</td>\n",
       "      <td>house-concurrent</td>\n",
       "      <td>NaN</td>\n",
       "      <td>no-star-print</td>\n",
       "      <td>Expressing the sense of Congress that Jerusale...</td>\n",
       "      <td>NaN</td>\n",
       "      <td>3</td>\n",
       "      <td>1</td>\n",
       "      <td>38</td>\n",
       "    </tr>\n",
       "    <tr>\n",
       "      <th>3</th>\n",
       "      <td>resolution</td>\n",
       "      <td>NaN</td>\n",
       "      <td>NaN</td>\n",
       "      <td>That Congress— (1) supports the designation of...</td>\n",
       "      <td>NaN</td>\n",
       "      <td>115 HCON 12 IH: Supporting the designation of ...</td>\n",
       "      <td>US_Bill_Text_115_HCONRES12_IH.xml</td>\n",
       "      <td>CONCURRENT RESOLUTION</td>\n",
       "      <td>NaN</td>\n",
       "      <td>NaN</td>\n",
       "      <td>...</td>\n",
       "      <td>public</td>\n",
       "      <td>Introduced-in-House</td>\n",
       "      <td>house-concurrent</td>\n",
       "      <td>NaN</td>\n",
       "      <td>no-star-print</td>\n",
       "      <td>Supporting the designation of the week of Sept...</td>\n",
       "      <td>NaN</td>\n",
       "      <td>4</td>\n",
       "      <td>1</td>\n",
       "      <td>80</td>\n",
       "    </tr>\n",
       "    <tr>\n",
       "      <th>4</th>\n",
       "      <td>resolution</td>\n",
       "      <td>NaN</td>\n",
       "      <td>NaN</td>\n",
       "      <td>That Congress should not impose any new perfor...</td>\n",
       "      <td>NaN</td>\n",
       "      <td>115 HCON 13 IH: Supporting the Local Radio Fre...</td>\n",
       "      <td>US_Bill_Text_115_HCONRES13_IH.xml</td>\n",
       "      <td>CONCURRENT RESOLUTION</td>\n",
       "      <td>NaN</td>\n",
       "      <td>NaN</td>\n",
       "      <td>...</td>\n",
       "      <td>public</td>\n",
       "      <td>Introduced-in-House</td>\n",
       "      <td>house-concurrent</td>\n",
       "      <td>NaN</td>\n",
       "      <td>no-star-print</td>\n",
       "      <td>Supporting the Local Radio Freedom Act.</td>\n",
       "      <td>NaN</td>\n",
       "      <td>1</td>\n",
       "      <td>1</td>\n",
       "      <td>43</td>\n",
       "    </tr>\n",
       "  </tbody>\n",
       "</table>\n",
       "<p>5 rows × 28 columns</p>\n",
       "</div>"
      ],
      "text/plain": [
       "    bill-type body.amendment body.division  \\\n",
       "0        bill            NaN           NaN   \n",
       "1  resolution            NaN           NaN   \n",
       "2  resolution            NaN           NaN   \n",
       "3  resolution            NaN           NaN   \n",
       "4  resolution            NaN           NaN   \n",
       "\n",
       "                                        body.section body.title  \\\n",
       "0  1. Permanent resident status for Joseph\\n\\t\\t\\...        NaN   \n",
       "1  That it is the sense of Congress that— (1) the...        NaN   \n",
       "2  That it is the sense of Congress that— (1) the...        NaN   \n",
       "3  That Congress— (1) supports the designation of...        NaN   \n",
       "4  That Congress should not impose any new perfor...        NaN   \n",
       "\n",
       "                                            dc:title  \\\n",
       "0  115 S556 IS: For the relief of Joseph Gabra an...   \n",
       "1  115 HCON 10 IH: Expressing the sense of the Co...   \n",
       "2  115 HCON 11 IH: Expressing the sense of Congre...   \n",
       "3  115 HCON 12 IH: Supporting the designation of ...   \n",
       "4  115 HCON 13 IH: Supporting the Local Radio Fre...   \n",
       "\n",
       "                           file-name             legis-type legis-type.#text  \\\n",
       "0    92510.140382952224512.47152.xml                 A BILL              NaN   \n",
       "1  US_Bill_Text_115_HCONRES10_IH.xml  CONCURRENT RESOLUTION              NaN   \n",
       "2  US_Bill_Text_115_HCONRES11_IH.xml  CONCURRENT RESOLUTION              NaN   \n",
       "3  US_Bill_Text_115_HCONRES12_IH.xml  CONCURRENT RESOLUTION              NaN   \n",
       "4  US_Bill_Text_115_HCONRES13_IH.xml  CONCURRENT RESOLUTION              NaN   \n",
       "\n",
       "  legis-type.@display ...  metadata.@public-private  \\\n",
       "0                 NaN ...                   private   \n",
       "1                 NaN ...                    public   \n",
       "2                 NaN ...                    public   \n",
       "3                 NaN ...                    public   \n",
       "4                 NaN ...                    public   \n",
       "\n",
       "  metadata.@resolution-stage metadata.@resolution-type metadata.@stage-count  \\\n",
       "0                        NaN                       NaN                   NaN   \n",
       "1        Introduced-in-House          house-concurrent                   NaN   \n",
       "2        Introduced-in-House          house-concurrent                   NaN   \n",
       "3        Introduced-in-House          house-concurrent                   NaN   \n",
       "4        Introduced-in-House          house-concurrent                   NaN   \n",
       "\n",
       "  metadata.@star-print                                     official-title  \\\n",
       "0                  NaN   For the relief of Joseph Gabra and Sharon Kamel.   \n",
       "1        no-star-print  Expressing the sense of the Congress that tax-...   \n",
       "2        no-star-print  Expressing the sense of Congress that Jerusale...   \n",
       "3        no-star-print  Supporting the designation of the week of Sept...   \n",
       "4        no-star-print            Supporting the Local Radio Freedom Act.   \n",
       "\n",
       "  official-title.@display section sentence word  \n",
       "0                     NaN       4       21  386  \n",
       "1                     NaN       5        1  122  \n",
       "2                     NaN       3        1   38  \n",
       "3                     NaN       4        1   80  \n",
       "4                     NaN       1        1   43  \n",
       "\n",
       "[5 rows x 28 columns]"
      ]
     },
     "execution_count": 469,
     "metadata": {},
     "output_type": "execute_result"
    }
   ],
   "source": [
    "df.head()"
   ]
  },
  {
   "cell_type": "code",
   "execution_count": 456,
   "metadata": {},
   "outputs": [
    {
     "name": "stdout",
     "output_type": "stream",
     "text": [
      "The count of total bill is 8039\n",
      "===========================================\n",
      "Bill Type Table is:\n",
      " bill             6712\n",
      "resolution       1312\n",
      "amendment-doc      15\n",
      "Name: bill-type, dtype: int64\n",
      "===========================================\n",
      "Legis Type Table is:\n",
      " A BILL                   5935\n",
      "RESOLUTION                921\n",
      "AN ACT                    777\n",
      "JOINT RESOLUTION          241\n",
      "CONCURRENT RESOLUTION     147\n",
      "Name: legis-type, dtype: int64\n"
     ]
    }
   ],
   "source": [
    "df.to_pickle(\"C:/Users/Kunyi Liu/Desktop/H/study/Automatic Summarization of Congressional Bils/bills.pkl\")\n",
    "print(\"The count of total bill is %s\"%df.shape[0])\n",
    "print(\"===========================================\")\n",
    "print(\"Bill Type Table is:\\n\",df['bill-type'].value_counts())\n",
    "print(\"===========================================\")\n",
    "print(\"Legis Type Table is:\\n\",df['legis-type'].value_counts())"
   ]
  },
  {
   "cell_type": "code",
   "execution_count": 459,
   "metadata": {},
   "outputs": [
    {
     "name": "stdout",
     "output_type": "stream",
     "text": [
      "Dataset group by Legis and Bill Types:\n",
      "bill-type   legis-type           \n",
      "bill        A BILL                   5935\n",
      "            AN ACT                    777\n",
      "resolution  CONCURRENT RESOLUTION     147\n",
      "            JOINT RESOLUTION          241\n",
      "            RESOLUTION                921\n",
      "dtype: int64\n",
      "===========================================\n",
      "Average length of bills is:\n",
      "                  section   sentence        word\n",
      "bill-type                                       \n",
      "amendment-doc  177.933333   2.800000   58.000000\n",
      "bill            32.875149  39.369934  960.745977\n",
      "resolution       5.864329   9.441311  232.607470\n"
     ]
    }
   ],
   "source": [
    "# amendment-doc don't have legis types\n",
    "print(\"Dataset group by Legis and Bill Types:\")\n",
    "print(df.groupby(['bill-type','legis-type']).size())\n",
    "print(\"===========================================\")\n",
    "print(\"Average length of bills is:\")\n",
    "print(pd.pivot_table(df, values=['section', 'sentence', 'word'], index=['bill-type'], columns=None, aggfunc=np.mean))"
   ]
  },
  {
   "cell_type": "markdown",
   "metadata": {},
   "source": [
    "## Parsing Summaries"
   ]
  },
  {
   "cell_type": "code",
   "execution_count": 480,
   "metadata": {
    "collapsed": true
   },
   "outputs": [],
   "source": [
    "def parse_summary(path, fileName):\n",
    "\n",
    "    with open(path+fileName, 'rb') as file:\n",
    "        dict1 = xmltodict.parse(file.read()) # parse original XML to a dictionary\n",
    "    \n",
    "    if 'billStatus' in dict1.keys():\n",
    "        \n",
    "        dict2 = {} # initialize empty dictionary for this bill\n",
    "        dict2['fileName'] = fileName # insert filename\n",
    "        dict2['billNumber'] = dict1['billStatus']['bill']['billNumber'] # insert bill number\n",
    "        dict2['contributor'] = dict1['billStatus']['dublinCore']['dc:contributor'] # insert contributor\n",
    "\n",
    "        ### summaries (there may be multiple) ###\n",
    "        summaries = dict1['billStatus']['bill']['summaries']['billSummaries']\n",
    "        if summaries:\n",
    "            if isinstance(summaries['item'], dict): # if there's only one summary\n",
    "                # remove HTML tags from the summary and append it\n",
    "                dict2['summary0'] = BeautifulSoup(summaries['item']['text'], 'lxml').text\n",
    "                # add length fields (sentence and word) to columns\n",
    "                dict2['sentence0'], dict2['word0'] = length_bill(dict2['summary0'])\n",
    "            elif isinstance(summaries['item'], list): # if there are multiple summaries\n",
    "                for i, item in enumerate(summaries['item']):\n",
    "                    # remove HTML tags from each summary and append it\n",
    "                    dict2['summary'+str(i)] = BeautifulSoup(item['text'], 'lxml').text\n",
    "                    # add length fields (sentence and word) to columns\n",
    "                    dict2['sentence'+str(i)], dict2['word'+str(i)] = length_bill(dict2['summary'+str(i)])\n",
    "        \n",
    "        ### titles (there may be multiple) ###\n",
    "        dict2['title'] = dict1['billStatus']['bill']['title']\n",
    "        titles = dict1['billStatus']['bill']['titles']['item'] # original title in 'title' tag\n",
    "        for i, item in enumerate(titles): # all other titles\n",
    "            dict3 = {}\n",
    "            dict3[item['titleType']] = item['title']\n",
    "            dict2['title'+str(i)] = str(dict3)\n",
    "\n",
    "        return (1, dict2)\n",
    "    \n",
    "    else:\n",
    "        return (0, fileName)"
   ]
  },
  {
   "cell_type": "code",
   "execution_count": 481,
   "metadata": {},
   "outputs": [
    {
     "name": "stdout",
     "output_type": "stream",
     "text": [
      "Progress 1\n",
      "Progress 1001\n",
      "Progress 2001\n",
      "Progress 3001\n",
      "Progress 4001\n",
      "Progress 5001\n",
      "Progress 6001\n",
      "Progress 7001\n",
      "Progress 8001\n"
     ]
    }
   ],
   "source": [
    "path = 'C:/Users/Kunyi Liu/Desktop/H/study/Automatic Summarization of Congressional Bils/bill_digests_115/'\n",
    "all_dicts = []\n",
    "unused_filenames = []\n",
    "count = 0\n",
    "for summ_file in os.listdir(path):\n",
    "    parsed = parse_summary(path, summ_file)\n",
    "    if count%1000==1:\n",
    "        print (\"Progress {}\".format(count))\n",
    "    if parsed[0] == 1:\n",
    "        all_dicts.append(parsed[1])\n",
    "        \n",
    "    else:\n",
    "        unused_filenames.append(parsed[1])\n",
    "    count+=1"
   ]
  },
  {
   "cell_type": "code",
   "execution_count": 523,
   "metadata": {},
   "outputs": [
    {
     "data": {
      "text/html": [
       "<div>\n",
       "<style>\n",
       "    .dataframe thead tr:only-child th {\n",
       "        text-align: right;\n",
       "    }\n",
       "\n",
       "    .dataframe thead th {\n",
       "        text-align: left;\n",
       "    }\n",
       "\n",
       "    .dataframe tbody tr th {\n",
       "        vertical-align: top;\n",
       "    }\n",
       "</style>\n",
       "<table border=\"1\" class=\"dataframe\">\n",
       "  <thead>\n",
       "    <tr style=\"text-align: right;\">\n",
       "      <th></th>\n",
       "      <th>billNumber</th>\n",
       "      <th>contributor</th>\n",
       "      <th>fileName</th>\n",
       "      <th>sentence0</th>\n",
       "      <th>sentence1</th>\n",
       "      <th>sentence2</th>\n",
       "      <th>sentence3</th>\n",
       "      <th>sentence4</th>\n",
       "      <th>summary0</th>\n",
       "      <th>summary1</th>\n",
       "      <th>...</th>\n",
       "      <th>title72</th>\n",
       "      <th>title73</th>\n",
       "      <th>title74</th>\n",
       "      <th>title8</th>\n",
       "      <th>title9</th>\n",
       "      <th>word0</th>\n",
       "      <th>word1</th>\n",
       "      <th>word2</th>\n",
       "      <th>word3</th>\n",
       "      <th>word4</th>\n",
       "    </tr>\n",
       "  </thead>\n",
       "  <tbody>\n",
       "    <tr>\n",
       "      <th>0</th>\n",
       "      <td>24</td>\n",
       "      <td>Congressional Research Service, Library of Con...</td>\n",
       "      <td>104657.140052642395904.4245.xml</td>\n",
       "      <td>NaN</td>\n",
       "      <td>NaN</td>\n",
       "      <td>NaN</td>\n",
       "      <td>NaN</td>\n",
       "      <td>NaN</td>\n",
       "      <td>NaN</td>\n",
       "      <td>NaN</td>\n",
       "      <td>...</td>\n",
       "      <td>NaN</td>\n",
       "      <td>NaN</td>\n",
       "      <td>NaN</td>\n",
       "      <td>NaN</td>\n",
       "      <td>NaN</td>\n",
       "      <td>NaN</td>\n",
       "      <td>NaN</td>\n",
       "      <td>NaN</td>\n",
       "      <td>NaN</td>\n",
       "      <td>NaN</td>\n",
       "    </tr>\n",
       "    <tr>\n",
       "      <th>1</th>\n",
       "      <td>165</td>\n",
       "      <td>Congressional Research Service, Library of Con...</td>\n",
       "      <td>104657.140052642395904.4338.xml</td>\n",
       "      <td>NaN</td>\n",
       "      <td>NaN</td>\n",
       "      <td>NaN</td>\n",
       "      <td>NaN</td>\n",
       "      <td>NaN</td>\n",
       "      <td>NaN</td>\n",
       "      <td>NaN</td>\n",
       "      <td>...</td>\n",
       "      <td>NaN</td>\n",
       "      <td>NaN</td>\n",
       "      <td>NaN</td>\n",
       "      <td>NaN</td>\n",
       "      <td>NaN</td>\n",
       "      <td>NaN</td>\n",
       "      <td>NaN</td>\n",
       "      <td>NaN</td>\n",
       "      <td>NaN</td>\n",
       "      <td>NaN</td>\n",
       "    </tr>\n",
       "    <tr>\n",
       "      <th>2</th>\n",
       "      <td>12</td>\n",
       "      <td>Congressional Research Service, Library of Con...</td>\n",
       "      <td>104657.140052642395904.4450.xml</td>\n",
       "      <td>NaN</td>\n",
       "      <td>NaN</td>\n",
       "      <td>NaN</td>\n",
       "      <td>NaN</td>\n",
       "      <td>NaN</td>\n",
       "      <td>NaN</td>\n",
       "      <td>NaN</td>\n",
       "      <td>...</td>\n",
       "      <td>NaN</td>\n",
       "      <td>NaN</td>\n",
       "      <td>NaN</td>\n",
       "      <td>NaN</td>\n",
       "      <td>NaN</td>\n",
       "      <td>NaN</td>\n",
       "      <td>NaN</td>\n",
       "      <td>NaN</td>\n",
       "      <td>NaN</td>\n",
       "      <td>NaN</td>\n",
       "    </tr>\n",
       "    <tr>\n",
       "      <th>3</th>\n",
       "      <td>527</td>\n",
       "      <td>Congressional Research Service, Library of Con...</td>\n",
       "      <td>104657.140052642395904.4455.xml</td>\n",
       "      <td>NaN</td>\n",
       "      <td>NaN</td>\n",
       "      <td>NaN</td>\n",
       "      <td>NaN</td>\n",
       "      <td>NaN</td>\n",
       "      <td>NaN</td>\n",
       "      <td>NaN</td>\n",
       "      <td>...</td>\n",
       "      <td>NaN</td>\n",
       "      <td>NaN</td>\n",
       "      <td>NaN</td>\n",
       "      <td>NaN</td>\n",
       "      <td>NaN</td>\n",
       "      <td>NaN</td>\n",
       "      <td>NaN</td>\n",
       "      <td>NaN</td>\n",
       "      <td>NaN</td>\n",
       "      <td>NaN</td>\n",
       "    </tr>\n",
       "    <tr>\n",
       "      <th>4</th>\n",
       "      <td>524</td>\n",
       "      <td>Congressional Research Service, Library of Con...</td>\n",
       "      <td>104657.140052642395904.4458.xml</td>\n",
       "      <td>NaN</td>\n",
       "      <td>NaN</td>\n",
       "      <td>NaN</td>\n",
       "      <td>NaN</td>\n",
       "      <td>NaN</td>\n",
       "      <td>NaN</td>\n",
       "      <td>NaN</td>\n",
       "      <td>...</td>\n",
       "      <td>NaN</td>\n",
       "      <td>NaN</td>\n",
       "      <td>NaN</td>\n",
       "      <td>NaN</td>\n",
       "      <td>NaN</td>\n",
       "      <td>NaN</td>\n",
       "      <td>NaN</td>\n",
       "      <td>NaN</td>\n",
       "      <td>NaN</td>\n",
       "      <td>NaN</td>\n",
       "    </tr>\n",
       "  </tbody>\n",
       "</table>\n",
       "<p>5 rows × 94 columns</p>\n",
       "</div>"
      ],
      "text/plain": [
       "  billNumber                                        contributor  \\\n",
       "0         24  Congressional Research Service, Library of Con...   \n",
       "1        165  Congressional Research Service, Library of Con...   \n",
       "2         12  Congressional Research Service, Library of Con...   \n",
       "3        527  Congressional Research Service, Library of Con...   \n",
       "4        524  Congressional Research Service, Library of Con...   \n",
       "\n",
       "                          fileName  sentence0  sentence1  sentence2  \\\n",
       "0  104657.140052642395904.4245.xml        NaN        NaN        NaN   \n",
       "1  104657.140052642395904.4338.xml        NaN        NaN        NaN   \n",
       "2  104657.140052642395904.4450.xml        NaN        NaN        NaN   \n",
       "3  104657.140052642395904.4455.xml        NaN        NaN        NaN   \n",
       "4  104657.140052642395904.4458.xml        NaN        NaN        NaN   \n",
       "\n",
       "   sentence3  sentence4 summary0 summary1  ...  title72 title73 title74  \\\n",
       "0        NaN        NaN      NaN      NaN  ...      NaN     NaN     NaN   \n",
       "1        NaN        NaN      NaN      NaN  ...      NaN     NaN     NaN   \n",
       "2        NaN        NaN      NaN      NaN  ...      NaN     NaN     NaN   \n",
       "3        NaN        NaN      NaN      NaN  ...      NaN     NaN     NaN   \n",
       "4        NaN        NaN      NaN      NaN  ...      NaN     NaN     NaN   \n",
       "\n",
       "  title8 title9 word0 word1 word2 word3 word4  \n",
       "0    NaN    NaN   NaN   NaN   NaN   NaN   NaN  \n",
       "1    NaN    NaN   NaN   NaN   NaN   NaN   NaN  \n",
       "2    NaN    NaN   NaN   NaN   NaN   NaN   NaN  \n",
       "3    NaN    NaN   NaN   NaN   NaN   NaN   NaN  \n",
       "4    NaN    NaN   NaN   NaN   NaN   NaN   NaN  \n",
       "\n",
       "[5 rows x 94 columns]"
      ]
     },
     "execution_count": 523,
     "metadata": {},
     "output_type": "execute_result"
    }
   ],
   "source": [
    "df1 = pd.DataFrame(all_dicts)\n",
    "df1.to_pickle(\"C:/Users/Kunyi Liu/Desktop/H/study/Automatic Summarization of Congressional Bils/summaries.pkl\")\n",
    "df1.head()"
   ]
  },
  {
   "cell_type": "code",
   "execution_count": 478,
   "metadata": {},
   "outputs": [
    {
     "name": "stdout",
     "output_type": "stream",
     "text": [
      "Number of files we received: 8837\n",
      "Number of bills with a valid file: 8759\n",
      "Number of bills with at least one summary: 5395\n",
      "Number of bills with exactly two summary: 670\n",
      "Number of bills with exactly three summary: 160\n",
      "Number of bills with exactly four summary: 54\n"
     ]
    }
   ],
   "source": [
    "print('Number of files we received: {}'.format(len([name for name in os.listdir(path)])))\n",
    "print('Number of bills with a valid file: {}'.format(len(df1)))\n",
    "print('Number of bills with at least one summary: {}'.format(sum(df1.summary0.notnull())))\n",
    "print('Number of bills with exactly two summary: {}'.format(sum(df1.summary1.notnull())))\n",
    "print('Number of bills with exactly three summary: {}'.format(sum(df1.summary2.notnull())))\n",
    "print('Number of bills with exactly four summary: {}'.format(sum(df1.summary3.notnull())))"
   ]
  },
  {
   "cell_type": "code",
   "execution_count": 521,
   "metadata": {},
   "outputs": [
    {
     "name": "stdout",
     "output_type": "stream",
     "text": [
      "Length of summaries in sentences: 5.889277760101813\n",
      "Length of summaries in words: 154.2141266306077\n"
     ]
    }
   ],
   "source": [
    "# ignore NaN in sentence and word fileds\n",
    "temp = df1[[_ for _ in filter(lambda x: 'sentence' in x, list(df1.columns))]]\n",
    "print('Length of summaries in sentences: {}'.format(np.nanmean(temp)))\n",
    "temp = df1[[_ for _ in filter(lambda x: 'word' in x, list(df1.columns))]]\n",
    "print('Length of summaries in words: {}'.format(np.nanmean(temp)))     "
   ]
  },
  {
   "cell_type": "code",
   "execution_count": 479,
   "metadata": {},
   "outputs": [
    {
     "name": "stdout",
     "output_type": "stream",
     "text": [
      "\n",
      "Sample Summary 1\n",
      "\n",
      "Authorizes expenditures by the Senate Committee on Health, Education, Labor, and Pensions for the 115th Congress.\n",
      "\n",
      "Sample Summary 2\n",
      "\n",
      "Highlights:  This concurrent resolution establishes the FY2017 congressional budget resolution, which provides a framework for congressional consideration of revenue, spending, and other budget-related legislation. The budget resolution is a nonbinding framework used by Congress and cannot be signed into law or vetoed by the President.  The resolution establishes budget enforcement procedures by setting forth rules for applying budget points of order to various legislative proposals. It also includes reconciliation instructions directing various congressional committees to submit to the congressional budget committees deficit reduction legislation, which Congress must then consider using expedited legislative procedures.  The resolution includes reserve funds that provide the chairmen of the congressional budget committees with flexibility in applying budget enforcement rules to health care legislation that meets specified criteria.  Full Summary:  Establishes the congressional budget for the federal government for FY2017 and sets forth budgetary levels for FY2018-FY2026.  TITLE I--RECOMMENDED LEVELS AND AMOUNTS  Subtitle A--Budgetary Levels in Both Houses  (Sec. 1101) Recommends levels and amounts for FY2017-FY2026 for:    federal revenues,   new budget authority,   budget outlays,   deficits,   public debt, and   debt held by the public.   (Sec. 1102) Recommends levels of new budget authority and outlays for FY2017-FY2026 for each major functional category, including:    National Defense;   International Affairs;   General Science, Space, and Technology;   Energy;   Natural Resources and Environment;   Agriculture;   Commerce and Housing Credit;   Transportation;   Community and Regional Development;   Education, Training, Employment, and Social Services;   Health;   Medicare;   Income Security;   Social Security;   Veterans Benefits and Services;   Administration of Justice;   General Government;   Net Interest;   Allowances; and   Undistributed Offsetting Receipts.   Subtitle B--Levels and Amounts in the Senate  (Sec. 1201) Recommends Senate levels for FY2017-FY2026 for Social Security revenues, outlays, and administrative expenses.  (Sec. 1202) Recommends Senate levels of new budget authority and outlays for FY2017-FY2026 for U.S. Postal Service discretionary administrative expenses.  TITLE II--RECONCILIATION  (Title II includes reconciliation instructions directing congressional committees to submit deficit reduction legislation to the budget committees. Under the Congressional Budget Act of 1974, reconciliation bills are considered by Congress using expedited legislative procedures that prevent a filibuster and restrict amendments in the Senate.)  (Sec. 2001) Includes reconciliation instructions directing the Senate Finance Committee and the Senate Health, Education, Labor, and Pensions Committee to each submit to the Senate Budget Committee legislation to reduce the deficit by at least $1 billion over the FY2017-FY2026 period. Requires the legislation to be submitted by January 27, 2017.  (Sec. 2002) Includes reconciliation instructions directing the House Energy and Commerce Committee and the House Ways and Means Committee to each submit to the House Budget Committee legislation to reduce the deficit by at least $1 billion over the FY2017-FY2026 period. Requires the legislation to be submitted by January 27, 2017.  TITLE III--RESERVE FUNDS  Establishes reserve funds that provide the chairmen of the congressional budget committees with flexibility in applying budget enforcement rules to health care legislation that meets specified criteria. (Under the reserve funds, the chairmen may revise committee allocations, aggregates and other appropriate levels in this resolution, and the pay-as-you-go [PAYGO] ledger in the Senate.)  (Sec. 3001) Establishes a deficit-neutral reserve fund for health care legislation that would not increase the deficit over the FY2017-FY2016 period.  (Sec. 3002) Establishes a reserve fund for health care legislation. Specifies that the adjustments permitted under this section may not exceed the difference obtained from subtracting $2 billion from the sum of deficit reduction over the period of the total of fiscal years FY2017-FY2026 achieved under legislation for which the chairman has exercised authority under the deficit-neutral reserve fund in section 3001.  Specifies that, in the House and the Senate, legislation for which the chairman of the applicable budget committee has exercised authority pursuant to this section is exempt from: (1) the point of order against legislation increasing the short-term deficit, and (2) the point of order against legislation increasing long-term deficits or direct spending.  (The short-term deficit point of order prohibits the Senate from considering legislation that would cause a net increase in the deficit in excess of $10 billion in any fiscal year provided for in the most recently adopted budget resolution unless it is fully offset over the period of all fiscal years provided for in the most recently adopted budget resolution.  The long-term point of order applies to legislation that would cause a net-increase in on budget-deficits in the Senate or a net increase in direct spending in the House in excess of $5 billion in any of the 4 consecutive 10-year periods beginning with the first fiscal year that is 10 years after the budget year provided for in the most recently adopted budget resolution.)  TITLE IV-OTHER MATTERS  (Sec. 4001) Provides that, for the purposes of enforcing the Congressional Budget Act of 1974, the chairmen of the congressional budget committees may submit for publication in the Congressional Record allocations that are normally included in the joint statement of managers accompanying a conference report.  (Sec. 4002) Provides that the discretionary administrative expenses of the Social Security Administration and the U.S. Postal Service are reflected in the allocation to the appropriations committees to ensure that the committees retain control over the expenses through the annual appropriations process. Requires the administrative expenses to be included in the cost estimates for appropriations legislation for budget enforcement purposes.  (Sec. 4003) Sets forth procedures for adjustments of the allocations and aggregates included in the budget resolution. Specifies that legislation for which the House Budget Committee Chairman has made adjustments or revisions in the allocations, aggregates, and other budgetary levels of this concurrent resolution is exempt from: (1) the Cut-As-You-Go point of order, and (2) the point of order against legislation increasing long-term direct spending.  (The Cut-As-You-Go point of order prohibits the House from considering legislation that would have the net effect of increasing direct spending over specified time periods.  The long-term point of order prohibits the House from considering legislation that would cause a net increase in direct spending in excess of $5 billion in any of the 4 consecutive 10-year periods beginning with the first fiscal year that is 10 years after the budget year provided for in the most recently adopted budget resolution.  This provision effectively allows the House Budget Committee Chairman to exempt from the points of order health care legislation that qualifies for the reserve funds in title III.)  (Sec. 4004) Affirms that this budget resolution is adopted as an exercise of the rulemaking powers of the House and Senate and that either chamber has the constitutional right to change these rules. \n",
      "\n",
      "Sample Summary 3\n",
      "\n",
      "(This measure has not been amended since it was introduced. The expanded summary of the Senate passed version is repeated here.) (Sec. 1) This bill allows the first person, and only such person, appointed as Secretary of Defense after the enactment of this bill to be a person who is, on the date of appointment, not within at least three years after relief from active duty as a commissioned officer of a regular component of the Armed Forces. (Under current law, an individual may not be appointed as Secretary of Defense within seven years after relief from such active duty.)\n"
     ]
    }
   ],
   "source": [
    "print(\"\\nSample Summary 1\\n\")\n",
    "print(df1[df1.summary1.notnull()].iloc[0][\"summary0\"])\n",
    "print(\"\\nSample Summary 2\\n\")\n",
    "print(df1[df1.summary2.notnull()].iloc[0][\"summary1\"])\n",
    "print(\"\\nSample Summary 3\\n\")\n",
    "print(df1[df1.summary3.notnull()].iloc[0][\"summary2\"])"
   ]
  },
  {
   "cell_type": "markdown",
   "metadata": {},
   "source": [
    "## Match Bills with Summaries"
   ]
  },
  {
   "cell_type": "code",
   "execution_count": 524,
   "metadata": {
    "collapsed": true
   },
   "outputs": [],
   "source": [
    "billDir = 'C:/Users/Kunyi Liu/Desktop/H/study/Automatic Summarization of Congressional Bils/bill_text_115' \n",
    "summariesDir = 'C:/Users/Kunyi Liu/Desktop/H/study/Automatic Summarization of Congressional Bils/bill_digests_115/'"
   ]
  },
  {
   "cell_type": "code",
   "execution_count": 529,
   "metadata": {},
   "outputs": [
    {
     "data": {
      "text/plain": [
       "['hr', '2711.xml']"
      ]
     },
     "execution_count": 529,
     "metadata": {},
     "output_type": "execute_result"
    }
   ],
   "source": [
    "('US_Bill_Digest_115_hr_2711.xml').split(\"_\")[-2:]"
   ]
  },
  {
   "cell_type": "code",
   "execution_count": 530,
   "metadata": {
    "collapsed": true
   },
   "outputs": [],
   "source": [
    "def getBillFileName(summaryFileName, extension):\n",
    "    \"\"\"\n",
    "    Return bill file names based on summaryfilenames\n",
    "    \"\"\"\n",
    "#     US_Bill_Text_115_HR1607_IH.xml <- US_Bill_Digest_115_hr_1607.xml\n",
    "#     possibleExt = [\"_RH.xml\",\"_IH.xml\",\"_EH.xml\",\"_RFS.xml\",\"_IS.xml\"]\n",
    "    billFileName = []\n",
    "    if summaryFileName.startswith(\"US_Bill_Digest_115_\"):\n",
    "        tempFile = summaryFileName.split(\"_\")\n",
    "        tempFile = tempFile[-2:]\n",
    "        tempFile[0] = tempFile[0].upper()\n",
    "        for ext in extension:\n",
    "            billFileName.append(\"US_Bill_Text_115_\"+tempFile[0]+tempFile[1][:-4]+\"_\"+ext)\n",
    "    return billFileName"
   ]
  },
  {
   "cell_type": "code",
   "execution_count": 531,
   "metadata": {
    "collapsed": true
   },
   "outputs": [],
   "source": [
    "def getBillsToSummaries(billDir, summariesDir):\n",
    "\n",
    "    billFiles = set()\n",
    "    extension = set()\n",
    "    for root, dirs, filenames in os.walk(billDir):\n",
    "        for filename in filenames:\n",
    "            billFiles.add(filename)\n",
    "            extension.add(filename.split(\"_\")[-1])\n",
    "    assert len(billFiles)==8039\n",
    "    \n",
    "    billsToSummary = {}\n",
    "    summariesNoMatch = set()\n",
    "    for root, dirs, filenames in os.walk(summariesDir):\n",
    "        for filename in filenames:\n",
    "            billFileList = getBillFileName(filename, extension)\n",
    "            flag = 1\n",
    "            for billF in billFileList:\n",
    "                if billF in billFiles:\n",
    "                    billsToSummary[billF] = filename\n",
    "                    flag=0\n",
    "            if flag:\n",
    "                summariesNoMatch.add(filename)\n",
    "#     print_head(billsToSummary)\n",
    "    return billsToSummary, billFiles, summariesNoMatch"
   ]
  },
  {
   "cell_type": "code",
   "execution_count": 532,
   "metadata": {
    "collapsed": true
   },
   "outputs": [],
   "source": [
    "billsToSummary, billFiles, summariesNoMatch = getBillsToSummaries(billDir, summariesDir)"
   ]
  },
  {
   "cell_type": "code",
   "execution_count": 534,
   "metadata": {},
   "outputs": [
    {
     "name": "stdout",
     "output_type": "stream",
     "text": [
      "Total Number of Bills: 8039\n",
      "Bills with summary: 7954\n",
      "Summaries with no bill: 2298\n"
     ]
    }
   ],
   "source": [
    "print(\"Total Number of Bills: {}\".format(len(billFiles)))\n",
    "print(\"Bills with summary: {}\".format(len(billsToSummary)))\n",
    "print(\"Summaries with no bill: {}\".format(len(summariesNoMatch)))"
   ]
  },
  {
   "cell_type": "markdown",
   "metadata": {},
   "source": [
    "## Merge Bills and Summaries"
   ]
  },
  {
   "cell_type": "code",
   "execution_count": 537,
   "metadata": {},
   "outputs": [],
   "source": [
    "summaries_pkl = 'C:/Users/Kunyi Liu/Desktop/H/study/Automatic Summarization of Congressional Bils/summaries.pkl'\n",
    "summaries_df = pd.read_pickle(summaries_pkl)\n",
    "\n",
    "bills_pkl = 'C:/Users/Kunyi Liu/Desktop/H/study/Automatic Summarization of Congressional Bils/bills.pkl'\n",
    "bills_df = pd.read_pickle(bills_pkl)"
   ]
  },
  {
   "cell_type": "code",
   "execution_count": 538,
   "metadata": {},
   "outputs": [],
   "source": [
    "index_bill = [\"fileName-Bill\"\n",
    "index_sum = [\"fileName-Bill\", [\"Bill-Body\", \"fileName-Summary\",\"summary0\", \"summary1\",\"summary2\",\"summary3\", \"summary4\"]\n",
    "data = []\n",
    "\n",
    "for bill_file in billsToSummary:\n",
    "    summary_file = billsToSummary[bill_file]\n",
    "    bill_body = bills_df.loc[bills_df['file-name'] == bill_file]['body.section'].values[0]\n",
    "    summary_body0 = summaries_df.loc[summaries_df['fileName'] == summary_file]['summary0'].values[0]\n",
    "    summary_body1 = summaries_df.loc[summaries_df['fileName'] == summary_file]['summary1'].values[0]\n",
    "    summary_body2 = summaries_df.loc[summaries_df['fileName'] == summary_file]['summary2'].values[0]\n",
    "    summary_body3 = summaries_df.loc[summaries_df['fileName'] == summary_file]['summary3'].values[0]\n",
    "    summary_body4 = summaries_df.loc[summaries_df['fileName'] == summary_file]['summary4'].values[0]\n",
    "    data.append((bill_file,bill_body, summary_file,summary_body0,summary_body1,summary_body2,summary_body3,summary_body4))"
   ]
  },
  {
   "cell_type": "code",
   "execution_count": 563,
   "metadata": {},
   "outputs": [
    {
     "data": {
      "text/plain": [
       "(7954, 8)"
      ]
     },
     "execution_count": 563,
     "metadata": {},
     "output_type": "execute_result"
    }
   ],
   "source": [
    "df3 = pd.DataFrame(data, columns=index)\n",
    "df3.head()\n",
    "df3.shape"
   ]
  },
  {
   "cell_type": "markdown",
   "metadata": {},
   "source": [
    "### another way to merge bills and summaries"
   ]
  },
  {
   "cell_type": "code",
   "execution_count": 572,
   "metadata": {},
   "outputs": [],
   "source": [
    "bills_sel = bills_df[['file-name', 'bill-type', 'legis-type', 'body.section', 'section', 'sentence', 'word']]\n",
    "summaries_sel = summaries_df[['fileName', 'sentence0', 'sentence1','sentence2', 'sentence3', 'sentence4', \n",
    "                              'summary0', 'summary1','summary2', 'summary3', 'summary4',\n",
    "                              'word0', 'word1', 'word2', 'word3', 'word4']]\n",
    "#bills_sel['fileName-Summary'] = [billsToSummary[i] for i in bills_sel['file-name']]\n",
    "temp_files = []\n",
    "for file in bills_sel['file-name']:\n",
    "    try:\n",
    "        temp_files.append(billsToSummary[file])\n",
    "    except:\n",
    "        temp_files.append(None)\n",
    "bills_sel = bills_sel.copy()\n",
    "bills_sel[\"fileName-Summary\"] = pd.Series(temp_files, index = bills_sel.index)\n",
    "df_3 = bills_sel.merge(summaries_sel, how = 'left', left_on = ['fileName-Summary'], right_on = ['fileName'], indicator = True)\n",
    "df_3 = (df_3[df_3._merge == 'both']).drop(['_merge'], axis = 1)"
   ]
  },
  {
   "cell_type": "code",
   "execution_count": 574,
   "metadata": {},
   "outputs": [
    {
     "data": {
      "text/html": [
       "<div>\n",
       "<style>\n",
       "    .dataframe thead tr:only-child th {\n",
       "        text-align: right;\n",
       "    }\n",
       "\n",
       "    .dataframe thead th {\n",
       "        text-align: left;\n",
       "    }\n",
       "\n",
       "    .dataframe tbody tr th {\n",
       "        vertical-align: top;\n",
       "    }\n",
       "</style>\n",
       "<table border=\"1\" class=\"dataframe\">\n",
       "  <thead>\n",
       "    <tr style=\"text-align: right;\">\n",
       "      <th></th>\n",
       "      <th>file-name</th>\n",
       "      <th>bill-type</th>\n",
       "      <th>legis-type</th>\n",
       "      <th>body.section</th>\n",
       "      <th>section</th>\n",
       "      <th>sentence</th>\n",
       "      <th>word</th>\n",
       "      <th>fileName-Summary</th>\n",
       "      <th>fileName</th>\n",
       "      <th>sentence0</th>\n",
       "      <th>...</th>\n",
       "      <th>summary0</th>\n",
       "      <th>summary1</th>\n",
       "      <th>summary2</th>\n",
       "      <th>summary3</th>\n",
       "      <th>summary4</th>\n",
       "      <th>word0</th>\n",
       "      <th>word1</th>\n",
       "      <th>word2</th>\n",
       "      <th>word3</th>\n",
       "      <th>word4</th>\n",
       "    </tr>\n",
       "  </thead>\n",
       "  <tbody>\n",
       "    <tr>\n",
       "      <th>1</th>\n",
       "      <td>US_Bill_Text_115_HCONRES10_IH.xml</td>\n",
       "      <td>resolution</td>\n",
       "      <td>CONCURRENT RESOLUTION</td>\n",
       "      <td>That it is the sense of Congress that— (1) the...</td>\n",
       "      <td>5</td>\n",
       "      <td>1</td>\n",
       "      <td>122</td>\n",
       "      <td>US_Bill_Digest_115_hconres_10.xml</td>\n",
       "      <td>US_Bill_Digest_115_hconres_10.xml</td>\n",
       "      <td>1.0</td>\n",
       "      <td>...</td>\n",
       "      <td>Expresses the sense of Congress that the tax ...</td>\n",
       "      <td>NaN</td>\n",
       "      <td>NaN</td>\n",
       "      <td>NaN</td>\n",
       "      <td>NaN</td>\n",
       "      <td>32.0</td>\n",
       "      <td>NaN</td>\n",
       "      <td>NaN</td>\n",
       "      <td>NaN</td>\n",
       "      <td>NaN</td>\n",
       "    </tr>\n",
       "    <tr>\n",
       "      <th>2</th>\n",
       "      <td>US_Bill_Text_115_HCONRES11_IH.xml</td>\n",
       "      <td>resolution</td>\n",
       "      <td>CONCURRENT RESOLUTION</td>\n",
       "      <td>That it is the sense of Congress that— (1) the...</td>\n",
       "      <td>3</td>\n",
       "      <td>1</td>\n",
       "      <td>38</td>\n",
       "      <td>US_Bill_Digest_115_hconres_11.xml</td>\n",
       "      <td>US_Bill_Digest_115_hconres_11.xml</td>\n",
       "      <td>5.0</td>\n",
       "      <td>...</td>\n",
       "      <td>Expresses the sense of Congress that: (1) the ...</td>\n",
       "      <td>NaN</td>\n",
       "      <td>NaN</td>\n",
       "      <td>NaN</td>\n",
       "      <td>NaN</td>\n",
       "      <td>31.0</td>\n",
       "      <td>NaN</td>\n",
       "      <td>NaN</td>\n",
       "      <td>NaN</td>\n",
       "      <td>NaN</td>\n",
       "    </tr>\n",
       "    <tr>\n",
       "      <th>3</th>\n",
       "      <td>US_Bill_Text_115_HCONRES12_IH.xml</td>\n",
       "      <td>resolution</td>\n",
       "      <td>CONCURRENT RESOLUTION</td>\n",
       "      <td>That Congress— (1) supports the designation of...</td>\n",
       "      <td>4</td>\n",
       "      <td>1</td>\n",
       "      <td>80</td>\n",
       "      <td>US_Bill_Digest_115_hconres_12.xml</td>\n",
       "      <td>US_Bill_Digest_115_hconres_12.xml</td>\n",
       "      <td>2.0</td>\n",
       "      <td>...</td>\n",
       "      <td>Expresses support for the designation of Patri...</td>\n",
       "      <td>NaN</td>\n",
       "      <td>NaN</td>\n",
       "      <td>NaN</td>\n",
       "      <td>NaN</td>\n",
       "      <td>34.0</td>\n",
       "      <td>NaN</td>\n",
       "      <td>NaN</td>\n",
       "      <td>NaN</td>\n",
       "      <td>NaN</td>\n",
       "    </tr>\n",
       "    <tr>\n",
       "      <th>4</th>\n",
       "      <td>US_Bill_Text_115_HCONRES13_IH.xml</td>\n",
       "      <td>resolution</td>\n",
       "      <td>CONCURRENT RESOLUTION</td>\n",
       "      <td>That Congress should not impose any new perfor...</td>\n",
       "      <td>1</td>\n",
       "      <td>1</td>\n",
       "      <td>43</td>\n",
       "      <td>US_Bill_Digest_115_hconres_13.xml</td>\n",
       "      <td>US_Bill_Digest_115_hconres_13.xml</td>\n",
       "      <td>1.0</td>\n",
       "      <td>...</td>\n",
       "      <td>Declares that Congress should not impose any n...</td>\n",
       "      <td>NaN</td>\n",
       "      <td>NaN</td>\n",
       "      <td>NaN</td>\n",
       "      <td>NaN</td>\n",
       "      <td>46.0</td>\n",
       "      <td>NaN</td>\n",
       "      <td>NaN</td>\n",
       "      <td>NaN</td>\n",
       "      <td>NaN</td>\n",
       "    </tr>\n",
       "    <tr>\n",
       "      <th>5</th>\n",
       "      <td>US_Bill_Text_115_HCONRES14_IH.xml</td>\n",
       "      <td>resolution</td>\n",
       "      <td>CONCURRENT RESOLUTION</td>\n",
       "      <td>1. Short title This resolution may be cited as...</td>\n",
       "      <td>20</td>\n",
       "      <td>39</td>\n",
       "      <td>1499</td>\n",
       "      <td>US_Bill_Digest_115_hconres_14.xml</td>\n",
       "      <td>US_Bill_Digest_115_hconres_14.xml</td>\n",
       "      <td>2.0</td>\n",
       "      <td>...</td>\n",
       "      <td>Reclaiming Congress's Constitutional Mandate i...</td>\n",
       "      <td>NaN</td>\n",
       "      <td>NaN</td>\n",
       "      <td>NaN</td>\n",
       "      <td>NaN</td>\n",
       "      <td>109.0</td>\n",
       "      <td>NaN</td>\n",
       "      <td>NaN</td>\n",
       "      <td>NaN</td>\n",
       "      <td>NaN</td>\n",
       "    </tr>\n",
       "  </tbody>\n",
       "</table>\n",
       "<p>5 rows × 24 columns</p>\n",
       "</div>"
      ],
      "text/plain": [
       "                           file-name   bill-type             legis-type  \\\n",
       "1  US_Bill_Text_115_HCONRES10_IH.xml  resolution  CONCURRENT RESOLUTION   \n",
       "2  US_Bill_Text_115_HCONRES11_IH.xml  resolution  CONCURRENT RESOLUTION   \n",
       "3  US_Bill_Text_115_HCONRES12_IH.xml  resolution  CONCURRENT RESOLUTION   \n",
       "4  US_Bill_Text_115_HCONRES13_IH.xml  resolution  CONCURRENT RESOLUTION   \n",
       "5  US_Bill_Text_115_HCONRES14_IH.xml  resolution  CONCURRENT RESOLUTION   \n",
       "\n",
       "                                        body.section  section  sentence  word  \\\n",
       "1  That it is the sense of Congress that— (1) the...        5         1   122   \n",
       "2  That it is the sense of Congress that— (1) the...        3         1    38   \n",
       "3  That Congress— (1) supports the designation of...        4         1    80   \n",
       "4  That Congress should not impose any new perfor...        1         1    43   \n",
       "5  1. Short title This resolution may be cited as...       20        39  1499   \n",
       "\n",
       "                    fileName-Summary                           fileName  \\\n",
       "1  US_Bill_Digest_115_hconres_10.xml  US_Bill_Digest_115_hconres_10.xml   \n",
       "2  US_Bill_Digest_115_hconres_11.xml  US_Bill_Digest_115_hconres_11.xml   \n",
       "3  US_Bill_Digest_115_hconres_12.xml  US_Bill_Digest_115_hconres_12.xml   \n",
       "4  US_Bill_Digest_115_hconres_13.xml  US_Bill_Digest_115_hconres_13.xml   \n",
       "5  US_Bill_Digest_115_hconres_14.xml  US_Bill_Digest_115_hconres_14.xml   \n",
       "\n",
       "   sentence0  ...                                             summary0  \\\n",
       "1        1.0  ...     Expresses the sense of Congress that the tax ...   \n",
       "2        5.0  ...    Expresses the sense of Congress that: (1) the ...   \n",
       "3        2.0  ...    Expresses support for the designation of Patri...   \n",
       "4        1.0  ...    Declares that Congress should not impose any n...   \n",
       "5        2.0  ...    Reclaiming Congress's Constitutional Mandate i...   \n",
       "\n",
       "   summary1  summary2  summary3 summary4  word0 word1 word2 word3  word4  \n",
       "1       NaN       NaN       NaN      NaN   32.0   NaN   NaN   NaN    NaN  \n",
       "2       NaN       NaN       NaN      NaN   31.0   NaN   NaN   NaN    NaN  \n",
       "3       NaN       NaN       NaN      NaN   34.0   NaN   NaN   NaN    NaN  \n",
       "4       NaN       NaN       NaN      NaN   46.0   NaN   NaN   NaN    NaN  \n",
       "5       NaN       NaN       NaN      NaN  109.0   NaN   NaN   NaN    NaN  \n",
       "\n",
       "[5 rows x 24 columns]"
      ]
     },
     "execution_count": 574,
     "metadata": {},
     "output_type": "execute_result"
    }
   ],
   "source": [
    "df_3.head()"
   ]
  },
  {
   "cell_type": "code",
   "execution_count": 564,
   "metadata": {},
   "outputs": [
    {
     "name": "stdout",
     "output_type": "stream",
     "text": [
      "Number of bills with at least one summary: 5613\n",
      "Number of bills with exactly two summary: 1536\n",
      "Number of bills with exactly three summary: 617\n",
      "Number of bills with exactly four summary: 215\n"
     ]
    }
   ],
   "source": [
    "print('Number of bills with at least one summary: {}'.format(sum(df_3.summary0.notnull())))\n",
    "# More than one bill might match to same summary, need to resolve this\n",
    "print('Number of bills with exactly two summary: {}'.format(sum(df_3.summary1.notnull())))\n",
    "print('Number of bills with exactly three summary: {}'.format(sum(df_3.summary2.notnull())))\n",
    "print('Number of bills with exactly four summary: {}'.format(sum(df_3.summary3.notnull())))"
   ]
  },
  {
   "cell_type": "code",
   "execution_count": 591,
   "metadata": {},
   "outputs": [],
   "source": [
    "## average of length of summaries to that of bills\n",
    "temp = df_3[[_ for _ in filter(lambda x: re.compile(r'sentence\\d').match(x) , list(df_3.columns))]]\n",
    "with warnings.catch_warnings():\n",
    "    warnings.simplefilter(\"ignore\", category=RuntimeWarning)\n",
    "    temp = np.nanmean(np.asarray(temp), axis = 1)\n",
    "    df_3['Summary_Sentence_Avg'] = temp\n",
    "temp = df_3[[_ for _ in filter(lambda x: re.compile(r'word\\d').match(x) , list(df_3.columns))]]\n",
    "with warnings.catch_warnings():\n",
    "    warnings.simplefilter(\"ignore\", category=RuntimeWarning)\n",
    "    temp = np.nanmean(np.asarray(temp), axis = 1)\n",
    "    df_3['Summary_Word_Avg'] = temp\n",
    "    \n",
    "## proportion of length of summaries to that of bills\n",
    "df_3['Proportion_Sentence'] = df_3['Summary_Sentence_Avg']/df_3['sentence']\n",
    "df_3['Proportion_Word'] = df_3['Summary_Word_Avg']/df_3['word']\n",
    "df_3['Proportion_Section'] = df_3['Summary_Sentence_Avg']/df_3['section']"
   ]
  },
  {
   "cell_type": "code",
   "execution_count": 600,
   "metadata": {},
   "outputs": [
    {
     "data": {
      "text/plain": [
       "1    0.200000\n",
       "2    1.666667\n",
       "3    0.500000\n",
       "4    1.000000\n",
       "5    0.100000\n",
       "Name: Proportion_Section, dtype: float64"
      ]
     },
     "execution_count": 600,
     "metadata": {},
     "output_type": "execute_result"
    }
   ],
   "source": [
    "df_3.to_pickle(\"C:/Users/Kunyi Liu/Desktop/H/study/Automatic Summarization of Congressional Bils/bills-and-summaries.pkl\")\n",
    "df_3['Proportion_Section'].head()"
   ]
  },
  {
   "cell_type": "code",
   "execution_count": 662,
   "metadata": {},
   "outputs": [
    {
     "data": {
      "image/png": "[encoded data removed]",
      "text/plain": [
       "<matplotlib.figure.Figure at 0x13c83377dd8>"
      ]
     },
     "metadata": {},
     "output_type": "display_data"
    }
   ],
   "source": [
    "temp = df_3[df_3['Proportion_Section'] < 100]['Proportion_Section']\n",
    "temp = temp[temp <  np.percentile(temp, 90) ]\n",
    "plt.plot(np.arange(temp.shape[0]), temp.values, 'bo')\n",
    "plt.title('Proportion_Section')\n",
    "plt.show()"
   ]
  },
  {
   "cell_type": "code",
   "execution_count": 664,
   "metadata": {},
   "outputs": [
    {
     "data": {
      "image/png": "[encoded data removed]",
      "text/plain": [
       "<matplotlib.figure.Figure at 0x13cad3a64a8>"
      ]
     },
     "metadata": {},
     "output_type": "display_data"
    }
   ],
   "source": [
    "temp = df_3[df_3['Proportion_Word'] < 100]['Proportion_Word']\n",
    "temp = temp[temp <  np.percentile(temp, 90) ]\n",
    "plt.plot(np.arange(temp.shape[0]), temp.values, 'bo')\n",
    "plt.title('Proportion_Word')\n",
    "plt.show()"
   ]
  },
  {
   "cell_type": "code",
   "execution_count": 666,
   "metadata": {},
   "outputs": [
    {
     "data": {
      "image/png": "[encoded data removed]",
      "text/plain": [
       "<matplotlib.figure.Figure at 0x13cd6cff828>"
      ]
     },
     "metadata": {},
     "output_type": "display_data"
    }
   ],
   "source": [
    "temp = df_3[df_3['Proportion_Sentence'] < 100]['Proportion_Sentence']\n",
    "temp = temp[temp <  np.percentile(temp, 90) ]\n",
    "plt.plot(np.arange(temp.shape[0]), temp.values, 'bo')\n",
    "plt.plot(np.arange(df_3.shape[0]), df_3['Proportion_Sentence'], 'bo')\n",
    "plt.title('Proportion_Sentence')\n",
    "plt.show()"
   ]
  }
 ],
 "metadata": {
  "kernelspec": {
   "display_name": "Python 3",
   "language": "python",
   "name": "python3"
  },
  "language_info": {
   "codemirror_mode": {
    "name": "ipython",
    "version": 3
   },
   "file_extension": ".py",
   "mimetype": "text/x-python",
   "name": "python",
   "nbconvert_exporter": "python",
   "pygments_lexer": "ipython3",
   "version": "3.6.1"
  }
 },
 "nbformat": 4,
 "nbformat_minor": 2
}
