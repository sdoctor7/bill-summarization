{
 "cells": [
  {
   "cell_type": "markdown",
   "metadata": {},
   "source": [
    "#### Import Libraries"
   ]
  },
  {
   "cell_type": "code",
   "execution_count": 36,
   "metadata": {
    "collapsed": true
   },
   "outputs": [],
   "source": [
    "import pandas as pd\n",
    "from sklearn.model_selection import train_test_split"
   ]
  },
  {
   "cell_type": "markdown",
   "metadata": {},
   "source": [
    "#### Import Data"
   ]
  },
  {
   "cell_type": "markdown",
   "metadata": {},
   "source": [
    "m3 consists of unique bill-summary pairs in which there is at least one summary provided."
   ]
  },
  {
   "cell_type": "code",
   "execution_count": 30,
   "metadata": {
    "collapsed": true
   },
   "outputs": [],
   "source": [
    "m3 = pd.read_pickle('data/matched3.pkl')"
   ]
  },
  {
   "cell_type": "code",
   "execution_count": 29,
   "metadata": {
    "collapsed": false
   },
   "outputs": [
    {
     "data": {
      "text/plain": [
       "5383"
      ]
     },
     "execution_count": 29,
     "metadata": {},
     "output_type": "execute_result"
    }
   ],
   "source": [
    "len(m3)"
   ]
  },
  {
   "cell_type": "code",
   "execution_count": 31,
   "metadata": {
    "collapsed": false
   },
   "outputs": [
    {
     "data": {
      "text/html": [
       "<div>\n",
       "<table border=\"1\" class=\"dataframe\">\n",
       "  <thead>\n",
       "    <tr style=\"text-align: right;\">\n",
       "      <th></th>\n",
       "      <th>bill-type</th>\n",
       "      <th>billInfo</th>\n",
       "      <th>body.section</th>\n",
       "      <th>file-name</th>\n",
       "      <th>fileName</th>\n",
       "      <th>legis-type</th>\n",
       "      <th>section</th>\n",
       "      <th>sentence</th>\n",
       "      <th>sentence0</th>\n",
       "      <th>sentence1</th>\n",
       "      <th>...</th>\n",
       "      <th>summary1</th>\n",
       "      <th>summary2</th>\n",
       "      <th>summary3</th>\n",
       "      <th>summary4</th>\n",
       "      <th>word</th>\n",
       "      <th>word0</th>\n",
       "      <th>word1</th>\n",
       "      <th>word2</th>\n",
       "      <th>word3</th>\n",
       "      <th>word4</th>\n",
       "    </tr>\n",
       "  </thead>\n",
       "  <tbody>\n",
       "    <tr>\n",
       "      <th>0</th>\n",
       "      <td>bill</td>\n",
       "      <td>S 367</td>\n",
       "      <td>1. Short title Probation Officer Protection Ac...</td>\n",
       "      <td>US_Bill_Text_115_S367_IS.xml</td>\n",
       "      <td>104657.140052642395904.4912.xml</td>\n",
       "      <td>A BILL</td>\n",
       "      <td>6</td>\n",
       "      <td>9</td>\n",
       "      <td>1.0</td>\n",
       "      <td>NaN</td>\n",
       "      <td>...</td>\n",
       "      <td>NaN</td>\n",
       "      <td>NaN</td>\n",
       "      <td>NaN</td>\n",
       "      <td>NaN</td>\n",
       "      <td>194</td>\n",
       "      <td>55.0</td>\n",
       "      <td>NaN</td>\n",
       "      <td>NaN</td>\n",
       "      <td>NaN</td>\n",
       "      <td>NaN</td>\n",
       "    </tr>\n",
       "    <tr>\n",
       "      <th>1</th>\n",
       "      <td>bill</td>\n",
       "      <td>S 363</td>\n",
       "      <td>1. Short title North Country National Scenic T...</td>\n",
       "      <td>US_Bill_Text_115_S363_IS.xml</td>\n",
       "      <td>104657.140052642395904.5351.xml</td>\n",
       "      <td>A BILL</td>\n",
       "      <td>3</td>\n",
       "      <td>7</td>\n",
       "      <td>1.0</td>\n",
       "      <td>NaN</td>\n",
       "      <td>...</td>\n",
       "      <td>NaN</td>\n",
       "      <td>NaN</td>\n",
       "      <td>NaN</td>\n",
       "      <td>NaN</td>\n",
       "      <td>96</td>\n",
       "      <td>45.0</td>\n",
       "      <td>NaN</td>\n",
       "      <td>NaN</td>\n",
       "      <td>NaN</td>\n",
       "      <td>NaN</td>\n",
       "    </tr>\n",
       "    <tr>\n",
       "      <th>2</th>\n",
       "      <td>resolution</td>\n",
       "      <td>HRES 83</td>\n",
       "      <td>1. Amounts for Committee Expenses For the expe...</td>\n",
       "      <td>US_Bill_Text_115_HRES83_IH.xml</td>\n",
       "      <td>104657.140052642395904.5736.xml</td>\n",
       "      <td>RESOLUTION</td>\n",
       "      <td>3</td>\n",
       "      <td>8</td>\n",
       "      <td>1.0</td>\n",
       "      <td>NaN</td>\n",
       "      <td>...</td>\n",
       "      <td>NaN</td>\n",
       "      <td>NaN</td>\n",
       "      <td>NaN</td>\n",
       "      <td>NaN</td>\n",
       "      <td>185</td>\n",
       "      <td>14.0</td>\n",
       "      <td>NaN</td>\n",
       "      <td>NaN</td>\n",
       "      <td>NaN</td>\n",
       "      <td>NaN</td>\n",
       "    </tr>\n",
       "    <tr>\n",
       "      <th>3</th>\n",
       "      <td>resolution</td>\n",
       "      <td>SRES 59</td>\n",
       "      <td>That the Senate— (1) supports the designation ...</td>\n",
       "      <td>US_Bill_Text_115_SRES59_IS.xml</td>\n",
       "      <td>104657.140052642395904.9638.xml</td>\n",
       "      <td>RESOLUTION</td>\n",
       "      <td>3</td>\n",
       "      <td>1</td>\n",
       "      <td>2.0</td>\n",
       "      <td>NaN</td>\n",
       "      <td>...</td>\n",
       "      <td>NaN</td>\n",
       "      <td>NaN</td>\n",
       "      <td>NaN</td>\n",
       "      <td>NaN</td>\n",
       "      <td>34</td>\n",
       "      <td>28.0</td>\n",
       "      <td>NaN</td>\n",
       "      <td>NaN</td>\n",
       "      <td>NaN</td>\n",
       "      <td>NaN</td>\n",
       "    </tr>\n",
       "    <tr>\n",
       "      <th>4</th>\n",
       "      <td>bill</td>\n",
       "      <td>S 387</td>\n",
       "      <td>1. Short title Consumer Financial Protection B...</td>\n",
       "      <td>US_Bill_Text_115_S387_IS.xml</td>\n",
       "      <td>104657.140052642395904.9654.xml</td>\n",
       "      <td>A BILL</td>\n",
       "      <td>10</td>\n",
       "      <td>6</td>\n",
       "      <td>2.0</td>\n",
       "      <td>NaN</td>\n",
       "      <td>...</td>\n",
       "      <td>NaN</td>\n",
       "      <td>NaN</td>\n",
       "      <td>NaN</td>\n",
       "      <td>NaN</td>\n",
       "      <td>214</td>\n",
       "      <td>61.0</td>\n",
       "      <td>NaN</td>\n",
       "      <td>NaN</td>\n",
       "      <td>NaN</td>\n",
       "      <td>NaN</td>\n",
       "    </tr>\n",
       "  </tbody>\n",
       "</table>\n",
       "<p>5 rows × 24 columns</p>\n",
       "</div>"
      ],
      "text/plain": [
       "    bill-type billInfo                                       body.section  \\\n",
       "0        bill    S 367  1. Short title Probation Officer Protection Ac...   \n",
       "1        bill    S 363  1. Short title North Country National Scenic T...   \n",
       "2  resolution  HRES 83  1. Amounts for Committee Expenses For the expe...   \n",
       "3  resolution  SRES 59  That the Senate— (1) supports the designation ...   \n",
       "4        bill    S 387  1. Short title Consumer Financial Protection B...   \n",
       "\n",
       "                        file-name                         fileName  \\\n",
       "0    US_Bill_Text_115_S367_IS.xml  104657.140052642395904.4912.xml   \n",
       "1    US_Bill_Text_115_S363_IS.xml  104657.140052642395904.5351.xml   \n",
       "2  US_Bill_Text_115_HRES83_IH.xml  104657.140052642395904.5736.xml   \n",
       "3  US_Bill_Text_115_SRES59_IS.xml  104657.140052642395904.9638.xml   \n",
       "4    US_Bill_Text_115_S387_IS.xml  104657.140052642395904.9654.xml   \n",
       "\n",
       "   legis-type  section  sentence  sentence0  sentence1  ...    summary1  \\\n",
       "0      A BILL        6         9        1.0        NaN  ...         NaN   \n",
       "1      A BILL        3         7        1.0        NaN  ...         NaN   \n",
       "2  RESOLUTION        3         8        1.0        NaN  ...         NaN   \n",
       "3  RESOLUTION        3         1        2.0        NaN  ...         NaN   \n",
       "4      A BILL       10         6        2.0        NaN  ...         NaN   \n",
       "\n",
       "   summary2  summary3 summary4 word word0 word1 word2  word3  word4  \n",
       "0       NaN       NaN      NaN  194  55.0   NaN   NaN    NaN    NaN  \n",
       "1       NaN       NaN      NaN   96  45.0   NaN   NaN    NaN    NaN  \n",
       "2       NaN       NaN      NaN  185  14.0   NaN   NaN    NaN    NaN  \n",
       "3       NaN       NaN      NaN   34  28.0   NaN   NaN    NaN    NaN  \n",
       "4       NaN       NaN      NaN  214  61.0   NaN   NaN    NaN    NaN  \n",
       "\n",
       "[5 rows x 24 columns]"
      ]
     },
     "execution_count": 31,
     "metadata": {},
     "output_type": "execute_result"
    }
   ],
   "source": [
    "m3.head()"
   ]
  },
  {
   "cell_type": "markdown",
   "metadata": {},
   "source": [
    "#### Filter Data"
   ]
  },
  {
   "cell_type": "markdown",
   "metadata": {},
   "source": [
    "We want to filter based on bill type - only including bills (not acts or resolutions)."
   ]
  },
  {
   "cell_type": "code",
   "execution_count": 32,
   "metadata": {
    "collapsed": false
   },
   "outputs": [
    {
     "data": {
      "text/plain": [
       "A BILL                   3814\n",
       "RESOLUTION                776\n",
       "AN ACT                    436\n",
       "JOINT RESOLUTION          235\n",
       "CONCURRENT RESOLUTION     118\n",
       "Name: legis-type, dtype: int64"
      ]
     },
     "execution_count": 32,
     "metadata": {},
     "output_type": "execute_result"
    }
   ],
   "source": [
    "m3['legis-type'].value_counts()"
   ]
  },
  {
   "cell_type": "code",
   "execution_count": 33,
   "metadata": {
    "collapsed": true
   },
   "outputs": [],
   "source": [
    "filtered = m3[m3['legis-type'] == 'A BILL']"
   ]
  },
  {
   "cell_type": "code",
   "execution_count": 35,
   "metadata": {
    "collapsed": true
   },
   "outputs": [],
   "source": [
    "filtered.to_pickle('filtered_all.pkl')"
   ]
  },
  {
   "cell_type": "markdown",
   "metadata": {},
   "source": [
    "#### Split into Train-Dev-Test"
   ]
  },
  {
   "cell_type": "markdown",
   "metadata": {},
   "source": [
    "We are doing an 80-10-10 split. However, we want to ensure that the bills with at least two summaries are in the test data so we'll do a bit of a workaround to get there.\n",
    "\n",
    "There are 3814 total bills in the filtered data. Therefore, we want 381 in the dev set and 381 in the test set."
   ]
  },
  {
   "cell_type": "code",
   "execution_count": 37,
   "metadata": {
    "collapsed": false
   },
   "outputs": [
    {
     "data": {
      "text/plain": [
       "85"
      ]
     },
     "execution_count": 37,
     "metadata": {},
     "output_type": "execute_result"
    }
   ],
   "source": [
    "len(filtered[~filtered.summary1.isnull()])"
   ]
  },
  {
   "cell_type": "markdown",
   "metadata": {},
   "source": [
    "There are 85 bills with two or more summaries so those will all go in the test set."
   ]
  },
  {
   "cell_type": "code",
   "execution_count": 38,
   "metadata": {
    "collapsed": true
   },
   "outputs": [],
   "source": [
    "test_data1 = filtered[~filtered.summary1.isnull()]\n",
    "others_temp = filtered[filtered.summary1.isnull()]"
   ]
  },
  {
   "cell_type": "markdown",
   "metadata": {},
   "source": [
    "Now let's get 296 more for the test set and then 381 for the dev set."
   ]
  },
  {
   "cell_type": "code",
   "execution_count": 43,
   "metadata": {
    "collapsed": true
   },
   "outputs": [],
   "source": [
    "train_dev_temp, test_data2 = train_test_split(others_temp, test_size=296, random_state=42)\n",
    "train_data, dev_data = train_test_split(train_dev_temp, test_size=381, random_state=42)"
   ]
  },
  {
   "cell_type": "code",
   "execution_count": 44,
   "metadata": {
    "collapsed": true
   },
   "outputs": [],
   "source": [
    "test_data = pd.concat([test_data1, test_data2])"
   ]
  },
  {
   "cell_type": "code",
   "execution_count": 45,
   "metadata": {
    "collapsed": false
   },
   "outputs": [
    {
     "name": "stdout",
     "output_type": "stream",
     "text": [
      "3052 381 381\n"
     ]
    }
   ],
   "source": [
    "print(len(train_data), len(dev_data), len(test_data))"
   ]
  },
  {
   "cell_type": "markdown",
   "metadata": {},
   "source": [
    "Pickle!"
   ]
  },
  {
   "cell_type": "code",
   "execution_count": 47,
   "metadata": {
    "collapsed": true
   },
   "outputs": [],
   "source": [
    "train_data.to_pickle('data/train.pkl')\n",
    "dev_data.to_pickle('data/dev.pkl')\n",
    "test_data.to_pickle('data/test.pkl')"
   ]
  }
 ],
 "metadata": {
  "anaconda-cloud": {},
  "kernelspec": {
   "display_name": "Python [conda env:py3k]",
   "language": "python",
   "name": "conda-env-py3k-py"
  },
  "language_info": {
   "codemirror_mode": {
    "name": "ipython",
    "version": 3
   },
   "file_extension": ".py",
   "mimetype": "text/x-python",
   "name": "python",
   "nbconvert_exporter": "python",
   "pygments_lexer": "ipython3",
   "version": "3.5.2"
  }
 },
 "nbformat": 4,
 "nbformat_minor": 1
}
