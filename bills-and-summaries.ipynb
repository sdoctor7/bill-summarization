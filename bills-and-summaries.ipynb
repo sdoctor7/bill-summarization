{
 "cells": [
  {
   "cell_type": "code",
   "execution_count": 29,
   "metadata": {
    "collapsed": false
   },
   "outputs": [],
   "source": [
    "'''\n",
    "Creates a pandas dataframe, that holds Bills and corressponding summaries\n",
    "'''\n",
    "import xmltodict\n",
    "import pandas as pd\n",
    "import os\n",
    "import re\n",
    "\n",
    "from getBillsToSummaries import getBillsToSummaries\n",
    "summaries_pkl = 'data/summaries.pkl'\n",
    "summaries_df = pd.read_pickle(summaries_pkl)\n",
    "\n",
    "bills_pkl = 'data/bills.pkl'\n",
    "bills_df = pd.read_pickle(bills_pkl)\n",
    "\n",
    "billsToSummary, _, _ = getBillsToSummaries()"
   ]
  },
  {
   "cell_type": "code",
   "execution_count": 28,
   "metadata": {
    "collapsed": false
   },
   "outputs": [],
   "source": [
    "index = [\"fileName-Bill\", \"Bill-Body\", \"fileName-Summary\",\"summary0\", \"summary1\",\"summary2\",\"summary3\", \"summary4\"]\n",
    "data = []\n",
    "\n",
    "for bill_file in billsToSummary:\n",
    "    summary_file = billsToSummary[bill_file]\n",
    "    bill_body = bills_df.loc[bills_df['file-name']==bill_file]['body.section'].values[0]\n",
    "    summary_body0 = summaries_df.loc[summaries_df['fileName']==summary_file]['summary0'].values[0]\n",
    "    summary_body1 = summaries_df.loc[summaries_df['fileName']==summary_file]['summary1'].values[0]\n",
    "    summary_body2 = summaries_df.loc[summaries_df['fileName']==summary_file]['summary2'].values[0]\n",
    "    summary_body3 = summaries_df.loc[summaries_df['fileName']==summary_file]['summary3'].values[0]\n",
    "    summary_body4 = summaries_df.loc[summaries_df['fileName']==summary_file]['summary4'].values[0]\n",
    "    data.append((bill_file,bill_body, summary_file,summary_body0,summary_body1,summary_body2,summary_body3,summary_body4))\n",
    "    \n",
    "    \n",
    "\n",
    "\n"
   ]
  },
  {
   "cell_type": "code",
   "execution_count": 30,
   "metadata": {
    "collapsed": false
   },
   "outputs": [],
   "source": [
    "df = pd.DataFrame(data, columns=index)"
   ]
  },
  {
   "cell_type": "code",
   "execution_count": 31,
   "metadata": {
    "collapsed": false
   },
   "outputs": [
    {
     "data": {
      "text/html": [
       "<div>\n",
       "<table border=\"1\" class=\"dataframe\">\n",
       "  <thead>\n",
       "    <tr style=\"text-align: right;\">\n",
       "      <th></th>\n",
       "      <th>fileName-Bill</th>\n",
       "      <th>Bill-Body</th>\n",
       "      <th>fileName-Summary</th>\n",
       "      <th>summary0</th>\n",
       "      <th>summary1</th>\n",
       "      <th>summary2</th>\n",
       "      <th>summary3</th>\n",
       "      <th>summary4</th>\n",
       "    </tr>\n",
       "  </thead>\n",
       "  <tbody>\n",
       "    <tr>\n",
       "      <th>0</th>\n",
       "      <td>US_Bill_Text_115_S65_IS.xml</td>\n",
       "      <td>1. Short title Presidential Conflicts of Inter...</td>\n",
       "      <td>US_Bill_Digest_115_s_65.xml</td>\n",
       "      <td>Presidential Conflicts of Interest Act of 2017...</td>\n",
       "      <td>NaN</td>\n",
       "      <td>NaN</td>\n",
       "      <td>NaN</td>\n",
       "      <td>NaN</td>\n",
       "    </tr>\n",
       "    <tr>\n",
       "      <th>1</th>\n",
       "      <td>US_Bill_Text_115_S1468_IS.xml</td>\n",
       "      <td>1. Short title Preventing Civilian Casualties ...</td>\n",
       "      <td>US_Bill_Digest_115_s_1468.xml</td>\n",
       "      <td>NaN</td>\n",
       "      <td>NaN</td>\n",
       "      <td>NaN</td>\n",
       "      <td>NaN</td>\n",
       "      <td>NaN</td>\n",
       "    </tr>\n",
       "    <tr>\n",
       "      <th>2</th>\n",
       "      <td>US_Bill_Text_115_HR2862_IH.xml</td>\n",
       "      <td>1. Short title Wildfire Disaster Funding Act T...</td>\n",
       "      <td>US_Bill_Digest_115_hr_2862.xml</td>\n",
       "      <td>Wildfire Disaster Funding Act  This bill amend...</td>\n",
       "      <td>NaN</td>\n",
       "      <td>NaN</td>\n",
       "      <td>NaN</td>\n",
       "      <td>NaN</td>\n",
       "    </tr>\n",
       "    <tr>\n",
       "      <th>3</th>\n",
       "      <td>US_Bill_Text_115_HR3382_IH.xml</td>\n",
       "      <td>1. Short title Youth Opioid Use Treatment Help...</td>\n",
       "      <td>US_Bill_Digest_115_hr_3382.xml</td>\n",
       "      <td>NaN</td>\n",
       "      <td>NaN</td>\n",
       "      <td>NaN</td>\n",
       "      <td>NaN</td>\n",
       "      <td>NaN</td>\n",
       "    </tr>\n",
       "    <tr>\n",
       "      <th>4</th>\n",
       "      <td>US_Bill_Text_115_HR3114_IH.xml</td>\n",
       "      <td>1. Short title Export-Import Bank Termination ...</td>\n",
       "      <td>US_Bill_Digest_115_hr_3114.xml</td>\n",
       "      <td>NaN</td>\n",
       "      <td>NaN</td>\n",
       "      <td>NaN</td>\n",
       "      <td>NaN</td>\n",
       "      <td>NaN</td>\n",
       "    </tr>\n",
       "  </tbody>\n",
       "</table>\n",
       "</div>"
      ],
      "text/plain": [
       "                    fileName-Bill  \\\n",
       "0     US_Bill_Text_115_S65_IS.xml   \n",
       "1   US_Bill_Text_115_S1468_IS.xml   \n",
       "2  US_Bill_Text_115_HR2862_IH.xml   \n",
       "3  US_Bill_Text_115_HR3382_IH.xml   \n",
       "4  US_Bill_Text_115_HR3114_IH.xml   \n",
       "\n",
       "                                           Bill-Body  \\\n",
       "0  1. Short title Presidential Conflicts of Inter...   \n",
       "1  1. Short title Preventing Civilian Casualties ...   \n",
       "2  1. Short title Wildfire Disaster Funding Act T...   \n",
       "3  1. Short title Youth Opioid Use Treatment Help...   \n",
       "4  1. Short title Export-Import Bank Termination ...   \n",
       "\n",
       "                 fileName-Summary  \\\n",
       "0     US_Bill_Digest_115_s_65.xml   \n",
       "1   US_Bill_Digest_115_s_1468.xml   \n",
       "2  US_Bill_Digest_115_hr_2862.xml   \n",
       "3  US_Bill_Digest_115_hr_3382.xml   \n",
       "4  US_Bill_Digest_115_hr_3114.xml   \n",
       "\n",
       "                                            summary0 summary1 summary2  \\\n",
       "0  Presidential Conflicts of Interest Act of 2017...      NaN      NaN   \n",
       "1                                                NaN      NaN      NaN   \n",
       "2  Wildfire Disaster Funding Act  This bill amend...      NaN      NaN   \n",
       "3                                                NaN      NaN      NaN   \n",
       "4                                                NaN      NaN      NaN   \n",
       "\n",
       "  summary3 summary4  \n",
       "0      NaN      NaN  \n",
       "1      NaN      NaN  \n",
       "2      NaN      NaN  \n",
       "3      NaN      NaN  \n",
       "4      NaN      NaN  "
      ]
     },
     "execution_count": 31,
     "metadata": {},
     "output_type": "execute_result"
    }
   ],
   "source": [
    "df.head()"
   ]
  },
  {
   "cell_type": "code",
   "execution_count": 33,
   "metadata": {
    "collapsed": true
   },
   "outputs": [],
   "source": [
    "df.to_pickle(\"data/bills-and-summaries.pkl\") "
   ]
  },
  {
   "cell_type": "code",
   "execution_count": 32,
   "metadata": {
    "collapsed": false
   },
   "outputs": [
    {
     "name": "stdout",
     "output_type": "stream",
     "text": [
      "Number of bills with at least one summary: 5613\n",
      "Number of bills with exactly two summary: 1536\n",
      "Number of bills with exactly three summary: 617\n",
      "Number of bills with exactly four summary: 215\n"
     ]
    }
   ],
   "source": [
    "print('Number of bills with at least one summary: {}'.format(sum(df.summary0.notnull())))\n",
    "# More than one bill might match to same summary, need to resolve this\n",
    "print('Number of bills with exactly two summary: {}'.format(sum(df.summary1.notnull())))\n",
    "print('Number of bills with exactly three summary: {}'.format(sum(df.summary2.notnull())))\n",
    "print('Number of bills with exactly four summary: {}'.format(sum(df.summary3.notnull())))"
   ]
  }
 ],
 "metadata": {
  "kernelspec": {
   "display_name": "Python 2",
   "language": "python",
   "name": "python2"
  },
  "language_info": {
   "codemirror_mode": {
    "name": "ipython",
    "version": 2
   },
   "file_extension": ".py",
   "mimetype": "text/x-python",
   "name": "python",
   "nbconvert_exporter": "python",
   "pygments_lexer": "ipython2",
   "version": "2.7.6"
  }
 },
 "nbformat": 4,
 "nbformat_minor": 2
}
