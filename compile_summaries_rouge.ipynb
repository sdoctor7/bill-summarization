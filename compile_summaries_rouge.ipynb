{
 "cells": [
  {
   "cell_type": "code",
   "execution_count": 1,
   "metadata": {
    "collapsed": false
   },
   "outputs": [],
   "source": [
    "import pandas as pd\n",
    "from utils import *\n",
    "import numpy as np\n",
    "import matplotlib.pyplot as plt\n",
    "%matplotlib inline\n",
    "import os\n",
    "import ast"
   ]
  },
  {
   "cell_type": "markdown",
   "metadata": {},
   "source": [
    "#### Retrieve Old KLSum & LexRank Info"
   ]
  },
  {
   "cell_type": "code",
   "execution_count": 2,
   "metadata": {
    "collapsed": true
   },
   "outputs": [],
   "source": [
    "old_test_bills = pd.read_csv('test_kl_lr.csv')"
   ]
  },
  {
   "cell_type": "code",
   "execution_count": 3,
   "metadata": {
    "collapsed": false
   },
   "outputs": [],
   "source": [
    "def get_rouge(row, algo, rouge_value):\n",
    "    if algo == 'KL':\n",
    "        try:\n",
    "            rouge_dict = ast.literal_eval(row.KL_rouge_dict)\n",
    "        except:\n",
    "            return None\n",
    "    elif algo == 'LR':\n",
    "        try:\n",
    "            rouge_dict = ast.literal_eval(row.LR_rouge_dict)\n",
    "        except:\n",
    "            return None\n",
    "    else:\n",
    "        raise 'incorrect algo'\n",
    "    return rouge_dict[rouge_value]"
   ]
  },
  {
   "cell_type": "code",
   "execution_count": 4,
   "metadata": {
    "collapsed": false
   },
   "outputs": [],
   "source": [
    "old_test_bills['KL_rouge1_R'] = old_test_bills['KL_rouge1']\n",
    "old_test_bills['KL_rouge2_R'] = old_test_bills.apply(lambda x: get_rouge(x, 'KL', 'rouge2_recall'), axis=1)\n",
    "old_test_bills['KL_rougeL_R'] = old_test_bills.apply(lambda x: get_rouge(x, 'KL', 'rougeL_recall'), axis=1)\n",
    "old_test_bills['LR_rouge1_R'] = old_test_bills['LR_rouge1']\n",
    "old_test_bills['LR_rouge2_R'] = old_test_bills.apply(lambda x: get_rouge(x, 'LR', 'rouge2_recall'), axis=1)\n",
    "old_test_bills['LR_rougeL_R'] = old_test_bills.apply(lambda x: get_rouge(x, 'LR', 'rougeL_recall'), axis=1)\n",
    "\n",
    "old_test_bills['KL_rouge1_P'] = old_test_bills.apply(lambda x: get_rouge(x, 'KL', 'rouge1_precision'), axis=1)\n",
    "old_test_bills['KL_rouge2_P'] = old_test_bills.apply(lambda x: get_rouge(x, 'KL', 'rouge2_precision'), axis=1)\n",
    "old_test_bills['KL_rougeL_P'] = old_test_bills.apply(lambda x: get_rouge(x, 'KL', 'rougeL_precision'), axis=1)\n",
    "old_test_bills['LR_rouge1_P'] = old_test_bills.apply(lambda x: get_rouge(x, 'LR', 'rouge1_precision'), axis=1)\n",
    "old_test_bills['LR_rouge2_P'] = old_test_bills.apply(lambda x: get_rouge(x, 'LR', 'rouge2_precision'), axis=1)\n",
    "old_test_bills['LR_rougeL_P'] = old_test_bills.apply(lambda x: get_rouge(x, 'LR', 'rougeL_precision'), axis=1)\n",
    "\n",
    "old_test_bills['KL_rouge1_F'] = old_test_bills.apply(lambda x: get_rouge(x, 'KL', 'rouge1_f'), axis=1)\n",
    "old_test_bills['KL_rouge2_F'] = old_test_bills.apply(lambda x: get_rouge(x, 'KL', 'rouge2_f'), axis=1)\n",
    "old_test_bills['KL_rougeL_F'] = old_test_bills.apply(lambda x: get_rouge(x, 'KL', 'rougeL_F'), axis=1)\n",
    "old_test_bills['LR_rouge1_F'] = old_test_bills.apply(lambda x: get_rouge(x, 'LR', 'rouge1_f'), axis=1)\n",
    "old_test_bills['LR_rouge2_F'] = old_test_bills.apply(lambda x: get_rouge(x, 'LR', 'rouge2_f'), axis=1)\n",
    "old_test_bills['LR_rougeL_F'] = old_test_bills.apply(lambda x: get_rouge(x, 'LR', 'rougeL_F'), axis=1)"
   ]
  },
  {
   "cell_type": "code",
   "execution_count": 5,
   "metadata": {
    "collapsed": true
   },
   "outputs": [],
   "source": [
    "old_test_bills.drop(['KL_rouge1', 'KL_rouge_dict', 'LR_rouge1', 'LR_rouge_dict', 'Unnamed: 0'], inplace=True, axis=1)"
   ]
  },
  {
   "cell_type": "code",
   "execution_count": 6,
   "metadata": {
    "collapsed": false
   },
   "outputs": [
    {
     "data": {
      "text/html": [
       "<div>\n",
       "<style scoped>\n",
       "    .dataframe tbody tr th:only-of-type {\n",
       "        vertical-align: middle;\n",
       "    }\n",
       "\n",
       "    .dataframe tbody tr th {\n",
       "        vertical-align: top;\n",
       "    }\n",
       "\n",
       "    .dataframe thead th {\n",
       "        text-align: right;\n",
       "    }\n",
       "</style>\n",
       "<table border=\"1\" class=\"dataframe\">\n",
       "  <thead>\n",
       "    <tr style=\"text-align: right;\">\n",
       "      <th></th>\n",
       "      <th>CRS_summary</th>\n",
       "      <th>CRS_summary_clean</th>\n",
       "      <th>ID</th>\n",
       "      <th>bill_length</th>\n",
       "      <th>bill_text</th>\n",
       "      <th>bill_text_clean</th>\n",
       "      <th>summ_length</th>\n",
       "      <th>KL_summary</th>\n",
       "      <th>LR_summary</th>\n",
       "      <th>KL_rouge1_R</th>\n",
       "      <th>...</th>\n",
       "      <th>KL_rougeL_P</th>\n",
       "      <th>LR_rouge1_P</th>\n",
       "      <th>LR_rouge2_P</th>\n",
       "      <th>LR_rougeL_P</th>\n",
       "      <th>KL_rouge1_F</th>\n",
       "      <th>KL_rouge2_F</th>\n",
       "      <th>KL_rougeL_F</th>\n",
       "      <th>LR_rouge1_F</th>\n",
       "      <th>LR_rouge2_F</th>\n",
       "      <th>LR_rougeL_F</th>\n",
       "    </tr>\n",
       "  </thead>\n",
       "  <tbody>\n",
       "    <tr>\n",
       "      <th>0</th>\n",
       "      <td>Pay What You Owe Before You Go Act - Amends th...</td>\n",
       "      <td>Pay What You Owe Before You Go Act - Amends th...</td>\n",
       "      <td>113_S2895_IS</td>\n",
       "      <td>25</td>\n",
       "      <td>To amend the Internal Revenue Code to include ...</td>\n",
       "      <td>To amend the Internal Revenue Code to include ...</td>\n",
       "      <td>1</td>\n",
       "      <td>To amend the Internal Revenue Code to include ...</td>\n",
       "      <td>The subpart F income of any applicable control...</td>\n",
       "      <td>0.395349</td>\n",
       "      <td>...</td>\n",
       "      <td>0.444444</td>\n",
       "      <td>0.284091</td>\n",
       "      <td>0.126506</td>\n",
       "      <td>0.120482</td>\n",
       "      <td>0.430380</td>\n",
       "      <td>0.310680</td>\n",
       "      <td>0.447943</td>\n",
       "      <td>0.381679</td>\n",
       "      <td>0.188341</td>\n",
       "      <td>0.126006</td>\n",
       "    </tr>\n",
       "    <tr>\n",
       "      <th>1</th>\n",
       "      <td>United States-Turkey Free Trade Promotion Act ...</td>\n",
       "      <td>United States-Turkey Free Trade Promotion Act ...</td>\n",
       "      <td>114_HR3685_IH</td>\n",
       "      <td>21</td>\n",
       "      <td>To direct the United States Trade Representati...</td>\n",
       "      <td>To direct the United States Trade Representati...</td>\n",
       "      <td>2</td>\n",
       "      <td>To direct the United States Trade Representati...</td>\n",
       "      <td>To direct the United States Trade Representati...</td>\n",
       "      <td>0.615385</td>\n",
       "      <td>...</td>\n",
       "      <td>0.175573</td>\n",
       "      <td>0.384615</td>\n",
       "      <td>0.256881</td>\n",
       "      <td>0.212500</td>\n",
       "      <td>0.393443</td>\n",
       "      <td>0.283871</td>\n",
       "      <td>0.188644</td>\n",
       "      <td>0.512821</td>\n",
       "      <td>0.368421</td>\n",
       "      <td>0.224319</td>\n",
       "    </tr>\n",
       "    <tr>\n",
       "      <th>2</th>\n",
       "      <td>(Sec. 1) This bill revises cost-sharing under ...</td>\n",
       "      <td>(Sec. 1) This bill revises cost-sharing under ...</td>\n",
       "      <td>114_S2616_IS</td>\n",
       "      <td>16</td>\n",
       "      <td>To modify certain cost-sharing and revenue pro...</td>\n",
       "      <td>To modify certain cost-sharing and revenue pro...</td>\n",
       "      <td>4</td>\n",
       "      <td>Be it enacted by the Senate and House of Repre...</td>\n",
       "      <td>Be it enacted by the Senate and House of Repre...</td>\n",
       "      <td>0.257143</td>\n",
       "      <td>...</td>\n",
       "      <td>0.436364</td>\n",
       "      <td>0.523810</td>\n",
       "      <td>0.382114</td>\n",
       "      <td>0.455621</td>\n",
       "      <td>0.333333</td>\n",
       "      <td>0.227451</td>\n",
       "      <td>0.213975</td>\n",
       "      <td>0.465608</td>\n",
       "      <td>0.310231</td>\n",
       "      <td>0.346647</td>\n",
       "    </tr>\n",
       "    <tr>\n",
       "      <th>3</th>\n",
       "      <td>EB-5 Integrity Act of 2016.\\nThis bill amends ...</td>\n",
       "      <td>EB-5 Integrity Act of 2016. This bill amends t...</td>\n",
       "      <td>114_HR4530_IH</td>\n",
       "      <td>368</td>\n",
       "      <td>To implement integrity measures to strengthen ...</td>\n",
       "      <td>To implement integrity measures to strengthen ...</td>\n",
       "      <td>19</td>\n",
       "      <td>NaN</td>\n",
       "      <td>NaN</td>\n",
       "      <td>NaN</td>\n",
       "      <td>...</td>\n",
       "      <td>NaN</td>\n",
       "      <td>NaN</td>\n",
       "      <td>NaN</td>\n",
       "      <td>NaN</td>\n",
       "      <td>NaN</td>\n",
       "      <td>NaN</td>\n",
       "      <td>NaN</td>\n",
       "      <td>NaN</td>\n",
       "      <td>NaN</td>\n",
       "      <td>NaN</td>\n",
       "    </tr>\n",
       "    <tr>\n",
       "      <th>4</th>\n",
       "      <td>Directs the Comptroller General (GAO), beginni...</td>\n",
       "      <td>Directs the Comptroller General (GAO), beginni...</td>\n",
       "      <td>113_S774_IS</td>\n",
       "      <td>30</td>\n",
       "      <td>To require the Comptroller General of the Unit...</td>\n",
       "      <td>To require the Comptroller General of the Unit...</td>\n",
       "      <td>3</td>\n",
       "      <td>( 6 ) any disparities or trends detectable dur...</td>\n",
       "      <td>The purpose of the report required under subse...</td>\n",
       "      <td>0.274074</td>\n",
       "      <td>...</td>\n",
       "      <td>0.700935</td>\n",
       "      <td>0.644068</td>\n",
       "      <td>0.444444</td>\n",
       "      <td>0.409091</td>\n",
       "      <td>0.408840</td>\n",
       "      <td>0.305556</td>\n",
       "      <td>0.266650</td>\n",
       "      <td>0.600791</td>\n",
       "      <td>0.390244</td>\n",
       "      <td>0.354530</td>\n",
       "    </tr>\n",
       "  </tbody>\n",
       "</table>\n",
       "<p>5 rows × 27 columns</p>\n",
       "</div>"
      ],
      "text/plain": [
       "                                         CRS_summary  \\\n",
       "0  Pay What You Owe Before You Go Act - Amends th...   \n",
       "1  United States-Turkey Free Trade Promotion Act ...   \n",
       "2  (Sec. 1) This bill revises cost-sharing under ...   \n",
       "3  EB-5 Integrity Act of 2016.\\nThis bill amends ...   \n",
       "4  Directs the Comptroller General (GAO), beginni...   \n",
       "\n",
       "                                   CRS_summary_clean             ID  \\\n",
       "0  Pay What You Owe Before You Go Act - Amends th...   113_S2895_IS   \n",
       "1  United States-Turkey Free Trade Promotion Act ...  114_HR3685_IH   \n",
       "2  (Sec. 1) This bill revises cost-sharing under ...   114_S2616_IS   \n",
       "3  EB-5 Integrity Act of 2016. This bill amends t...  114_HR4530_IH   \n",
       "4  Directs the Comptroller General (GAO), beginni...    113_S774_IS   \n",
       "\n",
       "   bill_length                                          bill_text  \\\n",
       "0           25  To amend the Internal Revenue Code to include ...   \n",
       "1           21  To direct the United States Trade Representati...   \n",
       "2           16  To modify certain cost-sharing and revenue pro...   \n",
       "3          368  To implement integrity measures to strengthen ...   \n",
       "4           30  To require the Comptroller General of the Unit...   \n",
       "\n",
       "                                     bill_text_clean  summ_length  \\\n",
       "0  To amend the Internal Revenue Code to include ...            1   \n",
       "1  To direct the United States Trade Representati...            2   \n",
       "2  To modify certain cost-sharing and revenue pro...            4   \n",
       "3  To implement integrity measures to strengthen ...           19   \n",
       "4  To require the Comptroller General of the Unit...            3   \n",
       "\n",
       "                                          KL_summary  \\\n",
       "0  To amend the Internal Revenue Code to include ...   \n",
       "1  To direct the United States Trade Representati...   \n",
       "2  Be it enacted by the Senate and House of Repre...   \n",
       "3                                                NaN   \n",
       "4  ( 6 ) any disparities or trends detectable dur...   \n",
       "\n",
       "                                          LR_summary  KL_rouge1_R  \\\n",
       "0  The subpart F income of any applicable control...     0.395349   \n",
       "1  To direct the United States Trade Representati...     0.615385   \n",
       "2  Be it enacted by the Senate and House of Repre...     0.257143   \n",
       "3                                                NaN          NaN   \n",
       "4  The purpose of the report required under subse...     0.274074   \n",
       "\n",
       "      ...       KL_rougeL_P  LR_rouge1_P  LR_rouge2_P  LR_rougeL_P  \\\n",
       "0     ...          0.444444     0.284091     0.126506     0.120482   \n",
       "1     ...          0.175573     0.384615     0.256881     0.212500   \n",
       "2     ...          0.436364     0.523810     0.382114     0.455621   \n",
       "3     ...               NaN          NaN          NaN          NaN   \n",
       "4     ...          0.700935     0.644068     0.444444     0.409091   \n",
       "\n",
       "   KL_rouge1_F  KL_rouge2_F  KL_rougeL_F  LR_rouge1_F  LR_rouge2_F  \\\n",
       "0     0.430380     0.310680     0.447943     0.381679     0.188341   \n",
       "1     0.393443     0.283871     0.188644     0.512821     0.368421   \n",
       "2     0.333333     0.227451     0.213975     0.465608     0.310231   \n",
       "3          NaN          NaN          NaN          NaN          NaN   \n",
       "4     0.408840     0.305556     0.266650     0.600791     0.390244   \n",
       "\n",
       "   LR_rougeL_F  \n",
       "0     0.126006  \n",
       "1     0.224319  \n",
       "2     0.346647  \n",
       "3          NaN  \n",
       "4     0.354530  \n",
       "\n",
       "[5 rows x 27 columns]"
      ]
     },
     "execution_count": 6,
     "metadata": {},
     "output_type": "execute_result"
    }
   ],
   "source": [
    "old_test_bills.head()"
   ]
  },
  {
   "cell_type": "code",
   "execution_count": 7,
   "metadata": {
    "collapsed": true
   },
   "outputs": [],
   "source": [
    "in_dir1 = 'out/113_114_115/'\n",
    "in_dir2 = 'test_for_less_3k/'\n",
    "NUM_SENTENCE = 6"
   ]
  },
  {
   "cell_type": "markdown",
   "metadata": {},
   "source": [
    "#### Get New Test Set Info"
   ]
  },
  {
   "cell_type": "code",
   "execution_count": 8,
   "metadata": {
    "collapsed": true
   },
   "outputs": [],
   "source": [
    "new_test_bills = pd.read_csv('test_for_less_3k/test_113_114_115.csv')"
   ]
  },
  {
   "cell_type": "code",
   "execution_count": 9,
   "metadata": {
    "collapsed": false
   },
   "outputs": [
    {
     "data": {
      "text/html": [
       "<div>\n",
       "<style scoped>\n",
       "    .dataframe tbody tr th:only-of-type {\n",
       "        vertical-align: middle;\n",
       "    }\n",
       "\n",
       "    .dataframe tbody tr th {\n",
       "        vertical-align: top;\n",
       "    }\n",
       "\n",
       "    .dataframe thead th {\n",
       "        text-align: right;\n",
       "    }\n",
       "</style>\n",
       "<table border=\"1\" class=\"dataframe\">\n",
       "  <thead>\n",
       "    <tr style=\"text-align: right;\">\n",
       "      <th></th>\n",
       "      <th>Congress</th>\n",
       "      <th>Directory</th>\n",
       "      <th>ID</th>\n",
       "      <th>Number</th>\n",
       "      <th>Subtype</th>\n",
       "      <th>Summary</th>\n",
       "      <th>Type</th>\n",
       "      <th>Version</th>\n",
       "      <th>to_use</th>\n",
       "      <th>bill_len</th>\n",
       "    </tr>\n",
       "  </thead>\n",
       "  <tbody>\n",
       "    <tr>\n",
       "      <th>0</th>\n",
       "      <td>113</td>\n",
       "      <td>./data/113/bills/s/s2895/text-versions/is</td>\n",
       "      <td>113_S2895_IS</td>\n",
       "      <td>S2895</td>\n",
       "      <td>S</td>\n",
       "      <td>1</td>\n",
       "      <td>Bills</td>\n",
       "      <td>IS</td>\n",
       "      <td>1</td>\n",
       "      <td>25</td>\n",
       "    </tr>\n",
       "    <tr>\n",
       "      <th>1</th>\n",
       "      <td>114</td>\n",
       "      <td>./data/114/bills/hr/hr3685/text-versions/ih</td>\n",
       "      <td>114_HR3685_IH</td>\n",
       "      <td>HR3685</td>\n",
       "      <td>HR</td>\n",
       "      <td>1</td>\n",
       "      <td>Bills</td>\n",
       "      <td>IH</td>\n",
       "      <td>1</td>\n",
       "      <td>21</td>\n",
       "    </tr>\n",
       "    <tr>\n",
       "      <th>2</th>\n",
       "      <td>114</td>\n",
       "      <td>./data/114/bills/s/s2616/text-versions/is</td>\n",
       "      <td>114_S2616_IS</td>\n",
       "      <td>S2616</td>\n",
       "      <td>S</td>\n",
       "      <td>1</td>\n",
       "      <td>Bills</td>\n",
       "      <td>IS</td>\n",
       "      <td>1</td>\n",
       "      <td>16</td>\n",
       "    </tr>\n",
       "    <tr>\n",
       "      <th>3</th>\n",
       "      <td>114</td>\n",
       "      <td>./data/114/bills/hr/hr4530/text-versions/ih</td>\n",
       "      <td>114_HR4530_IH</td>\n",
       "      <td>HR4530</td>\n",
       "      <td>HR</td>\n",
       "      <td>1</td>\n",
       "      <td>Bills</td>\n",
       "      <td>IH</td>\n",
       "      <td>1</td>\n",
       "      <td>368</td>\n",
       "    </tr>\n",
       "    <tr>\n",
       "      <th>4</th>\n",
       "      <td>113</td>\n",
       "      <td>./data/113/bills/s/s774/text-versions/is</td>\n",
       "      <td>113_S774_IS</td>\n",
       "      <td>S774</td>\n",
       "      <td>S</td>\n",
       "      <td>1</td>\n",
       "      <td>Bills</td>\n",
       "      <td>IS</td>\n",
       "      <td>1</td>\n",
       "      <td>30</td>\n",
       "    </tr>\n",
       "  </tbody>\n",
       "</table>\n",
       "</div>"
      ],
      "text/plain": [
       "   Congress                                    Directory             ID  \\\n",
       "0       113    ./data/113/bills/s/s2895/text-versions/is   113_S2895_IS   \n",
       "1       114  ./data/114/bills/hr/hr3685/text-versions/ih  114_HR3685_IH   \n",
       "2       114    ./data/114/bills/s/s2616/text-versions/is   114_S2616_IS   \n",
       "3       114  ./data/114/bills/hr/hr4530/text-versions/ih  114_HR4530_IH   \n",
       "4       113     ./data/113/bills/s/s774/text-versions/is    113_S774_IS   \n",
       "\n",
       "   Number Subtype  Summary   Type Version  to_use  bill_len  \n",
       "0   S2895       S        1  Bills      IS       1        25  \n",
       "1  HR3685      HR        1  Bills      IH       1        21  \n",
       "2   S2616       S        1  Bills      IS       1        16  \n",
       "3  HR4530      HR        1  Bills      IH       1       368  \n",
       "4    S774       S        1  Bills      IS       1        30  "
      ]
     },
     "execution_count": 9,
     "metadata": {},
     "output_type": "execute_result"
    }
   ],
   "source": [
    "new_test_bills.head()"
   ]
  },
  {
   "cell_type": "markdown",
   "metadata": {},
   "source": [
    "#### Get extractive summaries & their ROUGE scores"
   ]
  },
  {
   "cell_type": "code",
   "execution_count": 10,
   "metadata": {
    "collapsed": true
   },
   "outputs": [],
   "source": [
    "def compile_all_bills(row):\n",
    "    ID = row.ID\n",
    "    old_row = old_test_bills[old_test_bills.ID == ID]\n",
    "    if isinstance(old_row.KL_summary.iloc[0], str):\n",
    "        new_row = old_row\n",
    "    else:\n",
    "        new_row_dict = {}\n",
    "        \n",
    "        # get bill and CRS summary info\n",
    "        new_row_dict['CRS_summary'] = old_row.CRS_summary\n",
    "        clean_summ = old_row.CRS_summary_clean\n",
    "        new_row_dict['CRS_summary_clean'] = clean_summ\n",
    "        new_row_dict['ID'] = ID\n",
    "        new_row_dict['bill_length'] = old_row.bill_length\n",
    "        new_row_dict['bill_text'] = old_row.bill_text\n",
    "        new_row_dict['bill_text_clean'] = old_row.bill_text_clean\n",
    "        new_row_dict['summ_length'] = old_row.summ_length\n",
    "        \n",
    "        # get KL summary\n",
    "        with open('test_for_less_3k/KL/KL_'+ID+'.out') as f:\n",
    "            summary_KL = convert_summary(f.readlines())\n",
    "        summary_KL_clean = ' '.join([str(sentence) for sentence in summary_KL])\n",
    "        new_row_dict['KL_summary'] = summary_KL_clean\n",
    "        \n",
    "        # get LR summary\n",
    "        with open('test_for_less_3k/LexRank/LexRank_'+ID+'.out') as f:\n",
    "            summary_LR = convert_summary(f.readlines())\n",
    "        summary_LR_clean = ' '.join([str(sentence) for sentence in summary_LR])\n",
    "        new_row_dict['LR_summary'] = summary_LR_clean\n",
    "\n",
    "        # evaluate automatic summaries\n",
    "        CRS_sumy = convert_summary(clean_summ)\n",
    "        rouge_KL = eval_sumy(summary_KL, CRS_sumy)\n",
    "        for k,v in rouge_KL.items():\n",
    "            new_row_dict['KL_'+k] = v\n",
    "        rouge_LR = eval_sumy(summary_LR, CRS_sumy)\n",
    "        for k,v in rouge_LR.items():\n",
    "            new_row_dict['LR_'+k] = v\n",
    "            \n",
    "        new_row = pd.DataFrame(new_row_dict)\n",
    "    return new_row"
   ]
  },
  {
   "cell_type": "code",
   "execution_count": 11,
   "metadata": {
    "collapsed": false
   },
   "outputs": [],
   "source": [
    "for i in range(len(new_test_bills)):\n",
    "    if i == 0:\n",
    "        all_bills = compile_all_bills(new_test_bills.iloc[i])\n",
    "    else:\n",
    "        all_bills = pd.concat([all_bills, compile_all_bills(new_test_bills.iloc[i])], axis=0)"
   ]
  },
  {
   "cell_type": "code",
   "execution_count": 19,
   "metadata": {
    "collapsed": false
   },
   "outputs": [
    {
     "data": {
      "text/plain": [
       "(2298, 27)"
      ]
     },
     "execution_count": 19,
     "metadata": {},
     "output_type": "execute_result"
    }
   ],
   "source": [
    "all_bills.shape"
   ]
  },
  {
   "cell_type": "markdown",
   "metadata": {},
   "source": [
    "#### Get abstractive summaries & their ROUGE scores"
   ]
  },
  {
   "cell_type": "code",
   "execution_count": 24,
   "metadata": {
    "collapsed": true
   },
   "outputs": [],
   "source": [
    "in_dir = 'decode_test_400maxenc_4beam_35mindec_100maxdec_ckpt-27375/'"
   ]
  },
  {
   "cell_type": "code",
   "execution_count": 25,
   "metadata": {
    "collapsed": false
   },
   "outputs": [],
   "source": [
    "all_results = []\n",
    "for filename in os.listdir(in_dir+'decoded/'):\n",
    "    this_result = {}\n",
    "    \n",
    "    # which bill is this\n",
    "    bill_id = filename.split('_')[0]\n",
    "    \n",
    "    # get model summary\n",
    "    with open(in_dir+'decoded/'+filename) as f:\n",
    "        model_summary = f.readlines()\n",
    "    this_result['model_summary'] = ' '.join(model_summary)\n",
    "    \n",
    "    # get reference summary\n",
    "    with open(in_dir+'reference/'+bill_id+'_reference.txt') as f:\n",
    "        ref_summary = f.readlines()\n",
    "    this_result['ref_summary'] = ' '.join(ref_summary)\n",
    "    \n",
    "    # evaluate\n",
    "    rouge_see = eval_sumy(convert_summary(model_summary), convert_summary(ref_summary))\n",
    "    for k,v in rouge_see.items():\n",
    "        this_result['see_'+k] = v\n",
    "    \n",
    "    all_results.append(this_result)"
   ]
  },
  {
   "cell_type": "code",
   "execution_count": 26,
   "metadata": {
    "collapsed": true
   },
   "outputs": [],
   "source": [
    "see_df = pd.DataFrame(all_results)"
   ]
  },
  {
   "cell_type": "code",
   "execution_count": 27,
   "metadata": {
    "collapsed": false
   },
   "outputs": [
    {
     "data": {
      "text/plain": [
       "(2298, 11)"
      ]
     },
     "execution_count": 27,
     "metadata": {},
     "output_type": "execute_result"
    }
   ],
   "source": [
    "see_df.shape"
   ]
  },
  {
   "cell_type": "markdown",
   "metadata": {},
   "source": [
    "#### Combine"
   ]
  },
  {
   "cell_type": "code",
   "execution_count": 28,
   "metadata": {
    "collapsed": true
   },
   "outputs": [],
   "source": [
    "all_bills = pd.concat([all_bills, see_df], axis=1)"
   ]
  },
  {
   "cell_type": "code",
   "execution_count": 29,
   "metadata": {
    "collapsed": false
   },
   "outputs": [
    {
     "data": {
      "text/html": [
       "<div>\n",
       "<style scoped>\n",
       "    .dataframe tbody tr th:only-of-type {\n",
       "        vertical-align: middle;\n",
       "    }\n",
       "\n",
       "    .dataframe tbody tr th {\n",
       "        vertical-align: top;\n",
       "    }\n",
       "\n",
       "    .dataframe thead th {\n",
       "        text-align: right;\n",
       "    }\n",
       "</style>\n",
       "<table border=\"1\" class=\"dataframe\">\n",
       "  <thead>\n",
       "    <tr style=\"text-align: right;\">\n",
       "      <th></th>\n",
       "      <th>CRS_summary</th>\n",
       "      <th>CRS_summary_clean</th>\n",
       "      <th>ID</th>\n",
       "      <th>KL_rouge1_F</th>\n",
       "      <th>KL_rouge1_P</th>\n",
       "      <th>KL_rouge1_R</th>\n",
       "      <th>KL_rouge2_F</th>\n",
       "      <th>KL_rouge2_P</th>\n",
       "      <th>KL_rouge2_R</th>\n",
       "      <th>KL_rougeL_F</th>\n",
       "      <th>...</th>\n",
       "      <th>ref_summary</th>\n",
       "      <th>see_rouge1_F</th>\n",
       "      <th>see_rouge1_P</th>\n",
       "      <th>see_rouge1_R</th>\n",
       "      <th>see_rouge2_F</th>\n",
       "      <th>see_rouge2_P</th>\n",
       "      <th>see_rouge2_R</th>\n",
       "      <th>see_rougeL_F</th>\n",
       "      <th>see_rougeL_P</th>\n",
       "      <th>see_rougeL_R</th>\n",
       "    </tr>\n",
       "  </thead>\n",
       "  <tbody>\n",
       "    <tr>\n",
       "      <th>0</th>\n",
       "      <td>Pay What You Owe Before You Go Act - Amends th...</td>\n",
       "      <td>Pay What You Owe Before You Go Act - Amends th...</td>\n",
       "      <td>113_S2895_IS</td>\n",
       "      <td>0.430380</td>\n",
       "      <td>0.472222</td>\n",
       "      <td>0.395349</td>\n",
       "      <td>0.310680</td>\n",
       "      <td>0.347826</td>\n",
       "      <td>0.280702</td>\n",
       "      <td>0.447943</td>\n",
       "      <td>...</td>\n",
       "      <td>pay what you owe before you go act - amends th...</td>\n",
       "      <td>0.593407</td>\n",
       "      <td>0.551020</td>\n",
       "      <td>0.642857</td>\n",
       "      <td>0.413793</td>\n",
       "      <td>0.400000</td>\n",
       "      <td>0.428571</td>\n",
       "      <td>0.471482</td>\n",
       "      <td>0.467742</td>\n",
       "      <td>0.475410</td>\n",
       "    </tr>\n",
       "    <tr>\n",
       "      <th>1</th>\n",
       "      <td>United States-Turkey Free Trade Promotion Act ...</td>\n",
       "      <td>United States-Turkey Free Trade Promotion Act ...</td>\n",
       "      <td>114_HR3685_IH</td>\n",
       "      <td>0.393443</td>\n",
       "      <td>0.289157</td>\n",
       "      <td>0.615385</td>\n",
       "      <td>0.283871</td>\n",
       "      <td>0.196429</td>\n",
       "      <td>0.511628</td>\n",
       "      <td>0.188644</td>\n",
       "      <td>...</td>\n",
       "      <td>united states-turkey free trade promotion act ...</td>\n",
       "      <td>0.644068</td>\n",
       "      <td>0.826087</td>\n",
       "      <td>0.527778</td>\n",
       "      <td>0.507042</td>\n",
       "      <td>0.600000</td>\n",
       "      <td>0.439024</td>\n",
       "      <td>0.559891</td>\n",
       "      <td>0.666667</td>\n",
       "      <td>0.511628</td>\n",
       "    </tr>\n",
       "    <tr>\n",
       "      <th>2</th>\n",
       "      <td>(Sec. 1) This bill revises cost-sharing under ...</td>\n",
       "      <td>(Sec. 1) This bill revises cost-sharing under ...</td>\n",
       "      <td>114_S2616_IS</td>\n",
       "      <td>0.333333</td>\n",
       "      <td>0.473684</td>\n",
       "      <td>0.257143</td>\n",
       "      <td>0.227451</td>\n",
       "      <td>0.386667</td>\n",
       "      <td>0.161111</td>\n",
       "      <td>0.213975</td>\n",
       "      <td>...</td>\n",
       "      <td>(sec. 1) this bill revises cost-sharing under ...</td>\n",
       "      <td>0.408759</td>\n",
       "      <td>0.823529</td>\n",
       "      <td>0.271845</td>\n",
       "      <td>0.266667</td>\n",
       "      <td>0.681818</td>\n",
       "      <td>0.165746</td>\n",
       "      <td>0.166591</td>\n",
       "      <td>0.722222</td>\n",
       "      <td>0.160494</td>\n",
       "    </tr>\n",
       "    <tr>\n",
       "      <th>3</th>\n",
       "      <td>EB-5 Integrity Act of 2016.\\nThis bill amends ...</td>\n",
       "      <td>EB-5 Integrity Act of 2016. This bill amends t...</td>\n",
       "      <td>114_HR4530_IH</td>\n",
       "      <td>0.017391</td>\n",
       "      <td>0.009524</td>\n",
       "      <td>0.100000</td>\n",
       "      <td>0.000000</td>\n",
       "      <td>0.000000</td>\n",
       "      <td>0.000000</td>\n",
       "      <td>0.003337</td>\n",
       "      <td>...</td>\n",
       "      <td>eb-5 integrity act of 2016 .\\n this bill amend...</td>\n",
       "      <td>0.184211</td>\n",
       "      <td>0.656250</td>\n",
       "      <td>0.107143</td>\n",
       "      <td>0.079012</td>\n",
       "      <td>0.380952</td>\n",
       "      <td>0.044077</td>\n",
       "      <td>0.067678</td>\n",
       "      <td>0.627907</td>\n",
       "      <td>0.066998</td>\n",
       "    </tr>\n",
       "    <tr>\n",
       "      <th>4</th>\n",
       "      <td>Directs the Comptroller General (GAO), beginni...</td>\n",
       "      <td>Directs the Comptroller General (GAO), beginni...</td>\n",
       "      <td>113_S774_IS</td>\n",
       "      <td>0.408840</td>\n",
       "      <td>0.804348</td>\n",
       "      <td>0.274074</td>\n",
       "      <td>0.305556</td>\n",
       "      <td>0.758621</td>\n",
       "      <td>0.191304</td>\n",
       "      <td>0.266650</td>\n",
       "      <td>...</td>\n",
       "      <td>directs the comptroller general (gao), beginni...</td>\n",
       "      <td>0.383234</td>\n",
       "      <td>0.842105</td>\n",
       "      <td>0.248062</td>\n",
       "      <td>0.255319</td>\n",
       "      <td>0.666667</td>\n",
       "      <td>0.157895</td>\n",
       "      <td>0.155178</td>\n",
       "      <td>0.714286</td>\n",
       "      <td>0.150000</td>\n",
       "    </tr>\n",
       "  </tbody>\n",
       "</table>\n",
       "<p>5 rows × 38 columns</p>\n",
       "</div>"
      ],
      "text/plain": [
       "                                         CRS_summary  \\\n",
       "0  Pay What You Owe Before You Go Act - Amends th...   \n",
       "1  United States-Turkey Free Trade Promotion Act ...   \n",
       "2  (Sec. 1) This bill revises cost-sharing under ...   \n",
       "3  EB-5 Integrity Act of 2016.\\nThis bill amends ...   \n",
       "4  Directs the Comptroller General (GAO), beginni...   \n",
       "\n",
       "                                   CRS_summary_clean             ID  \\\n",
       "0  Pay What You Owe Before You Go Act - Amends th...   113_S2895_IS   \n",
       "1  United States-Turkey Free Trade Promotion Act ...  114_HR3685_IH   \n",
       "2  (Sec. 1) This bill revises cost-sharing under ...   114_S2616_IS   \n",
       "3  EB-5 Integrity Act of 2016. This bill amends t...  114_HR4530_IH   \n",
       "4  Directs the Comptroller General (GAO), beginni...    113_S774_IS   \n",
       "\n",
       "   KL_rouge1_F  KL_rouge1_P  KL_rouge1_R  KL_rouge2_F  KL_rouge2_P  \\\n",
       "0     0.430380     0.472222     0.395349     0.310680     0.347826   \n",
       "1     0.393443     0.289157     0.615385     0.283871     0.196429   \n",
       "2     0.333333     0.473684     0.257143     0.227451     0.386667   \n",
       "3     0.017391     0.009524     0.100000     0.000000     0.000000   \n",
       "4     0.408840     0.804348     0.274074     0.305556     0.758621   \n",
       "\n",
       "   KL_rouge2_R  KL_rougeL_F      ...       \\\n",
       "0     0.280702     0.447943      ...        \n",
       "1     0.511628     0.188644      ...        \n",
       "2     0.161111     0.213975      ...        \n",
       "3     0.000000     0.003337      ...        \n",
       "4     0.191304     0.266650      ...        \n",
       "\n",
       "                                         ref_summary  see_rouge1_F  \\\n",
       "0  pay what you owe before you go act - amends th...      0.593407   \n",
       "1  united states-turkey free trade promotion act ...      0.644068   \n",
       "2  (sec. 1) this bill revises cost-sharing under ...      0.408759   \n",
       "3  eb-5 integrity act of 2016 .\\n this bill amend...      0.184211   \n",
       "4  directs the comptroller general (gao), beginni...      0.383234   \n",
       "\n",
       "  see_rouge1_P  see_rouge1_R  see_rouge2_F  see_rouge2_P  see_rouge2_R  \\\n",
       "0     0.551020      0.642857      0.413793      0.400000      0.428571   \n",
       "1     0.826087      0.527778      0.507042      0.600000      0.439024   \n",
       "2     0.823529      0.271845      0.266667      0.681818      0.165746   \n",
       "3     0.656250      0.107143      0.079012      0.380952      0.044077   \n",
       "4     0.842105      0.248062      0.255319      0.666667      0.157895   \n",
       "\n",
       "   see_rougeL_F  see_rougeL_P  see_rougeL_R  \n",
       "0      0.471482      0.467742      0.475410  \n",
       "1      0.559891      0.666667      0.511628  \n",
       "2      0.166591      0.722222      0.160494  \n",
       "3      0.067678      0.627907      0.066998  \n",
       "4      0.155178      0.714286      0.150000  \n",
       "\n",
       "[5 rows x 38 columns]"
      ]
     },
     "execution_count": 29,
     "metadata": {},
     "output_type": "execute_result"
    }
   ],
   "source": [
    "all_bills.head()"
   ]
  },
  {
   "cell_type": "code",
   "execution_count": 35,
   "metadata": {
    "collapsed": true
   },
   "outputs": [],
   "source": [
    "all_bills.to_csv('all_bills.csv')"
   ]
  },
  {
   "cell_type": "markdown",
   "metadata": {
    "collapsed": true
   },
   "source": [
    "#### Visualizations"
   ]
  },
  {
   "cell_type": "code",
   "execution_count": 46,
   "metadata": {
    "collapsed": false
   },
   "outputs": [
    {
     "data": {
      "image/png": "[encoded data removed]",
      "text/plain": [
       "<matplotlib.figure.Figure at 0x10e3f3ef0>"
      ]
     },
     "metadata": {},
     "output_type": "display_data"
    }
   ],
   "source": [
    "plt.style.use('seaborn')\n",
    "fig, ax = plt.subplots(3, 3, figsize=(15,10), sharex=True, sharey=True)\n",
    "all_bills.KL_rouge1_R.hist(bins=20, ax=ax[0,0])\n",
    "all_bills.KL_rouge2_R.hist(bins=20, ax=ax[0,1])\n",
    "all_bills.KL_rougeL_R.hist(bins=20, ax=ax[0,2])\n",
    "all_bills.LR_rouge1_R.hist(bins=20, ax=ax[1,0])\n",
    "all_bills.LR_rouge2_R.hist(bins=20, ax=ax[1,1])\n",
    "all_bills.LR_rougeL_R.hist(bins=20, ax=ax[1,2])\n",
    "all_bills.see_rouge1_R.hist(bins=20, ax=ax[2,0])\n",
    "all_bills.see_rouge2_R.hist(bins=20, ax=ax[2,1])\n",
    "all_bills.see_rougeL_R.hist(bins=20, ax=ax[2,2])\n",
    "ax[0,0].set_ylabel('KL-sum')\n",
    "ax[1,0].set_ylabel('LexRank')\n",
    "ax[2,0].set_ylabel('Pointer-Generator')\n",
    "ax[0,0].set_title('Rouge-1')\n",
    "ax[0,1].set_title('Rouge-2')\n",
    "ax[0,2].set_title('Rouge-L')\n",
    "plt.show()"
   ]
  },
  {
   "cell_type": "code",
   "execution_count": 31,
   "metadata": {
    "collapsed": false
   },
   "outputs": [
    {
     "data": {
      "text/plain": [
       "KL_rouge1_F      0.353909\n",
       "KL_rouge1_P      0.371386\n",
       "KL_rouge1_R      0.400904\n",
       "KL_rouge2_F      0.188997\n",
       "KL_rouge2_P      0.200889\n",
       "KL_rouge2_R      0.226120\n",
       "KL_rougeL_F      0.213461\n",
       "KL_rougeL_P      0.250263\n",
       "KL_rougeL_R      0.309571\n",
       "LR_rouge1_F      0.414934\n",
       "LR_rouge1_P      0.381204\n",
       "LR_rouge1_R      0.531855\n",
       "LR_rouge2_F      0.238794\n",
       "LR_rouge2_P      0.214612\n",
       "LR_rouge2_R      0.330763\n",
       "LR_rougeL_F      0.234278\n",
       "LR_rougeL_P      0.237606\n",
       "LR_rougeL_R      0.411733\n",
       "bill_length     75.169713\n",
       "summ_length      5.297650\n",
       "see_rouge1_F     0.475677\n",
       "see_rouge1_P     0.703703\n",
       "see_rouge1_R     0.405236\n",
       "see_rouge2_F     0.314907\n",
       "see_rouge2_P     0.491932\n",
       "see_rouge2_R     0.271482\n",
       "see_rougeL_F     0.319381\n",
       "see_rougeL_P     0.552313\n",
       "see_rougeL_R     0.336008\n",
       "dtype: float64"
      ]
     },
     "execution_count": 31,
     "metadata": {},
     "output_type": "execute_result"
    }
   ],
   "source": [
    "all_bills.mean()"
   ]
  },
  {
   "cell_type": "code",
   "execution_count": 40,
   "metadata": {
    "collapsed": false
   },
   "outputs": [
    {
     "data": {
      "text/plain": [
       "<matplotlib.axes._subplots.AxesSubplot at 0x10e4617f0>"
      ]
     },
     "execution_count": 40,
     "metadata": {},
     "output_type": "execute_result"
    },
    {
     "data": {
      "image/png": "[encoded data removed]",
      "text/plain": [
       "<matplotlib.figure.Figure at 0x11f770ba8>"
      ]
     },
     "metadata": {},
     "output_type": "display_data"
    }
   ],
   "source": [
    "plt.style.use('fivethirtyeight')\n",
    "fig, ax = plt.subplots(1, 3, figsize=(15,5), sharey=True)\n",
    "all_bills.plot(x='bill_length', y='KL_rouge1_R', kind='scatter', alpha=0.5, ax=ax[0])\n",
    "all_bills.plot(x='bill_length', y='LR_rouge1_R', kind='scatter', alpha=0.5, ax=ax[1])\n",
    "all_bills.plot(x='bill_length', y='see_rouge1_R', kind='scatter', alpha=0.5, ax=ax[2])"
   ]
  },
  {
   "cell_type": "code",
   "execution_count": 45,
   "metadata": {
    "collapsed": false
   },
   "outputs": [
    {
     "data": {
      "text/plain": [
       "<matplotlib.axes._subplots.AxesSubplot at 0x11f770048>"
      ]
     },
     "execution_count": 45,
     "metadata": {},
     "output_type": "execute_result"
    },
    {
     "data": {
      "image/png": "[encoded data removed]",
      "text/plain": [
       "<matplotlib.figure.Figure at 0x11a56b630>"
      ]
     },
     "metadata": {},
     "output_type": "display_data"
    }
   ],
   "source": [
    "plt.style.use('fivethirtyeight')\n",
    "fig, ax = plt.subplots(1, figsize=(10,10))\n",
    "all_bills.plot(x='bill_length', y='summ_length', kind='scatter', ax=ax)"
   ]
  },
  {
   "cell_type": "code",
   "execution_count": null,
   "metadata": {
    "collapsed": true
   },
   "outputs": [],
   "source": []
  }
 ],
 "metadata": {
  "anaconda-cloud": {},
  "kernelspec": {
   "display_name": "Python [conda env:py3k]",
   "language": "python",
   "name": "conda-env-py3k-py"
  },
  "language_info": {
   "codemirror_mode": {
    "name": "ipython",
    "version": 3
   },
   "file_extension": ".py",
   "mimetype": "text/x-python",
   "name": "python",
   "nbconvert_exporter": "python",
   "pygments_lexer": "ipython3",
   "version": "3.5.2"
  }
 },
 "nbformat": 4,
 "nbformat_minor": 1
}
