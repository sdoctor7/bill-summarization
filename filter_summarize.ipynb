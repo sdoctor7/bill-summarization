{
 "cells": [
  {
   "cell_type": "code",
   "execution_count": 1,
   "metadata": {
    "collapsed": false
   },
   "outputs": [],
   "source": [
    "from utils import *\n",
    "import pandas as pd"
   ]
  },
  {
   "cell_type": "markdown",
   "metadata": {},
   "source": [
    "#### Extract Bills & Summaries"
   ]
  },
  {
   "cell_type": "code",
   "execution_count": 2,
   "metadata": {
    "collapsed": true
   },
   "outputs": [],
   "source": [
    "# Bills\n",
    "INDIR_115_HR = './data/115/bills/hr'\n",
    "INDIR_115_S = './data/115/bills/s'\n",
    "\n",
    "# Concurrent Resolutions\n",
    "INDIR_115_HCONRES = './data/115/bills/hconres'\n",
    "INDIR_115_SCONRES = './data/115/bills/sconres'\n",
    "\n",
    "# Joint Resolutions\n",
    "INDIR_115_HJRES = './data/115/bills/hjres'\n",
    "INDIR_115_SJRES = './data/115/bills/sjres'\n",
    "\n",
    "# Simple Resolutions\n",
    "INDIR_115_HRES = './data/115/bills/hres'\n",
    "INDIR_115_SRES = './data/115/bills/sres'\n",
    "\n",
    "INDIR_ALL = [INDIR_115_HR, INDIR_115_S, \n",
    "              INDIR_115_HCONRES, INDIR_115_SCONRES, \n",
    "              INDIR_115_HJRES, INDIR_115_SJRES, \n",
    "              INDIR_115_HRES, INDIR_115_SRES\n",
    "             ]"
   ]
  },
  {
   "cell_type": "code",
   "execution_count": 3,
   "metadata": {
    "collapsed": false
   },
   "outputs": [
    {
     "name": "stdout",
     "output_type": "stream",
     "text": [
      "Processing ./data/115/bills/hr\n",
      "Processing ./data/115/bills/s\n",
      "Processing ./data/115/bills/hconres\n",
      "Processing ./data/115/bills/sconres\n",
      "Processing ./data/115/bills/hjres\n",
      "Processing ./data/115/bills/sjres\n",
      "Processing ./data/115/bills/hres\n",
      "Processing ./data/115/bills/sres\n"
     ]
    }
   ],
   "source": [
    "data = []\n",
    "\n",
    "for i in INDIR_ALL:\n",
    "    print('Processing {}'.format(i))\n",
    "    for d in walk_dirs(i):\n",
    "        data.append(d)\n",
    "        \n",
    "df_115 = pd.DataFrame(data)"
   ]
  },
  {
   "cell_type": "code",
   "execution_count": 4,
   "metadata": {
    "collapsed": false
   },
   "outputs": [
    {
     "data": {
      "text/html": [
       "<div>\n",
       "<table border=\"1\" class=\"dataframe\">\n",
       "  <thead>\n",
       "    <tr style=\"text-align: right;\">\n",
       "      <th></th>\n",
       "      <th>Directory</th>\n",
       "      <th>Number</th>\n",
       "      <th>Subtype</th>\n",
       "      <th>Summary</th>\n",
       "      <th>Type</th>\n",
       "      <th>Version</th>\n",
       "    </tr>\n",
       "  </thead>\n",
       "  <tbody>\n",
       "    <tr>\n",
       "      <th>0</th>\n",
       "      <td>./data/115/bills/hr/hr1/text-versions/ih</td>\n",
       "      <td>HR1</td>\n",
       "      <td>HR</td>\n",
       "      <td>1</td>\n",
       "      <td>Bills</td>\n",
       "      <td>IH</td>\n",
       "    </tr>\n",
       "    <tr>\n",
       "      <th>1</th>\n",
       "      <td>./data/115/bills/hr/hr10/text-versions/eh</td>\n",
       "      <td>HR10</td>\n",
       "      <td>HR</td>\n",
       "      <td>1</td>\n",
       "      <td>Bills</td>\n",
       "      <td>EH</td>\n",
       "    </tr>\n",
       "    <tr>\n",
       "      <th>2</th>\n",
       "      <td>./data/115/bills/hr/hr10/text-versions/ih</td>\n",
       "      <td>HR10</td>\n",
       "      <td>HR</td>\n",
       "      <td>1</td>\n",
       "      <td>Bills</td>\n",
       "      <td>IH</td>\n",
       "    </tr>\n",
       "    <tr>\n",
       "      <th>3</th>\n",
       "      <td>./data/115/bills/hr/hr10/text-versions/rfs</td>\n",
       "      <td>HR10</td>\n",
       "      <td>HR</td>\n",
       "      <td>1</td>\n",
       "      <td>Bills</td>\n",
       "      <td>RFS</td>\n",
       "    </tr>\n",
       "    <tr>\n",
       "      <th>4</th>\n",
       "      <td>./data/115/bills/hr/hr10/text-versions/rh</td>\n",
       "      <td>HR10</td>\n",
       "      <td>HR</td>\n",
       "      <td>1</td>\n",
       "      <td>Bills</td>\n",
       "      <td>RH</td>\n",
       "    </tr>\n",
       "  </tbody>\n",
       "</table>\n",
       "</div>"
      ],
      "text/plain": [
       "                                    Directory Number Subtype  Summary   Type  \\\n",
       "0    ./data/115/bills/hr/hr1/text-versions/ih    HR1      HR        1  Bills   \n",
       "1   ./data/115/bills/hr/hr10/text-versions/eh   HR10      HR        1  Bills   \n",
       "2   ./data/115/bills/hr/hr10/text-versions/ih   HR10      HR        1  Bills   \n",
       "3  ./data/115/bills/hr/hr10/text-versions/rfs   HR10      HR        1  Bills   \n",
       "4   ./data/115/bills/hr/hr10/text-versions/rh   HR10      HR        1  Bills   \n",
       "\n",
       "  Version  \n",
       "0      IH  \n",
       "1      EH  \n",
       "2      IH  \n",
       "3     RFS  \n",
       "4      RH  "
      ]
     },
     "execution_count": 4,
     "metadata": {},
     "output_type": "execute_result"
    }
   ],
   "source": [
    "df_115.head()"
   ]
  },
  {
   "cell_type": "markdown",
   "metadata": {},
   "source": [
    "#### Summary Stats"
   ]
  },
  {
   "cell_type": "code",
   "execution_count": 5,
   "metadata": {
    "collapsed": false,
    "scrolled": true
   },
   "outputs": [
    {
     "name": "stdout",
     "output_type": "stream",
     "text": [
      "Number of rows: 9390\n",
      "Number of unique bills: 7626\n"
     ]
    }
   ],
   "source": [
    "print('Number of rows: {}'.format(len(df_115)))\n",
    "print('Number of unique bills: {}'.format(len(df_115.Number.unique())))"
   ]
  },
  {
   "cell_type": "markdown",
   "metadata": {},
   "source": [
    "When Version = N/A it means there are no bill texts, so these are not usable."
   ]
  },
  {
   "cell_type": "code",
   "execution_count": 6,
   "metadata": {
    "collapsed": false
   },
   "outputs": [
    {
     "name": "stdout",
     "output_type": "stream",
     "text": [
      "Number of unique bills with bill text: 7548\n"
     ]
    }
   ],
   "source": [
    "with_bill_text = df_115[df_115.Version != 'N/A']\n",
    "print('Number of unique bills with bill text: {}'.format(len(with_bill_text.Number.unique())))"
   ]
  },
  {
   "cell_type": "markdown",
   "metadata": {},
   "source": [
    "We are only interested in bills that have at least one summary."
   ]
  },
  {
   "cell_type": "code",
   "execution_count": 7,
   "metadata": {
    "collapsed": false
   },
   "outputs": [
    {
     "name": "stdout",
     "output_type": "stream",
     "text": [
      "Number of unique bills with bill text and at least one summary: 5192\n"
     ]
    }
   ],
   "source": [
    "with_summary = with_bill_text[with_bill_text.Summary > 0]\n",
    "print('Number of unique bills with bill text and at least one summary: {}'.format(len(with_summary.Number.unique())))"
   ]
  },
  {
   "cell_type": "markdown",
   "metadata": {},
   "source": [
    "How many of each type are there?"
   ]
  },
  {
   "cell_type": "code",
   "execution_count": 8,
   "metadata": {
    "collapsed": false
   },
   "outputs": [
    {
     "data": {
      "text/plain": [
       "Type                    Subtype\n",
       "Bills                   HR         3872\n",
       "                        S          1560\n",
       "Concurrent Resolutions  HCONRES     118\n",
       "                        SCONRES      45\n",
       "Joint Resolutions       HJRES       173\n",
       "                        SJRES        68\n",
       "Simple Resolutions      HRES        631\n",
       "                        SRES        332\n",
       "dtype: int64"
      ]
     },
     "execution_count": 8,
     "metadata": {},
     "output_type": "execute_result"
    }
   ],
   "source": [
    "with_summary.groupby(['Type', 'Subtype']).size()"
   ]
  },
  {
   "cell_type": "markdown",
   "metadata": {},
   "source": [
    "Since there are multiple versions of each bill, choose the most recent one."
   ]
  },
  {
   "cell_type": "code",
   "execution_count": 9,
   "metadata": {
    "collapsed": false
   },
   "outputs": [
    {
     "name": "stderr",
     "output_type": "stream",
     "text": [
      "/Users/stephaniedoctor/anaconda/envs/py3k/lib/python3.5/site-packages/ipykernel/__main__.py:1: SettingWithCopyWarning: \n",
      "A value is trying to be set on a copy of a slice from a DataFrame.\n",
      "Try using .loc[row_indexer,col_indexer] = value instead\n",
      "\n",
      "See the caveats in the documentation: http://pandas.pydata.org/pandas-docs/stable/indexing.html#indexing-view-versus-copy\n",
      "  if __name__ == '__main__':\n",
      "/Users/stephaniedoctor/Documents/Columbia/Capstone/bill-summarization/utils.py:314: UserWarning: Boolean Series key will be reindexed to match DataFrame index.\n",
      "  df = with_summary[with_summary.Number == bill_no][with_summary.Version != 'EAS']\n",
      "/Users/stephaniedoctor/anaconda/envs/py3k/lib/python3.5/site-packages/pandas/core/indexing.py:465: SettingWithCopyWarning: \n",
      "A value is trying to be set on a copy of a slice from a DataFrame.\n",
      "Try using .loc[row_indexer,col_indexer] = value instead\n",
      "\n",
      "See the caveats in the documentation: http://pandas.pydata.org/pandas-docs/stable/indexing.html#indexing-view-versus-copy\n",
      "  self.obj[item] = s\n",
      "/Users/stephaniedoctor/Documents/Columbia/Capstone/bill-summarization/utils.py:358: UserWarning: Boolean Series key will be reindexed to match DataFrame index.\n",
      "  idx = with_summary[with_summary.Number == bill_no][with_summary.Version == to_use].index\n",
      "/Users/stephaniedoctor/Documents/Columbia/Capstone/bill-summarization/utils.py:317: UserWarning: Boolean Series key will be reindexed to match DataFrame index.\n",
      "  idx = with_summary[with_summary.Number == bill_no][with_summary.Version == 'ENR'].index\n"
     ]
    }
   ],
   "source": [
    "with_summary['to_use'] = 0\n",
    "recents_marked = get_recent_bills(with_summary)\n",
    "unique_bills = recents_marked[recents_marked.to_use == 1]"
   ]
  },
  {
   "cell_type": "code",
   "execution_count": 11,
   "metadata": {
    "collapsed": false
   },
   "outputs": [
    {
     "data": {
      "text/html": [
       "<div>\n",
       "<table border=\"1\" class=\"dataframe\">\n",
       "  <thead>\n",
       "    <tr style=\"text-align: right;\">\n",
       "      <th></th>\n",
       "      <th>Directory</th>\n",
       "      <th>Number</th>\n",
       "      <th>Subtype</th>\n",
       "      <th>Summary</th>\n",
       "      <th>Type</th>\n",
       "      <th>Version</th>\n",
       "      <th>to_use</th>\n",
       "    </tr>\n",
       "  </thead>\n",
       "  <tbody>\n",
       "    <tr>\n",
       "      <th>0</th>\n",
       "      <td>./data/115/bills/hr/hr1/text-versions/ih</td>\n",
       "      <td>HR1</td>\n",
       "      <td>HR</td>\n",
       "      <td>1</td>\n",
       "      <td>Bills</td>\n",
       "      <td>IH</td>\n",
       "      <td>1</td>\n",
       "    </tr>\n",
       "    <tr>\n",
       "      <th>1</th>\n",
       "      <td>./data/115/bills/hr/hr10/text-versions/eh</td>\n",
       "      <td>HR10</td>\n",
       "      <td>HR</td>\n",
       "      <td>1</td>\n",
       "      <td>Bills</td>\n",
       "      <td>EH</td>\n",
       "      <td>1</td>\n",
       "    </tr>\n",
       "    <tr>\n",
       "      <th>5</th>\n",
       "      <td>./data/115/bills/hr/hr100/text-versions/ih</td>\n",
       "      <td>HR100</td>\n",
       "      <td>HR</td>\n",
       "      <td>1</td>\n",
       "      <td>Bills</td>\n",
       "      <td>IH</td>\n",
       "      <td>1</td>\n",
       "    </tr>\n",
       "    <tr>\n",
       "      <th>6</th>\n",
       "      <td>./data/115/bills/hr/hr1000/text-versions/ih</td>\n",
       "      <td>HR1000</td>\n",
       "      <td>HR</td>\n",
       "      <td>1</td>\n",
       "      <td>Bills</td>\n",
       "      <td>IH</td>\n",
       "      <td>1</td>\n",
       "    </tr>\n",
       "    <tr>\n",
       "      <th>7</th>\n",
       "      <td>./data/115/bills/hr/hr1001/text-versions/ih</td>\n",
       "      <td>HR1001</td>\n",
       "      <td>HR</td>\n",
       "      <td>1</td>\n",
       "      <td>Bills</td>\n",
       "      <td>IH</td>\n",
       "      <td>1</td>\n",
       "    </tr>\n",
       "  </tbody>\n",
       "</table>\n",
       "</div>"
      ],
      "text/plain": [
       "                                     Directory  Number Subtype  Summary  \\\n",
       "0     ./data/115/bills/hr/hr1/text-versions/ih     HR1      HR        1   \n",
       "1    ./data/115/bills/hr/hr10/text-versions/eh    HR10      HR        1   \n",
       "5   ./data/115/bills/hr/hr100/text-versions/ih   HR100      HR        1   \n",
       "6  ./data/115/bills/hr/hr1000/text-versions/ih  HR1000      HR        1   \n",
       "7  ./data/115/bills/hr/hr1001/text-versions/ih  HR1001      HR        1   \n",
       "\n",
       "    Type Version  to_use  \n",
       "0  Bills      IH       1  \n",
       "1  Bills      EH       1  \n",
       "5  Bills      IH       1  \n",
       "6  Bills      IH       1  \n",
       "7  Bills      IH       1  "
      ]
     },
     "execution_count": 11,
     "metadata": {},
     "output_type": "execute_result"
    }
   ],
   "source": [
    "unique_bills.head()"
   ]
  },
  {
   "cell_type": "code",
   "execution_count": 12,
   "metadata": {
    "collapsed": false
   },
   "outputs": [
    {
     "data": {
      "text/plain": [
       "IH     3063\n",
       "IS     1364\n",
       "EH      444\n",
       "ATS     146\n",
       "ENR      96\n",
       "ES       54\n",
       "RH       12\n",
       "PCS      12\n",
       "CPS       1\n",
       "Name: Version, dtype: int64"
      ]
     },
     "execution_count": 12,
     "metadata": {},
     "output_type": "execute_result"
    }
   ],
   "source": [
    "unique_bills.Version.value_counts()"
   ]
  }
 ],
 "metadata": {
  "anaconda-cloud": {},
  "kernelspec": {
   "display_name": "Python [conda env:py3k]",
   "language": "python",
   "name": "conda-env-py3k-py"
  },
  "language_info": {
   "codemirror_mode": {
    "name": "ipython",
    "version": 3
   },
   "file_extension": ".py",
   "mimetype": "text/x-python",
   "name": "python",
   "nbconvert_exporter": "python",
   "pygments_lexer": "ipython3",
   "version": "3.5.2"
  }
 },
 "nbformat": 4,
 "nbformat_minor": 1
}
