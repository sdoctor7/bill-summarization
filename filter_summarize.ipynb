{
 "cells": [
  {
   "cell_type": "code",
   "execution_count": null,
   "metadata": {
    "collapsed": false,
    "deletable": true,
    "editable": true
   },
   "outputs": [],
   "source": [
    "from utils import *\n",
    "import pandas as pd\n",
    "import re\n",
    "import warnings\n",
    "warnings.filterwarnings('ignore')"
   ]
  },
  {
   "cell_type": "markdown",
   "metadata": {
    "deletable": true,
    "editable": true
   },
   "source": [
    "#### Extract Bills & Summaries"
   ]
  },
  {
   "cell_type": "code",
   "execution_count": null,
   "metadata": {
    "collapsed": true,
    "deletable": true,
    "editable": true
   },
   "outputs": [],
   "source": [
    "# Bills\n",
    "INDIR_115_HR = './data/115/bills/hr'\n",
    "INDIR_115_S = './data/115/bills/s'\n",
    "\n",
    "# Concurrent Resolutions\n",
    "INDIR_115_HCONRES = './data/115/bills/hconres'\n",
    "INDIR_115_SCONRES = './data/115/bills/sconres'\n",
    "\n",
    "# Joint Resolutions\n",
    "INDIR_115_HJRES = './data/115/bills/hjres'\n",
    "INDIR_115_SJRES = './data/115/bills/sjres'\n",
    "\n",
    "# Simple Resolutions\n",
    "INDIR_115_HRES = './data/115/bills/hres'\n",
    "INDIR_115_SRES = './data/115/bills/sres'\n",
    "\n",
    "INDIR_ALL = [INDIR_115_HR, INDIR_115_S, \n",
    "              INDIR_115_HCONRES, INDIR_115_SCONRES, \n",
    "              INDIR_115_HJRES, INDIR_115_SJRES, \n",
    "              INDIR_115_HRES, INDIR_115_SRES\n",
    "             ]"
   ]
  },
  {
   "cell_type": "code",
   "execution_count": null,
   "metadata": {
    "collapsed": false,
    "deletable": true,
    "editable": true
   },
   "outputs": [],
   "source": [
    "data = []\n",
    "\n",
    "for i in INDIR_ALL:\n",
    "    print('Processing {}'.format(i))\n",
    "    for d in walk_dirs(i):\n",
    "        data.append(d)\n",
    "        \n",
    "df_115 = pd.DataFrame(data)"
   ]
  },
  {
   "cell_type": "code",
   "execution_count": null,
   "metadata": {
    "collapsed": false,
    "deletable": true,
    "editable": true
   },
   "outputs": [],
   "source": [
    "df_115.head()"
   ]
  },
  {
   "cell_type": "markdown",
   "metadata": {
    "deletable": true,
    "editable": true
   },
   "source": [
    "#### Summary Stats, Deduplicate, Filter for Bills with Summaries"
   ]
  },
  {
   "cell_type": "code",
   "execution_count": null,
   "metadata": {
    "collapsed": false,
    "deletable": true,
    "editable": true,
    "scrolled": true
   },
   "outputs": [],
   "source": [
    "print('Number of rows: {}'.format(len(df_115)))\n",
    "print('Number of unique bills: {}'.format(len(df_115.Number.unique())))"
   ]
  },
  {
   "cell_type": "markdown",
   "metadata": {
    "deletable": true,
    "editable": true
   },
   "source": [
    "When Version = N/A it means there are no bill texts, so these are not usable."
   ]
  },
  {
   "cell_type": "code",
   "execution_count": null,
   "metadata": {
    "collapsed": false,
    "deletable": true,
    "editable": true
   },
   "outputs": [],
   "source": [
    "with_bill_text = df_115[df_115.Version != 'N/A']\n",
    "print('Number of unique bills with bill text: {}'.format(len(with_bill_text.Number.unique())))"
   ]
  },
  {
   "cell_type": "markdown",
   "metadata": {
    "deletable": true,
    "editable": true
   },
   "source": [
    "We are only interested in bills that have at least one summary."
   ]
  },
  {
   "cell_type": "code",
   "execution_count": null,
   "metadata": {
    "collapsed": false,
    "deletable": true,
    "editable": true
   },
   "outputs": [],
   "source": [
    "with_summary = with_bill_text[with_bill_text.Summary > 0]\n",
    "print('Number of unique bills with bill text and at least one summary: {}'.format(len(with_summary.Number.unique())))"
   ]
  },
  {
   "cell_type": "markdown",
   "metadata": {
    "deletable": true,
    "editable": true
   },
   "source": [
    "How many of each type are there?"
   ]
  },
  {
   "cell_type": "code",
   "execution_count": null,
   "metadata": {
    "collapsed": false,
    "deletable": true,
    "editable": true
   },
   "outputs": [],
   "source": [
    "with_summary.groupby(['Type', 'Subtype']).size()"
   ]
  },
  {
   "cell_type": "markdown",
   "metadata": {
    "deletable": true,
    "editable": true
   },
   "source": [
    "Since there are multiple versions of each bill, choose the most recent one."
   ]
  },
  {
   "cell_type": "code",
   "execution_count": null,
   "metadata": {
    "collapsed": false,
    "deletable": true,
    "editable": true
   },
   "outputs": [],
   "source": [
    "with_summary['to_use'] = 0\n",
    "recents_marked = get_recent_bills(with_summary)\n",
    "unique_bills = recents_marked[recents_marked.to_use == 1]"
   ]
  },
  {
   "cell_type": "code",
   "execution_count": null,
   "metadata": {
    "collapsed": false,
    "deletable": true,
    "editable": true,
    "scrolled": true
   },
   "outputs": [],
   "source": [
    "unique_bills.head()"
   ]
  },
  {
   "cell_type": "code",
   "execution_count": null,
   "metadata": {
    "collapsed": false,
    "deletable": true,
    "editable": true
   },
   "outputs": [],
   "source": [
    "unique_bills.Version.value_counts()"
   ]
  },
  {
   "cell_type": "markdown",
   "metadata": {
    "deletable": true,
    "editable": true
   },
   "source": [
    "#### Get & Clean Bill & Summary Texts"
   ]
  },
  {
   "cell_type": "code",
   "execution_count": null,
   "metadata": {
    "collapsed": true,
    "deletable": true,
    "editable": true
   },
   "outputs": [],
   "source": [
    "def get_clean_bill(row):\n",
    "    path = row['Directory']\n",
    "    with open(path+'/document.txt') as f:\n",
    "        bill_text = f.read()\n",
    "    text1 = bill_text.split('_______________________________________________________________________')[-1]\n",
    "    text2 = [i.strip().rstrip() for i in text1.split('\\n')]\n",
    "    text3 = [re.sub('--', ' ', i) for i in text2]\n",
    "    exclude = '|'.join(['`', \"''.\", '<all>', 'Sec\\. [0-9]+\\. ', 'Subtitle [A-Za-z0-9] ', 'A BILL', \n",
    "                        'A [A-Z]+ RESOLUTION', 'AN ACT'])\n",
    "    text4 = [re.sub(exclude, '', i, flags=re.I) for i in text3]\n",
    "    text5 = [i for i in text4 if i!='']\n",
    "    bill = re.sub('\\. \\([A-Za-z0-9]\\)', '.', ' '.join(text5))\n",
    "    return bill"
   ]
  },
  {
   "cell_type": "code",
   "execution_count": null,
   "metadata": {
    "collapsed": true
   },
   "outputs": [],
   "source": [
    "def get_clean_bill(row):\n",
    "    path = row['Directory']\n",
    "    with open(path+'/document.xml') as f:\n",
    "        bill_xml = xmltodict.parse(f.read())\n",
    "    \n",
    "    text1 = bill_text.split('_______________________________________________________________________')[-1]\n",
    "    text2 = [i.strip().rstrip() for i in text1.split('\\n')]\n",
    "    text3 = [re.sub('--', ' ', i) for i in text2]\n",
    "    exclude = '|'.join(['`', \"''.\", '<all>', 'Sec\\. [0-9]+\\. ', 'Subtitle [A-Za-z0-9] ', 'A BILL', \n",
    "                        'A [A-Z]+ RESOLUTION', 'AN ACT'])\n",
    "    text4 = [re.sub(exclude, '', i, flags=re.I) for i in text3]\n",
    "    text5 = [i for i in text4 if i!='']\n",
    "    bill = re.sub('\\. \\([A-Za-z0-9]\\)', '.', ' '.join(text5))\n",
    "    return bill\n",
    "\n"
   ]
  },
  {
   "cell_type": "code",
   "execution_count": null,
   "metadata": {
    "collapsed": false
   },
   "outputs": [],
   "source": [
    "def get_title(row):\n",
    "    path = row['Directory']\n",
    "\n",
    "    with open(path+'/document.xml') as f: # for bills\n",
    "        data = xmltodict.parse(f.read())\n",
    "    \n",
    "    t = 'resolution'\n",
    "    if 'bill' in data:\n",
    "        t = 'bill'       \n",
    "    title = data[t]['form']['official-title']\n",
    "#     \n",
    "    if isinstance(title, dict):\n",
    "        if \"#text\" in title:\n",
    "            title = title['#text']\n",
    "    if not isinstance(title, unicode):\n",
    "        print title, path\n",
    "        return \"\"\n",
    "    text6 = [i.strip().rstrip() for i in title.split('\\n')]\n",
    "    text7 = [re.sub('\\(Sec\\. [0-9]+\\)', '', i) for i in text6]\n",
    "    text8 = [i for i in text7 if i!='']\n",
    "    title = ' '.join(text8)\n",
    "    return title\n",
    "\n",
    "    "
   ]
  },
  {
   "cell_type": "code",
   "execution_count": null,
   "metadata": {
    "collapsed": true,
    "deletable": true,
    "editable": true
   },
   "outputs": [],
   "source": [
    "def get_clean_summary(row):\n",
    "    path = row['Directory']\n",
    "    with open('/'.join(path.split('/')[0:6])+'/data.xml') as f:\n",
    "        dict1 = xmltodict.parse(f.read())\n",
    "    summary_text = dict1['bill']['summary']['#text']\n",
    "    text6 = [i.strip().rstrip() for i in summary_text.split('\\n')]\n",
    "    text7 = [re.sub('\\(Sec\\. [0-9]+\\)', '', i) for i in text6]\n",
    "    text8 = [i for i in text7 if i!='']\n",
    "    summary = ' '.join(text8)\n",
    "    return summary"
   ]
  },
  {
   "cell_type": "code",
   "execution_count": null,
   "metadata": {
    "collapsed": false,
    "deletable": true,
    "editable": true
   },
   "outputs": [],
   "source": [
    "unique_bills['bill'] = unique_bills.apply(lambda x: get_clean_bill(x), axis=1)"
   ]
  },
  {
   "cell_type": "code",
   "execution_count": null,
   "metadata": {
    "collapsed": false
   },
   "outputs": [],
   "source": [
    "unique_bills['title'] = unique_bills.apply(lambda x: get_title(x), axis=1)"
   ]
  },
  {
   "cell_type": "code",
   "execution_count": null,
   "metadata": {
    "collapsed": false
   },
   "outputs": [],
   "source": []
  },
  {
   "cell_type": "code",
   "execution_count": null,
   "metadata": {
    "collapsed": false,
    "deletable": true,
    "editable": true
   },
   "outputs": [],
   "source": [
    "unique_bills['summary'] = unique_bills.apply(lambda x: get_clean_summary(x), axis=1)"
   ]
  },
  {
   "cell_type": "code",
   "execution_count": null,
   "metadata": {
    "collapsed": false
   },
   "outputs": [],
   "source": [
    "unique_bills['title'][3]"
   ]
  },
  {
   "cell_type": "markdown",
   "metadata": {
    "deletable": true,
    "editable": true
   },
   "source": [
    "#### Find Budget-related Bills"
   ]
  },
  {
   "cell_type": "code",
   "execution_count": null,
   "metadata": {
    "collapsed": true,
    "deletable": true,
    "editable": true
   },
   "outputs": [],
   "source": [
    "budget_words = ['budget', 'fund', 'appropriat']\n",
    "def is_budget(row):\n",
    "    bill = row['bill']\n",
    "    if re.search('|'.join(budget_words), bill) is None:\n",
    "        return 0\n",
    "    else:\n",
    "        return 1"
   ]
  },
  {
   "cell_type": "code",
   "execution_count": null,
   "metadata": {
    "collapsed": true,
    "deletable": true,
    "editable": true
   },
   "outputs": [],
   "source": [
    "unique_bills['is_budget'] = unique_bills.apply(lambda x: is_budget(x), axis=1)"
   ]
  },
  {
   "cell_type": "code",
   "execution_count": null,
   "metadata": {
    "collapsed": false,
    "deletable": true,
    "editable": true
   },
   "outputs": [],
   "source": [
    "budget_only = unique_bills[unique_bills.is_budget == 1]\n",
    "budget_only.head()"
   ]
  },
  {
   "cell_type": "markdown",
   "metadata": {
    "deletable": true,
    "editable": true
   },
   "source": [
    "How many budget bills are there and of what kind?"
   ]
  },
  {
   "cell_type": "code",
   "execution_count": null,
   "metadata": {
    "collapsed": false,
    "deletable": true,
    "editable": true
   },
   "outputs": [],
   "source": [
    "print('Number of budget bills: {}'.format(len(budget_only)))"
   ]
  },
  {
   "cell_type": "code",
   "execution_count": null,
   "metadata": {
    "collapsed": false,
    "deletable": true,
    "editable": true
   },
   "outputs": [],
   "source": [
    "budget_only.groupby(['Type', 'Subtype']).size()"
   ]
  },
  {
   "cell_type": "code",
   "execution_count": null,
   "metadata": {
    "collapsed": false
   },
   "outputs": [],
   "source": [
    "budget_only.to_csv(\"out/budget_only.tsv\", sep='\\t', encoding='utf-8')"
   ]
  }
 ],
 "metadata": {
  "anaconda-cloud": {},
  "kernelspec": {
   "display_name": "Python 2",
   "language": "python",
   "name": "python2"
  },
  "language_info": {
   "codemirror_mode": {
    "name": "ipython",
    "version": 2
   },
   "file_extension": ".py",
   "mimetype": "text/x-python",
   "name": "python",
   "nbconvert_exporter": "python",
   "pygments_lexer": "ipython2",
   "version": "2.7.6"
  }
 },
 "nbformat": 4,
 "nbformat_minor": 1
}
