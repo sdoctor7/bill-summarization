{
 "cells": [
  {
   "cell_type": "code",
   "execution_count": 94,
   "metadata": {
    "collapsed": false
   },
   "outputs": [],
   "source": [
    "import pandas as pd\n",
    "from utils import *\n",
    "import numpy as np\n",
    "from concurrent.futures import ProcessPoolExecutor\n",
    "import time\n",
    "import matplotlib.pyplot as plt\n",
    "%matplotlib inline"
   ]
  },
  {
   "cell_type": "code",
   "execution_count": 2,
   "metadata": {
    "collapsed": true
   },
   "outputs": [],
   "source": [
    "in_dir = 'out/113_114_115/'\n",
    "NUM_SENTENCE = 6"
   ]
  },
  {
   "cell_type": "code",
   "execution_count": 3,
   "metadata": {
    "collapsed": true
   },
   "outputs": [],
   "source": [
    "def extra_clean(s):\n",
    "    END_TOKENS = ['.', '!', '?', '...', \"'\", \"`\", '\"',\")\"]\n",
    "    s_new = s.strip().replace('``', '\"').replace(\"''\", '\"').replace('-LRB-', '(').replace('-RRB-', ')')\n",
    "    if s_new[-1] in END_TOKENS: return s_new\n",
    "    return s_new + \".\""
   ]
  },
  {
   "cell_type": "code",
   "execution_count": 4,
   "metadata": {
    "collapsed": true
   },
   "outputs": [],
   "source": [
    "def get_bill(data):\n",
    "    i, row = data\n",
    "    bill_dict = {}\n",
    "    bill = row.ID\n",
    "    bill_dict['ID'] = bill\n",
    "    \n",
    "    # get, clean, and save bill\n",
    "    bill_path = in_dir + 'BILL_' + bill + '.out'\n",
    "    with open(bill_path) as f:\n",
    "        bill_text = f.readlines()\n",
    "    num_bill_sentences = len(bill_text)\n",
    "    clean_bill = '\\n'.join([extra_clean(i) for i in bill_text])\n",
    "    bill_dict['bill_text'] = clean_bill\n",
    "    bill_dict['bill_text_clean'] = ' '.join(clean_bill.split('\\n'))\n",
    "    bill_dict['bill_length'] = num_bill_sentences\n",
    "    \n",
    "    # get, clean, and save CRS summary\n",
    "    summ_path = in_dir + 'SUMMARY_' + bill + '.out'\n",
    "    with open(summ_path) as f:\n",
    "        summ_text = f.readlines()\n",
    "    num_summ_sentences = len(summ_text)\n",
    "    clean_summ = '\\n'.join([extra_clean(i) for i in summ_text])\n",
    "    bill_dict['CRS_summary'] = clean_summ\n",
    "    bill_dict['CRS_summary_clean'] = ' '.join(clean_summ.split('\\n'))\n",
    "    bill_dict['summ_length'] = num_summ_sentences\n",
    "    \n",
    "    return bill_dict"
   ]
  },
  {
   "cell_type": "code",
   "execution_count": 5,
   "metadata": {
    "collapsed": true
   },
   "outputs": [],
   "source": [
    "def get_KL(data):\n",
    "    i, row = data\n",
    "    clean_bill = row.bill_text\n",
    "    bill_dict = {}\n",
    "    bill = row.ID\n",
    "    bill_dict['ID'] = bill\n",
    "    num_bill_sentences = row.bill_length\n",
    "    clean_summ = row.CRS_summary\n",
    "    \n",
    "    if num_bill_sentences < 300:\n",
    "        \n",
    "        # create and save automatic summaries\n",
    "        summary_KL = run_sumy(text = clean_bill, algo='KL', sent_count=NUM_SENTENCE)\n",
    "        summary_KL_clean = ' '.join([str(sentence) for sentence in summary_KL])\n",
    "        bill_dict['KL_summary'] = summary_KL_clean\n",
    "\n",
    "        # evaluate automatic summaries\n",
    "        CRS_sumy = convert_summary(clean_summ)\n",
    "        rouge_KL = eval_sumy(summary_KL, CRS_sumy)\n",
    "        bill_dict['KL_rouge_dict'] = rouge_KL\n",
    "        bill_dict['KL_rouge1'] = rouge_KL['rouge1_recall']\n",
    "    \n",
    "    return bill_dict"
   ]
  },
  {
   "cell_type": "code",
   "execution_count": 44,
   "metadata": {
    "collapsed": true
   },
   "outputs": [],
   "source": [
    "def get_LR(data):\n",
    "    i, row = data\n",
    "    clean_bill = row.bill_text\n",
    "    bill_dict = {}\n",
    "    bill = row.ID\n",
    "    bill_dict['ID'] = bill\n",
    "    num_bill_sentences = row.bill_length\n",
    "    clean_summ = row.CRS_summary\n",
    "    \n",
    "    if num_bill_sentences < 300:\n",
    "        \n",
    "        # create and save automatic summaries\n",
    "        summary_LR = run_sumy(text = clean_bill, algo='LexRank', sent_count=NUM_SENTENCE)\n",
    "        summary_LR_clean = ' '.join([str(sentence) for sentence in summary_LR])\n",
    "        bill_dict['LR_summary'] = summary_LR_clean\n",
    "\n",
    "        # evaluate automatic summaries\n",
    "        CRS_sumy = convert_summary(clean_summ)\n",
    "        rouge_LR = eval_sumy(summary_LR, CRS_sumy)\n",
    "        bill_dict['LR_rouge_dict'] = rouge_LR\n",
    "        bill_dict['LR_rouge1'] = rouge_LR['rouge1_recall']\n",
    "        \n",
    "    return bill_dict"
   ]
  },
  {
   "cell_type": "code",
   "execution_count": 7,
   "metadata": {
    "collapsed": true
   },
   "outputs": [],
   "source": [
    "dev = pd.read_csv('./out/validate_113_114_115.csv')\n",
    "test = pd.read_csv('./out/test_113_114_115.csv')"
   ]
  },
  {
   "cell_type": "markdown",
   "metadata": {},
   "source": [
    "#### Dev Data"
   ]
  },
  {
   "cell_type": "markdown",
   "metadata": {},
   "source": [
    "###### Get Bill Data"
   ]
  },
  {
   "cell_type": "code",
   "execution_count": 8,
   "metadata": {
    "collapsed": true
   },
   "outputs": [],
   "source": [
    "# counts = range(1, len(dev)+1)\n",
    "# dev_dicts = []\n",
    "# with ProcessPoolExecutor() as executor:\n",
    "#     for i, bill_dict in zip(counts, executor.map(get_bill, dev.iterrows())):\n",
    "#         dev_dicts.append(bill_dict)\n",
    "#         if i % 100 == 0:\n",
    "#             print('{}/{} bills'.format(i, len(dev)))"
   ]
  },
  {
   "cell_type": "code",
   "execution_count": 9,
   "metadata": {
    "collapsed": true
   },
   "outputs": [],
   "source": [
    "# dev_bills = pd.DataFrame(dev_dicts)"
   ]
  },
  {
   "cell_type": "markdown",
   "metadata": {},
   "source": [
    "###### KL Summaries"
   ]
  },
  {
   "cell_type": "code",
   "execution_count": 10,
   "metadata": {
    "collapsed": true
   },
   "outputs": [],
   "source": [
    "# counts = range(1, len(dev_bills)+1)\n",
    "# dev_kl_dicts = []\n",
    "# with ProcessPoolExecutor() as executor:\n",
    "#     for i, bill_dict in zip(counts, executor.map(get_KL, dev_bills.iterrows())):\n",
    "#         dev_kl_dicts.append(bill_dict)\n",
    "#         if i % 100 == 0:\n",
    "#             print('{}/{} bills'.format(i, len(dev_bills)))"
   ]
  },
  {
   "cell_type": "code",
   "execution_count": 11,
   "metadata": {
    "collapsed": false
   },
   "outputs": [],
   "source": [
    "# dev_KL = pd.DataFrame(dev_kl_dicts)\n",
    "# dev_bills = dev_bills.merge(dev_KL, on='ID')"
   ]
  },
  {
   "cell_type": "markdown",
   "metadata": {},
   "source": [
    "###### LR Summaries"
   ]
  },
  {
   "cell_type": "code",
   "execution_count": 12,
   "metadata": {
    "collapsed": true
   },
   "outputs": [],
   "source": [
    "# counts = range(1, len(dev_bills)+1)\n",
    "# dev_lr_dicts = []\n",
    "# with ProcessPoolExecutor() as executor:\n",
    "#     for i, bill_dict in zip(counts, executor.map(get_LR, dev_bills.iterrows())):\n",
    "#         dev_lr_dicts.append(bill_dict)\n",
    "#         if i % 100 == 0:\n",
    "#             print('{}/{} bills'.format(i, len(dev_bills)))"
   ]
  },
  {
   "cell_type": "code",
   "execution_count": 13,
   "metadata": {
    "collapsed": true
   },
   "outputs": [],
   "source": [
    "# dev_LR = pd.DataFrame(dev_lr_dicts)\n",
    "# dev_bills = dev_bills.merge(dev_LR, on='ID')"
   ]
  },
  {
   "cell_type": "code",
   "execution_count": 14,
   "metadata": {
    "collapsed": true
   },
   "outputs": [],
   "source": [
    "# dev_bills.to_csv('dev_kl_lr.csv')"
   ]
  },
  {
   "cell_type": "code",
   "execution_count": 15,
   "metadata": {
    "collapsed": true
   },
   "outputs": [],
   "source": [
    "dev_bills = pd.read_csv('dev_kl_lr.csv')"
   ]
  },
  {
   "cell_type": "markdown",
   "metadata": {},
   "source": [
    "#### Test Data"
   ]
  },
  {
   "cell_type": "markdown",
   "metadata": {},
   "source": [
    "###### Get Bill Data"
   ]
  },
  {
   "cell_type": "code",
   "execution_count": 16,
   "metadata": {
    "collapsed": true
   },
   "outputs": [
    {
     "name": "stdout",
     "output_type": "stream",
     "text": [
      "100/2307 bills\n",
      "200/2307 bills\n",
      "300/2307 bills\n",
      "400/2307 bills\n",
      "500/2307 bills\n",
      "600/2307 bills\n",
      "700/2307 bills\n",
      "800/2307 bills\n",
      "900/2307 bills\n",
      "1000/2307 bills\n",
      "1100/2307 bills\n",
      "1200/2307 bills\n",
      "1300/2307 bills\n",
      "1400/2307 bills\n",
      "1500/2307 bills\n",
      "1600/2307 bills\n",
      "1700/2307 bills\n",
      "1800/2307 bills\n",
      "1900/2307 bills\n",
      "2000/2307 bills\n",
      "2100/2307 bills\n",
      "2200/2307 bills\n",
      "2300/2307 bills\n"
     ]
    }
   ],
   "source": [
    "# counts = range(1, len(test)+1)\n",
    "# test_dicts = []\n",
    "# with ProcessPoolExecutor() as executor:\n",
    "#     for i, bill_dict in zip(counts, executor.map(get_bill, test.iterrows())):\n",
    "#         test_dicts.append(bill_dict)\n",
    "#         if i % 100 == 0:\n",
    "#             print('{}/{} bills'.format(i, len(test)))"
   ]
  },
  {
   "cell_type": "code",
   "execution_count": 17,
   "metadata": {
    "collapsed": true
   },
   "outputs": [],
   "source": [
    "# test_bills = pd.DataFrame(test_dicts)"
   ]
  },
  {
   "cell_type": "markdown",
   "metadata": {},
   "source": [
    "###### KL Summaries"
   ]
  },
  {
   "cell_type": "code",
   "execution_count": 23,
   "metadata": {
    "collapsed": true
   },
   "outputs": [
    {
     "name": "stdout",
     "output_type": "stream",
     "text": [
      "100/2307 bills\n",
      "200/2307 bills\n",
      "300/2307 bills\n",
      "400/2307 bills\n",
      "500/2307 bills\n",
      "600/2307 bills\n",
      "700/2307 bills\n",
      "800/2307 bills\n",
      "900/2307 bills\n",
      "1000/2307 bills\n",
      "1100/2307 bills\n",
      "1200/2307 bills\n",
      "1300/2307 bills\n",
      "1400/2307 bills\n",
      "1500/2307 bills\n",
      "1600/2307 bills\n",
      "1700/2307 bills\n",
      "1800/2307 bills\n",
      "1900/2307 bills\n",
      "2000/2307 bills\n",
      "2100/2307 bills\n",
      "2200/2307 bills\n",
      "2300/2307 bills\n"
     ]
    }
   ],
   "source": [
    "# counts = range(1, len(test_bills)+1)\n",
    "# test_kl_dicts = []\n",
    "# with ProcessPoolExecutor() as executor:\n",
    "#     for i, bill_dict in zip(counts, executor.map(get_KL, test_bills.iterrows())):\n",
    "#         test_kl_dicts.append(bill_dict)\n",
    "#         if i % 100 == 0:\n",
    "#             print('{}/{} bills'.format(i, len(test_bills)))"
   ]
  },
  {
   "cell_type": "code",
   "execution_count": 24,
   "metadata": {
    "collapsed": false
   },
   "outputs": [],
   "source": [
    "# test_KL = pd.DataFrame(test_kl_dicts)\n",
    "# test_bills = test_bills.merge(test_KL, on='ID')"
   ]
  },
  {
   "cell_type": "markdown",
   "metadata": {},
   "source": [
    "###### LR Summaries"
   ]
  },
  {
   "cell_type": "code",
   "execution_count": 46,
   "metadata": {
    "collapsed": true
   },
   "outputs": [
    {
     "name": "stdout",
     "output_type": "stream",
     "text": [
      "0/2307 bills\n",
      "100/2307 bills\n",
      "200/2307 bills\n",
      "300/2307 bills\n",
      "400/2307 bills\n",
      "500/2307 bills\n",
      "600/2307 bills\n",
      "700/2307 bills\n",
      "800/2307 bills\n",
      "900/2307 bills\n",
      "1000/2307 bills\n",
      "1100/2307 bills\n",
      "1200/2307 bills\n",
      "1300/2307 bills\n",
      "1400/2307 bills\n",
      "1500/2307 bills\n",
      "1600/2307 bills\n",
      "1700/2307 bills\n",
      "1800/2307 bills\n",
      "1900/2307 bills\n",
      "2000/2307 bills\n",
      "2100/2307 bills\n",
      "2200/2307 bills\n",
      "2300/2307 bills\n"
     ]
    }
   ],
   "source": [
    "# test_lr_dicts = []\n",
    "# for i in range(len(test_bills)):\n",
    "#     bill_dict = get_LR((i, test_bills.iloc[i]))\n",
    "#     test_lr_dicts.append(bill_dict)\n",
    "#     if i % 100 == 0:\n",
    "#         print('{}/{} bills'.format(i, len(test_bills)))"
   ]
  },
  {
   "cell_type": "code",
   "execution_count": 47,
   "metadata": {
    "collapsed": true
   },
   "outputs": [],
   "source": [
    "# test_LR = pd.DataFrame(test_lr_dicts)\n",
    "# test_bills = test_bills.merge(test_LR, on='ID')"
   ]
  },
  {
   "cell_type": "code",
   "execution_count": 49,
   "metadata": {
    "collapsed": true
   },
   "outputs": [],
   "source": [
    "# test_bills.to_csv('test_kl_lr.csv')"
   ]
  },
  {
   "cell_type": "code",
   "execution_count": null,
   "metadata": {
    "collapsed": true
   },
   "outputs": [],
   "source": [
    "test_bills = pd.read_csv('test_kl_lr.csv')"
   ]
  },
  {
   "cell_type": "markdown",
   "metadata": {},
   "source": [
    "#### Stats"
   ]
  },
  {
   "cell_type": "code",
   "execution_count": 48,
   "metadata": {
    "collapsed": false
   },
   "outputs": [
    {
     "name": "stdout",
     "output_type": "stream",
     "text": [
      "Number of sentences\n",
      "\n",
      "Validation set \n",
      "\tMean: 108.37727666955767 \n",
      "\tStandard deviation: 471.88677259190126\n",
      "\n",
      "Test set \n",
      "\tMean: 108.03901170351105 \n",
      "\tStandard deviation: 579.7745802971876\n"
     ]
    }
   ],
   "source": [
    "print('Number of sentences')\n",
    "print('\\nValidation set \\n\\tMean: {} \\n\\tStandard deviation: {}'.format(dev_bills.bill_length.mean(), dev_bills.bill_length.std()))\n",
    "print('\\nTest set \\n\\tMean: {} \\n\\tStandard deviation: {}'.format(test_bills.bill_length.mean(), test_bills.bill_length.std()))"
   ]
  },
  {
   "cell_type": "code",
   "execution_count": 72,
   "metadata": {
    "collapsed": true
   },
   "outputs": [],
   "source": [
    "def get_rouge(row, algo, rouge_value):\n",
    "    if algo == 'KL':\n",
    "        rouge_dict = row.KL_rouge_dict\n",
    "    elif algo == 'LR':\n",
    "        rouge_dict = row.LR_rouge_dict\n",
    "    else:\n",
    "        raise 'incorrect algo'\n",
    "    if isinstance(rouge_dict, dict):\n",
    "        return rouge_dict[rouge_value]\n",
    "    else:\n",
    "        return None"
   ]
  },
  {
   "cell_type": "code",
   "execution_count": 73,
   "metadata": {
    "collapsed": false
   },
   "outputs": [],
   "source": [
    "test_bills['KL_rouge2'] = test_bills.apply(lambda x: get_rouge(x, 'KL', 'rouge2_recall'), axis=1)\n",
    "test_bills['KL_rougeL'] = test_bills.apply(lambda x: get_rouge(x, 'KL', 'rougeL_recall'), axis=1)\n",
    "test_bills['LR_rouge2'] = test_bills.apply(lambda x: get_rouge(x, 'LR', 'rouge2_recall'), axis=1)\n",
    "test_bills['LR_rougeL'] = test_bills.apply(lambda x: get_rouge(x, 'LR', 'rougeL_recall'), axis=1)"
   ]
  },
  {
   "cell_type": "code",
   "execution_count": 82,
   "metadata": {
    "collapsed": true
   },
   "outputs": [],
   "source": [
    "test_bills['KL_rouge1_P'] = test_bills.apply(lambda x: get_rouge(x, 'KL', 'rouge1_precision'), axis=1)\n",
    "test_bills['KL_rouge2_P'] = test_bills.apply(lambda x: get_rouge(x, 'KL', 'rouge2_precision'), axis=1)\n",
    "test_bills['KL_rougeL_P'] = test_bills.apply(lambda x: get_rouge(x, 'KL', 'rougeL_precision'), axis=1)\n",
    "test_bills['LR_rouge1_P'] = test_bills.apply(lambda x: get_rouge(x, 'LR', 'rouge1_precision'), axis=1)\n",
    "test_bills['LR_rouge2_P'] = test_bills.apply(lambda x: get_rouge(x, 'LR', 'rouge2_precision'), axis=1)\n",
    "test_bills['LR_rougeL_P'] = test_bills.apply(lambda x: get_rouge(x, 'LR', 'rougeL_precision'), axis=1)"
   ]
  },
  {
   "cell_type": "code",
   "execution_count": 89,
   "metadata": {
    "collapsed": false
   },
   "outputs": [],
   "source": [
    "test_bills['KL_rouge1_F'] = test_bills.apply(lambda x: get_rouge(x, 'KL', 'rouge1_f'), axis=1)\n",
    "test_bills['KL_rouge2_F'] = test_bills.apply(lambda x: get_rouge(x, 'KL', 'rouge2_f'), axis=1)\n",
    "test_bills['KL_rougeL_F'] = test_bills.apply(lambda x: get_rouge(x, 'KL', 'rougeL_F'), axis=1)\n",
    "test_bills['LR_rouge1_F'] = test_bills.apply(lambda x: get_rouge(x, 'LR', 'rouge1_f'), axis=1)\n",
    "test_bills['LR_rouge2_F'] = test_bills.apply(lambda x: get_rouge(x, 'LR', 'rouge2_f'), axis=1)\n",
    "test_bills['LR_rougeL_F'] = test_bills.apply(lambda x: get_rouge(x, 'LR', 'rougeL_F'), axis=1)"
   ]
  },
  {
   "cell_type": "code",
   "execution_count": 80,
   "metadata": {
    "collapsed": false
   },
   "outputs": [
    {
     "data": {
      "image/png": "[encoded data removed]",
      "text/plain": [
       "<matplotlib.figure.Figure at 0x11e5dbef0>"
      ]
     },
     "metadata": {},
     "output_type": "display_data"
    }
   ],
   "source": [
    "plt.style.use('seaborn')\n",
    "fig, ax = plt.subplots(2, 3, figsize=(15,10), sharex=True, sharey=True)\n",
    "test_bills.KL_rouge1.hist(bins=20, ax=ax[0,0])\n",
    "test_bills.KL_rouge2.hist(bins=20, ax=ax[0,1])\n",
    "test_bills.KL_rougeL.hist(bins=20, ax=ax[0,2])\n",
    "test_bills.LR_rouge1.hist(bins=20, ax=ax[1,0])\n",
    "test_bills.LR_rouge2.hist(bins=20, ax=ax[1,1])\n",
    "test_bills.LR_rougeL.hist(bins=20, ax=ax[1,2])\n",
    "ax[0,0].set_ylabel('KL-sum')\n",
    "ax[1,0].set_ylabel('LexRank')\n",
    "ax[0,0].set_title('Rouge-1')\n",
    "ax[0,1].set_title('Rouge-2')\n",
    "ax[0,2].set_title('Rouge-L')\n",
    "plt.show()"
   ]
  },
  {
   "cell_type": "code",
   "execution_count": 91,
   "metadata": {
    "collapsed": false
   },
   "outputs": [
    {
     "name": "stdout",
     "output_type": "stream",
     "text": [
      "KL_rouge1: mean 0.4085841104282545, std dev 0.19336888440152306\n",
      "KL_rouge2: mean 0.23263455521588702, std dev 0.19925127585179214\n",
      "KL_rougeL: mean 0.3136355462180281, std dev 0.19061786683168852\n",
      "LR_rouge1: mean 0.5425553923000387, std dev 0.1878182089693503\n",
      "LR_rouge2: mean 0.3401927956938935, std dev 0.20231607405959814\n",
      "LR_rougeL: mean 0.4175673675970298, std dev 0.1966441662414667\n",
      "KL_rouge1_P: mean 0.38759151384206464, std dev 0.14853923569612146\n",
      "KL_rouge2_P: mean 0.20997843180311165, std dev 0.13977260582494241\n",
      "KL_rougeL_P: mean 0.2614266473215968, std dev 0.12789598905640104\n",
      "LR_rouge1_P: mean 0.39769003646625495, std dev 0.13402333900411947\n",
      "LR_rouge2_P: mean 0.22427195413555015, std dev 0.11729779926565878\n",
      "LR_rougeL_P: mean 0.2480889948308329, std dev 0.10876001765519314\n",
      "KL_rouge1_F: mean 0.3685829637269611, std dev 0.1205262451655499\n",
      "KL_rouge2_F: mean 0.19740595795792892, std dev 0.1283010355519521\n",
      "KL_rougeL_F: mean 0.2229327252099482, std dev 0.10181155995029852\n",
      "LR_rouge1_F: mean 0.4320926182237406, std dev 0.11634693148097246\n",
      "LR_rouge2_F: mean 0.24937453563494685, std dev 0.1237376350323954\n",
      "LR_rougeL_F: mean 0.244607630843372, std dev 0.10648546268844318\n"
     ]
    }
   ],
   "source": [
    "metrics = ['KL_rouge1', 'KL_rouge2', 'KL_rougeL', 'LR_rouge1', 'LR_rouge2', 'LR_rougeL',\n",
    "          'KL_rouge1_P', 'KL_rouge2_P', 'KL_rougeL_P', 'LR_rouge1_P', 'LR_rouge2_P', 'LR_rougeL_P',\n",
    "          'KL_rouge1_F', 'KL_rouge2_F', 'KL_rougeL_F', 'LR_rouge1_F', 'LR_rouge2_F', 'LR_rougeL_F',]\n",
    "for metric in metrics:\n",
    "    print('{}: mean {}, std dev {}'.format(metric, test_bills[metric].mean(), test_bills[metric].std()))"
   ]
  },
  {
   "cell_type": "code",
   "execution_count": 98,
   "metadata": {
    "collapsed": false
   },
   "outputs": [
    {
     "data": {
      "text/plain": [
       "<matplotlib.axes._subplots.AxesSubplot at 0x11ef7a7f0>"
      ]
     },
     "execution_count": 98,
     "metadata": {},
     "output_type": "execute_result"
    },
    {
     "data": {
      "image/png": "[encoded data removed]",
      "text/plain": [
       "<matplotlib.figure.Figure at 0x128159630>"
      ]
     },
     "metadata": {},
     "output_type": "display_data"
    },
    {
     "data": {
      "image/png": "[encoded data removed]",
      "text/plain": [
       "<matplotlib.figure.Figure at 0x11e36f358>"
      ]
     },
     "metadata": {},
     "output_type": "display_data"
    },
    {
     "data": {
      "image/png": "[encoded data removed]",
      "text/plain": [
       "<matplotlib.figure.Figure at 0x116ee7400>"
      ]
     },
     "metadata": {},
     "output_type": "display_data"
    },
    {
     "data": {
      "image/png": "[encoded data removed]",
      "text/plain": [
       "<matplotlib.figure.Figure at 0x11f2de0b8>"
      ]
     },
     "metadata": {},
     "output_type": "display_data"
    }
   ],
   "source": [
    "test_bills.plot(x='bill_length', y='KL_rouge1', kind='scatter')\n",
    "test_bills.plot(x='bill_length', y='LR_rouge1', kind='scatter')\n",
    "test_bills.plot(x='summ_length', y='KL_rouge1', kind='scatter')\n",
    "test_bills.plot(x='summ_length', y='LR_rouge1', kind='scatter')"
   ]
  }
 ],
 "metadata": {
  "anaconda-cloud": {},
  "kernelspec": {
   "display_name": "Python [conda env:py3k]",
   "language": "python",
   "name": "conda-env-py3k-py"
  },
  "language_info": {
   "codemirror_mode": {
    "name": "ipython",
    "version": 3
   },
   "file_extension": ".py",
   "mimetype": "text/x-python",
   "name": "python",
   "nbconvert_exporter": "python",
   "pygments_lexer": "ipython3",
   "version": "3.5.2"
  }
 },
 "nbformat": 4,
 "nbformat_minor": 1
}
