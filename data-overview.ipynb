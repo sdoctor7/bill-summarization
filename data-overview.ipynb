{
 "cells": [
  {
   "cell_type": "code",
   "execution_count": 215,
   "metadata": {
    "collapsed": true
   },
   "outputs": [],
   "source": [
    "import pandas as pd\n",
    "import collections\n",
    "from utils import *"
   ]
  },
  {
   "cell_type": "code",
   "execution_count": 2,
   "metadata": {
    "collapsed": true
   },
   "outputs": [],
   "source": [
    "OUTDIR = 'output'\n",
    "INDIR_BILL = './data/bills' \n",
    "INDIR_SUMMARY = './data/summary' "
   ]
  },
  {
   "cell_type": "code",
   "execution_count": null,
   "metadata": {
    "collapsed": true
   },
   "outputs": [],
   "source": [
    "# version_def = pd.read_csv('version_definition.csv')\n",
    "# version_def['Version Abbreviation'] = version_def['Version Abbreviation'].str.upper()"
   ]
  },
  {
   "cell_type": "code",
   "execution_count": 199,
   "metadata": {
    "collapsed": false
   },
   "outputs": [],
   "source": [
    "# bills = []\n",
    "\n",
    "# for root, dirs, filenames in os.walk(INDIR_BILL):\n",
    "#     for filename in filenames:\n",
    "#         b_type, b_subtype, b_number, b_version, b_filename = extract_nameinfo(filename)\n",
    "        \n",
    "#         with open(os.path.join(INDIR_BILL, filename), 'rb') as f:\n",
    "#             doc = xmltodict.parse(f.read())\n",
    "            \n",
    "#             b_tags = [key for key, value in recursive_items(doc)]\n",
    "#             b_tags = list(set(b_tags))\n",
    "            \n",
    "#             b_dict = {'Type': b_type, \n",
    "#                       'Subtype': b_subtype, \n",
    "#                       'Number': b_number,\n",
    "#                       'Version Abbreviation': b_version,\n",
    "#                       'Filename': b_filename,\n",
    "#                       'Tags': b_tags\n",
    "#                      }\n",
    "            \n",
    "#             bills.append(b_dict)\n",
    "            \n",
    "# df_bills = pd.DataFrame(bills)\n",
    "# df_bills = pd.merge(df_bills, version_def, how='left', on='Version Abbreviation', suffixes=('', '_'))\n",
    "# df_bills.to_csv('tags.csv', index=False)"
   ]
  },
  {
   "cell_type": "markdown",
   "metadata": {},
   "source": [
    "# Bills"
   ]
  },
  {
   "cell_type": "code",
   "execution_count": 202,
   "metadata": {
    "collapsed": false
   },
   "outputs": [],
   "source": [
    "df_bills.read_csv('tags.csv', index=False, header=True)"
   ]
  },
  {
   "cell_type": "code",
   "execution_count": 211,
   "metadata": {
    "collapsed": false
   },
   "outputs": [
    {
     "data": {
      "text/html": [
       "<div>\n",
       "<table border=\"1\" class=\"dataframe\">\n",
       "  <thead>\n",
       "    <tr style=\"text-align: right;\">\n",
       "      <th></th>\n",
       "      <th>Count</th>\n",
       "    </tr>\n",
       "    <tr>\n",
       "      <th>Type</th>\n",
       "      <th></th>\n",
       "    </tr>\n",
       "  </thead>\n",
       "  <tbody>\n",
       "    <tr>\n",
       "      <th>Bills</th>\n",
       "      <td>6726</td>\n",
       "    </tr>\n",
       "    <tr>\n",
       "      <th>Concurrent Resolutions</th>\n",
       "      <td>147</td>\n",
       "    </tr>\n",
       "    <tr>\n",
       "      <th>Joint Resolutions</th>\n",
       "      <td>241</td>\n",
       "    </tr>\n",
       "    <tr>\n",
       "      <th>Simple Resolutions</th>\n",
       "      <td>924</td>\n",
       "    </tr>\n",
       "  </tbody>\n",
       "</table>\n",
       "</div>"
      ],
      "text/plain": [
       "                        Count\n",
       "Type                         \n",
       "Bills                    6726\n",
       "Concurrent Resolutions    147\n",
       "Joint Resolutions         241\n",
       "Simple Resolutions        924"
      ]
     },
     "execution_count": 211,
     "metadata": {},
     "output_type": "execute_result"
    }
   ],
   "source": [
    "df_bills.groupby(['Type']).count()[['Filename']].rename(columns={'Filename': 'Count'})"
   ]
  },
  {
   "cell_type": "markdown",
   "metadata": {},
   "source": [
    "* 15 of 6726 bills are amendment document. (`EAH` and `EAS`)"
   ]
  },
  {
   "cell_type": "code",
   "execution_count": 206,
   "metadata": {
    "collapsed": false
   },
   "outputs": [
    {
     "data": {
      "text/html": [
       "<div>\n",
       "<table border=\"1\" class=\"dataframe\">\n",
       "  <thead>\n",
       "    <tr style=\"text-align: right;\">\n",
       "      <th></th>\n",
       "      <th></th>\n",
       "      <th></th>\n",
       "      <th></th>\n",
       "      <th>Count</th>\n",
       "    </tr>\n",
       "    <tr>\n",
       "      <th>Type</th>\n",
       "      <th>Subtype</th>\n",
       "      <th>Version Abbreviation</th>\n",
       "      <th>Version</th>\n",
       "      <th></th>\n",
       "    </tr>\n",
       "  </thead>\n",
       "  <tbody>\n",
       "    <tr>\n",
       "      <th rowspan=\"21\" valign=\"top\">Bills</th>\n",
       "      <th rowspan=\"11\" valign=\"top\">HR</th>\n",
       "      <th>EAH</th>\n",
       "      <th>Engrossed Amendment House</th>\n",
       "      <td>2</td>\n",
       "    </tr>\n",
       "    <tr>\n",
       "      <th>EAS</th>\n",
       "      <th>Engrossed Amendment Senate</th>\n",
       "      <td>10</td>\n",
       "    </tr>\n",
       "    <tr>\n",
       "      <th>EH</th>\n",
       "      <th>Engrossed in House</th>\n",
       "      <td>300</td>\n",
       "    </tr>\n",
       "    <tr>\n",
       "      <th>ENR</th>\n",
       "      <th>Enrolled Bill</th>\n",
       "      <td>28</td>\n",
       "    </tr>\n",
       "    <tr>\n",
       "      <th>IH</th>\n",
       "      <th>Introduced in House</th>\n",
       "      <td>3743</td>\n",
       "    </tr>\n",
       "    <tr>\n",
       "      <th>PCS</th>\n",
       "      <th>Placed on Calendar Senate</th>\n",
       "      <td>18</td>\n",
       "    </tr>\n",
       "    <tr>\n",
       "      <th>RCS</th>\n",
       "      <th>Reference Change Senate</th>\n",
       "      <td>1</td>\n",
       "    </tr>\n",
       "    <tr>\n",
       "      <th>RDS</th>\n",
       "      <th>Received in Senate</th>\n",
       "      <td>28</td>\n",
       "    </tr>\n",
       "    <tr>\n",
       "      <th>RFS</th>\n",
       "      <th>Referred in Senate</th>\n",
       "      <td>256</td>\n",
       "    </tr>\n",
       "    <tr>\n",
       "      <th>RH</th>\n",
       "      <th>Reported in House</th>\n",
       "      <td>229</td>\n",
       "    </tr>\n",
       "    <tr>\n",
       "      <th>RS</th>\n",
       "      <th>Reported in Senate</th>\n",
       "      <td>24</td>\n",
       "    </tr>\n",
       "    <tr>\n",
       "      <th rowspan=\"10\" valign=\"top\">S</th>\n",
       "      <th>CPS</th>\n",
       "      <th>Considered and Passed Senate</th>\n",
       "      <td>2</td>\n",
       "    </tr>\n",
       "    <tr>\n",
       "      <th>EAH</th>\n",
       "      <th>Engrossed Amendment House</th>\n",
       "      <td>3</td>\n",
       "    </tr>\n",
       "    <tr>\n",
       "      <th>ENR</th>\n",
       "      <th>Enrolled Bill</th>\n",
       "      <td>11</td>\n",
       "    </tr>\n",
       "    <tr>\n",
       "      <th>ES</th>\n",
       "      <th>Engrossed in Senate</th>\n",
       "      <td>71</td>\n",
       "    </tr>\n",
       "    <tr>\n",
       "      <th>IS</th>\n",
       "      <th>Introduced in Senate</th>\n",
       "      <td>1787</td>\n",
       "    </tr>\n",
       "    <tr>\n",
       "      <th>PCS</th>\n",
       "      <th>Placed on Calendar Senate</th>\n",
       "      <td>15</td>\n",
       "    </tr>\n",
       "    <tr>\n",
       "      <th>RCS</th>\n",
       "      <th>Reference Change Senate</th>\n",
       "      <td>2</td>\n",
       "    </tr>\n",
       "    <tr>\n",
       "      <th>RFH</th>\n",
       "      <th>Referred in House</th>\n",
       "      <td>40</td>\n",
       "    </tr>\n",
       "    <tr>\n",
       "      <th>RH</th>\n",
       "      <th>Reported in House</th>\n",
       "      <td>1</td>\n",
       "    </tr>\n",
       "    <tr>\n",
       "      <th>RS</th>\n",
       "      <th>Reported in Senate</th>\n",
       "      <td>155</td>\n",
       "    </tr>\n",
       "    <tr>\n",
       "      <th rowspan=\"14\" valign=\"top\">Concurrent Resolutions</th>\n",
       "      <th rowspan=\"6\" valign=\"top\">HCONRES</th>\n",
       "      <th>EH</th>\n",
       "      <th>Engrossed in House</th>\n",
       "      <td>10</td>\n",
       "    </tr>\n",
       "    <tr>\n",
       "      <th>ENR</th>\n",
       "      <th>Enrolled Bill</th>\n",
       "      <td>6</td>\n",
       "    </tr>\n",
       "    <tr>\n",
       "      <th>IH</th>\n",
       "      <th>Introduced in House</th>\n",
       "      <td>73</td>\n",
       "    </tr>\n",
       "    <tr>\n",
       "      <th>RDS</th>\n",
       "      <th>Received in Senate</th>\n",
       "      <td>8</td>\n",
       "    </tr>\n",
       "    <tr>\n",
       "      <th>RFS</th>\n",
       "      <th>Referred in Senate</th>\n",
       "      <td>2</td>\n",
       "    </tr>\n",
       "    <tr>\n",
       "      <th>RH</th>\n",
       "      <th>Reported in House</th>\n",
       "      <td>4</td>\n",
       "    </tr>\n",
       "    <tr>\n",
       "      <th rowspan=\"8\" valign=\"top\">SCONRES</th>\n",
       "      <th>ATS</th>\n",
       "      <th>Agreed to Senate</th>\n",
       "      <td>5</td>\n",
       "    </tr>\n",
       "    <tr>\n",
       "      <th>ENR</th>\n",
       "      <th>Enrolled Bill</th>\n",
       "      <td>6</td>\n",
       "    </tr>\n",
       "    <tr>\n",
       "      <th>ES</th>\n",
       "      <th>Engrossed in Senate</th>\n",
       "      <td>7</td>\n",
       "    </tr>\n",
       "    <tr>\n",
       "      <th>IS</th>\n",
       "      <th>Introduced in Senate</th>\n",
       "      <td>18</td>\n",
       "    </tr>\n",
       "    <tr>\n",
       "      <th>PCS</th>\n",
       "      <th>Placed on Calendar Senate</th>\n",
       "      <td>1</td>\n",
       "    </tr>\n",
       "    <tr>\n",
       "      <th>RFH</th>\n",
       "      <th>Referred in House</th>\n",
       "      <td>2</td>\n",
       "    </tr>\n",
       "    <tr>\n",
       "      <th>RS</th>\n",
       "      <th>Reported in Senate</th>\n",
       "      <td>1</td>\n",
       "    </tr>\n",
       "    <tr>\n",
       "      <th>SC</th>\n",
       "      <th>Sponsor Change</th>\n",
       "      <td>4</td>\n",
       "    </tr>\n",
       "    <tr>\n",
       "      <th rowspan=\"13\" valign=\"top\">Joint Resolutions</th>\n",
       "      <th rowspan=\"7\" valign=\"top\">HJRES</th>\n",
       "      <th>EH</th>\n",
       "      <th>Engrossed in House</th>\n",
       "      <td>19</td>\n",
       "    </tr>\n",
       "    <tr>\n",
       "      <th>ENR</th>\n",
       "      <th>Enrolled Bill</th>\n",
       "      <td>15</td>\n",
       "    </tr>\n",
       "    <tr>\n",
       "      <th>IH</th>\n",
       "      <th>Introduced in House</th>\n",
       "      <td>116</td>\n",
       "    </tr>\n",
       "    <tr>\n",
       "      <th>PCS</th>\n",
       "      <th>Placed on Calendar Senate</th>\n",
       "      <td>1</td>\n",
       "    </tr>\n",
       "    <tr>\n",
       "      <th>RDS</th>\n",
       "      <th>Received in Senate</th>\n",
       "      <td>17</td>\n",
       "    </tr>\n",
       "    <tr>\n",
       "      <th>RFS</th>\n",
       "      <th>Referred in Senate</th>\n",
       "      <td>2</td>\n",
       "    </tr>\n",
       "    <tr>\n",
       "      <th>RH</th>\n",
       "      <th>Reported in House</th>\n",
       "      <td>2</td>\n",
       "    </tr>\n",
       "    <tr>\n",
       "      <th rowspan=\"6\" valign=\"top\">SJRES</th>\n",
       "      <th>CPS</th>\n",
       "      <th>Considered and Passed Senate</th>\n",
       "      <td>1</td>\n",
       "    </tr>\n",
       "    <tr>\n",
       "      <th>ENR</th>\n",
       "      <th>Enrolled Bill</th>\n",
       "      <td>6</td>\n",
       "    </tr>\n",
       "    <tr>\n",
       "      <th>ES</th>\n",
       "      <th>Engrossed in Senate</th>\n",
       "      <td>8</td>\n",
       "    </tr>\n",
       "    <tr>\n",
       "      <th>IS</th>\n",
       "      <th>Introduced in Senate</th>\n",
       "      <td>46</td>\n",
       "    </tr>\n",
       "    <tr>\n",
       "      <th>PCS</th>\n",
       "      <th>Placed on Calendar Senate</th>\n",
       "      <td>4</td>\n",
       "    </tr>\n",
       "    <tr>\n",
       "      <th>RFH</th>\n",
       "      <th>Referred in House</th>\n",
       "      <td>4</td>\n",
       "    </tr>\n",
       "    <tr>\n",
       "      <th rowspan=\"7\" valign=\"top\">Simple Resolutions</th>\n",
       "      <th rowspan=\"3\" valign=\"top\">HRES</th>\n",
       "      <th>EH</th>\n",
       "      <th>Engrossed in House</th>\n",
       "      <td>108</td>\n",
       "    </tr>\n",
       "    <tr>\n",
       "      <th>IH</th>\n",
       "      <th>Introduced in House</th>\n",
       "      <td>426</td>\n",
       "    </tr>\n",
       "    <tr>\n",
       "      <th>RH</th>\n",
       "      <th>Reported in House</th>\n",
       "      <td>70</td>\n",
       "    </tr>\n",
       "    <tr>\n",
       "      <th rowspan=\"4\" valign=\"top\">SRES</th>\n",
       "      <th>ATS</th>\n",
       "      <th>Agreed to Senate</th>\n",
       "      <td>141</td>\n",
       "    </tr>\n",
       "    <tr>\n",
       "      <th>IS</th>\n",
       "      <th>Introduced in Senate</th>\n",
       "      <td>172</td>\n",
       "    </tr>\n",
       "    <tr>\n",
       "      <th>PCS</th>\n",
       "      <th>Placed on Calendar Senate</th>\n",
       "      <td>1</td>\n",
       "    </tr>\n",
       "    <tr>\n",
       "      <th>RS</th>\n",
       "      <th>Reported in Senate</th>\n",
       "      <td>6</td>\n",
       "    </tr>\n",
       "  </tbody>\n",
       "</table>\n",
       "</div>"
      ],
      "text/plain": [
       "                                                                                  Count\n",
       "Type                   Subtype Version Abbreviation Version                            \n",
       "Bills                  HR      EAH                  Engrossed Amendment House         2\n",
       "                               EAS                  Engrossed Amendment Senate       10\n",
       "                               EH                   Engrossed in House              300\n",
       "                               ENR                  Enrolled Bill                    28\n",
       "                               IH                   Introduced in House            3743\n",
       "                               PCS                  Placed on Calendar Senate        18\n",
       "                               RCS                  Reference Change Senate           1\n",
       "                               RDS                  Received in Senate               28\n",
       "                               RFS                  Referred in Senate              256\n",
       "                               RH                   Reported in House               229\n",
       "                               RS                   Reported in Senate               24\n",
       "                       S       CPS                  Considered and Passed Senate      2\n",
       "                               EAH                  Engrossed Amendment House         3\n",
       "                               ENR                  Enrolled Bill                    11\n",
       "                               ES                   Engrossed in Senate              71\n",
       "                               IS                   Introduced in Senate           1787\n",
       "                               PCS                  Placed on Calendar Senate        15\n",
       "                               RCS                  Reference Change Senate           2\n",
       "                               RFH                  Referred in House                40\n",
       "                               RH                   Reported in House                 1\n",
       "                               RS                   Reported in Senate              155\n",
       "Concurrent Resolutions HCONRES EH                   Engrossed in House               10\n",
       "                               ENR                  Enrolled Bill                     6\n",
       "                               IH                   Introduced in House              73\n",
       "                               RDS                  Received in Senate                8\n",
       "                               RFS                  Referred in Senate                2\n",
       "                               RH                   Reported in House                 4\n",
       "                       SCONRES ATS                  Agreed to Senate                  5\n",
       "                               ENR                  Enrolled Bill                     6\n",
       "                               ES                   Engrossed in Senate               7\n",
       "                               IS                   Introduced in Senate             18\n",
       "                               PCS                  Placed on Calendar Senate         1\n",
       "                               RFH                  Referred in House                 2\n",
       "                               RS                   Reported in Senate                1\n",
       "                               SC                   Sponsor Change                    4\n",
       "Joint Resolutions      HJRES   EH                   Engrossed in House               19\n",
       "                               ENR                  Enrolled Bill                    15\n",
       "                               IH                   Introduced in House             116\n",
       "                               PCS                  Placed on Calendar Senate         1\n",
       "                               RDS                  Received in Senate               17\n",
       "                               RFS                  Referred in Senate                2\n",
       "                               RH                   Reported in House                 2\n",
       "                       SJRES   CPS                  Considered and Passed Senate      1\n",
       "                               ENR                  Enrolled Bill                     6\n",
       "                               ES                   Engrossed in Senate               8\n",
       "                               IS                   Introduced in Senate             46\n",
       "                               PCS                  Placed on Calendar Senate         4\n",
       "                               RFH                  Referred in House                 4\n",
       "Simple Resolutions     HRES    EH                   Engrossed in House              108\n",
       "                               IH                   Introduced in House             426\n",
       "                               RH                   Reported in House                70\n",
       "                       SRES    ATS                  Agreed to Senate                141\n",
       "                               IS                   Introduced in Senate            172\n",
       "                               PCS                  Placed on Calendar Senate         1\n",
       "                               RS                   Reported in Senate                6"
      ]
     },
     "execution_count": 206,
     "metadata": {},
     "output_type": "execute_result"
    }
   ],
   "source": [
    "df_bills.groupby(['Type', 'Subtype', 'Version Abbreviation', 'Version']).count()[['Filename']].rename(columns={'Filename': 'Count'})"
   ]
  },
  {
   "cell_type": "markdown",
   "metadata": {},
   "source": [
    "### Amendment"
   ]
  },
  {
   "cell_type": "code",
   "execution_count": 209,
   "metadata": {
    "collapsed": false
   },
   "outputs": [
    {
     "data": {
      "text/html": [
       "<div>\n",
       "<table border=\"1\" class=\"dataframe\">\n",
       "  <thead>\n",
       "    <tr style=\"text-align: right;\">\n",
       "      <th></th>\n",
       "      <th></th>\n",
       "      <th></th>\n",
       "      <th></th>\n",
       "      <th>Count</th>\n",
       "    </tr>\n",
       "    <tr>\n",
       "      <th>Type</th>\n",
       "      <th>Subtype</th>\n",
       "      <th>Version Abbreviation</th>\n",
       "      <th>Version</th>\n",
       "      <th></th>\n",
       "    </tr>\n",
       "  </thead>\n",
       "  <tbody>\n",
       "    <tr>\n",
       "      <th rowspan=\"3\" valign=\"top\">Bills</th>\n",
       "      <th rowspan=\"2\" valign=\"top\">HR</th>\n",
       "      <th>EAH</th>\n",
       "      <th>Engrossed Amendment House</th>\n",
       "      <td>2</td>\n",
       "    </tr>\n",
       "    <tr>\n",
       "      <th>EAS</th>\n",
       "      <th>Engrossed Amendment Senate</th>\n",
       "      <td>10</td>\n",
       "    </tr>\n",
       "    <tr>\n",
       "      <th>S</th>\n",
       "      <th>EAH</th>\n",
       "      <th>Engrossed Amendment House</th>\n",
       "      <td>3</td>\n",
       "    </tr>\n",
       "  </tbody>\n",
       "</table>\n",
       "</div>"
      ],
      "text/plain": [
       "                                                               Count\n",
       "Type  Subtype Version Abbreviation Version                          \n",
       "Bills HR      EAH                  Engrossed Amendment House       2\n",
       "              EAS                  Engrossed Amendment Senate     10\n",
       "      S       EAH                  Engrossed Amendment House       3"
      ]
     },
     "execution_count": 209,
     "metadata": {},
     "output_type": "execute_result"
    }
   ],
   "source": [
    "df_bills[df_bills['Version Abbreviation'].isin(['EAS', 'EAH'])].groupby(['Type', 'Subtype', 'Version Abbreviation', 'Version']).count()[['Filename']].rename(columns={'Filename': 'Count'})"
   ]
  },
  {
   "cell_type": "markdown",
   "metadata": {},
   "source": [
    "### "
   ]
  },
  {
   "cell_type": "code",
   "execution_count": 210,
   "metadata": {
    "collapsed": false
   },
   "outputs": [
    {
     "data": {
      "text/html": [
       "<div>\n",
       "<table border=\"1\" class=\"dataframe\">\n",
       "  <thead>\n",
       "    <tr style=\"text-align: right;\">\n",
       "      <th></th>\n",
       "      <th>Filename</th>\n",
       "      <th>Number</th>\n",
       "      <th>Subtype</th>\n",
       "      <th>Tags</th>\n",
       "      <th>Type</th>\n",
       "      <th>Version Abbreviation</th>\n",
       "      <th>Version</th>\n",
       "      <th>Definition</th>\n",
       "      <th>Chambers</th>\n",
       "    </tr>\n",
       "  </thead>\n",
       "  <tbody>\n",
       "    <tr>\n",
       "      <th>519</th>\n",
       "      <td>92510.140382952224512.47152.xml</td>\n",
       "      <td>NaN</td>\n",
       "      <td>NaN</td>\n",
       "      <td>[dc:publisher, paragraph, external-xref, form,...</td>\n",
       "      <td>NaN</td>\n",
       "      <td>NaN</td>\n",
       "      <td>NaN</td>\n",
       "      <td>NaN</td>\n",
       "      <td>NaN</td>\n",
       "    </tr>\n",
       "  </tbody>\n",
       "</table>\n",
       "</div>"
      ],
      "text/plain": [
       "                            Filename Number Subtype  \\\n",
       "519  92510.140382952224512.47152.xml    NaN     NaN   \n",
       "\n",
       "                                                  Tags Type  \\\n",
       "519  [dc:publisher, paragraph, external-xref, form,...  NaN   \n",
       "\n",
       "    Version Abbreviation Version Definition Chambers  \n",
       "519                  NaN     NaN        NaN      NaN  "
      ]
     },
     "execution_count": 210,
     "metadata": {},
     "output_type": "execute_result"
    }
   ],
   "source": [
    "df_bills[df_bills['Type'].isnull()]"
   ]
  },
  {
   "cell_type": "code",
   "execution_count": null,
   "metadata": {
    "collapsed": true
   },
   "outputs": [],
   "source": []
  },
  {
   "cell_type": "code",
   "execution_count": null,
   "metadata": {
    "collapsed": true
   },
   "outputs": [],
   "source": []
  },
  {
   "cell_type": "code",
   "execution_count": null,
   "metadata": {
    "collapsed": true
   },
   "outputs": [],
   "source": []
  },
  {
   "cell_type": "code",
   "execution_count": null,
   "metadata": {
    "collapsed": true
   },
   "outputs": [],
   "source": []
  },
  {
   "cell_type": "code",
   "execution_count": null,
   "metadata": {
    "collapsed": true
   },
   "outputs": [],
   "source": []
  },
  {
   "cell_type": "code",
   "execution_count": null,
   "metadata": {
    "collapsed": true
   },
   "outputs": [],
   "source": []
  },
  {
   "cell_type": "code",
   "execution_count": null,
   "metadata": {
    "collapsed": true
   },
   "outputs": [],
   "source": []
  },
  {
   "cell_type": "code",
   "execution_count": null,
   "metadata": {
    "collapsed": true
   },
   "outputs": [],
   "source": []
  },
  {
   "cell_type": "code",
   "execution_count": null,
   "metadata": {
    "collapsed": true
   },
   "outputs": [],
   "source": []
  },
  {
   "cell_type": "code",
   "execution_count": null,
   "metadata": {
    "collapsed": true
   },
   "outputs": [],
   "source": []
  },
  {
   "cell_type": "code",
   "execution_count": null,
   "metadata": {
    "collapsed": true
   },
   "outputs": [],
   "source": []
  },
  {
   "cell_type": "code",
   "execution_count": null,
   "metadata": {
    "collapsed": true
   },
   "outputs": [],
   "source": []
  },
  {
   "cell_type": "code",
   "execution_count": null,
   "metadata": {
    "collapsed": true
   },
   "outputs": [],
   "source": []
  }
 ],
 "metadata": {
  "kernelspec": {
   "display_name": "Python [conda root]",
   "language": "python",
   "name": "conda-root-py"
  },
  "language_info": {
   "codemirror_mode": {
    "name": "ipython",
    "version": 3
   },
   "file_extension": ".py",
   "mimetype": "text/x-python",
   "name": "python",
   "nbconvert_exporter": "python",
   "pygments_lexer": "ipython3",
   "version": "3.5.2"
  }
 },
 "nbformat": 4,
 "nbformat_minor": 2
}
