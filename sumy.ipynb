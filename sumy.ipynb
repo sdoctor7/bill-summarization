{
 "cells": [
  {
   "cell_type": "markdown",
   "metadata": {},
   "source": [
    "#### Import Libraries"
   ]
  },
  {
   "cell_type": "code",
   "execution_count": 47,
   "metadata": {
    "collapsed": false
   },
   "outputs": [],
   "source": [
    "import pandas as pd\n",
    "from utils import run_sumy, convert_summary, eval_sumy\n",
    "import matplotlib.pyplot as plt\n",
    "%matplotlib inline"
   ]
  },
  {
   "cell_type": "markdown",
   "metadata": {},
   "source": [
    "#### Import Data"
   ]
  },
  {
   "cell_type": "code",
   "execution_count": 69,
   "metadata": {
    "collapsed": true
   },
   "outputs": [],
   "source": [
    "# train = pd.read_csv('train.txt')\n",
    "dev = pd.read_csv('validate.txt')\n",
    "test = pd.read_csv('test.txt')"
   ]
  },
  {
   "cell_type": "code",
   "execution_count": 4,
   "metadata": {
    "collapsed": false
   },
   "outputs": [
    {
     "data": {
      "text/plain": [
       "4153"
      ]
     },
     "execution_count": 4,
     "metadata": {},
     "output_type": "execute_result"
    }
   ],
   "source": [
    "# len(train)"
   ]
  },
  {
   "cell_type": "code",
   "execution_count": 31,
   "metadata": {
    "collapsed": false
   },
   "outputs": [
    {
     "data": {
      "text/plain": [
       "519"
      ]
     },
     "execution_count": 31,
     "metadata": {},
     "output_type": "execute_result"
    }
   ],
   "source": [
    "len(dev)"
   ]
  },
  {
   "cell_type": "code",
   "execution_count": 70,
   "metadata": {
    "collapsed": false
   },
   "outputs": [
    {
     "data": {
      "text/plain": [
       "520"
      ]
     },
     "execution_count": 70,
     "metadata": {},
     "output_type": "execute_result"
    }
   ],
   "source": [
    "len(test)"
   ]
  },
  {
   "cell_type": "code",
   "execution_count": 5,
   "metadata": {
    "collapsed": false
   },
   "outputs": [
    {
     "data": {
      "text/html": [
       "<div>\n",
       "<table border=\"1\" class=\"dataframe\">\n",
       "  <thead>\n",
       "    <tr style=\"text-align: right;\">\n",
       "      <th></th>\n",
       "      <th>Congress</th>\n",
       "      <th>Number</th>\n",
       "      <th>Directory</th>\n",
       "      <th>ID</th>\n",
       "      <th>Subtype</th>\n",
       "      <th>Summary</th>\n",
       "      <th>Type</th>\n",
       "      <th>Version</th>\n",
       "    </tr>\n",
       "  </thead>\n",
       "  <tbody>\n",
       "    <tr>\n",
       "      <th>0</th>\n",
       "      <td>115</td>\n",
       "      <td>SRES290</td>\n",
       "      <td>./data/115/bills/sres/sres290/text-versions/ats</td>\n",
       "      <td>115_SRES290_ATS</td>\n",
       "      <td>SRES</td>\n",
       "      <td>1</td>\n",
       "      <td>Simple Resolutions</td>\n",
       "      <td>ATS</td>\n",
       "    </tr>\n",
       "    <tr>\n",
       "      <th>1</th>\n",
       "      <td>115</td>\n",
       "      <td>HR2522</td>\n",
       "      <td>./data/115/bills/hr/hr2522/text-versions/ih</td>\n",
       "      <td>115_HR2522_IH</td>\n",
       "      <td>HR</td>\n",
       "      <td>1</td>\n",
       "      <td>Bills</td>\n",
       "      <td>IH</td>\n",
       "    </tr>\n",
       "    <tr>\n",
       "      <th>2</th>\n",
       "      <td>115</td>\n",
       "      <td>HR280</td>\n",
       "      <td>./data/115/bills/hr/hr280/text-versions/ih</td>\n",
       "      <td>115_HR280_IH</td>\n",
       "      <td>HR</td>\n",
       "      <td>1</td>\n",
       "      <td>Bills</td>\n",
       "      <td>IH</td>\n",
       "    </tr>\n",
       "    <tr>\n",
       "      <th>3</th>\n",
       "      <td>115</td>\n",
       "      <td>HR944</td>\n",
       "      <td>./data/115/bills/hr/hr944/text-versions/ih</td>\n",
       "      <td>115_HR944_IH</td>\n",
       "      <td>HR</td>\n",
       "      <td>1</td>\n",
       "      <td>Bills</td>\n",
       "      <td>IH</td>\n",
       "    </tr>\n",
       "    <tr>\n",
       "      <th>4</th>\n",
       "      <td>115</td>\n",
       "      <td>HR3141</td>\n",
       "      <td>./data/115/bills/hr/hr3141/text-versions/ih</td>\n",
       "      <td>115_HR3141_IH</td>\n",
       "      <td>HR</td>\n",
       "      <td>1</td>\n",
       "      <td>Bills</td>\n",
       "      <td>IH</td>\n",
       "    </tr>\n",
       "  </tbody>\n",
       "</table>\n",
       "</div>"
      ],
      "text/plain": [
       "   Congress   Number                                        Directory  \\\n",
       "0       115  SRES290  ./data/115/bills/sres/sres290/text-versions/ats   \n",
       "1       115   HR2522      ./data/115/bills/hr/hr2522/text-versions/ih   \n",
       "2       115    HR280       ./data/115/bills/hr/hr280/text-versions/ih   \n",
       "3       115    HR944       ./data/115/bills/hr/hr944/text-versions/ih   \n",
       "4       115   HR3141      ./data/115/bills/hr/hr3141/text-versions/ih   \n",
       "\n",
       "                ID Subtype  Summary                Type Version  \n",
       "0  115_SRES290_ATS    SRES        1  Simple Resolutions     ATS  \n",
       "1    115_HR2522_IH      HR        1               Bills      IH  \n",
       "2     115_HR280_IH      HR        1               Bills      IH  \n",
       "3     115_HR944_IH      HR        1               Bills      IH  \n",
       "4    115_HR3141_IH      HR        1               Bills      IH  "
      ]
     },
     "execution_count": 5,
     "metadata": {},
     "output_type": "execute_result"
    }
   ],
   "source": [
    "dev.head()"
   ]
  },
  {
   "cell_type": "markdown",
   "metadata": {},
   "source": [
    "#### Code to Run and Evaluate Sumy"
   ]
  },
  {
   "cell_type": "code",
   "execution_count": 3,
   "metadata": {
    "collapsed": true
   },
   "outputs": [],
   "source": [
    "NUM_SENTENCE = 4"
   ]
  },
  {
   "cell_type": "code",
   "execution_count": 6,
   "metadata": {
    "collapsed": true
   },
   "outputs": [],
   "source": [
    "in_dir = '../out3/'"
   ]
  },
  {
   "cell_type": "code",
   "execution_count": 7,
   "metadata": {
    "collapsed": true
   },
   "outputs": [],
   "source": [
    "def extra_clean(s):\n",
    "    return s.strip().replace('``', '\"').replace(\"''\", '\"').replace('-LRB-', '(').replace('-RRB-', ')')"
   ]
  },
  {
   "cell_type": "code",
   "execution_count": 29,
   "metadata": {
    "collapsed": true
   },
   "outputs": [],
   "source": [
    "def summarize_evaluate(row):\n",
    "    bill_dict = {}\n",
    "    bill = row.ID\n",
    "    \n",
    "    # get, clean, and save bill\n",
    "    bill_path = in_dir + 'BILL_' + bill + '.out'\n",
    "    with open(bill_path) as f:\n",
    "        bill_text = f.readlines()\n",
    "    clean_bill = ' '.join([extra_clean(i) for i in bill_text])\n",
    "    bill_dict['bill_text'] = clean_bill\n",
    "    \n",
    "    # get, clean, and save CRS summary\n",
    "    summ_path = in_dir + 'SUMMARY_' + bill + '.out'\n",
    "    with open(summ_path) as f:\n",
    "        summ_text = f.readlines()\n",
    "    clean_summ = [extra_clean(i) for i in summ_text]\n",
    "    bill_dict['CRS_summary'] = ' '.join(clean_summ)\n",
    "        \n",
    "    # create and save automatic summaries\n",
    "    summary_KL = run_sumy(text = clean_bill, algo='KL', sent_count=NUM_SENTENCE)\n",
    "    summary_KL_clean = ' '.join([str(sentence) for sentence in summary_KL])\n",
    "    summary_LR = run_sumy(text = clean_bill, algo='LexRank', sent_count=NUM_SENTENCE)\n",
    "    summary_LR_clean = ' '.join([str(sentence) for sentence in summary_LR])\n",
    "    bill_dict['KL_summary'] = summary_KL_clean\n",
    "    bill_dict['LR_summary'] = summary_LR_clean\n",
    "    \n",
    "    # evaluate automatic summaries\n",
    "    CRS_sumy = convert_summary(clean_summ)\n",
    "    rouge1_KL, rouge2_KL = eval_sumy(summary_KL, CRS_sumy)\n",
    "    rouge1_LR, rouge2_LR = eval_sumy(summary_LR, CRS_sumy)\n",
    "    bill_dict['KL_rouge1'] = rouge1_KL\n",
    "    bill_dict['KL_rouge2'] = rouge2_KL\n",
    "    bill_dict['LR_rouge1'] = rouge1_LR\n",
    "    bill_dict['LR_rouge2'] = rouge2_LR\n",
    "    \n",
    "    return bill_dict"
   ]
  },
  {
   "cell_type": "markdown",
   "metadata": {},
   "source": [
    "#### Sumy for Validate Set"
   ]
  },
  {
   "cell_type": "code",
   "execution_count": 38,
   "metadata": {
    "collapsed": true
   },
   "outputs": [
    {
     "name": "stdout",
     "output_type": "stream",
     "text": [
      "386\n",
      "387\n",
      "388\n",
      "389\n",
      "390\n",
      "391\n",
      "392\n",
      "393\n",
      "394\n",
      "395\n",
      "396\n",
      "397\n",
      "398\n",
      "399\n",
      "400\n",
      "401\n",
      "402\n",
      "403\n",
      "404\n",
      "405\n",
      "406\n",
      "407\n",
      "408\n",
      "409\n",
      "410\n",
      "411\n",
      "412\n",
      "413\n",
      "414\n",
      "415\n",
      "416\n",
      "417\n",
      "418\n",
      "419\n",
      "420\n",
      "421\n",
      "422\n",
      "423\n",
      "424\n",
      "425\n",
      "426\n",
      "427\n",
      "428\n",
      "429\n",
      "430\n",
      "431\n",
      "432\n",
      "433\n",
      "434\n",
      "435\n",
      "436\n",
      "437\n",
      "438\n",
      "439\n",
      "440\n",
      "441\n",
      "442\n",
      "443\n",
      "444\n",
      "445\n",
      "446\n",
      "447\n",
      "448\n",
      "449\n",
      "450\n",
      "451\n",
      "452\n",
      "453\n",
      "454\n",
      "455\n",
      "456\n",
      "457\n",
      "458\n",
      "459\n",
      "460\n",
      "461\n",
      "462\n",
      "463\n",
      "464\n",
      "465\n",
      "466\n",
      "467\n",
      "468\n",
      "469\n",
      "470\n",
      "471\n",
      "472\n",
      "473\n",
      "474\n",
      "475\n",
      "476\n",
      "477\n",
      "478\n",
      "479\n",
      "480\n",
      "481\n",
      "482\n",
      "483\n",
      "484\n",
      "485\n",
      "486\n",
      "487\n",
      "488\n",
      "489\n",
      "490\n",
      "491\n",
      "492\n",
      "493\n",
      "494\n",
      "495\n",
      "496\n",
      "497\n",
      "498\n",
      "499\n",
      "500\n",
      "501\n",
      "502\n",
      "503\n",
      "504\n",
      "505\n",
      "506\n",
      "507\n",
      "508\n",
      "509\n",
      "510\n",
      "511\n",
      "512\n",
      "513\n",
      "514\n",
      "515\n",
      "516\n",
      "517\n",
      "518\n"
     ]
    }
   ],
   "source": [
    "# all_dicts = []\n",
    "for i in range(len(dev)):\n",
    "    print(i)\n",
    "    curr_dict = summarize_evaluate(dev.iloc[i])\n",
    "    all_dicts.append(curr_dict)"
   ]
  },
  {
   "cell_type": "markdown",
   "metadata": {},
   "source": [
    "###### come back to index 385!!!!!"
   ]
  },
  {
   "cell_type": "code",
   "execution_count": 42,
   "metadata": {
    "collapsed": false
   },
   "outputs": [],
   "source": [
    "val_sumy_no386 = pd.DataFrame(all_dicts)"
   ]
  },
  {
   "cell_type": "code",
   "execution_count": 45,
   "metadata": {
    "collapsed": false
   },
   "outputs": [
    {
     "data": {
      "text/html": [
       "<div>\n",
       "<table border=\"1\" class=\"dataframe\">\n",
       "  <thead>\n",
       "    <tr style=\"text-align: right;\">\n",
       "      <th></th>\n",
       "      <th>CRS_summary</th>\n",
       "      <th>KL_rouge1</th>\n",
       "      <th>KL_rouge2</th>\n",
       "      <th>KL_summary</th>\n",
       "      <th>LR_rouge1</th>\n",
       "      <th>LR_rouge2</th>\n",
       "      <th>LR_summary</th>\n",
       "      <th>bill_text</th>\n",
       "    </tr>\n",
       "  </thead>\n",
       "  <tbody>\n",
       "    <tr>\n",
       "      <th>0</th>\n",
       "      <td>This bill : ( 1 ) directs the Department of Ve...</td>\n",
       "      <td>0.400000</td>\n",
       "      <td>0.171429</td>\n",
       "      <td>SECTION 1 FREE AND COMPREHENSIVE MENTAL HEALTH...</td>\n",
       "      <td>0.566667</td>\n",
       "      <td>0.371429</td>\n",
       "      <td>To amend title 38 , United States Code , to di...</td>\n",
       "      <td>To amend title 38 , United States Code , to di...</td>\n",
       "    </tr>\n",
       "    <tr>\n",
       "      <th>1</th>\n",
       "      <td>Science Laureates of the United States Act of ...</td>\n",
       "      <td>0.250000</td>\n",
       "      <td>0.104651</td>\n",
       "      <td>SECTION 1 SHORT TITLE . ( 2 ) Scientific resea...</td>\n",
       "      <td>0.383333</td>\n",
       "      <td>0.162791</td>\n",
       "      <td>-- Congress finds the following : ( 1 ) Scient...</td>\n",
       "      <td>To establish a position of Science Laureate of...</td>\n",
       "    </tr>\n",
       "    <tr>\n",
       "      <th>2</th>\n",
       "      <td>Recognizes that March 9 , 2017 , marks 10 year...</td>\n",
       "      <td>0.391304</td>\n",
       "      <td>0.212121</td>\n",
       "      <td>Whereas , in November 2010 , the Levinson fami...</td>\n",
       "      <td>0.467391</td>\n",
       "      <td>0.280303</td>\n",
       "      <td>Whereas , in December 2007 , Robert Levinson '...</td>\n",
       "      <td>Calling on the Government of Iran to fulfill r...</td>\n",
       "    </tr>\n",
       "  </tbody>\n",
       "</table>\n",
       "</div>"
      ],
      "text/plain": [
       "                                         CRS_summary  KL_rouge1  KL_rouge2  \\\n",
       "0  This bill : ( 1 ) directs the Department of Ve...   0.400000   0.171429   \n",
       "1  Science Laureates of the United States Act of ...   0.250000   0.104651   \n",
       "2  Recognizes that March 9 , 2017 , marks 10 year...   0.391304   0.212121   \n",
       "\n",
       "                                          KL_summary  LR_rouge1  LR_rouge2  \\\n",
       "0  SECTION 1 FREE AND COMPREHENSIVE MENTAL HEALTH...   0.566667   0.371429   \n",
       "1  SECTION 1 SHORT TITLE . ( 2 ) Scientific resea...   0.383333   0.162791   \n",
       "2  Whereas , in November 2010 , the Levinson fami...   0.467391   0.280303   \n",
       "\n",
       "                                          LR_summary  \\\n",
       "0  To amend title 38 , United States Code , to di...   \n",
       "1  -- Congress finds the following : ( 1 ) Scient...   \n",
       "2  Whereas , in December 2007 , Robert Levinson '...   \n",
       "\n",
       "                                           bill_text  \n",
       "0  To amend title 38 , United States Code , to di...  \n",
       "1  To establish a position of Science Laureate of...  \n",
       "2  Calling on the Government of Iran to fulfill r...  "
      ]
     },
     "execution_count": 45,
     "metadata": {},
     "output_type": "execute_result"
    }
   ],
   "source": [
    "val_sumy_no386.head(3)"
   ]
  },
  {
   "cell_type": "code",
   "execution_count": 43,
   "metadata": {
    "collapsed": true
   },
   "outputs": [],
   "source": [
    "val_sumy_no386.to_csv('val_sumy_no386.csv')"
   ]
  },
  {
   "cell_type": "code",
   "execution_count": 65,
   "metadata": {
    "collapsed": false
   },
   "outputs": [
    {
     "data": {
      "image/png": "[encoded data removed]",
      "text/plain": [
       "<matplotlib.figure.Figure at 0x11e6961d0>"
      ]
     },
     "metadata": {},
     "output_type": "display_data"
    }
   ],
   "source": [
    "fig, ax = plt.subplots(2, 2, figsize=(10,10), sharex=True, sharey=True)\n",
    "val_sumy_no386.KL_rouge1.hist(bins=20, ax=ax[0,0])\n",
    "val_sumy_no386.KL_rouge2.hist(bins=20, ax=ax[0,1])\n",
    "val_sumy_no386.LR_rouge1.hist(bins=20, ax=ax[1,0])\n",
    "val_sumy_no386.LR_rouge2.hist(bins=20, ax=ax[1,1])\n",
    "ax[0,0].set_ylabel('KL-sum')\n",
    "ax[1,0].set_ylabel('LexRank')\n",
    "ax[0,0].set_title('Rouge-1')\n",
    "ax[0,1].set_title('Rouge-2')\n",
    "plt.show()"
   ]
  },
  {
   "cell_type": "code",
   "execution_count": 66,
   "metadata": {
    "collapsed": false
   },
   "outputs": [
    {
     "data": {
      "text/plain": [
       "KL_rouge1    0.388620\n",
       "KL_rouge2    0.216361\n",
       "LR_rouge1    0.472046\n",
       "LR_rouge2    0.278739\n",
       "dtype: float64"
      ]
     },
     "execution_count": 66,
     "metadata": {},
     "output_type": "execute_result"
    }
   ],
   "source": [
    "val_sumy_no386.mean()"
   ]
  },
  {
   "cell_type": "code",
   "execution_count": 67,
   "metadata": {
    "collapsed": false
   },
   "outputs": [
    {
     "data": {
      "text/plain": [
       "KL_rouge1    0.352941\n",
       "KL_rouge2    0.154016\n",
       "LR_rouge1    0.450962\n",
       "LR_rouge2    0.234680\n",
       "dtype: float64"
      ]
     },
     "execution_count": 67,
     "metadata": {},
     "output_type": "execute_result"
    }
   ],
   "source": [
    "val_sumy_no386.median()"
   ]
  },
  {
   "cell_type": "markdown",
   "metadata": {},
   "source": [
    "#### Sumy for Test Set"
   ]
  },
  {
   "cell_type": "code",
   "execution_count": 90,
   "metadata": {
    "collapsed": true
   },
   "outputs": [
    {
     "name": "stdout",
     "output_type": "stream",
     "text": [
      "455\n",
      "456\n",
      "457\n",
      "458\n",
      "459\n",
      "460\n",
      "461\n",
      "462\n",
      "463\n",
      "464\n",
      "465\n",
      "466\n",
      "467\n",
      "468\n",
      "469\n",
      "470\n",
      "471\n",
      "472\n",
      "473\n",
      "474\n",
      "475\n",
      "476\n",
      "477\n",
      "478\n",
      "479\n",
      "480\n",
      "481\n",
      "482\n",
      "483\n",
      "484\n",
      "485\n",
      "486\n",
      "487\n",
      "488\n",
      "489\n",
      "490\n",
      "491\n",
      "492\n",
      "493\n",
      "494\n",
      "495\n",
      "496\n",
      "497\n",
      "498\n",
      "499\n",
      "500\n",
      "501\n",
      "502\n",
      "503\n",
      "504\n",
      "505\n",
      "506\n",
      "507\n",
      "508\n",
      "509\n",
      "510\n",
      "511\n",
      "512\n",
      "513\n",
      "514\n",
      "515\n",
      "516\n",
      "517\n",
      "518\n",
      "519\n"
     ]
    }
   ],
   "source": [
    "# all_dicts_test = []\n",
    "for i in range(455, len(test)):\n",
    "    print(i)\n",
    "    curr_dict = summarize_evaluate(test.iloc[i])\n",
    "    all_dicts_test.append(curr_dict)"
   ]
  },
  {
   "cell_type": "code",
   "execution_count": 88,
   "metadata": {
    "collapsed": true
   },
   "outputs": [],
   "source": [
    "# all_dicts_test.append({})"
   ]
  },
  {
   "cell_type": "code",
   "execution_count": 91,
   "metadata": {
    "collapsed": false
   },
   "outputs": [
    {
     "data": {
      "text/plain": [
       "520"
      ]
     },
     "execution_count": 91,
     "metadata": {},
     "output_type": "execute_result"
    }
   ],
   "source": [
    "len(all_dicts_test)"
   ]
  },
  {
   "cell_type": "markdown",
   "metadata": {},
   "source": [
    "###### COME BACK TO INDEX 0, 152, 303, 307, 454"
   ]
  },
  {
   "cell_type": "code",
   "execution_count": 92,
   "metadata": {
    "collapsed": true
   },
   "outputs": [],
   "source": [
    "test_sumy_missing = pd.DataFrame(all_dicts_test)"
   ]
  },
  {
   "cell_type": "code",
   "execution_count": 94,
   "metadata": {
    "collapsed": false
   },
   "outputs": [
    {
     "data": {
      "text/html": [
       "<div>\n",
       "<table border=\"1\" class=\"dataframe\">\n",
       "  <thead>\n",
       "    <tr style=\"text-align: right;\">\n",
       "      <th></th>\n",
       "      <th>CRS_summary</th>\n",
       "      <th>KL_rouge1</th>\n",
       "      <th>KL_rouge2</th>\n",
       "      <th>KL_summary</th>\n",
       "      <th>LR_rouge1</th>\n",
       "      <th>LR_rouge2</th>\n",
       "      <th>LR_summary</th>\n",
       "      <th>bill_text</th>\n",
       "    </tr>\n",
       "  </thead>\n",
       "  <tbody>\n",
       "    <tr>\n",
       "      <th>0</th>\n",
       "      <td>NaN</td>\n",
       "      <td>NaN</td>\n",
       "      <td>NaN</td>\n",
       "      <td>NaN</td>\n",
       "      <td>NaN</td>\n",
       "      <td>NaN</td>\n",
       "      <td>NaN</td>\n",
       "      <td>NaN</td>\n",
       "    </tr>\n",
       "    <tr>\n",
       "      <th>1</th>\n",
       "      <td>High-Skilled Integrity and Fairness Act of 201...</td>\n",
       "      <td>0.356589</td>\n",
       "      <td>0.085859</td>\n",
       "      <td>( 2 ) The prevailing wage level required to be...</td>\n",
       "      <td>0.379845</td>\n",
       "      <td>0.09596</td>\n",
       "      <td>, the following rules shall apply : ( A ) For ...</td>\n",
       "      <td>To amend the Immigration and Nationality Act t...</td>\n",
       "    </tr>\n",
       "    <tr>\n",
       "      <th>2</th>\n",
       "      <td>Expresses the sense of Congress that the natio...</td>\n",
       "      <td>0.291667</td>\n",
       "      <td>0.040000</td>\n",
       "      <td>Whereas Federal public lands provide diverse o...</td>\n",
       "      <td>0.291667</td>\n",
       "      <td>0.08000</td>\n",
       "      <td>Whereas our current Federal public lands are a...</td>\n",
       "      <td>Expressing the sense of Congress that America ...</td>\n",
       "    </tr>\n",
       "  </tbody>\n",
       "</table>\n",
       "</div>"
      ],
      "text/plain": [
       "                                         CRS_summary  KL_rouge1  KL_rouge2  \\\n",
       "0                                                NaN        NaN        NaN   \n",
       "1  High-Skilled Integrity and Fairness Act of 201...   0.356589   0.085859   \n",
       "2  Expresses the sense of Congress that the natio...   0.291667   0.040000   \n",
       "\n",
       "                                          KL_summary  LR_rouge1  LR_rouge2  \\\n",
       "0                                                NaN        NaN        NaN   \n",
       "1  ( 2 ) The prevailing wage level required to be...   0.379845    0.09596   \n",
       "2  Whereas Federal public lands provide diverse o...   0.291667    0.08000   \n",
       "\n",
       "                                          LR_summary  \\\n",
       "0                                                NaN   \n",
       "1  , the following rules shall apply : ( A ) For ...   \n",
       "2  Whereas our current Federal public lands are a...   \n",
       "\n",
       "                                           bill_text  \n",
       "0                                                NaN  \n",
       "1  To amend the Immigration and Nationality Act t...  \n",
       "2  Expressing the sense of Congress that America ...  "
      ]
     },
     "execution_count": 94,
     "metadata": {},
     "output_type": "execute_result"
    }
   ],
   "source": [
    "test_sumy_missing.head(3)"
   ]
  },
  {
   "cell_type": "code",
   "execution_count": 95,
   "metadata": {
    "collapsed": true
   },
   "outputs": [],
   "source": [
    "test_sumy_missing.to_csv('test_sumy_missing.csv')"
   ]
  },
  {
   "cell_type": "code",
   "execution_count": 96,
   "metadata": {
    "collapsed": false
   },
   "outputs": [
    {
     "data": {
      "image/png": "[encoded data removed]",
      "text/plain": [
       "<matplotlib.figure.Figure at 0x11addcda0>"
      ]
     },
     "metadata": {},
     "output_type": "display_data"
    }
   ],
   "source": [
    "fig, ax = plt.subplots(2, 2, figsize=(10,10), sharex=True, sharey=True)\n",
    "test_sumy_missing.KL_rouge1.hist(bins=20, ax=ax[0,0])\n",
    "test_sumy_missing.KL_rouge2.hist(bins=20, ax=ax[0,1])\n",
    "test_sumy_missing.LR_rouge1.hist(bins=20, ax=ax[1,0])\n",
    "test_sumy_missing.LR_rouge2.hist(bins=20, ax=ax[1,1])\n",
    "ax[0,0].set_ylabel('KL-sum')\n",
    "ax[1,0].set_ylabel('LexRank')\n",
    "ax[0,0].set_title('Rouge-1')\n",
    "ax[0,1].set_title('Rouge-2')\n",
    "plt.show()"
   ]
  },
  {
   "cell_type": "code",
   "execution_count": 98,
   "metadata": {
    "collapsed": false
   },
   "outputs": [
    {
     "data": {
      "text/plain": [
       "KL_rouge1    0.393818\n",
       "KL_rouge2    0.222456\n",
       "LR_rouge1    0.480828\n",
       "LR_rouge2    0.292521\n",
       "dtype: float64"
      ]
     },
     "execution_count": 98,
     "metadata": {},
     "output_type": "execute_result"
    }
   ],
   "source": [
    "test_sumy_missing.mean()"
   ]
  },
  {
   "cell_type": "code",
   "execution_count": 99,
   "metadata": {
    "collapsed": false
   },
   "outputs": [
    {
     "data": {
      "text/plain": [
       "KL_rouge1    0.346939\n",
       "KL_rouge2    0.153846\n",
       "LR_rouge1    0.448276\n",
       "LR_rouge2    0.241379\n",
       "dtype: float64"
      ]
     },
     "execution_count": 99,
     "metadata": {},
     "output_type": "execute_result"
    }
   ],
   "source": [
    "test_sumy_missing.median()"
   ]
  }
 ],
 "metadata": {
  "kernelspec": {
   "display_name": "Python [conda env:py3k]",
   "language": "python",
   "name": "conda-env-py3k-py"
  },
  "language_info": {
   "codemirror_mode": {
    "name": "ipython",
    "version": 3
   },
   "file_extension": ".py",
   "mimetype": "text/x-python",
   "name": "python",
   "nbconvert_exporter": "python",
   "pygments_lexer": "ipython3",
   "version": "3.5.2"
  }
 },
 "nbformat": 4,
 "nbformat_minor": 1
}
