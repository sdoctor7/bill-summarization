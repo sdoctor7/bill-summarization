{
 "cells": [
  {
   "cell_type": "code",
   "execution_count": 7,
   "metadata": {
    "collapsed": true
   },
   "outputs": [],
   "source": [
    "import xmltodict\n",
    "import pandas as pd\n",
    "import os\n",
    "import re\n",
    "from utils import *"
   ]
  },
  {
   "cell_type": "markdown",
   "metadata": {},
   "source": [
    "# Read Data"
   ]
  },
  {
   "cell_type": "code",
   "execution_count": 8,
   "metadata": {
    "collapsed": false
   },
   "outputs": [
    {
     "name": "stdout",
     "output_type": "stream",
     "text": [
      "Do not exist '#text'\n",
      "Do not exist '#text'\n",
      "Do not exist '#text'\n"
     ]
    }
   ],
   "source": [
    "# I put all the files in one folder for simplicity\n",
    "indir = 'data/bills' \n",
    "\n",
    "data = [] # a list of dict, each element is a xml file\n",
    "\n",
    "for root, dirs, filenames in os.walk(indir):\n",
    "    for filename in filenames:\n",
    "        with open(os.path.join(indir, filename), 'rb') as f:\n",
    "            doc = xmltodict.parse(remove_tags(f.read()))\n",
    "            data.append(bill_to_dict(filename, doc))"
   ]
  },
  {
   "cell_type": "code",
   "execution_count": 9,
   "metadata": {
    "collapsed": true
   },
   "outputs": [],
   "source": [
    "select_keys = ['metadata', 'bill-type', 'body', 'file-name']\n",
    "select_data = []\n",
    "for d in data:\n",
    "    select_data.append({ select_key: d[select_key] for select_key in select_keys })"
   ]
  },
  {
   "cell_type": "code",
   "execution_count": 11,
   "metadata": {
    "collapsed": true
   },
   "outputs": [],
   "source": [
    "df = pd.io.json.json_normalize(select_data)"
   ]
  },
  {
   "cell_type": "markdown",
   "metadata": {},
   "source": [
    "# Sumy"
   ]
  },
  {
   "cell_type": "code",
   "execution_count": 54,
   "metadata": {
    "collapsed": true
   },
   "outputs": [],
   "source": [
    "from summarizers import run_sumy"
   ]
  },
  {
   "cell_type": "code",
   "execution_count": 62,
   "metadata": {
    "collapsed": false
   },
   "outputs": [],
   "source": [
    "df['body.section'] = df['body.section'].str.split().str.join(' ')"
   ]
  },
  {
   "cell_type": "code",
   "execution_count": null,
   "metadata": {
    "collapsed": true
   },
   "outputs": [],
   "source": []
  },
  {
   "cell_type": "markdown",
   "metadata": {},
   "source": [
    "### Body"
   ]
  },
  {
   "cell_type": "code",
   "execution_count": 65,
   "metadata": {
    "collapsed": false
   },
   "outputs": [
    {
     "data": {
      "text/plain": [
       "'1. Permanent resident status for Joseph Gabra and Sharon Kamel (a) In general Notwithstanding subsections (a) and (b) of section 201 of the Immigration and Nationality Act (8 U.S.C. 1151), Joseph Gabra and Sharon Kamel shall each be eligible for issuance of an immigrant visa or for adjustment of status to that of an alien lawfully admitted for permanent residence upon filing an application for issuance of an immigrant visa under section 204 of such Act ( 8 U.S.C. 1154) or for adjustment of status to lawful permanent resident. (b) Adjustment of status Immigration and Nationality Act If Joseph Gabra or Sharon Kamel enters the United States before the filing deadline specified in subsection (c), Joseph Gabra or Sharon Kamel shall be considered to have entered and remained lawfully in the United States and shall be eligible for adjustment of status under section 245 of the (8 U.S.C. 1255) as of the date of the enactment of this Act. (c) Application and payment of fees Subsections (a) and (b) shall apply only if the applications for the issuance of immigrant visas or the applications for adjustment of status are filed with appropriate fees not later than two years after the date of the enactment of this Act. (d) Reduction of immigrant visa numbers Upon the granting of immigrant visas or permanent residence to Joseph Gabra and Sharon Kamel, the Secretary of State shall instruct the proper officer to reduce by two, during the current or next following fiscal year— (1) the total number of immigrant visas that are made available to natives of the country of birth of Joseph Gabra and Sharon Kamel under section 203(a) of the Immigration and Nationality Act (8 U.S.C. 1153(a)); or (2) if applicable, the total number of immigrant visas that are made available to natives of the country of birth of Joseph Gabra and Sharon Kamel under section 202(e) of that Act (8 U.S.C. 1152(e)). (e) PAYGO The budgetary effects of this Act, for the purpose of complying with the Statutory Pay-As-You-Go Act of 2010, shall be determined by reference to the latest statement titled \"Budgetary Effects of PAYGO Legislation \" for this Act, submitted for printing in the Congressional Record by the Chairman of the Senate Budget Committee, provided that such statement has been submitted prior to the vote on passage.'"
      ]
     },
     "execution_count": 65,
     "metadata": {},
     "output_type": "execute_result"
    }
   ],
   "source": [
    "df['body.section'][0]"
   ]
  },
  {
   "cell_type": "markdown",
   "metadata": {},
   "source": [
    "### KL Summarizer"
   ]
  },
  {
   "cell_type": "code",
   "execution_count": 66,
   "metadata": {
    "collapsed": false
   },
   "outputs": [
    {
     "data": {
      "text/plain": [
       "'1. 1152(e)). (e) PAYGO The budgetary effects of this Act, for the purpose of complying with the Statutory Pay-As-You-Go Act of 2010, shall be determined by reference to the latest statement titled \"Budgetary Effects of PAYGO Legislation \" for this Act, submitted for printing in the Congressional Record by the Chairman of the Senate Budget Committee, provided that such statement has been submitted prior to the vote on passage. '"
      ]
     },
     "execution_count": 66,
     "metadata": {},
     "output_type": "execute_result"
    }
   ],
   "source": [
    "run_sumy(df['body.section'][0], 'KL', 3)"
   ]
  },
  {
   "cell_type": "markdown",
   "metadata": {},
   "source": [
    "### LexRank Summarizer"
   ]
  },
  {
   "cell_type": "code",
   "execution_count": 67,
   "metadata": {
    "collapsed": false
   },
   "outputs": [
    {
     "data": {
      "text/plain": [
       "'Permanent resident status for Joseph Gabra and Sharon Kamel (a) In general Notwithstanding subsections (a) and (b) of section 201 of the Immigration and Nationality Act (8 U.S.C. 1151), Joseph Gabra and Sharon Kamel shall each be eligible for issuance of an immigrant visa or for adjustment of status to that of an alien lawfully admitted for permanent residence upon filing an application for issuance of an immigrant visa under section 204 of such Act ( 8 U.S.C. 1153(a)); or (2) if applicable, the total number of immigrant visas that are made available to natives of the country of birth of Joseph Gabra and Sharon Kamel under section 202(e) of that Act (8 U.S.C. '"
      ]
     },
     "execution_count": 67,
     "metadata": {},
     "output_type": "execute_result"
    }
   ],
   "source": [
    "run_sumy(df['body.section'][0], 'LexRank', 3)"
   ]
  },
  {
   "cell_type": "code",
   "execution_count": null,
   "metadata": {
    "collapsed": true
   },
   "outputs": [],
   "source": []
  },
  {
   "cell_type": "code",
   "execution_count": null,
   "metadata": {
    "collapsed": true
   },
   "outputs": [],
   "source": []
  },
  {
   "cell_type": "markdown",
   "metadata": {},
   "source": [
    "### Body"
   ]
  },
  {
   "cell_type": "code",
   "execution_count": 77,
   "metadata": {
    "collapsed": false
   },
   "outputs": [
    {
     "data": {
      "text/plain": [
       "'That it is the sense of Congress that— (1) the fraternal benefit society model is a successful private sector economic and social support system that helps meet needs that would otherwise go unmet; (2) the provision for life, sick, accident, or other benefits to the members of these societies, as required by section 501(c)(8) of the Internal Revenue Code, is necessary to support the charitable and fraternal activities of the volunteer chapters within their communities; (3) fraternal benefit societies have adapted since 1909 to better serve their members and the public; and (4) the section 501(c)(8) tax exemption of fraternal benefit societies continues to generate significant, outsized returns to United States society and the work of fraternals should continue to be promoted.'"
      ]
     },
     "execution_count": 77,
     "metadata": {},
     "output_type": "execute_result"
    }
   ],
   "source": [
    "df['body.section'][1]"
   ]
  },
  {
   "cell_type": "markdown",
   "metadata": {},
   "source": [
    "### KL Summarizer"
   ]
  },
  {
   "cell_type": "code",
   "execution_count": 78,
   "metadata": {
    "collapsed": false
   },
   "outputs": [
    {
     "data": {
      "text/plain": [
       "'That it is the sense of Congress that— (1) the fraternal benefit society model is a successful private sector economic and social support system that helps meet needs that would otherwise go unmet; (2) the provision for life, sick, accident, or other benefits to the members of these societies, as required by section 501(c)(8) of the Internal Revenue Code, is necessary to support the charitable and fraternal activities of the volunteer chapters within their communities; (3) fraternal benefit societies have adapted since 1909 to better serve their members and the public; and (4) the section 501(c)(8) tax exemption of fraternal benefit societies continues to generate significant, outsized returns to United States society and the work of fraternals should continue to be promoted. '"
      ]
     },
     "execution_count": 78,
     "metadata": {},
     "output_type": "execute_result"
    }
   ],
   "source": [
    "run_sumy(df['body.section'][1], 'KL', 3)"
   ]
  },
  {
   "cell_type": "markdown",
   "metadata": {},
   "source": [
    "### LexRank Summarizer"
   ]
  },
  {
   "cell_type": "code",
   "execution_count": 79,
   "metadata": {
    "collapsed": false
   },
   "outputs": [
    {
     "data": {
      "text/plain": [
       "'That it is the sense of Congress that— (1) the fraternal benefit society model is a successful private sector economic and social support system that helps meet needs that would otherwise go unmet; (2) the provision for life, sick, accident, or other benefits to the members of these societies, as required by section 501(c)(8) of the Internal Revenue Code, is necessary to support the charitable and fraternal activities of the volunteer chapters within their communities; (3) fraternal benefit societies have adapted since 1909 to better serve their members and the public; and (4) the section 501(c)(8) tax exemption of fraternal benefit societies continues to generate significant, outsized returns to United States society and the work of fraternals should continue to be promoted. '"
      ]
     },
     "execution_count": 79,
     "metadata": {},
     "output_type": "execute_result"
    }
   ],
   "source": [
    "run_sumy(df['body.section'][1], 'LexRank', 3)"
   ]
  },
  {
   "cell_type": "code",
   "execution_count": null,
   "metadata": {
    "collapsed": true
   },
   "outputs": [],
   "source": []
  },
  {
   "cell_type": "code",
   "execution_count": null,
   "metadata": {
    "collapsed": true
   },
   "outputs": [],
   "source": []
  },
  {
   "cell_type": "code",
   "execution_count": null,
   "metadata": {
    "collapsed": true
   },
   "outputs": [],
   "source": []
  },
  {
   "cell_type": "code",
   "execution_count": null,
   "metadata": {
    "collapsed": true
   },
   "outputs": [],
   "source": []
  },
  {
   "cell_type": "code",
   "execution_count": null,
   "metadata": {
    "collapsed": true
   },
   "outputs": [],
   "source": []
  },
  {
   "cell_type": "code",
   "execution_count": null,
   "metadata": {
    "collapsed": true
   },
   "outputs": [],
   "source": []
  },
  {
   "cell_type": "code",
   "execution_count": null,
   "metadata": {
    "collapsed": true
   },
   "outputs": [],
   "source": []
  }
 ],
 "metadata": {
  "kernelspec": {
   "display_name": "Python [default]",
   "language": "python",
   "name": "python3"
  },
  "language_info": {
   "codemirror_mode": {
    "name": "ipython",
    "version": 3
   },
   "file_extension": ".py",
   "mimetype": "text/x-python",
   "name": "python",
   "nbconvert_exporter": "python",
   "pygments_lexer": "ipython3",
   "version": "3.5.2"
  }
 },
 "nbformat": 4,
 "nbformat_minor": 2
}
