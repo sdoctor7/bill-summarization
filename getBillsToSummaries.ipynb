{
 "cells": [
  {
   "cell_type": "code",
   "execution_count": 1,
   "metadata": {
    "collapsed": true
   },
   "outputs": [],
   "source": [
    "import xmltodict\n",
    "import pandas as pd\n",
    "import os\n",
    "import re\n",
    "billDir = 'bill_text_115' \n",
    "summariesDir = '../data/summaries/'"
   ]
  },
  {
   "cell_type": "code",
   "execution_count": 2,
   "metadata": {
    "collapsed": true
   },
   "outputs": [],
   "source": [
    "def getBillFileName(summaryFileName, extension):\n",
    "#     US_Bill_Text_115_HR1607_IH.xml <- US_Bill_Digest_115_hr_1607.xml\n",
    "#     possibleExt = [\"_RH.xml\",\"_IH.xml\",\"_EH.xml\",\"_RFS.xml\",\"_IS.xml\"]\n",
    "    billFileName = []\n",
    "    if summaryFileName.startswith(\"US_Bill_Digest_115_\"):\n",
    "        tempFile = summaryFileName.split(\"_\")\n",
    "        tempFile = tempFile[-2:]\n",
    "        tempFile[0] = tempFile[0].upper()\n",
    "        for ext in extension:\n",
    "            billFileName.append(\"US_Bill_Text_115_\"+tempFile[0]+tempFile[1][:-4]+\"_\"+ext)\n",
    "    return billFileName\n"
   ]
  },
  {
   "cell_type": "code",
   "execution_count": 3,
   "metadata": {
    "collapsed": true
   },
   "outputs": [],
   "source": [
    "def print_head(d,top=10):\n",
    "    count = 0\n",
    "    for k in d:\n",
    "        if count==top:\n",
    "            break\n",
    "        print (\"{} -> {}\".format(k,d[k]))\n",
    "        count+=1\n",
    "    return"
   ]
  },
  {
   "cell_type": "code",
   "execution_count": 4,
   "metadata": {
    "collapsed": false
   },
   "outputs": [],
   "source": [
    "def getBillsToSummaries(billDir, summariesDir):\n",
    "\n",
    "    billFiles = set()\n",
    "    extension = set()\n",
    "    for root, dirs, filenames in os.walk(billDir):\n",
    "        for filename in filenames:\n",
    "            billFiles.add(filename)\n",
    "            extension.add(filename.split(\"_\")[-1])\n",
    "    assert len(billFiles)==8039\n",
    "    \n",
    "    billsToSummary = {}\n",
    "    summariesNoMatch = set()\n",
    "    for root, dirs, filenames in os.walk(summariesDir):\n",
    "        for filename in filenames:\n",
    "            billFileList = getBillFileName(filename, extension)\n",
    "            flag = 1\n",
    "            for billF in billFileList:\n",
    "                if billF in billFiles:\n",
    "                    billsToSummary[billF] = filename\n",
    "                    flag=0\n",
    "            if flag:\n",
    "                summariesNoMatch.add(filename)\n",
    "#     print_head(billsToSummary)\n",
    "    return billsToSummary, billFiles, summariesNoMatch"
   ]
  },
  {
   "cell_type": "code",
   "execution_count": 5,
   "metadata": {
    "collapsed": false
   },
   "outputs": [
    {
     "name": "stdout",
     "output_type": "stream",
     "text": [
      "US_Bill_Text_115_S65_IS.xml -> US_Bill_Digest_115_s_65.xml\n",
      "US_Bill_Text_115_S1468_IS.xml -> US_Bill_Digest_115_s_1468.xml\n",
      "US_Bill_Text_115_HR2862_IH.xml -> US_Bill_Digest_115_hr_2862.xml\n",
      "US_Bill_Text_115_HR3382_IH.xml -> US_Bill_Digest_115_hr_3382.xml\n",
      "US_Bill_Text_115_HR3114_IH.xml -> US_Bill_Digest_115_hr_3114.xml\n",
      "US_Bill_Text_115_HR3284_RFS.xml -> US_Bill_Digest_115_hr_3284.xml\n",
      "US_Bill_Text_115_HR674_IH.xml -> US_Bill_Digest_115_hr_674.xml\n",
      "US_Bill_Text_115_HR264_IH.xml -> US_Bill_Digest_115_hr_264.xml\n",
      "US_Bill_Text_115_HR29_IH.xml -> US_Bill_Digest_115_hr_29.xml\n",
      "US_Bill_Text_115_HR3258_IH.xml -> US_Bill_Digest_115_hr_3258.xml\n"
     ]
    }
   ],
   "source": [
    "billsToSummary, billFiles, summariesNoMatch = getBillsToSummaries(billDir, summariesDir)"
   ]
  },
  {
   "cell_type": "code",
   "execution_count": 6,
   "metadata": {
    "collapsed": false
   },
   "outputs": [
    {
     "name": "stdout",
     "output_type": "stream",
     "text": [
      "Total Number of Bills 8039\n",
      "Bills with summary 7954\n",
      "Summaries with no bill 6048\n"
     ]
    }
   ],
   "source": [
    "print(\"Total Number of Bills {}\".format(len(billFiles)))\n",
    "print(\"Bills with summary {}\".format(len(billsToSummary)))\n",
    "print(\"Summaries with no bill {}\".format(len(summariesNoMatch)))"
   ]
  }
 ],
 "metadata": {
  "kernelspec": {
   "display_name": "Python 2",
   "language": "python",
   "name": "python2"
  },
  "language_info": {
   "codemirror_mode": {
    "name": "ipython",
    "version": 2
   },
   "file_extension": ".py",
   "mimetype": "text/x-python",
   "name": "python",
   "nbconvert_exporter": "python",
   "pygments_lexer": "ipython2",
   "version": "2.7.6"
  }
 },
 "nbformat": 4,
 "nbformat_minor": 2
}
