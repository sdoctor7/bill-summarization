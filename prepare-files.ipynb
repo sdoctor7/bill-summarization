{
 "cells": [
  {
   "cell_type": "code",
   "execution_count": 53,
   "metadata": {
    "collapsed": true
   },
   "outputs": [],
   "source": [
    "from utils import *\n",
    "import pandas as pd\n",
    "import re\n",
    "import numpy as np\n",
    "import os\n",
    "import subprocess"
   ]
  },
  {
   "cell_type": "code",
   "execution_count": 2,
   "metadata": {
    "collapsed": true
   },
   "outputs": [],
   "source": [
    "# Bills\n",
    "INDIR_115_HR = './data/115/bills/hr'\n",
    "INDIR_115_S = './data/115/bills/s'\n",
    "\n",
    "# Concurrent Resolutions\n",
    "INDIR_115_HCONRES = './data/115/bills/hconres'\n",
    "INDIR_115_SCONRES = './data/115/bills/sconres'\n",
    "\n",
    "# Joint Resolutions\n",
    "INDIR_115_HJRES = './data/115/bills/hjres'\n",
    "INDIR_115_SJRES = './data/115/bills/sjres'\n",
    "\n",
    "# Simple Resolutions\n",
    "INDIR_115_HRES = './data/115/bills/hres'\n",
    "INDIR_115_SRES = './data/115/bills/sres'\n",
    "\n",
    "INDIR_ALL = [INDIR_115_HR, INDIR_115_S, \n",
    "              INDIR_115_HCONRES, INDIR_115_SCONRES, \n",
    "              INDIR_115_HJRES, INDIR_115_SJRES, \n",
    "              INDIR_115_HRES, INDIR_115_SRES\n",
    "             ]"
   ]
  },
  {
   "cell_type": "code",
   "execution_count": 3,
   "metadata": {},
   "outputs": [
    {
     "name": "stdout",
     "output_type": "stream",
     "text": [
      "Processing ./data/115/bills/hr\n",
      "Processing ./data/115/bills/s\n",
      "Processing ./data/115/bills/hconres\n",
      "Processing ./data/115/bills/sconres\n",
      "Processing ./data/115/bills/hjres\n",
      "Processing ./data/115/bills/sjres\n",
      "Processing ./data/115/bills/hres\n",
      "Processing ./data/115/bills/sres\n"
     ]
    }
   ],
   "source": [
    "data = []\n",
    "\n",
    "for i in INDIR_ALL:\n",
    "    print('Processing {}'.format(i))\n",
    "    for d in walk_dirs(i):\n",
    "        data.append(d)\n",
    "        \n",
    "df_115 = pd.DataFrame(data)"
   ]
  },
  {
   "cell_type": "code",
   "execution_count": 4,
   "metadata": {},
   "outputs": [
    {
     "data": {
      "text/html": [
       "<div>\n",
       "<style>\n",
       "    .dataframe thead tr:only-child th {\n",
       "        text-align: right;\n",
       "    }\n",
       "\n",
       "    .dataframe thead th {\n",
       "        text-align: left;\n",
       "    }\n",
       "\n",
       "    .dataframe tbody tr th {\n",
       "        vertical-align: top;\n",
       "    }\n",
       "</style>\n",
       "<table border=\"1\" class=\"dataframe\">\n",
       "  <thead>\n",
       "    <tr style=\"text-align: right;\">\n",
       "      <th></th>\n",
       "      <th>Congress</th>\n",
       "      <th>Directory</th>\n",
       "      <th>ID</th>\n",
       "      <th>Number</th>\n",
       "      <th>Subtype</th>\n",
       "      <th>Summary</th>\n",
       "      <th>Type</th>\n",
       "      <th>Version</th>\n",
       "    </tr>\n",
       "  </thead>\n",
       "  <tbody>\n",
       "    <tr>\n",
       "      <th>0</th>\n",
       "      <td>115</td>\n",
       "      <td>./data/115/bills/hr/hr1206/text-versions/ih</td>\n",
       "      <td>115_HR1206_IH</td>\n",
       "      <td>HR1206</td>\n",
       "      <td>HR</td>\n",
       "      <td>1</td>\n",
       "      <td>Bills</td>\n",
       "      <td>IH</td>\n",
       "    </tr>\n",
       "    <tr>\n",
       "      <th>1</th>\n",
       "      <td>115</td>\n",
       "      <td>./data/115/bills/hr/hr4265/text-versions/ih</td>\n",
       "      <td>115_HR4265_IH</td>\n",
       "      <td>HR4265</td>\n",
       "      <td>HR</td>\n",
       "      <td>0</td>\n",
       "      <td>Bills</td>\n",
       "      <td>IH</td>\n",
       "    </tr>\n",
       "    <tr>\n",
       "      <th>2</th>\n",
       "      <td>115</td>\n",
       "      <td>./data/115/bills/hr/hr689/text-versions/ih</td>\n",
       "      <td>115_HR689_IH</td>\n",
       "      <td>HR689</td>\n",
       "      <td>HR</td>\n",
       "      <td>1</td>\n",
       "      <td>Bills</td>\n",
       "      <td>IH</td>\n",
       "    </tr>\n",
       "    <tr>\n",
       "      <th>3</th>\n",
       "      <td>115</td>\n",
       "      <td>./data/115/bills/hr/hr689/text-versions/rfs</td>\n",
       "      <td>115_HR689_RFS</td>\n",
       "      <td>HR689</td>\n",
       "      <td>HR</td>\n",
       "      <td>1</td>\n",
       "      <td>Bills</td>\n",
       "      <td>RFS</td>\n",
       "    </tr>\n",
       "    <tr>\n",
       "      <th>4</th>\n",
       "      <td>115</td>\n",
       "      <td>./data/115/bills/hr/hr689/text-versions/eh</td>\n",
       "      <td>115_HR689_EH</td>\n",
       "      <td>HR689</td>\n",
       "      <td>HR</td>\n",
       "      <td>1</td>\n",
       "      <td>Bills</td>\n",
       "      <td>EH</td>\n",
       "    </tr>\n",
       "  </tbody>\n",
       "</table>\n",
       "</div>"
      ],
      "text/plain": [
       "  Congress                                    Directory             ID  \\\n",
       "0      115  ./data/115/bills/hr/hr1206/text-versions/ih  115_HR1206_IH   \n",
       "1      115  ./data/115/bills/hr/hr4265/text-versions/ih  115_HR4265_IH   \n",
       "2      115   ./data/115/bills/hr/hr689/text-versions/ih   115_HR689_IH   \n",
       "3      115  ./data/115/bills/hr/hr689/text-versions/rfs  115_HR689_RFS   \n",
       "4      115   ./data/115/bills/hr/hr689/text-versions/eh   115_HR689_EH   \n",
       "\n",
       "   Number Subtype  Summary   Type Version  \n",
       "0  HR1206      HR        1  Bills      IH  \n",
       "1  HR4265      HR        0  Bills      IH  \n",
       "2   HR689      HR        1  Bills      IH  \n",
       "3   HR689      HR        1  Bills     RFS  \n",
       "4   HR689      HR        1  Bills      EH  "
      ]
     },
     "execution_count": 4,
     "metadata": {},
     "output_type": "execute_result"
    }
   ],
   "source": [
    "df_115.head()"
   ]
  },
  {
   "cell_type": "code",
   "execution_count": 5,
   "metadata": {},
   "outputs": [
    {
     "data": {
      "text/plain": [
       "Bills                     7867\n",
       "Simple Resolutions        1104\n",
       "Joint Resolutions          246\n",
       "Concurrent Resolutions     173\n",
       "Name: Type, dtype: int64"
      ]
     },
     "execution_count": 5,
     "metadata": {},
     "output_type": "execute_result"
    }
   ],
   "source": [
    "df_115.Type.value_counts()"
   ]
  },
  {
   "cell_type": "code",
   "execution_count": 6,
   "metadata": {},
   "outputs": [
    {
     "data": {
      "text/plain": [
       "9390"
      ]
     },
     "execution_count": 6,
     "metadata": {},
     "output_type": "execute_result"
    }
   ],
   "source": [
    "len(df_115)"
   ]
  },
  {
   "cell_type": "markdown",
   "metadata": {},
   "source": [
    "# Split train, val, test"
   ]
  },
  {
   "cell_type": "code",
   "execution_count": 7,
   "metadata": {
    "collapsed": true
   },
   "outputs": [],
   "source": [
    "# df_115_valid.groupby(['Number', 'Version']).size()"
   ]
  },
  {
   "cell_type": "code",
   "execution_count": 9,
   "metadata": {
    "collapsed": true
   },
   "outputs": [],
   "source": [
    "df_115_valid = df_115[(df_115.Summary==1) \n",
    "                      & (df_115.Version != 'N/A')\n",
    "                      & (df_115.Version != 'EAS')\n",
    "                      & (df_115.Version != 'EAH')\n",
    "                      & (df_115.Version != 'EAS2') \n",
    "                      & (df_115.Version != 'PAP')\n",
    "    ]\n",
    "\n",
    "df_select = df_115_valid.groupby(['Congress', 'Number']).first()"
   ]
  },
  {
   "cell_type": "code",
   "execution_count": 10,
   "metadata": {},
   "outputs": [
    {
     "data": {
      "text/html": [
       "<div>\n",
       "<style>\n",
       "    .dataframe thead tr:only-child th {\n",
       "        text-align: right;\n",
       "    }\n",
       "\n",
       "    .dataframe thead th {\n",
       "        text-align: left;\n",
       "    }\n",
       "\n",
       "    .dataframe tbody tr th {\n",
       "        vertical-align: top;\n",
       "    }\n",
       "</style>\n",
       "<table border=\"1\" class=\"dataframe\">\n",
       "  <thead>\n",
       "    <tr style=\"text-align: right;\">\n",
       "      <th></th>\n",
       "      <th></th>\n",
       "      <th>Directory</th>\n",
       "      <th>ID</th>\n",
       "      <th>Subtype</th>\n",
       "      <th>Summary</th>\n",
       "      <th>Type</th>\n",
       "      <th>Version</th>\n",
       "    </tr>\n",
       "    <tr>\n",
       "      <th>Congress</th>\n",
       "      <th>Number</th>\n",
       "      <th></th>\n",
       "      <th></th>\n",
       "      <th></th>\n",
       "      <th></th>\n",
       "      <th></th>\n",
       "      <th></th>\n",
       "    </tr>\n",
       "  </thead>\n",
       "  <tbody>\n",
       "    <tr>\n",
       "      <th rowspan=\"5\" valign=\"top\">115</th>\n",
       "      <th>HCONRES1</th>\n",
       "      <td>./data/115/bills/hconres/hconres1/text-version...</td>\n",
       "      <td>115_HCONRES1_RDS</td>\n",
       "      <td>HCONRES</td>\n",
       "      <td>1</td>\n",
       "      <td>Concurrent Resolutions</td>\n",
       "      <td>RDS</td>\n",
       "    </tr>\n",
       "    <tr>\n",
       "      <th>HCONRES10</th>\n",
       "      <td>./data/115/bills/hconres/hconres10/text-versio...</td>\n",
       "      <td>115_HCONRES10_IH</td>\n",
       "      <td>HCONRES</td>\n",
       "      <td>1</td>\n",
       "      <td>Concurrent Resolutions</td>\n",
       "      <td>IH</td>\n",
       "    </tr>\n",
       "    <tr>\n",
       "      <th>HCONRES11</th>\n",
       "      <td>./data/115/bills/hconres/hconres11/text-versio...</td>\n",
       "      <td>115_HCONRES11_IH</td>\n",
       "      <td>HCONRES</td>\n",
       "      <td>1</td>\n",
       "      <td>Concurrent Resolutions</td>\n",
       "      <td>IH</td>\n",
       "    </tr>\n",
       "    <tr>\n",
       "      <th>HCONRES12</th>\n",
       "      <td>./data/115/bills/hconres/hconres12/text-versio...</td>\n",
       "      <td>115_HCONRES12_IH</td>\n",
       "      <td>HCONRES</td>\n",
       "      <td>1</td>\n",
       "      <td>Concurrent Resolutions</td>\n",
       "      <td>IH</td>\n",
       "    </tr>\n",
       "    <tr>\n",
       "      <th>HCONRES13</th>\n",
       "      <td>./data/115/bills/hconres/hconres13/text-versio...</td>\n",
       "      <td>115_HCONRES13_IH</td>\n",
       "      <td>HCONRES</td>\n",
       "      <td>1</td>\n",
       "      <td>Concurrent Resolutions</td>\n",
       "      <td>IH</td>\n",
       "    </tr>\n",
       "  </tbody>\n",
       "</table>\n",
       "</div>"
      ],
      "text/plain": [
       "                                                            Directory  \\\n",
       "Congress Number                                                         \n",
       "115      HCONRES1   ./data/115/bills/hconres/hconres1/text-version...   \n",
       "         HCONRES10  ./data/115/bills/hconres/hconres10/text-versio...   \n",
       "         HCONRES11  ./data/115/bills/hconres/hconres11/text-versio...   \n",
       "         HCONRES12  ./data/115/bills/hconres/hconres12/text-versio...   \n",
       "         HCONRES13  ./data/115/bills/hconres/hconres13/text-versio...   \n",
       "\n",
       "                                  ID  Subtype  Summary  \\\n",
       "Congress Number                                          \n",
       "115      HCONRES1   115_HCONRES1_RDS  HCONRES        1   \n",
       "         HCONRES10  115_HCONRES10_IH  HCONRES        1   \n",
       "         HCONRES11  115_HCONRES11_IH  HCONRES        1   \n",
       "         HCONRES12  115_HCONRES12_IH  HCONRES        1   \n",
       "         HCONRES13  115_HCONRES13_IH  HCONRES        1   \n",
       "\n",
       "                                      Type Version  \n",
       "Congress Number                                     \n",
       "115      HCONRES1   Concurrent Resolutions     RDS  \n",
       "         HCONRES10  Concurrent Resolutions      IH  \n",
       "         HCONRES11  Concurrent Resolutions      IH  \n",
       "         HCONRES12  Concurrent Resolutions      IH  \n",
       "         HCONRES13  Concurrent Resolutions      IH  "
      ]
     },
     "execution_count": 10,
     "metadata": {},
     "output_type": "execute_result"
    }
   ],
   "source": [
    "df_select.head()"
   ]
  },
  {
   "cell_type": "code",
   "execution_count": 11,
   "metadata": {},
   "outputs": [
    {
     "data": {
      "text/plain": [
       "5192"
      ]
     },
     "execution_count": 11,
     "metadata": {},
     "output_type": "execute_result"
    }
   ],
   "source": [
    "len(df_select)"
   ]
  },
  {
   "cell_type": "code",
   "execution_count": 17,
   "metadata": {},
   "outputs": [
    {
     "name": "stdout",
     "output_type": "stream",
     "text": [
      "4153 519 520\n"
     ]
    }
   ],
   "source": [
    "train, validate, test = np.split(df_select.sample(frac=1), [int(.8*len(df_select)), int(.9*len(df_select))])\n",
    "\n",
    "print(len(train), len(validate), len(test))"
   ]
  },
  {
   "cell_type": "code",
   "execution_count": 22,
   "metadata": {
    "collapsed": true
   },
   "outputs": [],
   "source": [
    "train.to_csv('./data/train.txt')\n",
    "validate.to_csv('./data/validate.txt')\n",
    "test.to_csv('./data/test.txt')"
   ]
  },
  {
   "cell_type": "code",
   "execution_count": 28,
   "metadata": {
    "collapsed": true
   },
   "outputs": [],
   "source": [
    "df_train = pd.read_csv('./data/train.txt')"
   ]
  },
  {
   "cell_type": "code",
   "execution_count": 29,
   "metadata": {
    "scrolled": true
   },
   "outputs": [
    {
     "data": {
      "text/html": [
       "<div>\n",
       "<style>\n",
       "    .dataframe thead tr:only-child th {\n",
       "        text-align: right;\n",
       "    }\n",
       "\n",
       "    .dataframe thead th {\n",
       "        text-align: left;\n",
       "    }\n",
       "\n",
       "    .dataframe tbody tr th {\n",
       "        vertical-align: top;\n",
       "    }\n",
       "</style>\n",
       "<table border=\"1\" class=\"dataframe\">\n",
       "  <thead>\n",
       "    <tr style=\"text-align: right;\">\n",
       "      <th></th>\n",
       "      <th>Congress</th>\n",
       "      <th>Number</th>\n",
       "      <th>Directory</th>\n",
       "      <th>ID</th>\n",
       "      <th>Subtype</th>\n",
       "      <th>Summary</th>\n",
       "      <th>Type</th>\n",
       "      <th>Version</th>\n",
       "    </tr>\n",
       "  </thead>\n",
       "  <tbody>\n",
       "    <tr>\n",
       "      <th>0</th>\n",
       "      <td>115</td>\n",
       "      <td>SRES290</td>\n",
       "      <td>./data/115/bills/sres/sres290/text-versions/ats</td>\n",
       "      <td>115_SRES290_ATS</td>\n",
       "      <td>SRES</td>\n",
       "      <td>1</td>\n",
       "      <td>Simple Resolutions</td>\n",
       "      <td>ATS</td>\n",
       "    </tr>\n",
       "    <tr>\n",
       "      <th>1</th>\n",
       "      <td>115</td>\n",
       "      <td>HR2522</td>\n",
       "      <td>./data/115/bills/hr/hr2522/text-versions/ih</td>\n",
       "      <td>115_HR2522_IH</td>\n",
       "      <td>HR</td>\n",
       "      <td>1</td>\n",
       "      <td>Bills</td>\n",
       "      <td>IH</td>\n",
       "    </tr>\n",
       "    <tr>\n",
       "      <th>2</th>\n",
       "      <td>115</td>\n",
       "      <td>HR280</td>\n",
       "      <td>./data/115/bills/hr/hr280/text-versions/ih</td>\n",
       "      <td>115_HR280_IH</td>\n",
       "      <td>HR</td>\n",
       "      <td>1</td>\n",
       "      <td>Bills</td>\n",
       "      <td>IH</td>\n",
       "    </tr>\n",
       "    <tr>\n",
       "      <th>3</th>\n",
       "      <td>115</td>\n",
       "      <td>HR944</td>\n",
       "      <td>./data/115/bills/hr/hr944/text-versions/ih</td>\n",
       "      <td>115_HR944_IH</td>\n",
       "      <td>HR</td>\n",
       "      <td>1</td>\n",
       "      <td>Bills</td>\n",
       "      <td>IH</td>\n",
       "    </tr>\n",
       "    <tr>\n",
       "      <th>4</th>\n",
       "      <td>115</td>\n",
       "      <td>HR3141</td>\n",
       "      <td>./data/115/bills/hr/hr3141/text-versions/ih</td>\n",
       "      <td>115_HR3141_IH</td>\n",
       "      <td>HR</td>\n",
       "      <td>1</td>\n",
       "      <td>Bills</td>\n",
       "      <td>IH</td>\n",
       "    </tr>\n",
       "  </tbody>\n",
       "</table>\n",
       "</div>"
      ],
      "text/plain": [
       "   Congress   Number                                        Directory  \\\n",
       "0       115  SRES290  ./data/115/bills/sres/sres290/text-versions/ats   \n",
       "1       115   HR2522      ./data/115/bills/hr/hr2522/text-versions/ih   \n",
       "2       115    HR280       ./data/115/bills/hr/hr280/text-versions/ih   \n",
       "3       115    HR944       ./data/115/bills/hr/hr944/text-versions/ih   \n",
       "4       115   HR3141      ./data/115/bills/hr/hr3141/text-versions/ih   \n",
       "\n",
       "                ID Subtype  Summary                Type Version  \n",
       "0  115_SRES290_ATS    SRES        1  Simple Resolutions     ATS  \n",
       "1    115_HR2522_IH      HR        1               Bills      IH  \n",
       "2     115_HR280_IH      HR        1               Bills      IH  \n",
       "3     115_HR944_IH      HR        1               Bills      IH  \n",
       "4    115_HR3141_IH      HR        1               Bills      IH  "
      ]
     },
     "execution_count": 29,
     "metadata": {},
     "output_type": "execute_result"
    }
   ],
   "source": [
    "df_train.head()"
   ]
  },
  {
   "cell_type": "code",
   "execution_count": null,
   "metadata": {
    "collapsed": true
   },
   "outputs": [],
   "source": []
  },
  {
   "cell_type": "markdown",
   "metadata": {},
   "source": [
    "# Create tmp Process"
   ]
  },
  {
   "cell_type": "code",
   "execution_count": 18,
   "metadata": {
    "collapsed": true
   },
   "outputs": [],
   "source": [
    "def clean_bill(text):\n",
    "    try:\n",
    "        split = re.split(r'(?i)\\sAN\\sACT\\s{3,}|\\sA\\sBIL[L]*\\s{2,}|\\sA*\\s[A-Z]*\\sRESOLUTION\\s{3,}', text)\n",
    "        if len(split) > 1: \n",
    "            text1 = split[1]\n",
    "        else:\n",
    "            text1 = text.split('In the House of Representatives, U. S.,')[1]\n",
    "        text21 = re.split(r'\\s{2,}Passed the (Senate |House of Representatives )', text1)[0] # remove words after 'Attest:'\n",
    "        text22 = re.split(r'\\s{2,}Attest:\\s{2,}', text21)[0] # remove words after 'Attest:'\n",
    "        text23 = re.split(r'\\s{2,}(Union |House )*Calendar No\\.\\s\\d+\\s{2,}', text22)[0] # \n",
    "        text24 = re.split(r'\\s{2,}Speaker of the House of Representatives\\.\\s{2,}', text23)[0]\n",
    "        text3 = re.sub(r'[ ][\\n][ ]+', r' ', text24) # somtimes one sentence may be break into multiple lines\n",
    "        text4 = re.sub(r'\\<all\\>\\s*$', r'', text3) # remove <all> in the end\n",
    "        text5 = re.sub(r'\\s', r' ', text4) # replace all kinds of white space (\\n\\t ) with ' ' \n",
    "        text6 = text5.replace('--', ' -- ') # add axtra space around --\n",
    "        text7 = re.sub(r',\\s+SECTION 1.', r'. SECTION 1', text6) # replace ',' before section 1 with '.'\n",
    "        text8 = re.sub(r'(?i)(\\sSEC)(\\.)(\\s\\d)(\\s*\\.)', r'\\1TION\\3 ', text7) # replace 'SEC. x.' with 'SECTION x '\n",
    "#         text9 = re.sub(r'Calendar No[\\d\\w\\s\\.]+$', r'', text8) # remove extra Calendar No.... in the end\n",
    "        text10 = text8.replace(';', '.')\n",
    "        text11 = text10.replace(\"''. \", \" \")\n",
    "        return text11.strip()\n",
    "    except:\n",
    "        print('!!! Error at cleaning text:')\n",
    "        print(text)\n",
    "#         return ' '\n",
    "        raise"
   ]
  },
  {
   "cell_type": "code",
   "execution_count": 29,
   "metadata": {
    "collapsed": true
   },
   "outputs": [],
   "source": [
    "def get_clean_summary(row):\n",
    "    path = row['Directory']\n",
    "    with open('/'.join(path.split('/')[0:6])+'/data.xml') as f:\n",
    "        dict1 = xmltodict.parse(f.read())\n",
    "    summary_text = dict1['bill']['summary']['#text']\n",
    "    text6 = [i.strip().rstrip() for i in summary_text.split('\\n')]\n",
    "    text7 = [re.sub('\\(Sec\\. [0-9]+\\)', '', i) for i in text6]\n",
    "    text8 = [i for i in text7 if i!='']\n",
    "    summary = ' '.join(text8)\n",
    "    return summary"
   ]
  },
  {
   "cell_type": "code",
   "execution_count": null,
   "metadata": {
    "collapsed": true
   },
   "outputs": [],
   "source": []
  },
  {
   "cell_type": "code",
   "execution_count": null,
   "metadata": {
    "collapsed": true
   },
   "outputs": [],
   "source": []
  },
  {
   "cell_type": "code",
   "execution_count": 60,
   "metadata": {
    "collapsed": true
   },
   "outputs": [],
   "source": [
    "TMPDIR = './tmp/out3'\n",
    "\n",
    "def split_file(row):\n",
    "    indir_b = os.path.join(row['Directory'], 'document.txt')\n",
    "    filename_b = 'BILL'+'_'+row['ID']\n",
    "    tmp_b = os.path.join(TMPDIR, filename_b)\n",
    "    out_b = os.path.join(TMPDIR, filename_b+'.out')\n",
    "    \n",
    "    indir_s = os.path.join(row['Directory'], '..', '..', 'data.json')\n",
    "    filename_s = 'SUMMARY'+'_'+row['ID']\n",
    "    tmp_s = os.path.join(TMPDIR, filename_s)\n",
    "    out_s = os.path.join(TMPDIR, filename_s+'.out')\n",
    "    \n",
    "    with open(indir_b, 'r') as f:\n",
    "        text_b = f.read()\n",
    "        \n",
    "    with open(tmp_b, 'w') as f:\n",
    "        f.write(clean_bill(text_b))\n",
    "    \n",
    "    command = ['java', \"-classpath\", \"/home/lucy/stanford-corenlp/stanford-corenlp-full-2016-10-31/stanford-corenlp-3.7.0.jar:/home/lucy/stanford-corenlp/stanford-corenlp-full-2016-10-31/stanford-corenlp-3.7.0-models.jar\", 'edu.stanford.nlp.process.DocumentPreprocessor', tmp_b]\n",
    "    with open(out_b, \"w\") as outfile:\n",
    "        subprocess.run(command, stdout=outfile)\n",
    "\n",
    "        \n",
    "    with open(indir_s, 'r') as f:\n",
    "        text_s = json.load(f)['summary']['text']\n",
    "    \n",
    "    with open(tmp_s, 'w') as f:\n",
    "        f.write(text_s)\n",
    "    \n",
    "    command = ['java', \"-classpath\", \"/home/lucy/stanford-corenlp/stanford-corenlp-full-2016-10-31/stanford-corenlp-3.7.0.jar:/home/lucy/stanford-corenlp/stanford-corenlp-full-2016-10-31/stanford-corenlp-3.7.0-models.jar\", 'edu.stanford.nlp.process.DocumentPreprocessor', tmp_s]\n",
    "\n",
    "    with open(out_s, \"w\") as outfile:\n",
    "        subprocess.run(command, stdout=outfile)\n",
    "\n",
    "\n",
    "    \n",
    "    os.remove(tmp_b)\n",
    "    os.remove(tmp_s)\n",
    "        \n",
    "#     return tmp_b\n",
    "    "
   ]
  },
  {
   "cell_type": "code",
   "execution_count": 309,
   "metadata": {
    "collapsed": true
   },
   "outputs": [],
   "source": [
    "OUTDIR = './tmp/bill'\n",
    "# TMPDIR_SUMMARY = './tmp/summaries/'\n",
    "# OUTDIR_BILL = './out/bills/'\n",
    "# OUTDIR_SUMMARY = './out/summaries/'"
   ]
  },
  {
   "cell_type": "code",
   "execution_count": 62,
   "metadata": {},
   "outputs": [
    {
     "name": "stdout",
     "output_type": "stream",
     "text": [
      "CPU times: user 26.4 s, sys: 25.7 s, total: 52.1 s\n",
      "Wall time: 30min 57s\n"
     ]
    },
    {
     "data": {
      "text/plain": [
       "0       None\n",
       "2       None\n",
       "3       None\n",
       "4       None\n",
       "5       None\n",
       "8       None\n",
       "9       None\n",
       "10      None\n",
       "11      None\n",
       "14      None\n",
       "17      None\n",
       "18      None\n",
       "19      None\n",
       "20      None\n",
       "21      None\n",
       "22      None\n",
       "23      None\n",
       "24      None\n",
       "25      None\n",
       "26      None\n",
       "27      None\n",
       "28      None\n",
       "29      None\n",
       "30      None\n",
       "31      None\n",
       "32      None\n",
       "33      None\n",
       "35      None\n",
       "36      None\n",
       "37      None\n",
       "        ... \n",
       "9356    None\n",
       "9357    None\n",
       "9358    None\n",
       "9359    None\n",
       "9360    None\n",
       "9361    None\n",
       "9362    None\n",
       "9363    None\n",
       "9364    None\n",
       "9365    None\n",
       "9366    None\n",
       "9368    None\n",
       "9370    None\n",
       "9371    None\n",
       "9372    None\n",
       "9373    None\n",
       "9374    None\n",
       "9376    None\n",
       "9377    None\n",
       "9378    None\n",
       "9379    None\n",
       "9380    None\n",
       "9381    None\n",
       "9382    None\n",
       "9383    None\n",
       "9384    None\n",
       "9385    None\n",
       "9387    None\n",
       "9388    None\n",
       "9389    None\n",
       "Length: 6775, dtype: object"
      ]
     },
     "execution_count": 62,
     "metadata": {},
     "output_type": "execute_result"
    }
   ],
   "source": [
    "%%time\n",
    "df_115_valid.apply(split_file, axis=1)"
   ]
  },
  {
   "cell_type": "code",
   "execution_count": null,
   "metadata": {
    "collapsed": true
   },
   "outputs": [],
   "source": []
  },
  {
   "cell_type": "code",
   "execution_count": null,
   "metadata": {
    "collapsed": true
   },
   "outputs": [],
   "source": []
  },
  {
   "cell_type": "code",
   "execution_count": null,
   "metadata": {
    "collapsed": true
   },
   "outputs": [],
   "source": []
  }
 ],
 "metadata": {
  "kernelspec": {
   "display_name": "Python 3",
   "language": "python",
   "name": "python3"
  },
  "language_info": {
   "codemirror_mode": {
    "name": "ipython",
    "version": 3
   },
   "file_extension": ".py",
   "mimetype": "text/x-python",
   "name": "python",
   "nbconvert_exporter": "python",
   "pygments_lexer": "ipython3",
   "version": "3.6.2"
  }
 },
 "nbformat": 4,
 "nbformat_minor": 2
}
