{
 "cells": [
  {
   "cell_type": "code",
   "execution_count": 1,
   "metadata": {
    "collapsed": true
   },
   "outputs": [],
   "source": [
    "import xmltodict\n",
    "import pandas as pd\n",
    "import os"
   ]
  },
  {
   "cell_type": "code",
   "execution_count": 2,
   "metadata": {
    "collapsed": true
   },
   "outputs": [],
   "source": [
    "# organizing the original xml data: \n",
    "# 1) Add file-name: just file name\n",
    "# 2) Add bill-type: there are three types: 'bill', 'resolution', 'amendment-doc'\n",
    "# 3) Grouped all \"meta\" data which start with @ from parser.\n",
    "def bill_to_dict(filename, doc):\n",
    "    bill_type = list(doc)[0]\n",
    "    data_dict = {}\n",
    "    \n",
    "    data_dict[\"file-name\"] = filename\n",
    "    data_dict[\"bill-type\"] = bill_type\n",
    "    \n",
    "    metadata = {}\n",
    "    for n in list(doc[bill_type]):\n",
    "        if n.startswith(\"@\"):\n",
    "            metadata[n] = doc[bill_type][n]\n",
    "        else:\n",
    "            data_dict[n] = doc[bill_type][n]\n",
    "    data_dict[\"metadata\"] = metadata\n",
    "    return data_dict"
   ]
  },
  {
   "cell_type": "code",
   "execution_count": 3,
   "metadata": {
    "collapsed": false
   },
   "outputs": [],
   "source": [
    "# I put all the files in one folder for simplicity\n",
    "indir = 'bill_text_115' \n",
    "\n",
    "data = [] # a list of dict, each element is a xml file\n",
    "\n",
    "for root, dirs, filenames in os.walk(indir):\n",
    "    for filename in filenames:\n",
    "        with open(os.path.join(indir, filename), 'rb') as f:\n",
    "            doc = xmltodict.parse(f.read())\n",
    "            try:\n",
    "                data.append(bill_to_dict(filename, doc))\n",
    "            except:\n",
    "                print(filename)"
   ]
  },
  {
   "cell_type": "markdown",
   "metadata": {},
   "source": [
    "### Tried two ways to convert to dataframe\n",
    "#### 1. pandas.io.json.json_normalize\n",
    "- This will flat the nested structure. But since some tags have grand and grand grand sons, and some bills has additional information, the column number is large, so the head shows here are NA values."
   ]
  },
  {
   "cell_type": "code",
   "execution_count": 4,
   "metadata": {
    "collapsed": false
   },
   "outputs": [
    {
     "data": {
      "text/html": [
       "<div>\n",
       "<table border=\"1\" class=\"dataframe\">\n",
       "  <thead>\n",
       "    <tr style=\"text-align: right;\">\n",
       "      <th></th>\n",
       "      <th>attestation.attestation-group</th>\n",
       "      <th>attestation.attestation-group.attestation-date</th>\n",
       "      <th>attestation.attestation-group.attestation-date.#text</th>\n",
       "      <th>attestation.attestation-group.attestation-date.@chamber</th>\n",
       "      <th>attestation.attestation-group.attestation-date.@date</th>\n",
       "      <th>attestation.attestation-group.attestation-date.@legis-day</th>\n",
       "      <th>attestation.attestation-group.attestor</th>\n",
       "      <th>attestation.attestation-group.attestor.#text</th>\n",
       "      <th>attestation.attestation-group.attestor.@display</th>\n",
       "      <th>attestation.attestation-group.proxy.#text</th>\n",
       "      <th>...</th>\n",
       "      <th>resolution-body.section.text.external-xref.@parsable-cite</th>\n",
       "      <th>resolution-body.section.text.pagebreak</th>\n",
       "      <th>resolution-body.section.text.quote</th>\n",
       "      <th>resolution-body.section.text.quote.#text</th>\n",
       "      <th>resolution-body.section.text.quote.pagebreak</th>\n",
       "      <th>resolution-body.section.text.quote.quote</th>\n",
       "      <th>resolution-body.title</th>\n",
       "      <th>title-amends.official-title-amendment.#text</th>\n",
       "      <th>title-amends.official-title-amendment.pagebreak</th>\n",
       "      <th>title-amends.official-title-amendment.quote</th>\n",
       "    </tr>\n",
       "  </thead>\n",
       "  <tbody>\n",
       "    <tr>\n",
       "      <th>0</th>\n",
       "      <td>NaN</td>\n",
       "      <td>NaN</td>\n",
       "      <td>NaN</td>\n",
       "      <td>NaN</td>\n",
       "      <td>NaN</td>\n",
       "      <td>NaN</td>\n",
       "      <td>NaN</td>\n",
       "      <td>NaN</td>\n",
       "      <td>NaN</td>\n",
       "      <td>NaN</td>\n",
       "      <td>...</td>\n",
       "      <td>NaN</td>\n",
       "      <td>NaN</td>\n",
       "      <td>NaN</td>\n",
       "      <td>NaN</td>\n",
       "      <td>NaN</td>\n",
       "      <td>NaN</td>\n",
       "      <td>NaN</td>\n",
       "      <td>NaN</td>\n",
       "      <td>NaN</td>\n",
       "      <td>NaN</td>\n",
       "    </tr>\n",
       "    <tr>\n",
       "      <th>1</th>\n",
       "      <td>NaN</td>\n",
       "      <td>NaN</td>\n",
       "      <td>NaN</td>\n",
       "      <td>NaN</td>\n",
       "      <td>NaN</td>\n",
       "      <td>NaN</td>\n",
       "      <td>NaN</td>\n",
       "      <td>NaN</td>\n",
       "      <td>NaN</td>\n",
       "      <td>NaN</td>\n",
       "      <td>...</td>\n",
       "      <td>NaN</td>\n",
       "      <td>NaN</td>\n",
       "      <td>NaN</td>\n",
       "      <td>NaN</td>\n",
       "      <td>NaN</td>\n",
       "      <td>NaN</td>\n",
       "      <td>NaN</td>\n",
       "      <td>NaN</td>\n",
       "      <td>NaN</td>\n",
       "      <td>NaN</td>\n",
       "    </tr>\n",
       "  </tbody>\n",
       "</table>\n",
       "<p>2 rows × 405 columns</p>\n",
       "</div>"
      ],
      "text/plain": [
       "  attestation.attestation-group  \\\n",
       "0                           NaN   \n",
       "1                           NaN   \n",
       "\n",
       "  attestation.attestation-group.attestation-date  \\\n",
       "0                                            NaN   \n",
       "1                                            NaN   \n",
       "\n",
       "  attestation.attestation-group.attestation-date.#text  \\\n",
       "0                                                NaN     \n",
       "1                                                NaN     \n",
       "\n",
       "  attestation.attestation-group.attestation-date.@chamber  \\\n",
       "0                                                NaN        \n",
       "1                                                NaN        \n",
       "\n",
       "  attestation.attestation-group.attestation-date.@date  \\\n",
       "0                                                NaN     \n",
       "1                                                NaN     \n",
       "\n",
       "  attestation.attestation-group.attestation-date.@legis-day  \\\n",
       "0                                                NaN          \n",
       "1                                                NaN          \n",
       "\n",
       "   attestation.attestation-group.attestor  \\\n",
       "0                                     NaN   \n",
       "1                                     NaN   \n",
       "\n",
       "  attestation.attestation-group.attestor.#text  \\\n",
       "0                                          NaN   \n",
       "1                                          NaN   \n",
       "\n",
       "  attestation.attestation-group.attestor.@display  \\\n",
       "0                                             NaN   \n",
       "1                                             NaN   \n",
       "\n",
       "  attestation.attestation-group.proxy.#text  \\\n",
       "0                                       NaN   \n",
       "1                                       NaN   \n",
       "\n",
       "                      ...                      \\\n",
       "0                     ...                       \n",
       "1                     ...                       \n",
       "\n",
       "  resolution-body.section.text.external-xref.@parsable-cite  \\\n",
       "0                                                NaN          \n",
       "1                                                NaN          \n",
       "\n",
       "  resolution-body.section.text.pagebreak resolution-body.section.text.quote  \\\n",
       "0                                    NaN                                NaN   \n",
       "1                                    NaN                                NaN   \n",
       "\n",
       "   resolution-body.section.text.quote.#text  \\\n",
       "0                                       NaN   \n",
       "1                                       NaN   \n",
       "\n",
       "  resolution-body.section.text.quote.pagebreak  \\\n",
       "0                                          NaN   \n",
       "1                                          NaN   \n",
       "\n",
       "  resolution-body.section.text.quote.quote resolution-body.title  \\\n",
       "0                                      NaN                   NaN   \n",
       "1                                      NaN                   NaN   \n",
       "\n",
       "  title-amends.official-title-amendment.#text  \\\n",
       "0                                         NaN   \n",
       "1                                         NaN   \n",
       "\n",
       "  title-amends.official-title-amendment.pagebreak  \\\n",
       "0                                             NaN   \n",
       "1                                             NaN   \n",
       "\n",
       "  title-amends.official-title-amendment.quote  \n",
       "0                                         NaN  \n",
       "1                                         NaN  \n",
       "\n",
       "[2 rows x 405 columns]"
      ]
     },
     "execution_count": 4,
     "metadata": {},
     "output_type": "execute_result"
    }
   ],
   "source": [
    "df = pd.io.json.json_normalize(data)\n",
    "df.head(2)"
   ]
  },
  {
   "cell_type": "code",
   "execution_count": 5,
   "metadata": {
    "collapsed": true
   },
   "outputs": [],
   "source": [
    "# df.to_csv(\"bills.csv\")"
   ]
  },
  {
   "cell_type": "markdown",
   "metadata": {},
   "source": [
    "#### 2. pandas.DataFrame\n",
    "- Easier to see information like how many bill-type"
   ]
  },
  {
   "cell_type": "code",
   "execution_count": 6,
   "metadata": {
    "collapsed": false
   },
   "outputs": [
    {
     "data": {
      "text/html": [
       "<div>\n",
       "<table border=\"1\" class=\"dataframe\">\n",
       "  <thead>\n",
       "    <tr style=\"text-align: right;\">\n",
       "      <th></th>\n",
       "      <th>attestation</th>\n",
       "      <th>bill-type</th>\n",
       "      <th>endorsement</th>\n",
       "      <th>engrossed-amendment-body</th>\n",
       "      <th>engrossed-amendment-form</th>\n",
       "      <th>file-name</th>\n",
       "      <th>form</th>\n",
       "      <th>legis-body</th>\n",
       "      <th>metadata</th>\n",
       "      <th>official-title-amendment</th>\n",
       "      <th>preamble</th>\n",
       "      <th>resolution-body</th>\n",
       "      <th>title-amends</th>\n",
       "    </tr>\n",
       "  </thead>\n",
       "  <tbody>\n",
       "    <tr>\n",
       "      <th>0</th>\n",
       "      <td>NaN</td>\n",
       "      <td>bill</td>\n",
       "      <td>NaN</td>\n",
       "      <td>NaN</td>\n",
       "      <td>NaN</td>\n",
       "      <td>92510.140382952224512.47152.xml</td>\n",
       "      <td>{'distribution-code': {'@display': 'yes', '#te...</td>\n",
       "      <td>{'@display-enacting-clause': 'yes-display-enac...</td>\n",
       "      <td>{'@public-private': 'private', '@bill-stage': ...</td>\n",
       "      <td>NaN</td>\n",
       "      <td>NaN</td>\n",
       "      <td>NaN</td>\n",
       "      <td>NaN</td>\n",
       "    </tr>\n",
       "    <tr>\n",
       "      <th>1</th>\n",
       "      <td>NaN</td>\n",
       "      <td>resolution</td>\n",
       "      <td>NaN</td>\n",
       "      <td>NaN</td>\n",
       "      <td>NaN</td>\n",
       "      <td>US_Bill_Text_115_HCONRES10_IH.xml</td>\n",
       "      <td>{'distribution-code': {'@display': 'yes', '#te...</td>\n",
       "      <td>NaN</td>\n",
       "      <td>{'@public-private': 'public', '@star-print': '...</td>\n",
       "      <td>NaN</td>\n",
       "      <td>{'whereas': [{'text': 'Whereas America’s frate...</td>\n",
       "      <td>{'@id': 'H87EB0F92716248E78751D13F08B91455', '...</td>\n",
       "      <td>NaN</td>\n",
       "    </tr>\n",
       "  </tbody>\n",
       "</table>\n",
       "</div>"
      ],
      "text/plain": [
       "  attestation   bill-type endorsement engrossed-amendment-body  \\\n",
       "0         NaN        bill         NaN                      NaN   \n",
       "1         NaN  resolution         NaN                      NaN   \n",
       "\n",
       "  engrossed-amendment-form                          file-name  \\\n",
       "0                      NaN    92510.140382952224512.47152.xml   \n",
       "1                      NaN  US_Bill_Text_115_HCONRES10_IH.xml   \n",
       "\n",
       "                                                form  \\\n",
       "0  {'distribution-code': {'@display': 'yes', '#te...   \n",
       "1  {'distribution-code': {'@display': 'yes', '#te...   \n",
       "\n",
       "                                          legis-body  \\\n",
       "0  {'@display-enacting-clause': 'yes-display-enac...   \n",
       "1                                                NaN   \n",
       "\n",
       "                                            metadata official-title-amendment  \\\n",
       "0  {'@public-private': 'private', '@bill-stage': ...                      NaN   \n",
       "1  {'@public-private': 'public', '@star-print': '...                      NaN   \n",
       "\n",
       "                                            preamble  \\\n",
       "0                                                NaN   \n",
       "1  {'whereas': [{'text': 'Whereas America’s frate...   \n",
       "\n",
       "                                     resolution-body title-amends  \n",
       "0                                                NaN          NaN  \n",
       "1  {'@id': 'H87EB0F92716248E78751D13F08B91455', '...          NaN  "
      ]
     },
     "execution_count": 6,
     "metadata": {},
     "output_type": "execute_result"
    }
   ],
   "source": [
    "df2 = pd.DataFrame(data)\n",
    "df2.head(2)"
   ]
  },
  {
   "cell_type": "code",
   "execution_count": 7,
   "metadata": {
    "collapsed": false
   },
   "outputs": [
    {
     "data": {
      "text/plain": [
       "bill             6712\n",
       "resolution       1312\n",
       "amendment-doc      15\n",
       "Name: bill-type, dtype: int64"
      ]
     },
     "execution_count": 7,
     "metadata": {},
     "output_type": "execute_result"
    }
   ],
   "source": [
    "df2['bill-type'].value_counts()"
   ]
  },
  {
   "cell_type": "code",
   "execution_count": null,
   "metadata": {
    "collapsed": true
   },
   "outputs": [],
   "source": []
  },
  {
   "cell_type": "code",
   "execution_count": null,
   "metadata": {
    "collapsed": true
   },
   "outputs": [],
   "source": []
  },
  {
   "cell_type": "code",
   "execution_count": null,
   "metadata": {
    "collapsed": true
   },
   "outputs": [],
   "source": []
  },
  {
   "cell_type": "code",
   "execution_count": null,
   "metadata": {
    "collapsed": true
   },
   "outputs": [],
   "source": []
  }
 ],
 "metadata": {
  "kernelspec": {
   "display_name": "Python [conda root]",
   "language": "python",
   "name": "conda-root-py"
  },
  "language_info": {
   "codemirror_mode": {
    "name": "ipython",
    "version": 3
   },
   "file_extension": ".py",
   "mimetype": "text/x-python",
   "name": "python",
   "nbconvert_exporter": "python",
   "pygments_lexer": "ipython3",
   "version": "3.5.2"
  }
 },
 "nbformat": 4,
 "nbformat_minor": 2
}
