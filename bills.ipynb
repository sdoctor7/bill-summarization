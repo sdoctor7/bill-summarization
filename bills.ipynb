{
 "cells": [
  {
   "cell_type": "code",
   "execution_count": 4,
   "metadata": {
    "collapsed": true
   },
   "outputs": [],
   "source": [
    "import xmltodict\n",
    "import pandas as pd\n",
    "import os\n",
    "import re"
   ]
  },
  {
   "cell_type": "markdown",
   "metadata": {},
   "source": [
    "# Cleaning"
   ]
  },
  {
   "cell_type": "code",
   "execution_count": 5,
   "metadata": {
    "collapsed": true
   },
   "outputs": [],
   "source": [
    "def remove_tags(read_file):\n",
    "    read_file = re.sub(b'</?external-xref[^<>]*>',b'', read_file)\n",
    "    read_file = re.sub(b'<quote>',b'\"', read_file)\n",
    "    read_file = re.sub(b'</quote>',b'\"', read_file)\n",
    "    read_file = re.sub(b'</?term[^<>]*>',b' ', read_file)\n",
    "    read_file = re.sub(b'</?pagebreak[^<>]*>',b'', read_file)\n",
    "    return read_file"
   ]
  },
  {
   "cell_type": "code",
   "execution_count": 56,
   "metadata": {
    "collapsed": false
   },
   "outputs": [],
   "source": [
    "def flatten(d):\n",
    "    output = ''\n",
    "    for k, v in d.items():\n",
    "        if not k.startswith(\"@\"):\n",
    "            if isinstance(v, dict):\n",
    "                output += flatten(v)\n",
    "            elif isinstance(v, list):\n",
    "                for l in v:\n",
    "                    if isinstance(l, dict):\n",
    "                        output += flatten(l)\n",
    "                    else:\n",
    "                        if l:\n",
    "                            output += l + ' '\n",
    "            else:\n",
    "                if v:\n",
    "                    output += v + ' '\n",
    "    return output"
   ]
  },
  {
   "cell_type": "code",
   "execution_count": 57,
   "metadata": {
    "collapsed": false
   },
   "outputs": [],
   "source": [
    "def bill_to_dict(filename, doc):\n",
    "    def _clean_body(bodydict):\n",
    "        clean_bodydict = {}\n",
    "        for k, v in bodydict.items():\n",
    "            if not k.startswith(\"@\"):\n",
    "                if isinstance(v, list):\n",
    "                    sec_str = ''\n",
    "                    for sub_dict in v:\n",
    "                        if sub_dict:\n",
    "                            sec_str += flatten(sub_dict)\n",
    "                    clean_bodydict[k] = sec_str\n",
    "#                 elif isinstance(v, dict):\n",
    "                else:\n",
    "                    clean_bodydict[k] = flatten(v)\n",
    "#                 else:\n",
    "#                     print('xxxxxxxxx')\n",
    "#         print(1)\n",
    "#         print(clean_bodydict)\n",
    "        return clean_bodydict\n",
    "    \n",
    "    bill_type = list(doc)[0]\n",
    "    data_dict = {}\n",
    "    \n",
    "    data_dict[\"file-name\"] = filename\n",
    "    data_dict[\"bill-type\"] = bill_type\n",
    "    \n",
    "    metadata = {}\n",
    "    for n in list(doc[bill_type]):\n",
    "        # group meta data\n",
    "        if n.startswith(\"@\"): \n",
    "            metadata[n] = doc[bill_type][n]\n",
    "        # unify name for different types\n",
    "        elif n in ['legis-body', 'resolution-body', 'engrossed-amendment-body']:\n",
    "            if isinstance(doc[bill_type][n], dict):\n",
    "                data_dict['body'] = _clean_body(doc[bill_type][n])    \n",
    "            elif isinstance(doc[bill_type][n], list):\n",
    "                # just take last one\n",
    "                data_dict['body'] = _clean_body(doc[bill_type][n][-1])\n",
    "            else:\n",
    "                print('NOT dict nor list')\n",
    "                data_dict['body'] = doc[bill_type][n]\n",
    "                \n",
    "            \n",
    "        elif n == 'engrossed-amendment-form':\n",
    "            data_dict['form'] = doc[bill_type][n]\n",
    "        else:\n",
    "            data_dict[n] = doc[bill_type][n]\n",
    "    data_dict[\"metadata\"] = metadata\n",
    "    return data_dict"
   ]
  },
  {
   "cell_type": "code",
   "execution_count": 58,
   "metadata": {
    "collapsed": false
   },
   "outputs": [
    {
     "name": "stdout",
     "output_type": "stream",
     "text": [
      "2\n",
      "That pursuant to clause 4, section 5, article I of the\n",
      "                Constitution, during the One Hundred Fifteenth Congress the Speaker of the House and the Majority Leader\n",
      "                of the Senate or their respective designees, acting jointly after consultation with the Minority Leader\n",
      "                of the House and the Minority Leader of the Senate, may notify the Members of the House and the Senate,\n",
      "                respectively, to assemble at a place outside the District of Columbia if, in their opinion, the public\n",
      "                interest shall warrant it.\n",
      "{'section': 'That pursuant to clause 4, section 5, article I of the\\n                Constitution, during the One Hundred Fifteenth Congress the Speaker of the House and the Majority Leader\\n                of the Senate or their respective designees, acting jointly after consultation with the Minority Leader\\n                of the House and the Minority Leader of the Senate, may notify the Members of the House and the Senate,\\n                respectively, to assemble at a place outside the District of Columbia if, in their opinion, the public\\n                interest shall warrant it. '}\n"
     ]
    }
   ],
   "source": [
    "# test\n",
    "indir = 'bill_text_115'\n",
    "tmpdata=[]\n",
    "\n",
    "with open(os.path.join(indir, 'US_Bill_Text_115_HCONRES1_EH.xml'), 'rb') as f:\n",
    "    doc = xmltodict.parse(remove_tags(f.read()))\n",
    "    tmpdata.append(bill_to_dict(filename, doc))\n",
    "print(tmpdata[0]['body'])"
   ]
  },
  {
   "cell_type": "code",
   "execution_count": 8,
   "metadata": {
    "collapsed": false
   },
   "outputs": [],
   "source": [
    "# I put all the files in one folder for simplicity\n",
    "indir = 'bill_text_115' \n",
    "\n",
    "data = [] # a list of dict, each element is a xml file\n",
    "\n",
    "for root, dirs, filenames in os.walk(indir):\n",
    "    for filename in filenames:\n",
    "        with open(os.path.join(indir, filename), 'rb') as f:\n",
    "            doc = xmltodict.parse(remove_tags(f.read()))\n",
    "            data.append(bill_to_dict(filename, doc))"
   ]
  },
  {
   "cell_type": "code",
   "execution_count": 9,
   "metadata": {
    "collapsed": false
   },
   "outputs": [],
   "source": [
    "# [list(x) for x in set(tuple(x) for x in data)]"
   ]
  },
  {
   "cell_type": "markdown",
   "metadata": {},
   "source": [
    "# Select Some Columns"
   ]
  },
  {
   "cell_type": "code",
   "execution_count": 10,
   "metadata": {
    "collapsed": false
   },
   "outputs": [],
   "source": [
    "select_keys = ['metadata', 'bill-type', 'body', 'file-name']\n",
    "select_data = []\n",
    "for d in data:\n",
    "    select_data.append({ select_key: d[select_key] for select_key in select_keys })"
   ]
  },
  {
   "cell_type": "code",
   "execution_count": 11,
   "metadata": {
    "collapsed": true
   },
   "outputs": [],
   "source": [
    "df = pd.io.json.json_normalize(select_data)"
   ]
  },
  {
   "cell_type": "code",
   "execution_count": 12,
   "metadata": {
    "collapsed": false,
    "scrolled": true
   },
   "outputs": [
    {
     "data": {
      "text/html": [
       "<div>\n",
       "<table border=\"1\" class=\"dataframe\">\n",
       "  <thead>\n",
       "    <tr style=\"text-align: right;\">\n",
       "      <th></th>\n",
       "      <th>bill-type</th>\n",
       "      <th>body.amendment</th>\n",
       "      <th>body.division</th>\n",
       "      <th>body.section</th>\n",
       "      <th>body.title</th>\n",
       "      <th>file-name</th>\n",
       "      <th>metadata.@amend-degree</th>\n",
       "      <th>metadata.@amend-stage</th>\n",
       "      <th>metadata.@amend-type</th>\n",
       "      <th>metadata.@bill-stage</th>\n",
       "      <th>metadata.@bill-type</th>\n",
       "      <th>metadata.@dms-id</th>\n",
       "      <th>metadata.@key</th>\n",
       "      <th>metadata.@public-print</th>\n",
       "      <th>metadata.@public-private</th>\n",
       "      <th>metadata.@resolution-stage</th>\n",
       "      <th>metadata.@resolution-type</th>\n",
       "      <th>metadata.@stage-count</th>\n",
       "      <th>metadata.@star-print</th>\n",
       "    </tr>\n",
       "  </thead>\n",
       "  <tbody>\n",
       "    <tr>\n",
       "      <th>0</th>\n",
       "      <td>bill</td>\n",
       "      <td>NaN</td>\n",
       "      <td>NaN</td>\n",
       "      <td>1. Permanent resident status for Joseph\\n     ...</td>\n",
       "      <td>NaN</td>\n",
       "      <td>92510.140382952224512.47152.xml</td>\n",
       "      <td>NaN</td>\n",
       "      <td>NaN</td>\n",
       "      <td>NaN</td>\n",
       "      <td>Introduced-in-Senate</td>\n",
       "      <td>NaN</td>\n",
       "      <td>A1</td>\n",
       "      <td>NaN</td>\n",
       "      <td>NaN</td>\n",
       "      <td>private</td>\n",
       "      <td>NaN</td>\n",
       "      <td>NaN</td>\n",
       "      <td>NaN</td>\n",
       "      <td>NaN</td>\n",
       "    </tr>\n",
       "    <tr>\n",
       "      <th>1</th>\n",
       "      <td>resolution</td>\n",
       "      <td>NaN</td>\n",
       "      <td>NaN</td>\n",
       "      <td>That it is the sense of Congress that— (1) the...</td>\n",
       "      <td>NaN</td>\n",
       "      <td>US_Bill_Text_115_HCONRES10_IH.xml</td>\n",
       "      <td>NaN</td>\n",
       "      <td>NaN</td>\n",
       "      <td>NaN</td>\n",
       "      <td>NaN</td>\n",
       "      <td>NaN</td>\n",
       "      <td>H6105DDE2819B44DBB5E467A21768B92E</td>\n",
       "      <td>H</td>\n",
       "      <td>NaN</td>\n",
       "      <td>public</td>\n",
       "      <td>Introduced-in-House</td>\n",
       "      <td>house-concurrent</td>\n",
       "      <td>NaN</td>\n",
       "      <td>no-star-print</td>\n",
       "    </tr>\n",
       "    <tr>\n",
       "      <th>2</th>\n",
       "      <td>resolution</td>\n",
       "      <td>NaN</td>\n",
       "      <td>NaN</td>\n",
       "      <td>That it is the sense of Congress that— (1) the...</td>\n",
       "      <td>NaN</td>\n",
       "      <td>US_Bill_Text_115_HCONRES11_IH.xml</td>\n",
       "      <td>NaN</td>\n",
       "      <td>NaN</td>\n",
       "      <td>NaN</td>\n",
       "      <td>NaN</td>\n",
       "      <td>NaN</td>\n",
       "      <td>H4AC6CF641CD640E393CFA510D0960D8C</td>\n",
       "      <td>H</td>\n",
       "      <td>NaN</td>\n",
       "      <td>public</td>\n",
       "      <td>Introduced-in-House</td>\n",
       "      <td>house-concurrent</td>\n",
       "      <td>NaN</td>\n",
       "      <td>no-star-print</td>\n",
       "    </tr>\n",
       "    <tr>\n",
       "      <th>3</th>\n",
       "      <td>resolution</td>\n",
       "      <td>NaN</td>\n",
       "      <td>NaN</td>\n",
       "      <td>That Congress— (1) supports the designation of...</td>\n",
       "      <td>NaN</td>\n",
       "      <td>US_Bill_Text_115_HCONRES12_IH.xml</td>\n",
       "      <td>NaN</td>\n",
       "      <td>NaN</td>\n",
       "      <td>NaN</td>\n",
       "      <td>NaN</td>\n",
       "      <td>NaN</td>\n",
       "      <td>H4E5CA555E82D40E08E6EDAC6DB9540D3</td>\n",
       "      <td>H</td>\n",
       "      <td>NaN</td>\n",
       "      <td>public</td>\n",
       "      <td>Introduced-in-House</td>\n",
       "      <td>house-concurrent</td>\n",
       "      <td>NaN</td>\n",
       "      <td>no-star-print</td>\n",
       "    </tr>\n",
       "    <tr>\n",
       "      <th>4</th>\n",
       "      <td>resolution</td>\n",
       "      <td>NaN</td>\n",
       "      <td>NaN</td>\n",
       "      <td>That Congress should not impose any new perfor...</td>\n",
       "      <td>NaN</td>\n",
       "      <td>US_Bill_Text_115_HCONRES13_IH.xml</td>\n",
       "      <td>NaN</td>\n",
       "      <td>NaN</td>\n",
       "      <td>NaN</td>\n",
       "      <td>NaN</td>\n",
       "      <td>NaN</td>\n",
       "      <td>HE39F52BA0A584A39A31BF533005200CC</td>\n",
       "      <td>H</td>\n",
       "      <td>NaN</td>\n",
       "      <td>public</td>\n",
       "      <td>Introduced-in-House</td>\n",
       "      <td>house-concurrent</td>\n",
       "      <td>NaN</td>\n",
       "      <td>no-star-print</td>\n",
       "    </tr>\n",
       "  </tbody>\n",
       "</table>\n",
       "</div>"
      ],
      "text/plain": [
       "    bill-type body.amendment body.division  \\\n",
       "0        bill            NaN           NaN   \n",
       "1  resolution            NaN           NaN   \n",
       "2  resolution            NaN           NaN   \n",
       "3  resolution            NaN           NaN   \n",
       "4  resolution            NaN           NaN   \n",
       "\n",
       "                                        body.section body.title  \\\n",
       "0  1. Permanent resident status for Joseph\\n     ...        NaN   \n",
       "1  That it is the sense of Congress that— (1) the...        NaN   \n",
       "2  That it is the sense of Congress that— (1) the...        NaN   \n",
       "3  That Congress— (1) supports the designation of...        NaN   \n",
       "4  That Congress should not impose any new perfor...        NaN   \n",
       "\n",
       "                           file-name metadata.@amend-degree  \\\n",
       "0    92510.140382952224512.47152.xml                    NaN   \n",
       "1  US_Bill_Text_115_HCONRES10_IH.xml                    NaN   \n",
       "2  US_Bill_Text_115_HCONRES11_IH.xml                    NaN   \n",
       "3  US_Bill_Text_115_HCONRES12_IH.xml                    NaN   \n",
       "4  US_Bill_Text_115_HCONRES13_IH.xml                    NaN   \n",
       "\n",
       "  metadata.@amend-stage metadata.@amend-type  metadata.@bill-stage  \\\n",
       "0                   NaN                  NaN  Introduced-in-Senate   \n",
       "1                   NaN                  NaN                   NaN   \n",
       "2                   NaN                  NaN                   NaN   \n",
       "3                   NaN                  NaN                   NaN   \n",
       "4                   NaN                  NaN                   NaN   \n",
       "\n",
       "  metadata.@bill-type                   metadata.@dms-id metadata.@key  \\\n",
       "0                 NaN                                 A1           NaN   \n",
       "1                 NaN  H6105DDE2819B44DBB5E467A21768B92E             H   \n",
       "2                 NaN  H4AC6CF641CD640E393CFA510D0960D8C             H   \n",
       "3                 NaN  H4E5CA555E82D40E08E6EDAC6DB9540D3             H   \n",
       "4                 NaN  HE39F52BA0A584A39A31BF533005200CC             H   \n",
       "\n",
       "  metadata.@public-print metadata.@public-private metadata.@resolution-stage  \\\n",
       "0                    NaN                  private                        NaN   \n",
       "1                    NaN                   public        Introduced-in-House   \n",
       "2                    NaN                   public        Introduced-in-House   \n",
       "3                    NaN                   public        Introduced-in-House   \n",
       "4                    NaN                   public        Introduced-in-House   \n",
       "\n",
       "  metadata.@resolution-type metadata.@stage-count metadata.@star-print  \n",
       "0                       NaN                   NaN                  NaN  \n",
       "1          house-concurrent                   NaN        no-star-print  \n",
       "2          house-concurrent                   NaN        no-star-print  \n",
       "3          house-concurrent                   NaN        no-star-print  \n",
       "4          house-concurrent                   NaN        no-star-print  "
      ]
     },
     "execution_count": 12,
     "metadata": {},
     "output_type": "execute_result"
    }
   ],
   "source": [
    "df.head()"
   ]
  },
  {
   "cell_type": "code",
   "execution_count": 13,
   "metadata": {
    "collapsed": false
   },
   "outputs": [
    {
     "ename": "FileNotFoundError",
     "evalue": "[Errno 2] No such file or directory: 'data/bills.pkl'",
     "output_type": "error",
     "traceback": [
      "\u001b[0;31m---------------------------------------------------------------------------\u001b[0m",
      "\u001b[0;31mFileNotFoundError\u001b[0m                         Traceback (most recent call last)",
      "\u001b[0;32m<ipython-input-13-b0cedae503c6>\u001b[0m in \u001b[0;36m<module>\u001b[0;34m()\u001b[0m\n\u001b[0;32m----> 1\u001b[0;31m \u001b[0mdf\u001b[0m\u001b[0;34m.\u001b[0m\u001b[0mto_pickle\u001b[0m\u001b[0;34m(\u001b[0m\u001b[0;34m\"data/bills.pkl\"\u001b[0m\u001b[0;34m)\u001b[0m\u001b[0;34m\u001b[0m\u001b[0m\n\u001b[0m",
      "\u001b[0;32m/Users/lucylu/anaconda3/lib/python3.5/site-packages/pandas/core/generic.py\u001b[0m in \u001b[0;36mto_pickle\u001b[0;34m(self, path)\u001b[0m\n\u001b[1;32m   1211\u001b[0m         \"\"\"\n\u001b[1;32m   1212\u001b[0m         \u001b[0;32mfrom\u001b[0m \u001b[0mpandas\u001b[0m\u001b[0;34m.\u001b[0m\u001b[0mio\u001b[0m\u001b[0;34m.\u001b[0m\u001b[0mpickle\u001b[0m \u001b[0;32mimport\u001b[0m \u001b[0mto_pickle\u001b[0m\u001b[0;34m\u001b[0m\u001b[0m\n\u001b[0;32m-> 1213\u001b[0;31m         \u001b[0;32mreturn\u001b[0m \u001b[0mto_pickle\u001b[0m\u001b[0;34m(\u001b[0m\u001b[0mself\u001b[0m\u001b[0;34m,\u001b[0m \u001b[0mpath\u001b[0m\u001b[0;34m)\u001b[0m\u001b[0;34m\u001b[0m\u001b[0m\n\u001b[0m\u001b[1;32m   1214\u001b[0m \u001b[0;34m\u001b[0m\u001b[0m\n\u001b[1;32m   1215\u001b[0m     \u001b[0;32mdef\u001b[0m \u001b[0mto_clipboard\u001b[0m\u001b[0;34m(\u001b[0m\u001b[0mself\u001b[0m\u001b[0;34m,\u001b[0m \u001b[0mexcel\u001b[0m\u001b[0;34m=\u001b[0m\u001b[0;32mNone\u001b[0m\u001b[0;34m,\u001b[0m \u001b[0msep\u001b[0m\u001b[0;34m=\u001b[0m\u001b[0;32mNone\u001b[0m\u001b[0;34m,\u001b[0m \u001b[0;34m**\u001b[0m\u001b[0mkwargs\u001b[0m\u001b[0;34m)\u001b[0m\u001b[0;34m:\u001b[0m\u001b[0;34m\u001b[0m\u001b[0m\n",
      "\u001b[0;32m/Users/lucylu/anaconda3/lib/python3.5/site-packages/pandas/io/pickle.py\u001b[0m in \u001b[0;36mto_pickle\u001b[0;34m(obj, path)\u001b[0m\n\u001b[1;32m     17\u001b[0m         \u001b[0mFile\u001b[0m \u001b[0mpath\u001b[0m\u001b[0;34m\u001b[0m\u001b[0m\n\u001b[1;32m     18\u001b[0m     \"\"\"\n\u001b[0;32m---> 19\u001b[0;31m     \u001b[0;32mwith\u001b[0m \u001b[0mopen\u001b[0m\u001b[0;34m(\u001b[0m\u001b[0mpath\u001b[0m\u001b[0;34m,\u001b[0m \u001b[0;34m'wb'\u001b[0m\u001b[0;34m)\u001b[0m \u001b[0;32mas\u001b[0m \u001b[0mf\u001b[0m\u001b[0;34m:\u001b[0m\u001b[0;34m\u001b[0m\u001b[0m\n\u001b[0m\u001b[1;32m     20\u001b[0m         \u001b[0mpkl\u001b[0m\u001b[0;34m.\u001b[0m\u001b[0mdump\u001b[0m\u001b[0;34m(\u001b[0m\u001b[0mobj\u001b[0m\u001b[0;34m,\u001b[0m \u001b[0mf\u001b[0m\u001b[0;34m,\u001b[0m \u001b[0mprotocol\u001b[0m\u001b[0;34m=\u001b[0m\u001b[0mpkl\u001b[0m\u001b[0;34m.\u001b[0m\u001b[0mHIGHEST_PROTOCOL\u001b[0m\u001b[0;34m)\u001b[0m\u001b[0;34m\u001b[0m\u001b[0m\n\u001b[1;32m     21\u001b[0m \u001b[0;34m\u001b[0m\u001b[0m\n",
      "\u001b[0;31mFileNotFoundError\u001b[0m: [Errno 2] No such file or directory: 'data/bills.pkl'"
     ]
    }
   ],
   "source": [
    "df.to_pickle(\"data/bills.pkl\") "
   ]
  },
  {
   "cell_type": "markdown",
   "metadata": {},
   "source": [
    "# Simple stats"
   ]
  },
  {
   "cell_type": "code",
   "execution_count": 16,
   "metadata": {
    "collapsed": false
   },
   "outputs": [
    {
     "data": {
      "text/plain": [
       "bill             6712\n",
       "resolution       1312\n",
       "amendment-doc      15\n",
       "Name: bill-type, dtype: int64"
      ]
     },
     "execution_count": 16,
     "metadata": {},
     "output_type": "execute_result"
    }
   ],
   "source": [
    "df['bill-type'].value_counts()"
   ]
  },
  {
   "cell_type": "markdown",
   "metadata": {
    "collapsed": false
   },
   "source": [
    "# Sumy"
   ]
  },
  {
   "cell_type": "markdown",
   "metadata": {},
   "source": [
    "- sudo easy_install -U pulp\n",
    "- conda config --add channels conda-forge\n",
    "- conda install spacy\n",
    "- python -m spacy download en"
   ]
  },
  {
   "cell_type": "code",
   "execution_count": 119,
   "metadata": {
    "collapsed": false
   },
   "outputs": [],
   "source": [
    "# import pulp\n",
    "import spacy"
   ]
  },
  {
   "cell_type": "code",
   "execution_count": 21,
   "metadata": {
    "collapsed": false
   },
   "outputs": [],
   "source": [
    "nlp = spacy.load('en')"
   ]
  },
  {
   "cell_type": "code",
   "execution_count": 143,
   "metadata": {
    "collapsed": true
   },
   "outputs": [],
   "source": [
    "body_indir = 'bill_text_body'\n",
    "\n",
    "def write_doc(row):\n",
    "    text = row['body.section']\n",
    "    filename = 'BODY_'+row['file-name'][:-3]+'txt'  \n",
    "    try:\n",
    "        doc = nlp(text)\n",
    "        with open(os.path.join(body_indir, filename), 'w') as f:\n",
    "            for sent in doc.sents:\n",
    "                f.write(sent.text+'\\n')\n",
    "    except:\n",
    "        print('ERROR.\\nfilename: {}\\ntext:{}'.format(row['file-name'], text))"
   ]
  },
  {
   "cell_type": "code",
   "execution_count": 144,
   "metadata": {
    "collapsed": false
   },
   "outputs": [
    {
     "name": "stdout",
     "output_type": "stream",
     "text": [
      "ERROR.\n",
      "filename: US_Bill_Text_115_HR1436_IH.xml\n",
      "text:nan\n",
      "ERROR.\n",
      "filename: US_Bill_Text_115_HR3198_IH.xml\n",
      "text:nan\n",
      "ERROR.\n",
      "filename: US_Bill_Text_115_HR610_IH.xml\n",
      "text:nan\n",
      "ERROR.\n",
      "filename: US_Bill_Text_115_S1519_PCS.xml\n",
      "text:nan\n",
      "ERROR.\n",
      "filename: US_Bill_Text_115_S554_IS.xml\n",
      "text:nan\n"
     ]
    },
    {
     "data": {
      "text/plain": [
       "0       None\n",
       "1       None\n",
       "2       None\n",
       "3       None\n",
       "4       None\n",
       "5       None\n",
       "6       None\n",
       "7       None\n",
       "8       None\n",
       "9       None\n",
       "10      None\n",
       "11      None\n",
       "12      None\n",
       "13      None\n",
       "14      None\n",
       "15      None\n",
       "16      None\n",
       "17      None\n",
       "18      None\n",
       "19      None\n",
       "20      None\n",
       "21      None\n",
       "22      None\n",
       "23      None\n",
       "24      None\n",
       "25      None\n",
       "26      None\n",
       "27      None\n",
       "28      None\n",
       "29      None\n",
       "        ... \n",
       "8009    None\n",
       "8010    None\n",
       "8011    None\n",
       "8012    None\n",
       "8013    None\n",
       "8014    None\n",
       "8015    None\n",
       "8016    None\n",
       "8017    None\n",
       "8018    None\n",
       "8019    None\n",
       "8020    None\n",
       "8021    None\n",
       "8022    None\n",
       "8023    None\n",
       "8024    None\n",
       "8025    None\n",
       "8026    None\n",
       "8027    None\n",
       "8028    None\n",
       "8029    None\n",
       "8030    None\n",
       "8031    None\n",
       "8032    None\n",
       "8033    None\n",
       "8034    None\n",
       "8035    None\n",
       "8036    None\n",
       "8037    None\n",
       "8038    None\n",
       "dtype: object"
      ]
     },
     "execution_count": 144,
     "metadata": {},
     "output_type": "execute_result"
    }
   ],
   "source": [
    "# run a subset\n",
    "df1 = df[['body.section', 'file-name']][:10].copy()\n",
    "df1.apply(write_doc, axis=1)"
   ]
  },
  {
   "cell_type": "code",
   "execution_count": 127,
   "metadata": {
    "collapsed": false
   },
   "outputs": [
    {
     "data": {
      "text/plain": [
       "'1. Permanent resident status for Joseph Gabra and Sharon Kamel (a) In general Notwithstanding subsections (a) and (b) of section 201 of the Immigration and Nationality Act (8 U.S.C. 1151), Joseph Gabra and Sharon Kamel shall each be eligible for issuance of an immigrant visa or for adjustment of status to that of an alien lawfully admitted for permanent residence upon filing an application for issuance of an immigrant visa under section 204 of such Act ( 8 U.S.C. 1154) or for adjustment of status to lawful permanent resident. (b) Adjustment of status Immigration and Nationality Act If Joseph Gabra or Sharon Kamel enters the United States before the filing deadline specified in subsection (c), Joseph Gabra or Sharon Kamel shall be considered to have entered and remained lawfully in the United States and shall be eligible for adjustment of status under section 245 of the (8 U.S.C. 1255) as of the date of the enactment of this Act. (c) Application and payment of fees Subsections (a) and (b) shall apply only if the applications for the issuance of immigrant visas or the applications for adjustment of status are filed with appropriate fees not later than two years after the date of the enactment of this Act. (d) Reduction of immigrant visa numbers Upon the granting of immigrant visas or permanent residence to Joseph Gabra and Sharon Kamel, the Secretary of State shall instruct the proper officer to reduce by two, during the current or next following fiscal year— (1) the total number of immigrant visas that are made available to natives of the country of birth of Joseph Gabra and Sharon Kamel under section 203(a) of the Immigration and Nationality Act (8 U.S.C. 1153(a)); or (2) if applicable, the total number of immigrant visas that are made available to natives of the country of birth of Joseph Gabra and Sharon Kamel under section 202(e) of that Act (8 U.S.C. 1152(e)). (e) PAYGO The budgetary effects of this Act, for the purpose of complying with the Statutory Pay-As-You-Go Act of 2010, shall be determined by reference to the latest statement titled \"Budgetary Effects of PAYGO Legislation \" for this Act, submitted for printing in the Congressional Record by the Chairman of the Senate Budget Committee, provided that such statement has been submitted prior to the vote on passage.'"
      ]
     },
     "execution_count": 127,
     "metadata": {},
     "output_type": "execute_result"
    }
   ],
   "source": [
    "df['body.section'][0]"
   ]
  },
  {
   "cell_type": "code",
   "execution_count": 145,
   "metadata": {
    "collapsed": false
   },
   "outputs": [
    {
     "name": "stdout",
     "output_type": "stream",
     "text": [
      "(b) Adjustment of status Immigration and Nationality Act If Joseph Gabra or Sharon Kamel enters the United States before the filing deadline specified in subsection (c), Joseph Gabra or Sharon Kamel shall be considered to have entered and remained lawfully in the United States and shall be eligible for adjustment of status under section 245 of the (8 U.S.C.\n",
      "(c) Application and payment of fees Subsections (a) and (b) shall apply only if the applications for the issuance of immigrant visas or the applications for adjustment of status are filed with appropriate fees not later than two years after the date of the enactment of this Act.\n",
      "1153(a)); or (2) if applicable, the total number of immigrant visas that are made available to natives of the country of birth of Joseph Gabra and Sharon Kamel under section 202(e) of that Act (8 U.S.C.\n"
     ]
    }
   ],
   "source": [
    "from sumy.parsers.plaintext import PlaintextParser #We're choosing a plaintext parser here, other parsers available for HTML etc.\n",
    "from sumy.nlp.tokenizers import Tokenizer \n",
    "from sumy.summarizers.lex_rank import LexRankSummarizer #We're choosing Lexrank, other algorithms are also built in\n",
    "\n",
    "\n",
    "parser = PlaintextParser.from_string(df['body.section'][0], Tokenizer(\"english\"))\n",
    "summarizer = LexRankSummarizer()\n",
    "summary = summarizer(parser.document, 3) #Summarize the document with 5 sentences\n",
    "for sentence in summary:\n",
    "    print(sentence)"
   ]
  },
  {
   "cell_type": "code",
   "execution_count": null,
   "metadata": {
    "collapsed": true
   },
   "outputs": [],
   "source": []
  },
  {
   "cell_type": "code",
   "execution_count": null,
   "metadata": {
    "collapsed": true
   },
   "outputs": [],
   "source": []
  },
  {
   "cell_type": "code",
   "execution_count": null,
   "metadata": {
    "collapsed": true
   },
   "outputs": [],
   "source": []
  },
  {
   "cell_type": "code",
   "execution_count": null,
   "metadata": {
    "collapsed": true
   },
   "outputs": [],
   "source": []
  },
  {
   "cell_type": "code",
   "execution_count": null,
   "metadata": {
    "collapsed": true
   },
   "outputs": [],
   "source": []
  }
 ],
 "metadata": {
  "kernelspec": {
   "display_name": "Python [conda root]",
   "language": "python",
   "name": "conda-root-py"
  },
  "language_info": {
   "codemirror_mode": {
    "name": "ipython",
    "version": 3
   },
   "file_extension": ".py",
   "mimetype": "text/x-python",
   "name": "python",
   "nbconvert_exporter": "python",
   "pygments_lexer": "ipython3",
   "version": "3.5.2"
  }
 },
 "nbformat": 4,
 "nbformat_minor": 2
}
