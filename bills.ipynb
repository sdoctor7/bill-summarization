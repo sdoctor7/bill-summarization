{
 "cells": [
  {
   "cell_type": "code",
   "execution_count": 5,
   "metadata": {
    "collapsed": true
   },
   "outputs": [],
   "source": [
    "import xmltodict\n",
    "import pandas as pd\n",
    "import os\n",
    "import re"
   ]
  },
  {
   "cell_type": "markdown",
   "metadata": {},
   "source": [
    "# Cleaning"
   ]
  },
  {
   "cell_type": "code",
   "execution_count": 6,
   "metadata": {
    "collapsed": true
   },
   "outputs": [],
   "source": [
    "def remove_tags(read_file):\n",
    "    read_file = re.sub(b'</?external-xref[^<>]*>',b'', read_file)\n",
    "    read_file = re.sub(b'<quote>',b'\"', read_file)\n",
    "    read_file = re.sub(b'</quote>',b'\"', read_file)\n",
    "    read_file = re.sub(b'</?term[^<>]*>',b' ', read_file)\n",
    "    read_file = re.sub(b'</?pagebreak[^<>]*>',b'', read_file)\n",
    "    return read_file"
   ]
  },
  {
   "cell_type": "code",
   "execution_count": 7,
   "metadata": {
    "collapsed": false
   },
   "outputs": [],
   "source": [
    "def flatten(d):\n",
    "    output = ''\n",
    "    for k, v in d.items():\n",
    "        if not k.startswith(\"@\"):\n",
    "            if isinstance(v, dict):\n",
    "                output += flatten(v)\n",
    "            elif isinstance(v, list):\n",
    "                for l in v:\n",
    "                    if isinstance(l, dict):\n",
    "                        output += flatten(l)\n",
    "                    else:\n",
    "                        if l:\n",
    "                            output += l + ' '\n",
    "            else:\n",
    "                if v:\n",
    "                    output += v + ' '\n",
    "    return output"
   ]
  },
  {
   "cell_type": "code",
   "execution_count": 8,
   "metadata": {
    "collapsed": false
   },
   "outputs": [],
   "source": [
    "def bill_to_dict(filename, doc):\n",
    "    def _clean_body(bodydict):\n",
    "        clean_bodydict = {}\n",
    "        for k, v in bodydict.items():\n",
    "            if not k.startswith(\"@\"):\n",
    "                if isinstance(v, list):\n",
    "                    sec_str = ''\n",
    "                    for sub_dict in v:\n",
    "                        if sub_dict:\n",
    "                            sec_str += flatten(sub_dict)\n",
    "                    clean_bodydict[k] = sec_str\n",
    "#                 elif isinstance(v, dict):\n",
    "                else:\n",
    "                    clean_bodydict[k] = flatten(v)\n",
    "#                 else:\n",
    "#                     print('xxxxxxxxx')\n",
    "        return clean_bodydict\n",
    "    \n",
    "    bill_type = list(doc)[0]\n",
    "    data_dict = {}\n",
    "    \n",
    "    data_dict[\"file-name\"] = filename\n",
    "    data_dict[\"bill-type\"] = bill_type\n",
    "    \n",
    "    metadata = {}\n",
    "    for n in list(doc[bill_type]):\n",
    "        # group meta data\n",
    "        if n.startswith(\"@\"): \n",
    "            metadata[n] = doc[bill_type][n]\n",
    "        # unify name for different types\n",
    "        elif n in ['legis-body', 'resolution-body', 'engrossed-amendment-body']:\n",
    "            if isinstance(doc[bill_type][n], dict):\n",
    "                data_dict['body'] = _clean_body(doc[bill_type][n])\n",
    "            elif isinstance(doc[bill_type][n], list):\n",
    "                # just take last one\n",
    "                data_dict['body'] = _clean_body(doc[bill_type][n][-1])\n",
    "            else:\n",
    "                print('NOT dict nor list')\n",
    "                data_dict['body'] = doc[bill_type][n]\n",
    "                \n",
    "        elif n == 'engrossed-amendment-form':\n",
    "            data_dict['form'] = doc[bill_type][n]\n",
    "        else:\n",
    "            data_dict[n] = doc[bill_type][n]\n",
    "    data_dict[\"metadata\"] = metadata\n",
    "    return data_dict"
   ]
  },
  {
   "cell_type": "code",
   "execution_count": 9,
   "metadata": {
    "collapsed": false
   },
   "outputs": [],
   "source": [
    "# I put all the files in one folder for simplicity\n",
    "indir = 'bill_text_115' \n",
    "\n",
    "data = [] # a list of dict, each element is a xml file\n",
    "\n",
    "for root, dirs, filenames in os.walk(indir):\n",
    "    for filename in filenames:\n",
    "        with open(os.path.join(indir, filename), 'rb') as f:\n",
    "            doc = xmltodict.parse(remove_tags(f.read()))\n",
    "            data.append(bill_to_dict(filename, doc))"
   ]
  },
  {
   "cell_type": "code",
   "execution_count": null,
   "metadata": {
    "collapsed": false
   },
   "outputs": [],
   "source": [
    "# [list(x) for x in set(tuple(x) for x in data)]"
   ]
  },
  {
   "cell_type": "markdown",
   "metadata": {},
   "source": [
    "# Select Some Columns"
   ]
  },
  {
   "cell_type": "code",
   "execution_count": 10,
   "metadata": {
    "collapsed": false
   },
   "outputs": [],
   "source": [
    "select_keys = ['metadata', 'bill-type', 'body', 'file-name']\n",
    "select_data = []\n",
    "for d in data:\n",
    "    select_data.append({ select_key: d[select_key] for select_key in select_keys })"
   ]
  },
  {
   "cell_type": "code",
   "execution_count": 11,
   "metadata": {
    "collapsed": true
   },
   "outputs": [],
   "source": [
    "df = pd.io.json.json_normalize(select_data)"
   ]
  },
  {
   "cell_type": "code",
   "execution_count": 13,
   "metadata": {
    "collapsed": false,
    "scrolled": true
   },
   "outputs": [
    {
     "data": {
      "text/html": [
       "<div>\n",
       "<table border=\"1\" class=\"dataframe\">\n",
       "  <thead>\n",
       "    <tr style=\"text-align: right;\">\n",
       "      <th></th>\n",
       "      <th>bill-type</th>\n",
       "      <th>body.amendment</th>\n",
       "      <th>body.division</th>\n",
       "      <th>body.section</th>\n",
       "      <th>body.title</th>\n",
       "      <th>file-name</th>\n",
       "      <th>metadata.@amend-degree</th>\n",
       "      <th>metadata.@amend-stage</th>\n",
       "      <th>metadata.@amend-type</th>\n",
       "      <th>metadata.@bill-stage</th>\n",
       "      <th>metadata.@bill-type</th>\n",
       "      <th>metadata.@dms-id</th>\n",
       "      <th>metadata.@key</th>\n",
       "      <th>metadata.@public-print</th>\n",
       "      <th>metadata.@public-private</th>\n",
       "      <th>metadata.@resolution-stage</th>\n",
       "      <th>metadata.@resolution-type</th>\n",
       "      <th>metadata.@stage-count</th>\n",
       "      <th>metadata.@star-print</th>\n",
       "    </tr>\n",
       "  </thead>\n",
       "  <tbody>\n",
       "    <tr>\n",
       "      <th>0</th>\n",
       "      <td>bill</td>\n",
       "      <td>NaN</td>\n",
       "      <td>NaN</td>\n",
       "      <td>1. Short title National Criminal Justice Commi...</td>\n",
       "      <td>NaN</td>\n",
       "      <td>US_Bill_Text_115_HR1607_IH.xml</td>\n",
       "      <td>NaN</td>\n",
       "      <td>NaN</td>\n",
       "      <td>NaN</td>\n",
       "      <td>Introduced-in-House</td>\n",
       "      <td>olc</td>\n",
       "      <td>H2015A7070C3246099BCA067076E3EACF</td>\n",
       "      <td>H</td>\n",
       "      <td>NaN</td>\n",
       "      <td>public</td>\n",
       "      <td>NaN</td>\n",
       "      <td>NaN</td>\n",
       "      <td>NaN</td>\n",
       "      <td>NaN</td>\n",
       "    </tr>\n",
       "    <tr>\n",
       "      <th>1</th>\n",
       "      <td>bill</td>\n",
       "      <td>NaN</td>\n",
       "      <td>NaN</td>\n",
       "      <td>1. Short title Supporting Families in Substanc...</td>\n",
       "      <td>NaN</td>\n",
       "      <td>US_Bill_Text_115_HR2857_EH.xml</td>\n",
       "      <td>NaN</td>\n",
       "      <td>NaN</td>\n",
       "      <td>NaN</td>\n",
       "      <td>Engrossed-in-House</td>\n",
       "      <td>olc</td>\n",
       "      <td>H0F11EF81EB9145A182D41E7ACF6E4F8E</td>\n",
       "      <td>H</td>\n",
       "      <td>NaN</td>\n",
       "      <td>public</td>\n",
       "      <td>NaN</td>\n",
       "      <td>NaN</td>\n",
       "      <td>1</td>\n",
       "      <td>NaN</td>\n",
       "    </tr>\n",
       "    <tr>\n",
       "      <th>2</th>\n",
       "      <td>bill</td>\n",
       "      <td>NaN</td>\n",
       "      <td>NaN</td>\n",
       "      <td>1. Short title State Cyber Resiliency Act This...</td>\n",
       "      <td>NaN</td>\n",
       "      <td>US_Bill_Text_115_S516_IS.xml</td>\n",
       "      <td>NaN</td>\n",
       "      <td>NaN</td>\n",
       "      <td>NaN</td>\n",
       "      <td>Introduced-in-Senate</td>\n",
       "      <td>olc</td>\n",
       "      <td>A1</td>\n",
       "      <td>NaN</td>\n",
       "      <td>NaN</td>\n",
       "      <td>public</td>\n",
       "      <td>NaN</td>\n",
       "      <td>NaN</td>\n",
       "      <td>NaN</td>\n",
       "      <td>NaN</td>\n",
       "    </tr>\n",
       "    <tr>\n",
       "      <th>3</th>\n",
       "      <td>bill</td>\n",
       "      <td>NaN</td>\n",
       "      <td>NaN</td>\n",
       "      <td>1. Short title Bureau of Reclamation Transpare...</td>\n",
       "      <td>NaN</td>\n",
       "      <td>US_Bill_Text_115_S216_IS.xml</td>\n",
       "      <td>NaN</td>\n",
       "      <td>NaN</td>\n",
       "      <td>NaN</td>\n",
       "      <td>Introduced-in-Senate</td>\n",
       "      <td>olc</td>\n",
       "      <td>A1</td>\n",
       "      <td>NaN</td>\n",
       "      <td>NaN</td>\n",
       "      <td>public</td>\n",
       "      <td>NaN</td>\n",
       "      <td>NaN</td>\n",
       "      <td>NaN</td>\n",
       "      <td>NaN</td>\n",
       "    </tr>\n",
       "    <tr>\n",
       "      <th>4</th>\n",
       "      <td>bill</td>\n",
       "      <td>NaN</td>\n",
       "      <td>NaN</td>\n",
       "      <td>1. Short title Synthetic Drug Awareness Act of...</td>\n",
       "      <td>NaN</td>\n",
       "      <td>US_Bill_Text_115_HR449_IH.xml</td>\n",
       "      <td>NaN</td>\n",
       "      <td>NaN</td>\n",
       "      <td>NaN</td>\n",
       "      <td>Introduced-in-House</td>\n",
       "      <td>olc</td>\n",
       "      <td>HCFB79B8702D342E4BB5C604694A3EA12</td>\n",
       "      <td>H</td>\n",
       "      <td>NaN</td>\n",
       "      <td>public</td>\n",
       "      <td>NaN</td>\n",
       "      <td>NaN</td>\n",
       "      <td>NaN</td>\n",
       "      <td>NaN</td>\n",
       "    </tr>\n",
       "  </tbody>\n",
       "</table>\n",
       "</div>"
      ],
      "text/plain": [
       "  bill-type body.amendment body.division  \\\n",
       "0      bill            NaN           NaN   \n",
       "1      bill            NaN           NaN   \n",
       "2      bill            NaN           NaN   \n",
       "3      bill            NaN           NaN   \n",
       "4      bill            NaN           NaN   \n",
       "\n",
       "                                        body.section body.title  \\\n",
       "0  1. Short title National Criminal Justice Commi...        NaN   \n",
       "1  1. Short title Supporting Families in Substanc...        NaN   \n",
       "2  1. Short title State Cyber Resiliency Act This...        NaN   \n",
       "3  1. Short title Bureau of Reclamation Transpare...        NaN   \n",
       "4  1. Short title Synthetic Drug Awareness Act of...        NaN   \n",
       "\n",
       "                        file-name metadata.@amend-degree  \\\n",
       "0  US_Bill_Text_115_HR1607_IH.xml                    NaN   \n",
       "1  US_Bill_Text_115_HR2857_EH.xml                    NaN   \n",
       "2    US_Bill_Text_115_S516_IS.xml                    NaN   \n",
       "3    US_Bill_Text_115_S216_IS.xml                    NaN   \n",
       "4   US_Bill_Text_115_HR449_IH.xml                    NaN   \n",
       "\n",
       "  metadata.@amend-stage metadata.@amend-type  metadata.@bill-stage  \\\n",
       "0                   NaN                  NaN   Introduced-in-House   \n",
       "1                   NaN                  NaN    Engrossed-in-House   \n",
       "2                   NaN                  NaN  Introduced-in-Senate   \n",
       "3                   NaN                  NaN  Introduced-in-Senate   \n",
       "4                   NaN                  NaN   Introduced-in-House   \n",
       "\n",
       "  metadata.@bill-type                   metadata.@dms-id metadata.@key  \\\n",
       "0                 olc  H2015A7070C3246099BCA067076E3EACF             H   \n",
       "1                 olc  H0F11EF81EB9145A182D41E7ACF6E4F8E             H   \n",
       "2                 olc                                 A1           NaN   \n",
       "3                 olc                                 A1           NaN   \n",
       "4                 olc  HCFB79B8702D342E4BB5C604694A3EA12             H   \n",
       "\n",
       "  metadata.@public-print metadata.@public-private metadata.@resolution-stage  \\\n",
       "0                    NaN                   public                        NaN   \n",
       "1                    NaN                   public                        NaN   \n",
       "2                    NaN                   public                        NaN   \n",
       "3                    NaN                   public                        NaN   \n",
       "4                    NaN                   public                        NaN   \n",
       "\n",
       "  metadata.@resolution-type metadata.@stage-count metadata.@star-print  \n",
       "0                       NaN                   NaN                  NaN  \n",
       "1                       NaN                     1                  NaN  \n",
       "2                       NaN                   NaN                  NaN  \n",
       "3                       NaN                   NaN                  NaN  \n",
       "4                       NaN                   NaN                  NaN  "
      ]
     },
     "execution_count": 13,
     "metadata": {},
     "output_type": "execute_result"
    }
   ],
   "source": [
    "df.head()"
   ]
  },
  {
   "cell_type": "code",
   "execution_count": null,
   "metadata": {
    "collapsed": true
   },
   "outputs": [],
   "source": [
    "df.to_pickle(\"data/bills.pkl\") "
   ]
  },
  {
   "cell_type": "markdown",
   "metadata": {},
   "source": [
    "# Simple stats"
   ]
  },
  {
   "cell_type": "code",
   "execution_count": 16,
   "metadata": {
    "collapsed": false
   },
   "outputs": [
    {
     "data": {
      "text/plain": [
       "bill             6712\n",
       "resolution       1312\n",
       "amendment-doc      15\n",
       "Name: bill-type, dtype: int64"
      ]
     },
     "execution_count": 16,
     "metadata": {},
     "output_type": "execute_result"
    }
   ],
   "source": [
    "df['bill-type'].value_counts()"
   ]
  },
  {
   "cell_type": "code",
   "execution_count": 20,
   "metadata": {
    "collapsed": false
   },
   "outputs": [],
   "source": []
  },
  {
   "cell_type": "code",
   "execution_count": null,
   "metadata": {
    "collapsed": true
   },
   "outputs": [],
   "source": []
  },
  {
   "cell_type": "code",
   "execution_count": null,
   "metadata": {
    "collapsed": true
   },
   "outputs": [],
   "source": []
  }
 ],
 "metadata": {
  "kernelspec": {
   "display_name": "Python 2",
   "language": "python",
   "name": "python2"
  },
  "language_info": {
   "codemirror_mode": {
    "name": "ipython",
    "version": 2
   },
   "file_extension": ".py",
   "mimetype": "text/x-python",
   "name": "python",
   "nbconvert_exporter": "python",
   "pygments_lexer": "ipython2",
   "version": "2.7.6"
  }
 },
 "nbformat": 4,
 "nbformat_minor": 2
}
