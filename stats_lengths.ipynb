{
 "cells": [
  {
   "cell_type": "code",
   "execution_count": null,
   "metadata": {
    "collapsed": false,
    "deletable": true,
    "editable": true
   },
   "outputs": [],
   "source": [
    "import os\n",
    "import re\n",
    "import pandas as pd\n",
    "import matplotlib.pyplot as plt\n",
    "%matplotlib inline\n",
    "import seaborn as sns"
   ]
  },
  {
   "cell_type": "code",
   "execution_count": null,
   "metadata": {
    "collapsed": true,
    "deletable": true,
    "editable": true
   },
   "outputs": [],
   "source": [
    "file_dir = '../out3/'"
   ]
  },
  {
   "cell_type": "code",
   "execution_count": null,
   "metadata": {
    "collapsed": true,
    "deletable": true,
    "editable": true
   },
   "outputs": [],
   "source": [
    "def get_bill_num(filename):\n",
    "    parts = filename.split('_')\n",
    "    \n",
    "    file_type = parts[0] # bill or summary\n",
    "    \n",
    "    main_part = parts[2]\n",
    "    bill_name = re.split('(\\d+)', main_part)\n",
    "    bill_type = bill_name[0] # HR, S, HCONRES, etc.\n",
    "    bill_num = bill_name[1] # number\n",
    "    \n",
    "    version = parts[3].split('.')[0] # version\n",
    "    \n",
    "    return (file_type, bill_type, bill_num, version)"
   ]
  },
  {
   "cell_type": "code",
   "execution_count": null,
   "metadata": {
    "collapsed": true,
    "deletable": true,
    "editable": true
   },
   "outputs": [],
   "source": [
    "def get_length(file_dir, filename): # length in sentences\n",
    "    path = file_dir + filename\n",
    "    with open(path) as f:\n",
    "        for i, l in enumerate(f):\n",
    "            pass\n",
    "    return i + 1"
   ]
  },
  {
   "cell_type": "code",
   "execution_count": null,
   "metadata": {
    "collapsed": false,
    "deletable": true,
    "editable": true
   },
   "outputs": [],
   "source": [
    "all_bills = {}\n",
    "for filename in os.listdir(file_dir):\n",
    "    file_type, bill_type, bill_num, version = get_bill_num(filename) # bill info\n",
    "\n",
    "    if (bill_type, bill_num) in all_bills.keys():\n",
    "        pass\n",
    "    else:\n",
    "        all_bills[(bill_type, bill_num)] = {}\n",
    "        all_bills[(bill_type, bill_num)]['bill_type'] = bill_type\n",
    "        all_bills[(bill_type, bill_num)]['bill_num'] = bill_num\n",
    "        all_bills[(bill_type, bill_num)]['version'] = version\n",
    "\n",
    "    if file_type == 'BILL':\n",
    "        all_bills[(bill_type, bill_num)]['bill_length'] = get_length(file_dir, filename)\n",
    "    else:\n",
    "        all_bills[(bill_type, bill_num)]['summary_length'] = get_length(file_dir, filename)"
   ]
  },
  {
   "cell_type": "code",
   "execution_count": null,
   "metadata": {
    "collapsed": true,
    "deletable": true,
    "editable": true
   },
   "outputs": [],
   "source": [
    "all_bills_list = []\n",
    "for k,v in all_bills.items():\n",
    "    all_bills_list.append(v)"
   ]
  },
  {
   "cell_type": "code",
   "execution_count": null,
   "metadata": {
    "collapsed": false,
    "deletable": true,
    "editable": true
   },
   "outputs": [],
   "source": [
    "length_data = pd.DataFrame(all_bills_list)"
   ]
  },
  {
   "cell_type": "code",
   "execution_count": null,
   "metadata": {
    "collapsed": false,
    "deletable": true,
    "editable": true
   },
   "outputs": [],
   "source": [
    "length_data.head()"
   ]
  },
  {
   "cell_type": "code",
   "execution_count": null,
   "metadata": {
    "collapsed": false,
    "deletable": true,
    "editable": true
   },
   "outputs": [],
   "source": [
    "length_data.groupby(['bill_type']).size()"
   ]
  },
  {
   "cell_type": "code",
   "execution_count": null,
   "metadata": {
    "collapsed": false,
    "deletable": true,
    "editable": true
   },
   "outputs": [],
   "source": [
    "length_data.groupby(['bill_type']).median()"
   ]
  },
  {
   "cell_type": "code",
   "execution_count": null,
   "metadata": {
    "collapsed": true,
    "deletable": true,
    "editable": true
   },
   "outputs": [],
   "source": [
    "type_map = {'HCONRES': 'Continuing Resolution', 'HJRES': 'Joint Resolution', 'HR': 'Bill', 'HRES': 'Resolution',\n",
    "           'S': 'Bill', 'SCONRES': 'Continuing Resolution', 'SJRES': 'Joint Resolution', 'SRES': 'Resolution'}\n",
    "length_data['bill_type_full'] = length_data.apply(lambda x: type_map[x['bill_type']], axis=1)"
   ]
  },
  {
   "cell_type": "code",
   "execution_count": null,
   "metadata": {
    "collapsed": true,
    "deletable": true,
    "editable": true
   },
   "outputs": [],
   "source": [
    "length_data['house'] = length_data.apply(lambda x: 'House' if x['bill_type'][0] == 'H' else 'Senate', axis=1)"
   ]
  },
  {
   "cell_type": "code",
   "execution_count": null,
   "metadata": {
    "collapsed": false,
    "deletable": true,
    "editable": true
   },
   "outputs": [],
   "source": [
    "length_data.head()"
   ]
  },
  {
   "cell_type": "code",
   "execution_count": null,
   "metadata": {
    "collapsed": false,
    "deletable": true,
    "editable": true
   },
   "outputs": [],
   "source": [
    "sns.set_style(\"whitegrid\")\n",
    "g = sns.violinplot(x='bill_length', y='bill_type_full', data=length_data, hue='house', split=True, scale='count', \n",
    "              dodge=True, cut=0)\n",
    "g.set_xscale('log')"
   ]
  },
  {
   "cell_type": "code",
   "execution_count": null,
   "metadata": {
    "collapsed": false,
    "deletable": true,
    "editable": true
   },
   "outputs": [],
   "source": [
    "fig, ax = plt.subplots(figsize=(15,10))\n",
    "labels = []\n",
    "for key, grp in length_data.groupby(['bill_type_full']):\n",
    "    grp.reset_index(inplace=True)\n",
    "    ax = grp.sort_values('bill_length', ascending=False).plot(ax=ax, kind='line', x=grp.index, y='bill_length')\n",
    "    labels.append(key)\n",
    "lines, _ = ax.get_legend_handles_labels()\n",
    "ax.legend(lines, labels, loc='best')\n",
    "ax.set_xlim(-50)\n",
    "ax.set_yscale('log')\n",
    "plt.show()"
   ]
  },
  {
   "cell_type": "code",
   "execution_count": null,
   "metadata": {
    "collapsed": false,
    "deletable": true,
    "editable": true
   },
   "outputs": [],
   "source": [
    "fig, ax = plt.subplots(1, 4, figsize=(15,5), sharey=True)\n",
    "bill_types = list(length_data['bill_type_full'].unique())\n",
    "\n",
    "for i, bill_type in enumerate(bill_types):\n",
    "    subset = length_data[length_data['bill_type_full'] == bill_type]\n",
    "    labels = []\n",
    "    for key, grp in subset.groupby(['house']):\n",
    "        grp.reset_index(inplace=True)\n",
    "        ax[i] = grp.sort_values('bill_length', ascending=False).plot(ax=ax[i], kind='line', x=grp.index, y='bill_length')\n",
    "        labels.append(key)\n",
    "    lines, _ = ax[i].get_legend_handles_labels()\n",
    "    ax[i].legend(lines, labels, loc='best')\n",
    "    ax[i].set_yscale('log')\n",
    "    ax[i].set_title(bill_type)\n",
    "ax[0].set_ylabel('Bill Length')\n",
    "plt.show()"
   ]
  },
  {
   "cell_type": "code",
   "execution_count": null,
   "metadata": {
    "collapsed": false,
    "deletable": true,
    "editable": true
   },
   "outputs": [],
   "source": [
    "fig, ax = plt.subplots(2, 4, figsize=(15, 8), sharey=True)\n",
    "bill_types = list(length_data['bill_type_full'].unique())\n",
    "\n",
    "for i, bill_type in enumerate(bill_types):\n",
    "    subset = length_data[length_data['bill_type_full'] == bill_type]\n",
    "    labels0 = []\n",
    "    labels1 = []\n",
    "    for key, grp in subset.groupby(['house']):\n",
    "        grp.reset_index(inplace=True)\n",
    "        ax[0,i] = grp.sort_values('bill_length', ascending=False).plot(ax=ax[0,i], kind='line', x=grp.index, y='bill_length')\n",
    "        ax[1,i] = grp.sort_values('summary_length', ascending=False).plot(ax=ax[1,i], kind='line', x=grp.index, y='summary_length')\n",
    "        labels.append(key)\n",
    "    lines0, _ = ax[0,i].get_legend_handles_labels()\n",
    "    lines1, _ = ax[1,i].get_legend_handles_labels()\n",
    "    ax[0,i].legend(lines0, labels0, loc='best')\n",
    "    ax[1,i].legend(lines1, labels1, loc='best')\n",
    "    ax[0,i].set_yscale('log')\n",
    "    ax[1,i].set_yscale('log')\n",
    "    ax[0,i].set_title(bill_type)\n",
    "ax[0,0].set_ylabel('Bill Length')\n",
    "ax[1,0].set_ylabel('Summary Length')\n",
    "plt.show()"
   ]
  },
  {
   "cell_type": "code",
   "execution_count": null,
   "metadata": {
    "collapsed": true,
    "deletable": true,
    "editable": true
   },
   "outputs": [],
   "source": [
    "bills_only = length_data[length_data['bill_type_full'] == 'Bill']"
   ]
  },
  {
   "cell_type": "code",
   "execution_count": null,
   "metadata": {
    "collapsed": false,
    "deletable": true,
    "editable": true
   },
   "outputs": [],
   "source": [
    "bills_only.head()"
   ]
  },
  {
   "cell_type": "code",
   "execution_count": null,
   "metadata": {
    "collapsed": false,
    "deletable": true,
    "editable": true
   },
   "outputs": [],
   "source": [
    "fig, ax = plt.subplots(figsize=(7,7))\n",
    "cmap = {'House': '#1b9e77', 'Senate': '#d95f02'}\n",
    "ax.scatter(bills_only['bill_length'], bills_only['summary_length'],\n",
    "                c=bills_only['house'].apply(lambda x: cmap[x]), alpha=0.3)\n",
    "plt.xscale('log')\n",
    "plt.yscale('log')\n",
    "plt.xlabel('Bill Length')\n",
    "plt.ylabel('Summary Length')"
   ]
  }
 ],
 "metadata": {
  "anaconda-cloud": {},
  "kernelspec": {
   "display_name": "Python 2",
   "language": "python",
   "name": "python2"
  },
  "language_info": {
   "codemirror_mode": {
    "name": "ipython",
    "version": 2
   },
   "file_extension": ".py",
   "mimetype": "text/x-python",
   "name": "python",
   "nbconvert_exporter": "python",
   "pygments_lexer": "ipython2",
   "version": "2.7.6"
  }
 },
 "nbformat": 4,
 "nbformat_minor": 1
}
