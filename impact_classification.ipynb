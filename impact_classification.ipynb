{
 "cells": [
  {
   "cell_type": "code",
   "execution_count": 1,
   "metadata": {
    "collapsed": false,
    "deletable": true,
    "editable": true
   },
   "outputs": [],
   "source": [
    "from utils import *\n",
    "import nltk\n",
    "import string\n",
    "from nltk.stem.porter import *\n",
    "from nltk.tokenize import sent_tokenize\n",
    "from nltk.tokenize import word_tokenize\n",
    "stemmer = nltk.PorterStemmer()\n",
    "\n"
   ]
  },
  {
   "cell_type": "code",
   "execution_count": 2,
   "metadata": {
    "collapsed": true,
    "deletable": true,
    "editable": true
   },
   "outputs": [],
   "source": [
    "budget_only = pd.read_table(\"out/budget_only.tsv\")"
   ]
  },
  {
   "cell_type": "code",
   "execution_count": 3,
   "metadata": {
    "collapsed": true
   },
   "outputs": [],
   "source": [
    "def remove_punct(array):\n",
    "    result = []\n",
    "    for word in array:\n",
    "        newword = word.translate(None, string.punctuation)\n",
    "        result.append(newword)\n",
    "        \n",
    "    return result"
   ]
  },
  {
   "cell_type": "code",
   "execution_count": 4,
   "metadata": {
    "collapsed": false,
    "deletable": true,
    "editable": true
   },
   "outputs": [
    {
     "data": {
      "text/plain": [
       "to               4847\n",
       "the              4585\n",
       "of               3566\n",
       "and              3223\n",
       "for              2458\n",
       "other            1252\n",
       "purposes         1206\n",
       "in                789\n",
       "amend             780\n",
       "a                 718\n",
       "states            567\n",
       "act               553\n",
       "united            519\n",
       "provide           494\n",
       "code              343\n",
       "on                340\n",
       "certain           318\n",
       "federal           298\n",
       "that              293\n",
       "or                286\n",
       "security          279\n",
       "by                274\n",
       "establish         267\n",
       "secretary         267\n",
       "national          259\n",
       "as                258\n",
       "title             251\n",
       "program           242\n",
       "health            233\n",
       "with              227\n",
       "                 ... \n",
       "designation        78\n",
       "be                 75\n",
       "respect            74\n",
       "their              74\n",
       "land               74\n",
       "grants             73\n",
       "system             73\n",
       "ensure             72\n",
       "increase           71\n",
       "relating           71\n",
       "providing          69\n",
       "access             69\n",
       "congressional      65\n",
       "relief             64\n",
       "members            64\n",
       "medical            63\n",
       "recognizing        63\n",
       "year               62\n",
       "house              62\n",
       "individuals        62\n",
       "children           61\n",
       "may                60\n",
       "supporting         60\n",
       "commission         60\n",
       "at                 60\n",
       "grant              59\n",
       "fiscal             59\n",
       "budget             57\n",
       "information        57\n",
       "human              56\n",
       "dtype: int64"
      ]
     },
     "execution_count": 4,
     "metadata": {},
     "output_type": "execute_result"
    }
   ],
   "source": [
    "title_tokens = pd.Series(' '.join(remove_punct(budget_only['title'])).lower().split()).value_counts()\n",
    "title_tokens[:100]"
   ]
  },
  {
   "cell_type": "code",
   "execution_count": 5,
   "metadata": {
    "collapsed": false
   },
   "outputs": [],
   "source": [
    "title_tokens.to_csv(\"out/bill_title_tokens.tsv\") # saves ordered token frequency\n"
   ]
  },
  {
   "cell_type": "code",
   "execution_count": null,
   "metadata": {
    "collapsed": false,
    "deletable": true,
    "editable": true
   },
   "outputs": [],
   "source": [
    "searched_words = ['cost','amount','impact','$']\n",
    "searched_words = [stemmer.stem(w.lower()) for w in searched_words]\n",
    "searched_words"
   ]
  },
  {
   "cell_type": "code",
   "execution_count": null,
   "metadata": {
    "collapsed": false,
    "deletable": true,
    "editable": true
   },
   "outputs": [],
   "source": [
    "flag_sentence = (budget_only['bill'].apply(lambda text: [sent for sent in sent_tokenize(text)\n",
    "                           if any(True for w in word_tokenize(sent) \n",
    "                                     if stemmer.stem(w.lower()) in searched_words)]))"
   ]
  },
  {
   "cell_type": "code",
   "execution_count": 6,
   "metadata": {
    "collapsed": false,
    "deletable": true,
    "editable": true
   },
   "outputs": [
    {
     "data": {
      "text/html": [
       "<div>\n",
       "<table border=\"1\" class=\"dataframe\">\n",
       "  <thead>\n",
       "    <tr style=\"text-align: right;\">\n",
       "      <th></th>\n",
       "      <th>Unnamed: 0</th>\n",
       "      <th>Directory</th>\n",
       "      <th>Number</th>\n",
       "      <th>Subtype</th>\n",
       "      <th>Summary</th>\n",
       "      <th>Type</th>\n",
       "      <th>Version</th>\n",
       "      <th>to_use</th>\n",
       "      <th>title</th>\n",
       "      <th>bill</th>\n",
       "      <th>summary</th>\n",
       "      <th>is_budget</th>\n",
       "    </tr>\n",
       "  </thead>\n",
       "  <tbody>\n",
       "    <tr>\n",
       "      <th>0</th>\n",
       "      <td>0</td>\n",
       "      <td>./data/115/bills/hr/hr2615/text-versions/ih</td>\n",
       "      <td>HR2615</td>\n",
       "      <td>HR</td>\n",
       "      <td>1</td>\n",
       "      <td>Bills</td>\n",
       "      <td>IH</td>\n",
       "      <td>1</td>\n",
       "      <td>To authorize the exchange of certain land loca...</td>\n",
       "      <td>To authorize the exchange of certain land loca...</td>\n",
       "      <td>Gulf Islands National Seashore Land Exchange A...</td>\n",
       "      <td>1</td>\n",
       "    </tr>\n",
       "    <tr>\n",
       "      <th>1</th>\n",
       "      <td>4</td>\n",
       "      <td>./data/115/bills/hr/hr1586/text-versions/ih</td>\n",
       "      <td>HR1586</td>\n",
       "      <td>HR</td>\n",
       "      <td>1</td>\n",
       "      <td>Bills</td>\n",
       "      <td>IH</td>\n",
       "      <td>1</td>\n",
       "      <td>To amend the Federal Food, Drug, and Cosmetic ...</td>\n",
       "      <td>To amend the Federal Food, Drug, and Cosmetic ...</td>\n",
       "      <td>Protecting Our Kids' Medicine Act of 2017 This...</td>\n",
       "      <td>1</td>\n",
       "    </tr>\n",
       "    <tr>\n",
       "      <th>2</th>\n",
       "      <td>10</td>\n",
       "      <td>./data/115/bills/hr/hr259/text-versions/ih</td>\n",
       "      <td>HR259</td>\n",
       "      <td>HR</td>\n",
       "      <td>1</td>\n",
       "      <td>Bills</td>\n",
       "      <td>IH</td>\n",
       "      <td>1</td>\n",
       "      <td>To prevent the territories of the United State...</td>\n",
       "      <td>To prevent the territories of the United State...</td>\n",
       "      <td>This bill amends the Health Care and Education...</td>\n",
       "      <td>1</td>\n",
       "    </tr>\n",
       "    <tr>\n",
       "      <th>3</th>\n",
       "      <td>13</td>\n",
       "      <td>./data/115/bills/hr/hr2652/text-versions/ih</td>\n",
       "      <td>HR2652</td>\n",
       "      <td>HR</td>\n",
       "      <td>1</td>\n",
       "      <td>Bills</td>\n",
       "      <td>IH</td>\n",
       "      <td>1</td>\n",
       "      <td>To direct the Secretary of Veterans Affairs to...</td>\n",
       "      <td>To direct the Secretary of Veterans Affairs to...</td>\n",
       "      <td>Veteran Overmedication Prevention Act of 2017 ...</td>\n",
       "      <td>1</td>\n",
       "    </tr>\n",
       "    <tr>\n",
       "      <th>4</th>\n",
       "      <td>20</td>\n",
       "      <td>./data/115/bills/hr/hr3094/text-versions/ih</td>\n",
       "      <td>HR3094</td>\n",
       "      <td>HR</td>\n",
       "      <td>1</td>\n",
       "      <td>Bills</td>\n",
       "      <td>IH</td>\n",
       "      <td>1</td>\n",
       "      <td>To authorize a national grant program for on-t...</td>\n",
       "      <td>To authorize a national grant program for on-t...</td>\n",
       "      <td>On-the-Job Training Act of 2017 This bill amen...</td>\n",
       "      <td>1</td>\n",
       "    </tr>\n",
       "  </tbody>\n",
       "</table>\n",
       "</div>"
      ],
      "text/plain": [
       "   Unnamed: 0                                    Directory  Number Subtype  \\\n",
       "0           0  ./data/115/bills/hr/hr2615/text-versions/ih  HR2615      HR   \n",
       "1           4  ./data/115/bills/hr/hr1586/text-versions/ih  HR1586      HR   \n",
       "2          10   ./data/115/bills/hr/hr259/text-versions/ih   HR259      HR   \n",
       "3          13  ./data/115/bills/hr/hr2652/text-versions/ih  HR2652      HR   \n",
       "4          20  ./data/115/bills/hr/hr3094/text-versions/ih  HR3094      HR   \n",
       "\n",
       "   Summary   Type Version  to_use  \\\n",
       "0        1  Bills      IH       1   \n",
       "1        1  Bills      IH       1   \n",
       "2        1  Bills      IH       1   \n",
       "3        1  Bills      IH       1   \n",
       "4        1  Bills      IH       1   \n",
       "\n",
       "                                               title  \\\n",
       "0  To authorize the exchange of certain land loca...   \n",
       "1  To amend the Federal Food, Drug, and Cosmetic ...   \n",
       "2  To prevent the territories of the United State...   \n",
       "3  To direct the Secretary of Veterans Affairs to...   \n",
       "4  To authorize a national grant program for on-t...   \n",
       "\n",
       "                                                bill  \\\n",
       "0  To authorize the exchange of certain land loca...   \n",
       "1  To amend the Federal Food, Drug, and Cosmetic ...   \n",
       "2  To prevent the territories of the United State...   \n",
       "3  To direct the Secretary of Veterans Affairs to...   \n",
       "4  To authorize a national grant program for on-t...   \n",
       "\n",
       "                                             summary  is_budget  \n",
       "0  Gulf Islands National Seashore Land Exchange A...          1  \n",
       "1  Protecting Our Kids' Medicine Act of 2017 This...          1  \n",
       "2  This bill amends the Health Care and Education...          1  \n",
       "3  Veteran Overmedication Prevention Act of 2017 ...          1  \n",
       "4  On-the-Job Training Act of 2017 This bill amen...          1  "
      ]
     },
     "execution_count": 6,
     "metadata": {},
     "output_type": "execute_result"
    }
   ],
   "source": [
    "# change it to record which sentence has impact words\n",
    "budget_only.head()"
   ]
  }
 ],
 "metadata": {
  "kernelspec": {
   "display_name": "Python 2",
   "language": "python",
   "name": "python2"
  },
  "language_info": {
   "codemirror_mode": {
    "name": "ipython",
    "version": 2
   },
   "file_extension": ".py",
   "mimetype": "text/x-python",
   "name": "python",
   "nbconvert_exporter": "python",
   "pygments_lexer": "ipython2",
   "version": "2.7.6"
  }
 },
 "nbformat": 4,
 "nbformat_minor": 2
}
