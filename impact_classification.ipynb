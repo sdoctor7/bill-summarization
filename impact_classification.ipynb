{
 "cells": [
  {
   "cell_type": "code",
   "execution_count": 13,
   "metadata": {
    "collapsed": false
   },
   "outputs": [],
   "source": [
    "from utils import *\n",
    "import nltk\n",
    "from nltk.stem.porter import *\n",
    "from nltk.tokenize import sent_tokenize\n",
    "from nltk.tokenize import word_tokenize\n",
    "stemmer = nltk.PorterStemmer()\n"
   ]
  },
  {
   "cell_type": "code",
   "execution_count": 3,
   "metadata": {
    "collapsed": true
   },
   "outputs": [],
   "source": [
    "budget_only = pd.read_table(\"out/budget_only.tsv\")"
   ]
  },
  {
   "cell_type": "code",
   "execution_count": 10,
   "metadata": {
    "collapsed": false
   },
   "outputs": [
    {
     "data": {
      "text/plain": [
       "to               4842\n",
       "the              4584\n",
       "of               3557\n",
       "and              3222\n",
       "for              2452\n",
       "other            1252\n",
       "purposes.        1180\n",
       "in                785\n",
       "amend             780\n",
       "a                 718\n",
       "united            519\n",
       "act               514\n",
       "provide           492\n",
       "states            457\n",
       "on                339\n",
       "certain           318\n",
       "federal           294\n",
       "that              292\n",
       "or                285\n",
       "by                274\n",
       "secretary         267\n",
       "as                258\n",
       "national          258\n",
       "security          258\n",
       "establish         257\n",
       "title             249\n",
       "health            230\n",
       "with              226\n",
       "require           213\n",
       "code              196\n",
       "                 ... \n",
       "documents           7\n",
       "richard             7\n",
       "raise               7\n",
       "smithsonian         7\n",
       "release             7\n",
       "equitable           7\n",
       "remove              7\n",
       "land,               7\n",
       "future              7\n",
       "lakes               7\n",
       "vote                7\n",
       "threat              7\n",
       "vietnam             7\n",
       "implementing        7\n",
       "conservation,       7\n",
       "concern             7\n",
       "tribe               7\n",
       "maintain            7\n",
       "activities,         7\n",
       "fee                 7\n",
       "first               7\n",
       "donald              6\n",
       "groups              6\n",
       "location            6\n",
       "active              6\n",
       "area,               6\n",
       "adjust              6\n",
       "integrated          6\n",
       "consumers           6\n",
       "parents             6\n",
       "dtype: int64"
      ]
     },
     "execution_count": 10,
     "metadata": {},
     "output_type": "execute_result"
    }
   ],
   "source": [
    "pd.Series(' '.join(budget_only['title']).lower().split()).value_counts()[:1000]\n"
   ]
  },
  {
   "cell_type": "code",
   "execution_count": 14,
   "metadata": {
    "collapsed": false
   },
   "outputs": [
    {
     "data": {
      "text/plain": [
       "['impact', 'result', 'cost']"
      ]
     },
     "execution_count": 14,
     "metadata": {},
     "output_type": "execute_result"
    }
   ],
   "source": [
    "searched_words = ['impact','result','cost']\n",
    "searched_words = [stemmer.stem(w.lower()) for w in searched_words]\n",
    "searched_words"
   ]
  },
  {
   "cell_type": "code",
   "execution_count": null,
   "metadata": {
    "collapsed": false
   },
   "outputs": [],
   "source": [
    "flag_sentence = (budget_only['bill'].apply(lambda text: [sent for sent in sent_tokenize(text)\n",
    "                           if any(True for w in word_tokenize(sent) \n",
    "                                     if stemmer.stem(w.lower()) in searched_words)]))"
   ]
  }
 ],
 "metadata": {
  "kernelspec": {
   "display_name": "Python 2",
   "language": "python",
   "name": "python2"
  },
  "language_info": {
   "codemirror_mode": {
    "name": "ipython",
    "version": 2
   },
   "file_extension": ".py",
   "mimetype": "text/x-python",
   "name": "python",
   "nbconvert_exporter": "python",
   "pygments_lexer": "ipython2",
   "version": "2.7.6"
  }
 },
 "nbformat": 4,
 "nbformat_minor": 2
}
