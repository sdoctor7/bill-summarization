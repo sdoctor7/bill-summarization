{
 "cells": [
  {
   "cell_type": "markdown",
   "metadata": {},
   "source": [
    "# Bill Parsing"
   ]
  },
  {
   "cell_type": "markdown",
   "metadata": {},
   "source": [
    "Contains code to parse the raw XML files containing congressional bills. Functions defined here are also found in utils.py for later use."
   ]
  },
  {
   "cell_type": "code",
   "execution_count": 25,
   "metadata": {
    "collapsed": false
   },
   "outputs": [],
   "source": [
    "import xmltodict\n",
    "import pandas as pd\n",
    "import numpy as np\n",
    "import os\n",
    "import re\n",
    "from nltk.tokenize import sent_tokenize, word_tokenize"
   ]
  },
  {
   "cell_type": "markdown",
   "metadata": {},
   "source": [
    "### Cleaning"
   ]
  },
  {
   "cell_type": "code",
   "execution_count": 2,
   "metadata": {
    "collapsed": true
   },
   "outputs": [],
   "source": [
    "def remove_tags(read_file):\n",
    "    read_file = re.sub(b'</?external-xref[^<>]*>',b'', read_file)\n",
    "    read_file = re.sub(b'<quote>',b'\"', read_file)\n",
    "    read_file = re.sub(b'</quote>',b'\"', read_file)\n",
    "    read_file = re.sub(b'</?term[^<>]*>',b' ', read_file)\n",
    "    read_file = re.sub(b'</?pagebreak[^<>]*>',b'', read_file)\n",
    "    return read_file"
   ]
  },
  {
   "cell_type": "code",
   "execution_count": 3,
   "metadata": {
    "collapsed": false
   },
   "outputs": [],
   "source": [
    "def flatten(d):\n",
    "    output = ''\n",
    "    for k, v in d.items():\n",
    "        if not k.startswith(\"@\"):\n",
    "            if isinstance(v, dict):\n",
    "                output += flatten(v)\n",
    "            elif isinstance(v, list):\n",
    "                for l in v:\n",
    "                    if isinstance(l, dict):\n",
    "                        output += flatten(l)\n",
    "                    else:\n",
    "                        if l:\n",
    "                            output += l + ' '\n",
    "            else:\n",
    "                if v:\n",
    "                    output += v + ' '\n",
    "    return output"
   ]
  },
  {
   "cell_type": "code",
   "execution_count": 4,
   "metadata": {
    "collapsed": true
   },
   "outputs": [],
   "source": [
    "def section_bill(d):\n",
    "    global section\n",
    "    if isinstance(d, dict):\n",
    "        if 'section' in d.keys():\n",
    "            section += 1\n",
    "        if 'subsection' in d.keys():\n",
    "            section += 1\n",
    "        if 'paragraph' in d.keys():\n",
    "            section += len(d['paragraph'])\n",
    "        for k, v in d.items():\n",
    "            if not k.startswith(\"@\"):\n",
    "                section_bill(v)\n",
    "    elif isinstance(d, list):\n",
    "        for l in d:\n",
    "            section_bill(l)\n",
    "    else:\n",
    "        if d:\n",
    "            section = section\n",
    "    return section"
   ]
  },
  {
   "cell_type": "code",
   "execution_count": 5,
   "metadata": {
    "collapsed": true
   },
   "outputs": [],
   "source": [
    "def length_bill(text):\n",
    "    word = word_tokenize(text)\n",
    "    word = len([s for s in word if re.match(r'.*[A-Za-z0-9].*',s)])\n",
    "    # Use period to detect sentence or semicolon?\n",
    "    sent_tokenize_list = sent_tokenize(text)\n",
    "    sentence = len(sent_tokenize_list)\n",
    "    return sentence, word"
   ]
  },
  {
   "cell_type": "code",
   "execution_count": 11,
   "metadata": {
    "collapsed": false
   },
   "outputs": [],
   "source": [
    "def bill_to_dict(filename, doc):\n",
    "    def _clean_body(bodydict):\n",
    "        clean_bodydict = {}\n",
    "        for k, v in bodydict.items():\n",
    "            if not k.startswith(\"@\"):\n",
    "                if isinstance(v, list):\n",
    "                    sec_str = ''\n",
    "                    for sub_dict in v:\n",
    "                        if sub_dict:\n",
    "                            sec_str += flatten(sub_dict)\n",
    "                    clean_bodydict[k] = sec_str\n",
    "                else:\n",
    "                    clean_bodydict[k] = flatten(v)\n",
    "        return clean_bodydict\n",
    "    \n",
    "    bill_type = list(doc)[0]\n",
    "    data_dict = {}\n",
    "    \n",
    "    data_dict[\"file-name\"] = filename\n",
    "    data_dict[\"bill-type\"] = bill_type\n",
    "    data_dict['official-title'] = None\n",
    "    data_dict['legis-type'] = None\n",
    "    data_dict['dc:title'] = None\n",
    "    data_dict['legis-num'] = None\n",
    "    \n",
    "    metadata = {}\n",
    "    for n in list(doc[bill_type]):\n",
    "        # group meta data\n",
    "        if n.startswith(\"@\"): \n",
    "            metadata[n] = doc[bill_type][n]\n",
    "        \n",
    "        # unify name for different types\n",
    "        elif n in ['legis-body', 'resolution-body', 'engrossed-amendment-body']:\n",
    "            if isinstance(doc[bill_type][n], dict):\n",
    "                data_dict['body'] = _clean_body(doc[bill_type][n])  \n",
    "                data_dict['whole_body'] = flatten(doc[bill_type][n])\n",
    "            elif isinstance(doc[bill_type][n], list):\n",
    "                # just take last one\n",
    "                data_dict['body'] = _clean_body(doc[bill_type][n][-1])\n",
    "                data_dict['whole_body'] = flatten(doc[bill_type][n][-1])\n",
    "            else:\n",
    "                print('NOT dict nor list')\n",
    "                data_dict['body'] = doc[bill_type][n]\n",
    "            \n",
    "            ## calculate the length of bills in paragraphs, sentences and words\n",
    "            global section\n",
    "            section = 0\n",
    "            if isinstance(doc[bill_type][n], dict):\n",
    "                section = section_bill(doc[bill_type][n])\n",
    "            elif isinstance(doc[bill_type][n], list):\n",
    "                section = section_bill(doc[bill_type][n][-1])\n",
    "            else:\n",
    "                section = 0\n",
    "            data_dict['section'] = section\n",
    "            try:\n",
    "                sentence, word = length_bill(data_dict['whole_body'])\n",
    "            except Exception as e:         \n",
    "                print(\"While counting length, the error occurs: {}\".format(e))\n",
    "            finally:\n",
    "                data_dict['sentence'] = sentence\n",
    "                data_dict['word'] = word\n",
    "                \n",
    "        elif n == 'engrossed-amendment-form':\n",
    "            data_dict['form'] = doc[bill_type][n]\n",
    "            \n",
    "        ## add fields legis-type, official-title from 'form'\n",
    "        elif n == 'form':\n",
    "            try:\n",
    "                data_dict['legis-type'] = doc[bill_type][n]['legis-type']\n",
    "                data_dict['legis-num'] = doc[bill_type][n]['legis-num']\n",
    "                data_dict['official-title'] = doc[bill_type][n]['official-title']\n",
    "                if isinstance(data_dict['official-title'], dict):\n",
    "                    data_dict['official-title'] = data_dict['official-title']['#text']\n",
    "                data_dict['official-title'] = re.compile(r'[\\n\\r\\t]').sub(\"\", data_dict['official-title'])\n",
    "                if isinstance(data_dict['legis-type'], dict):\n",
    "                    data_dict['legis-type'] = data_dict['legis-type']['#text']\n",
    "                if isinstance(data_dict['legis-num'], dict):\n",
    "                    data_dict['legis-num'] = data_dict['legis-num']['#text']\n",
    "            except Exception as e:\n",
    "                print(\"Do not exist %s\"%e)\n",
    "                if e == '#text':\n",
    "                    data_dict['official-title'] = None\n",
    "                    \n",
    "        ## add field dc:title from 'metadata'\n",
    "        elif n == 'metadata':\n",
    "            try:\n",
    "                data_dict['dc:title'] = doc[bill_type][n]['dublinCore']['dc:title']\n",
    "            except Exception as e:\n",
    "                print(\"Do not exist %s\"%e)\n",
    "                data_dict['dc:title'] = None\n",
    "        else:\n",
    "            data_dict[n] = doc[bill_type][n]\n",
    "\n",
    "    data_dict[\"metadata\"] = metadata\n",
    "    return data_dict"
   ]
  },
  {
   "cell_type": "markdown",
   "metadata": {},
   "source": [
    "### Create Bills DataFrame"
   ]
  },
  {
   "cell_type": "code",
   "execution_count": 12,
   "metadata": {
    "collapsed": false
   },
   "outputs": [
    {
     "name": "stdout",
     "output_type": "stream",
     "text": [
      "0\n",
      "1000\n",
      "2000\n",
      "3000\n",
      "4000\n",
      "5000\n",
      "Do not exist '#text'\n",
      "Do not exist '#text'\n",
      "Do not exist '#text'\n",
      "6000\n",
      "7000\n",
      "8000\n"
     ]
    }
   ],
   "source": [
    "indir = './data/bills' \n",
    "\n",
    "data = []\n",
    "\n",
    "count=0\n",
    "for root, dirs, filenames in os.walk(indir):\n",
    "    for filename in filenames:\n",
    "        if count%1000==0:\n",
    "            print(count)\n",
    "        with open(os.path.join(indir, filename), 'rb') as f:\n",
    "            doc = xmltodict.parse(remove_tags(f.read()))\n",
    "            data.append(bill_to_dict(filename, doc))\n",
    "        count+=1"
   ]
  },
  {
   "cell_type": "code",
   "execution_count": 13,
   "metadata": {
    "collapsed": false
   },
   "outputs": [],
   "source": [
    "# choose relevant columns\n",
    "select_keys = ['metadata', 'bill-type', 'body', 'file-name','dc:title', 'official-title', 'legis-type', 'legis-num',\n",
    "               'section', 'sentence', 'word']\n",
    "select_data = []\n",
    "for d in data:\n",
    "    select_data.append({ select_key: d[select_key] for select_key in select_keys })\n",
    "df = pd.io.json.json_normalize(select_data)"
   ]
  },
  {
   "cell_type": "code",
   "execution_count": 14,
   "metadata": {
    "collapsed": false,
    "scrolled": true
   },
   "outputs": [
    {
     "data": {
      "text/html": [
       "<div>\n",
       "<table border=\"1\" class=\"dataframe\">\n",
       "  <thead>\n",
       "    <tr style=\"text-align: right;\">\n",
       "      <th></th>\n",
       "      <th>bill-type</th>\n",
       "      <th>body.amendment</th>\n",
       "      <th>body.division</th>\n",
       "      <th>body.section</th>\n",
       "      <th>body.title</th>\n",
       "      <th>dc:title</th>\n",
       "      <th>file-name</th>\n",
       "      <th>legis-num</th>\n",
       "      <th>legis-type</th>\n",
       "      <th>legis-type.#text</th>\n",
       "      <th>...</th>\n",
       "      <th>metadata.@public-private</th>\n",
       "      <th>metadata.@resolution-stage</th>\n",
       "      <th>metadata.@resolution-type</th>\n",
       "      <th>metadata.@stage-count</th>\n",
       "      <th>metadata.@star-print</th>\n",
       "      <th>official-title</th>\n",
       "      <th>official-title.@display</th>\n",
       "      <th>section</th>\n",
       "      <th>sentence</th>\n",
       "      <th>word</th>\n",
       "    </tr>\n",
       "  </thead>\n",
       "  <tbody>\n",
       "    <tr>\n",
       "      <th>0</th>\n",
       "      <td>bill</td>\n",
       "      <td>NaN</td>\n",
       "      <td>NaN</td>\n",
       "      <td>1. Permanent resident status for Joseph\\n\\t\\t\\...</td>\n",
       "      <td>NaN</td>\n",
       "      <td>115 S556 IS: For the relief of Joseph Gabra an...</td>\n",
       "      <td>92510.140382952224512.47152.xml</td>\n",
       "      <td>S. 556</td>\n",
       "      <td>A BILL</td>\n",
       "      <td>NaN</td>\n",
       "      <td>...</td>\n",
       "      <td>private</td>\n",
       "      <td>NaN</td>\n",
       "      <td>NaN</td>\n",
       "      <td>NaN</td>\n",
       "      <td>NaN</td>\n",
       "      <td>For the relief of Joseph Gabra and Sharon Kamel.</td>\n",
       "      <td>NaN</td>\n",
       "      <td>4</td>\n",
       "      <td>11</td>\n",
       "      <td>390</td>\n",
       "    </tr>\n",
       "    <tr>\n",
       "      <th>1</th>\n",
       "      <td>resolution</td>\n",
       "      <td>NaN</td>\n",
       "      <td>NaN</td>\n",
       "      <td>That it is the sense of Congress that— (1) the...</td>\n",
       "      <td>NaN</td>\n",
       "      <td>115 HCON 10 IH: Expressing the sense of the Co...</td>\n",
       "      <td>US_Bill_Text_115_HCONRES10_IH.xml</td>\n",
       "      <td>H. CON. RES. 10</td>\n",
       "      <td>CONCURRENT RESOLUTION</td>\n",
       "      <td>NaN</td>\n",
       "      <td>...</td>\n",
       "      <td>public</td>\n",
       "      <td>Introduced-in-House</td>\n",
       "      <td>house-concurrent</td>\n",
       "      <td>NaN</td>\n",
       "      <td>no-star-print</td>\n",
       "      <td>Expressing the sense of the Congress that tax-...</td>\n",
       "      <td>NaN</td>\n",
       "      <td>5</td>\n",
       "      <td>1</td>\n",
       "      <td>126</td>\n",
       "    </tr>\n",
       "    <tr>\n",
       "      <th>2</th>\n",
       "      <td>resolution</td>\n",
       "      <td>NaN</td>\n",
       "      <td>NaN</td>\n",
       "      <td>That it is the sense of Congress that— (1) the...</td>\n",
       "      <td>NaN</td>\n",
       "      <td>115 HCON 11 IH: Expressing the sense of Congre...</td>\n",
       "      <td>US_Bill_Text_115_HCONRES11_IH.xml</td>\n",
       "      <td>H. CON. RES. 11</td>\n",
       "      <td>CONCURRENT RESOLUTION</td>\n",
       "      <td>NaN</td>\n",
       "      <td>...</td>\n",
       "      <td>public</td>\n",
       "      <td>Introduced-in-House</td>\n",
       "      <td>house-concurrent</td>\n",
       "      <td>NaN</td>\n",
       "      <td>no-star-print</td>\n",
       "      <td>Expressing the sense of Congress that Jerusale...</td>\n",
       "      <td>NaN</td>\n",
       "      <td>3</td>\n",
       "      <td>1</td>\n",
       "      <td>38</td>\n",
       "    </tr>\n",
       "    <tr>\n",
       "      <th>3</th>\n",
       "      <td>resolution</td>\n",
       "      <td>NaN</td>\n",
       "      <td>NaN</td>\n",
       "      <td>That Congress— (1) supports the designation of...</td>\n",
       "      <td>NaN</td>\n",
       "      <td>115 HCON 12 IH: Supporting the designation of ...</td>\n",
       "      <td>US_Bill_Text_115_HCONRES12_IH.xml</td>\n",
       "      <td>H. CON. RES. 12</td>\n",
       "      <td>CONCURRENT RESOLUTION</td>\n",
       "      <td>NaN</td>\n",
       "      <td>...</td>\n",
       "      <td>public</td>\n",
       "      <td>Introduced-in-House</td>\n",
       "      <td>house-concurrent</td>\n",
       "      <td>NaN</td>\n",
       "      <td>no-star-print</td>\n",
       "      <td>Supporting the designation of the week of Sept...</td>\n",
       "      <td>NaN</td>\n",
       "      <td>4</td>\n",
       "      <td>1</td>\n",
       "      <td>80</td>\n",
       "    </tr>\n",
       "    <tr>\n",
       "      <th>4</th>\n",
       "      <td>resolution</td>\n",
       "      <td>NaN</td>\n",
       "      <td>NaN</td>\n",
       "      <td>That Congress should not impose any new perfor...</td>\n",
       "      <td>NaN</td>\n",
       "      <td>115 HCON 13 IH: Supporting the Local Radio Fre...</td>\n",
       "      <td>US_Bill_Text_115_HCONRES13_IH.xml</td>\n",
       "      <td>H. CON. RES. 13</td>\n",
       "      <td>CONCURRENT RESOLUTION</td>\n",
       "      <td>NaN</td>\n",
       "      <td>...</td>\n",
       "      <td>public</td>\n",
       "      <td>Introduced-in-House</td>\n",
       "      <td>house-concurrent</td>\n",
       "      <td>NaN</td>\n",
       "      <td>no-star-print</td>\n",
       "      <td>Supporting the Local Radio Freedom Act.</td>\n",
       "      <td>NaN</td>\n",
       "      <td>1</td>\n",
       "      <td>1</td>\n",
       "      <td>43</td>\n",
       "    </tr>\n",
       "  </tbody>\n",
       "</table>\n",
       "<p>5 rows × 29 columns</p>\n",
       "</div>"
      ],
      "text/plain": [
       "    bill-type body.amendment body.division  \\\n",
       "0        bill            NaN           NaN   \n",
       "1  resolution            NaN           NaN   \n",
       "2  resolution            NaN           NaN   \n",
       "3  resolution            NaN           NaN   \n",
       "4  resolution            NaN           NaN   \n",
       "\n",
       "                                        body.section body.title  \\\n",
       "0  1. Permanent resident status for Joseph\\n\\t\\t\\...        NaN   \n",
       "1  That it is the sense of Congress that— (1) the...        NaN   \n",
       "2  That it is the sense of Congress that— (1) the...        NaN   \n",
       "3  That Congress— (1) supports the designation of...        NaN   \n",
       "4  That Congress should not impose any new perfor...        NaN   \n",
       "\n",
       "                                            dc:title  \\\n",
       "0  115 S556 IS: For the relief of Joseph Gabra an...   \n",
       "1  115 HCON 10 IH: Expressing the sense of the Co...   \n",
       "2  115 HCON 11 IH: Expressing the sense of Congre...   \n",
       "3  115 HCON 12 IH: Supporting the designation of ...   \n",
       "4  115 HCON 13 IH: Supporting the Local Radio Fre...   \n",
       "\n",
       "                           file-name        legis-num             legis-type  \\\n",
       "0    92510.140382952224512.47152.xml           S. 556                 A BILL   \n",
       "1  US_Bill_Text_115_HCONRES10_IH.xml  H. CON. RES. 10  CONCURRENT RESOLUTION   \n",
       "2  US_Bill_Text_115_HCONRES11_IH.xml  H. CON. RES. 11  CONCURRENT RESOLUTION   \n",
       "3  US_Bill_Text_115_HCONRES12_IH.xml  H. CON. RES. 12  CONCURRENT RESOLUTION   \n",
       "4  US_Bill_Text_115_HCONRES13_IH.xml  H. CON. RES. 13  CONCURRENT RESOLUTION   \n",
       "\n",
       "  legis-type.#text ...  metadata.@public-private metadata.@resolution-stage  \\\n",
       "0              NaN ...                   private                        NaN   \n",
       "1              NaN ...                    public        Introduced-in-House   \n",
       "2              NaN ...                    public        Introduced-in-House   \n",
       "3              NaN ...                    public        Introduced-in-House   \n",
       "4              NaN ...                    public        Introduced-in-House   \n",
       "\n",
       "  metadata.@resolution-type metadata.@stage-count metadata.@star-print  \\\n",
       "0                       NaN                   NaN                  NaN   \n",
       "1          house-concurrent                   NaN        no-star-print   \n",
       "2          house-concurrent                   NaN        no-star-print   \n",
       "3          house-concurrent                   NaN        no-star-print   \n",
       "4          house-concurrent                   NaN        no-star-print   \n",
       "\n",
       "                                      official-title official-title.@display  \\\n",
       "0   For the relief of Joseph Gabra and Sharon Kamel.                     NaN   \n",
       "1  Expressing the sense of the Congress that tax-...                     NaN   \n",
       "2  Expressing the sense of Congress that Jerusale...                     NaN   \n",
       "3  Supporting the designation of the week of Sept...                     NaN   \n",
       "4            Supporting the Local Radio Freedom Act.                     NaN   \n",
       "\n",
       "  section sentence word  \n",
       "0       4       11  390  \n",
       "1       5        1  126  \n",
       "2       3        1   38  \n",
       "3       4        1   80  \n",
       "4       1        1   43  \n",
       "\n",
       "[5 rows x 29 columns]"
      ]
     },
     "execution_count": 14,
     "metadata": {},
     "output_type": "execute_result"
    }
   ],
   "source": [
    "df.head()"
   ]
  },
  {
   "cell_type": "code",
   "execution_count": 15,
   "metadata": {
    "collapsed": false
   },
   "outputs": [],
   "source": [
    "df.to_pickle(\"data/bills.pkl\")"
   ]
  },
  {
   "cell_type": "markdown",
   "metadata": {},
   "source": [
    "# Simple stats"
   ]
  },
  {
   "cell_type": "code",
   "execution_count": 16,
   "metadata": {
    "collapsed": false
   },
   "outputs": [
    {
     "data": {
      "text/plain": [
       "bill             6712\n",
       "resolution       1312\n",
       "amendment-doc      15\n",
       "Name: bill-type, dtype: int64"
      ]
     },
     "execution_count": 16,
     "metadata": {},
     "output_type": "execute_result"
    }
   ],
   "source": [
    "df['bill-type'].value_counts()"
   ]
  },
  {
   "cell_type": "code",
   "execution_count": null,
   "metadata": {
    "collapsed": true
   },
   "outputs": [],
   "source": []
  }
 ],
 "metadata": {
  "anaconda-cloud": {},
  "kernelspec": {
   "display_name": "Python [conda root]",
   "language": "python",
   "name": "conda-root-py"
  },
  "language_info": {
   "codemirror_mode": {
    "name": "ipython",
    "version": 3
   },
   "file_extension": ".py",
   "mimetype": "text/x-python",
   "name": "python",
   "nbconvert_exporter": "python",
   "pygments_lexer": "ipython3",
   "version": "3.5.2"
  }
 },
 "nbformat": 4,
 "nbformat_minor": 2
}
