{
 "cells": [
  {
   "cell_type": "code",
   "execution_count": 1,
   "metadata": {
    "collapsed": true
   },
   "outputs": [],
   "source": [
    "import xmltodict\n",
    "import pandas as pd\n",
    "import os\n",
    "import re"
   ]
  },
  {
   "cell_type": "code",
   "execution_count": 2,
   "metadata": {
    "collapsed": true
   },
   "outputs": [],
   "source": [
    "billDir = 'data/bills' \n",
    "summariesDir = 'data/summaries'"
   ]
  },
  {
   "cell_type": "markdown",
   "metadata": {},
   "source": [
    "### First Way to Merge"
   ]
  },
  {
   "cell_type": "code",
   "execution_count": 3,
   "metadata": {
    "collapsed": true
   },
   "outputs": [],
   "source": [
    "def getBillFileName(summaryFileName, extension):\n",
    "    \"\"\"\n",
    "    Return bill file names based on summaryfilenames\n",
    "    \"\"\"\n",
    "#     US_Bill_Text_115_HR1607_IH.xml <- US_Bill_Digest_115_hr_1607.xml\n",
    "#     possibleExt = [\"_RH.xml\",\"_IH.xml\",\"_EH.xml\",\"_RFS.xml\",\"_IS.xml\"]\n",
    "    billFileName = []\n",
    "    if summaryFileName.startswith(\"US_Bill_Digest_115_\"):\n",
    "        tempFile = summaryFileName.split(\"_\")\n",
    "        tempFile = tempFile[-2:]\n",
    "        tempFile[0] = tempFile[0].upper()\n",
    "        for ext in extension:\n",
    "            billFileName.append(\"US_Bill_Text_115_\"+tempFile[0]+tempFile[1][:-4]+\"_\"+ext)\n",
    "    return billFileName"
   ]
  },
  {
   "cell_type": "code",
   "execution_count": 3,
   "metadata": {
    "collapsed": true
   },
   "outputs": [],
   "source": [
    "# def print_head(d,top=10):\n",
    "#     count = 0\n",
    "#     for k in d:\n",
    "#         if count==top:\n",
    "#             break\n",
    "#         print (\"{} -> {}\".format(k,d[k]))\n",
    "#         count+=1\n",
    "#     return"
   ]
  },
  {
   "cell_type": "code",
   "execution_count": 4,
   "metadata": {
    "collapsed": false
   },
   "outputs": [],
   "source": [
    "def getBillsToSummaries(billDir, summariesDir):\n",
    "\n",
    "    billFiles = set()\n",
    "    extension = set()\n",
    "    for root, dirs, filenames in os.walk(billDir):\n",
    "        for filename in filenames:\n",
    "            billFiles.add(filename)\n",
    "            extension.add(filename.split(\"_\")[-1])\n",
    "    assert len(billFiles)==8039\n",
    "    \n",
    "    billsToSummary = {}\n",
    "    summariesNoMatch = set()\n",
    "    for root, dirs, filenames in os.walk(summariesDir):\n",
    "        for filename in filenames:\n",
    "            billFileList = getBillFileName(filename, extension)\n",
    "            flag = 1\n",
    "            for billF in billFileList:\n",
    "                if billF in billFiles:\n",
    "                    billsToSummary[billF] = filename\n",
    "                    flag=0\n",
    "            if flag:\n",
    "                summariesNoMatch.add(filename)\n",
    "    return billsToSummary, billFiles, summariesNoMatch"
   ]
  },
  {
   "cell_type": "code",
   "execution_count": 5,
   "metadata": {
    "collapsed": false
   },
   "outputs": [],
   "source": [
    "billsToSummary, billFiles, summariesNoMatch = getBillsToSummaries(billDir, summariesDir)"
   ]
  },
  {
   "cell_type": "code",
   "execution_count": 6,
   "metadata": {
    "collapsed": false
   },
   "outputs": [
    {
     "name": "stdout",
     "output_type": "stream",
     "text": [
      "Total Number of Bills 8039\n",
      "Bills with summary 7954\n",
      "Summaries with no bill 2298\n"
     ]
    }
   ],
   "source": [
    "print(\"Total Number of Bills {}\".format(len(billFiles)))\n",
    "print(\"Bills with summary {}\".format(len(billsToSummary)))\n",
    "print(\"Summaries with no bill {}\".format(len(summariesNoMatch)))"
   ]
  },
  {
   "cell_type": "code",
   "execution_count": 7,
   "metadata": {
    "collapsed": true
   },
   "outputs": [],
   "source": [
    "bills = pd.read_pickle('data/bills.pkl')\n",
    "summaries = pd.read_pickle('data/summaries.pkl')"
   ]
  },
  {
   "cell_type": "code",
   "execution_count": 8,
   "metadata": {
    "collapsed": true
   },
   "outputs": [],
   "source": [
    "index = [\"fileName-Bill\", \"Bill-Body\", \"fileName-Summary\",\"summary0\", \"summary1\",\"summary2\",\"summary3\", \"summary4\"]\n",
    "data = []\n",
    "\n",
    "for bill_file in billsToSummary:\n",
    "    summary_file = billsToSummary[bill_file]\n",
    "    bill_body = bills.loc[bills['file-name'] == bill_file]['body.section'].values[0]\n",
    "    summary_body0 = summaries.loc[summaries['fileName'] == summary_file]['summary0'].values[0]\n",
    "    summary_body1 = summaries.loc[summaries['fileName'] == summary_file]['summary1'].values[0]\n",
    "    summary_body2 = summaries.loc[summaries['fileName'] == summary_file]['summary2'].values[0]\n",
    "    summary_body3 = summaries.loc[summaries['fileName'] == summary_file]['summary3'].values[0]\n",
    "    summary_body4 = summaries.loc[summaries['fileName'] == summary_file]['summary4'].values[0]\n",
    "    data.append((bill_file,bill_body, summary_file,summary_body0,summary_body1,summary_body2,summary_body3,summary_body4))"
   ]
  },
  {
   "cell_type": "code",
   "execution_count": 9,
   "metadata": {
    "collapsed": false
   },
   "outputs": [
    {
     "data": {
      "text/plain": [
       "(7954, 8)"
      ]
     },
     "execution_count": 9,
     "metadata": {},
     "output_type": "execute_result"
    }
   ],
   "source": [
    "matched = pd.DataFrame(data, columns=index)\n",
    "matched.shape"
   ]
  },
  {
   "cell_type": "code",
   "execution_count": 10,
   "metadata": {
    "collapsed": true
   },
   "outputs": [
    {
     "data": {
      "text/html": [
       "<div>\n",
       "<table border=\"1\" class=\"dataframe\">\n",
       "  <thead>\n",
       "    <tr style=\"text-align: right;\">\n",
       "      <th></th>\n",
       "      <th>fileName-Bill</th>\n",
       "      <th>Bill-Body</th>\n",
       "      <th>fileName-Summary</th>\n",
       "      <th>summary0</th>\n",
       "      <th>summary1</th>\n",
       "      <th>summary2</th>\n",
       "      <th>summary3</th>\n",
       "      <th>summary4</th>\n",
       "    </tr>\n",
       "  </thead>\n",
       "  <tbody>\n",
       "    <tr>\n",
       "      <th>0</th>\n",
       "      <td>US_Bill_Text_115_SRES212_IS.xml</td>\n",
       "      <td>That the Senate— (1) supports the rights, free...</td>\n",
       "      <td>US_Bill_Digest_115_sres_212.xml</td>\n",
       "      <td>NaN</td>\n",
       "      <td>NaN</td>\n",
       "      <td>NaN</td>\n",
       "      <td>NaN</td>\n",
       "      <td>NaN</td>\n",
       "    </tr>\n",
       "    <tr>\n",
       "      <th>1</th>\n",
       "      <td>US_Bill_Text_115_HR1812_IH.xml</td>\n",
       "      <td>1. Short title Congressional Leadership In Mit...</td>\n",
       "      <td>US_Bill_Digest_115_hr_1812.xml</td>\n",
       "      <td>Congressional Leadership In Mitigating Adminis...</td>\n",
       "      <td>NaN</td>\n",
       "      <td>NaN</td>\n",
       "      <td>NaN</td>\n",
       "      <td>NaN</td>\n",
       "    </tr>\n",
       "    <tr>\n",
       "      <th>2</th>\n",
       "      <td>US_Bill_Text_115_HR1317_IH.xml</td>\n",
       "      <td>1. Short title Servicemember Retirement Improv...</td>\n",
       "      <td>US_Bill_Digest_115_hr_1317.xml</td>\n",
       "      <td>Servicemember Retirement Improvement Act  This...</td>\n",
       "      <td>NaN</td>\n",
       "      <td>NaN</td>\n",
       "      <td>NaN</td>\n",
       "      <td>NaN</td>\n",
       "    </tr>\n",
       "    <tr>\n",
       "      <th>3</th>\n",
       "      <td>US_Bill_Text_115_S1129_RS.xml</td>\n",
       "      <td>1. Short title; table of contents (a) Short ti...</td>\n",
       "      <td>US_Bill_Digest_115_s_1129.xml</td>\n",
       "      <td>NaN</td>\n",
       "      <td>NaN</td>\n",
       "      <td>NaN</td>\n",
       "      <td>NaN</td>\n",
       "      <td>NaN</td>\n",
       "    </tr>\n",
       "    <tr>\n",
       "      <th>4</th>\n",
       "      <td>US_Bill_Text_115_HR908_IH.xml</td>\n",
       "      <td>1. Short title Medicare Advantage Quality Paym...</td>\n",
       "      <td>US_Bill_Digest_115_hr_908.xml</td>\n",
       "      <td>Medicare Advantage Quality Payment Relief Act ...</td>\n",
       "      <td>NaN</td>\n",
       "      <td>NaN</td>\n",
       "      <td>NaN</td>\n",
       "      <td>NaN</td>\n",
       "    </tr>\n",
       "  </tbody>\n",
       "</table>\n",
       "</div>"
      ],
      "text/plain": [
       "                     fileName-Bill  \\\n",
       "0  US_Bill_Text_115_SRES212_IS.xml   \n",
       "1   US_Bill_Text_115_HR1812_IH.xml   \n",
       "2   US_Bill_Text_115_HR1317_IH.xml   \n",
       "3    US_Bill_Text_115_S1129_RS.xml   \n",
       "4    US_Bill_Text_115_HR908_IH.xml   \n",
       "\n",
       "                                           Bill-Body  \\\n",
       "0  That the Senate— (1) supports the rights, free...   \n",
       "1  1. Short title Congressional Leadership In Mit...   \n",
       "2  1. Short title Servicemember Retirement Improv...   \n",
       "3  1. Short title; table of contents (a) Short ti...   \n",
       "4  1. Short title Medicare Advantage Quality Paym...   \n",
       "\n",
       "                  fileName-Summary  \\\n",
       "0  US_Bill_Digest_115_sres_212.xml   \n",
       "1   US_Bill_Digest_115_hr_1812.xml   \n",
       "2   US_Bill_Digest_115_hr_1317.xml   \n",
       "3    US_Bill_Digest_115_s_1129.xml   \n",
       "4    US_Bill_Digest_115_hr_908.xml   \n",
       "\n",
       "                                            summary0 summary1 summary2  \\\n",
       "0                                                NaN      NaN      NaN   \n",
       "1  Congressional Leadership In Mitigating Adminis...      NaN      NaN   \n",
       "2  Servicemember Retirement Improvement Act  This...      NaN      NaN   \n",
       "3                                                NaN      NaN      NaN   \n",
       "4  Medicare Advantage Quality Payment Relief Act ...      NaN      NaN   \n",
       "\n",
       "  summary3 summary4  \n",
       "0      NaN      NaN  \n",
       "1      NaN      NaN  \n",
       "2      NaN      NaN  \n",
       "3      NaN      NaN  \n",
       "4      NaN      NaN  "
      ]
     },
     "execution_count": 10,
     "metadata": {},
     "output_type": "execute_result"
    }
   ],
   "source": [
    "matched.head()"
   ]
  },
  {
   "cell_type": "code",
   "execution_count": 11,
   "metadata": {
    "collapsed": true
   },
   "outputs": [],
   "source": [
    "matched.to_pickle('data/matched.pkl')"
   ]
  },
  {
   "cell_type": "markdown",
   "metadata": {},
   "source": [
    "### Another Way to Merge"
   ]
  },
  {
   "cell_type": "code",
   "execution_count": 14,
   "metadata": {
    "collapsed": false
   },
   "outputs": [],
   "source": [
    "bills_sel = bills[['file-name', 'bill-type', 'legis-type', 'body.section', 'section', 'sentence', 'word']]\n",
    "summaries_sel = summaries[['fileName', 'sentence0', 'sentence1','sentence2', 'sentence3', 'sentence4', \n",
    "                              'summary0', 'summary1','summary2', 'summary3', 'summary4',\n",
    "                              'word0', 'word1', 'word2', 'word3', 'word4']]\n",
    "\n",
    "temp_files = []\n",
    "for file in bills_sel['file-name']:\n",
    "    try:\n",
    "        temp_files.append(billsToSummary[file])\n",
    "    except:\n",
    "        temp_files.append(None)\n",
    "\n",
    "bills_sel = bills_sel.copy()\n",
    "bills_sel[\"fileName-Summary\"] = pd.Series(temp_files, index = bills_sel.index)\n",
    "matched2 = bills_sel.merge(summaries_sel, how = 'left', left_on = ['fileName-Summary'], \n",
    "                           right_on = ['fileName'], indicator = True)\n",
    "matched2 = (matched2[matched2._merge == 'both']).drop(['_merge'], axis = 1)"
   ]
  },
  {
   "cell_type": "code",
   "execution_count": 15,
   "metadata": {
    "collapsed": true
   },
   "outputs": [],
   "source": [
    "matched2.to_pickle('data/matched2.pkl')"
   ]
  }
 ],
 "metadata": {
  "anaconda-cloud": {},
  "kernelspec": {
   "display_name": "Python [conda env:py3k]",
   "language": "python",
   "name": "conda-env-py3k-py"
  },
  "language_info": {
   "codemirror_mode": {
    "name": "ipython",
    "version": 3
   },
   "file_extension": ".py",
   "mimetype": "text/x-python",
   "name": "python",
   "nbconvert_exporter": "python",
   "pygments_lexer": "ipython3",
   "version": "3.5.2"
  }
 },
 "nbformat": 4,
 "nbformat_minor": 2
}
